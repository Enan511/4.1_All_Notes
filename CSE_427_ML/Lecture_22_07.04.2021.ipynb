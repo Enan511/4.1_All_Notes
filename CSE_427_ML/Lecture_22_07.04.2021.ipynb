{
 "cells": [
  {
   "cell_type": "markdown",
   "metadata": {},
   "source": [
    "<div class=\"alert alert-success\">\n",
    "    <b>Author</b>:\n",
    "\n",
    "      Rashik Rahman\n",
    "      17201012@uap-bd.edu\n",
    "\n",
    "</div>\n",
    "\n",
    "\n",
    "**[Click here to see class lecture](https://drive.google.com/file/d/1ANbIuOckItNt54xnQ9iwIVYC-LmqyVgE/view)**"
   ]
  },
  {
   "cell_type": "markdown",
   "metadata": {},
   "source": [
    "# XNOR"
   ]
  },
  {
   "cell_type": "markdown",
   "metadata": {},
   "source": [
    "Here XNOR isn't linearly separable thus we use a hidden layer. How the hidden layer come can be seen from the eqn. Here b is the bayes term like X0 and it's value is  +1.\n",
    "\n",
    "![](Fig/fig150.PNG)\n",
    "\n",
    "**Calculating weights**\n",
    "\n",
    "![](Fig/fig148.PNG)\n",
    "\n",
    "**Calculating outputs**\n",
    "\n",
    "![](Fig/fig149.PNG)\n",
    "\n",
    "![](Fig/fig151.PNG)\n",
    "\n",
    "![](Fig/fig152.PNG)\n",
    "\n",
    "![](Fig/fig153.PNG)"
   ]
  },
  {
   "cell_type": "markdown",
   "metadata": {},
   "source": [
    "# XOR"
   ]
  },
  {
   "cell_type": "markdown",
   "metadata": {},
   "source": [
    "\n",
    "\n",
    "![](Fig/fig154.PNG)"
   ]
  },
  {
   "cell_type": "markdown",
   "metadata": {},
   "source": [
    "# CNN"
   ]
  },
  {
   "cell_type": "markdown",
   "metadata": {},
   "source": [
    "\n",
    "\n",
    "![](Fig/fig155.PNG)\n",
    "\n",
    "![](Fig/fig156.PNG)\n",
    "\n",
    "![](Fig/fig157.PNG)\n",
    "\n",
    "![](Fig/fig158.PNG)\n",
    "\n",
    "![](Fig/fig159.PNG)\n",
    "\n",
    "![](Fig/fig160.PNG)"
   ]
  },
  {
   "cell_type": "markdown",
   "metadata": {},
   "source": [
    "\n",
    "\n",
    "![](Fig/fig162.PNG)\n",
    "\n",
    "![](Fig/fig161.PNG)\n",
    "\n",
    "![](Fig/fig163.PNG)\n",
    "\n",
    "![](Fig/fig164.PNG)\n",
    "\n",
    "![](Fig/fig165.PNG)\n",
    "\n",
    "![](Fig/fig166.PNG)\n",
    "\n",
    "![](Fig/fig167.PNG)\n",
    "\n",
    "![](Fig/fig168.PNG)\n",
    "\n",
    "![](Fig/fig169.PNG)"
   ]
  },
  {
   "cell_type": "markdown",
   "metadata": {},
   "source": [
    "# End of lecture!"
   ]
  }
 ],
 "metadata": {
  "kernelspec": {
   "display_name": "Python 3",
   "language": "python",
   "name": "python3"
  },
  "language_info": {
   "codemirror_mode": {
    "name": "ipython",
    "version": 3
   },
   "file_extension": ".py",
   "mimetype": "text/x-python",
   "name": "python",
   "nbconvert_exporter": "python",
   "pygments_lexer": "ipython3",
   "version": "3.8.5"
  }
 },
 "nbformat": 4,
 "nbformat_minor": 4
}
