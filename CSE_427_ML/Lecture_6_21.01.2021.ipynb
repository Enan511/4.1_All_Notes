{
 "cells": [
  {
   "cell_type": "markdown",
   "metadata": {},
   "source": [
    "<div class=\"alert alert-success\">\n",
    "    <b>Author</b>:\n",
    "\n",
    "      Rashik Rahman\n",
    "      17201012@uap-bd.edu\n",
    "\n",
    "</div>\n",
    "\n",
    "\n",
    "**[Click here to see class lecture](https://drive.google.com/file/d/1LHHU3CO_hQLW9U8XAs4wRV9hfgAYohg_/view)**\n"
   ]
  },
  {
   "cell_type": "markdown",
   "metadata": {},
   "source": [
    "## Today we'll learn how to derive cost function of logistic regression."
   ]
  },
  {
   "cell_type": "markdown",
   "metadata": {},
   "source": [
    "![](Fig/fig22.PNG)\n",
    "\n",
    "![](Fig/fig23.PNG)\n",
    "\n",
    "![](Fig/fig24.PNG)\n",
    "\n",
    "Here in the blue marked line we add an one and to counter it we add a negative one.\n",
    "\n",
    "![](Fig/fig25.PNG)\n",
    "\n",
    "Thus we get\n",
    "\n",
    "![](Fig/fig26.PNG)"
   ]
  },
  {
   "cell_type": "markdown",
   "metadata": {},
   "source": [
    "\n",
    "\n",
    "![](Fig/fig27.PNG)\n",
    "\n",
    "![](Fig/fig28.PNG)\n",
    "\n",
    "![](Fig/fig29.PNG)\n",
    "\n",
    "![](Fig/fig30.PNG)\n",
    "\n",
    "![](Fig/fig31.PNG)\n",
    "\n",
    "![](Fig/fig32.PNG)\n"
   ]
  },
  {
   "cell_type": "markdown",
   "metadata": {},
   "source": [
    "\n",
    "![](Fig/fig33.PNG)\n",
    "\n",
    "![](Fig/fig34.PNG)"
   ]
  },
  {
   "cell_type": "markdown",
   "metadata": {},
   "source": [
    "# End of lecture!"
   ]
  }
 ],
 "metadata": {
  "kernelspec": {
   "display_name": "Python 3",
   "language": "python",
   "name": "python3"
  },
  "language_info": {
   "codemirror_mode": {
    "name": "ipython",
    "version": 3
   },
   "file_extension": ".py",
   "mimetype": "text/x-python",
   "name": "python",
   "nbconvert_exporter": "python",
   "pygments_lexer": "ipython3",
   "version": "3.7.6"
  }
 },
 "nbformat": 4,
 "nbformat_minor": 4
}
