{
 "cells": [
  {
   "cell_type": "markdown",
   "metadata": {},
   "source": [
    "<div class=\"alert alert-success\">\n",
    "    <b>Author</b>:\n",
    "\n",
    "      Rashik Rahman\n",
    "      17201012@uap-bd.edu\n",
    "\n",
    "</div>\n",
    "\n",
    "\n",
    "**[Click here to see class lecture](https://drive.google.com/file/d/1v6dcGXZJ6fcEMneiEgel_bbPSHeMoz_b/view)**"
   ]
  },
  {
   "cell_type": "markdown",
   "metadata": {},
   "source": [
    "So a single neuron can only give binary output but when output can't be linearly seperable binary output then we use hidden layer. We can observe this by logic gate data table.\n",
    "\n",
    "Here AND table is linearly separable so we can see a hidden single neuron for it. But how we select the weights when not provided? We simply choose w1,w2 that are less then abs(w0) but when summed together w1+w2>abs(w0). So the condition is w1<abs(w0) and w2<abs(w0) and w1+w2>abs(w0).\n",
    "\n",
    "For x1=0,x2=0 we get summation of -1.5 so sigmoid(-1.5)=0 as the value is less than 0.\n",
    "\n",
    "![](Fig/fig142.PNG)\n",
    "\n",
    "Thus we see that y_pred is equals to y so we have designed a neural net for AND gate. So AND can be produced using a single neural net.\n",
    "\n",
    "![](Fig/fig143.PNG)"
   ]
  },
  {
   "cell_type": "markdown",
   "metadata": {},
   "source": [
    "Or gate is also linearly separable. Here we random select w1,w2 such that they individually are greater than abs(w0). So w1>abs(w0) and w2>abs(w0). Single neuron is sufficient for this.\n",
    "\n",
    "![](Fig/fig144.PNG)\n",
    "\n",
    "For NOR we select w1,w2 as negative value and w0 as positive and the condition is abs(w1)>w0 and abs(w2)>w0.\n",
    "\n",
    "![](Fig/fig145.PNG)\n",
    "\n",
    "For NAND we select w1,w2 as negative and w0 as positive. and the condition is  abs(w1)<w0 and abs(w2)<w0 and abs(w1)+abs(w2)>w0\n",
    "\n",
    "![](Fig/fig146.PNG)\n",
    "\n",
    "For NOT gate we select w1 such that abs(w1) > w0.\n",
    "\n",
    "![](Fig/fig147.PNG)\n",
    "\n"
   ]
  },
  {
   "cell_type": "markdown",
   "metadata": {},
   "source": [
    "So these all were linearly separable so can be presented by a single neuron but for XOR it isn't linearly separable. We'll see that in next class."
   ]
  },
  {
   "cell_type": "markdown",
   "metadata": {},
   "source": [
    "# End of lecture!"
   ]
  }
 ],
 "metadata": {
  "kernelspec": {
   "display_name": "Python 3",
   "language": "python",
   "name": "python3"
  },
  "language_info": {
   "codemirror_mode": {
    "name": "ipython",
    "version": 3
   },
   "file_extension": ".py",
   "mimetype": "text/x-python",
   "name": "python",
   "nbconvert_exporter": "python",
   "pygments_lexer": "ipython3",
   "version": "3.8.5"
  }
 },
 "nbformat": 4,
 "nbformat_minor": 4
}
