{
 "cells": [
  {
   "cell_type": "markdown",
   "metadata": {},
   "source": [
    "<div class=\"alert alert-success\">\n",
    "    <b>Author</b>:\n",
    "\n",
    "      Rashik Rahman\n",
    "      17201012@uap-bd.edu\n",
    "\n",
    "</div>\n",
    "\n",
    "\n",
    "**[Click here to see class lecture](https://drive.google.com/file/d/1PRBwx3DcvN18FcRpiMpt2A20pwPWyPNR/view)**"
   ]
  },
  {
   "cell_type": "markdown",
   "metadata": {},
   "source": [
    "This is singular form we have to transform it to dual form solution.\n",
    "\n",
    "![](Fig/fig112.PNG)\n",
    "\n",
    "![](Fig/fig113.PNG)\n",
    "\n",
    "![](Fig/fig114.PNG)\n",
    "\n",
    "As we found the dual solution now we can do classification.\n",
    "\n",
    "![](Fig/fig115.PNG)"
   ]
  },
  {
   "cell_type": "markdown",
   "metadata": {},
   "source": [
    "As both lines are of same distance from the hyperplane thus for y = 1 min function is equal to for y= -1 max function. \n",
    "\n",
    "![](Fig/fig116.PNG)\n",
    "\n",
    "As there are two datapoint so there are two lamdas and l = 2. $lamda_i$ and $lamda_j$ has four combinations 1 1, 1 2, 2 1, 2 2. So this reflects on the ij value of L(w,b) eqn.\n",
    "\n",
    "![](Fig/fig117.PNG)\n",
    "\n",
    "![](Fig/fig118.PNG)\n",
    "\n",
    "![](Fig/fig119.PNG)\n",
    "\n",
    "![](Fig/fig120.PNG)\n",
    "\n"
   ]
  },
  {
   "cell_type": "markdown",
   "metadata": {},
   "source": []
  }
 ],
 "metadata": {
  "kernelspec": {
   "display_name": "Python 3",
   "language": "python",
   "name": "python3"
  },
  "language_info": {
   "codemirror_mode": {
    "name": "ipython",
    "version": 3
   },
   "file_extension": ".py",
   "mimetype": "text/x-python",
   "name": "python",
   "nbconvert_exporter": "python",
   "pygments_lexer": "ipython3",
   "version": "3.8.5"
  }
 },
 "nbformat": 4,
 "nbformat_minor": 4
}
