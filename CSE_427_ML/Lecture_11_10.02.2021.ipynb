{
 "cells": [
  {
   "cell_type": "markdown",
   "metadata": {},
   "source": [
    "<div class=\"alert alert-success\">\n",
    "    <b>Author</b>:\n",
    "\n",
    "      Rashik Rahman\n",
    "      17201012@uap-bd.edu\n",
    "\n",
    "</div>\n",
    "\n",
    "\n",
    "**[Click here to see class lecture](https://drive.google.com/file/d/1_uZb5Aj1Rz_S2CjAftrwFXIeTFu2fl3O/view)**\n"
   ]
  },
  {
   "cell_type": "markdown",
   "metadata": {},
   "source": [
    "p(c|x) means probability of class given attribute x. As there are x1,x2,....,xn attributes thus we can write p(c|x) = (p(x1|c) * p(x2|c) * .... * p(xn|c) * P(c))/p(x).\n",
    "\n",
    "![](Fig/fig52.PNG)\n",
    "\n",
    "p(yes|sunny) = 3/5 cause there are total 5 sunny among them there's 3 yes. \n",
    "\n",
    "p(sunny) = 5/14 cause there are 14 total cases among them 5 is sunny\n",
    "\n",
    "p(yes) = 9/14 casuse there are total 14 cases among them 9 is yes.\n",
    "\n",
    "Thus p(sunny|yes) = 0.33\n",
    "\n",
    "![](Fig/fig53.PNG)\n",
    "\n",
    "![](Fig/fig54.PNG)\n",
    "\n",
    "![](Fig/fig55.PNG)\n",
    "\n",
    "![](Fig/fig56.PNG)\n",
    "\n",
    "![](Fig/fig57.PNG)\n",
    "\n",
    "From the likelihood table get p(sunny),p(cool),p(high),p(true) given yes and no.\n",
    "\n",
    "![](Fig/fig58.PNG)\n",
    "\n",
    "Then multiply it with total probability of yes and no. Then select the label based on score.\n",
    "\n",
    "![](Fig/fig59.PNG)"
   ]
  },
  {
   "cell_type": "markdown",
   "metadata": {},
   "source": [
    "# End of lecture!"
   ]
  }
 ],
 "metadata": {
  "kernelspec": {
   "display_name": "Python 3",
   "language": "python",
   "name": "python3"
  },
  "language_info": {
   "codemirror_mode": {
    "name": "ipython",
    "version": 3
   },
   "file_extension": ".py",
   "mimetype": "text/x-python",
   "name": "python",
   "nbconvert_exporter": "python",
   "pygments_lexer": "ipython3",
   "version": "3.8.5"
  }
 },
 "nbformat": 4,
 "nbformat_minor": 4
}
