{
 "cells": [
  {
   "cell_type": "markdown",
   "metadata": {},
   "source": [
    "<div class=\"alert alert-success\">\n",
    "    <b>Author</b>:\n",
    "\n",
    "      Rashik Rahman\n",
    "      17201012@uap-bd.edu\n",
    "\n",
    "</div>\n",
    "\n",
    "\n",
    "**[Click here to see class lecture](https://drive.google.com/file/d/1ikV6GmdlrsBn2QVmjhvIz7d6kLKuOO-t/view)**\n"
   ]
  },
  {
   "cell_type": "markdown",
   "metadata": {},
   "source": [
    "# KNN"
   ]
  },
  {
   "cell_type": "markdown",
   "metadata": {},
   "source": [
    "Where does the unknown (green) point belong to? Calculate eucledian distance from green dot to all the points then choose \"k\" closest neighbours meaning that select \"k\" points who has the least dist. Now the green dot will be labeled with the majority label of the k points.\n",
    "\n",
    "![](Fig/fig48.PNG)\n",
    "\n",
    "![](Fig/fig49.PNG)\n",
    "\n",
    "Though we will calculate eucledian distance but as we are just comparing the distances thus we don't need to do square_root operation.\n",
    "\n",
    "![](Fig/fig50.PNG)\n",
    "\n",
    "From majority calculation we can see that green dot falls under label 0. And K must be less then N(total number of data points).\n",
    "\n",
    "![](Fig/fig51.PNG)"
   ]
  },
  {
   "cell_type": "markdown",
   "metadata": {},
   "source": [
    "# End of lecture!"
   ]
  }
 ],
 "metadata": {
  "kernelspec": {
   "display_name": "Python 3",
   "language": "python",
   "name": "python3"
  },
  "language_info": {
   "codemirror_mode": {
    "name": "ipython",
    "version": 3
   },
   "file_extension": ".py",
   "mimetype": "text/x-python",
   "name": "python",
   "nbconvert_exporter": "python",
   "pygments_lexer": "ipython3",
   "version": "3.8.5"
  }
 },
 "nbformat": 4,
 "nbformat_minor": 4
}
