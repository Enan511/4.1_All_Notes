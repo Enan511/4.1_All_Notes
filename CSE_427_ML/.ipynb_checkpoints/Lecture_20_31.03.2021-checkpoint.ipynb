{
 "cells": [
  {
   "cell_type": "markdown",
   "metadata": {},
   "source": [
    "<div class=\"alert alert-success\">\n",
    "    <b>Author</b>:\n",
    "\n",
    "      Rashik Rahman\n",
    "      17201012@uap-bd.edu\n",
    "\n",
    "</div>\n",
    "\n",
    "\n",
    "**[Click here to see class lecture](https://drive.google.com/file/d/1DO-buJr5GaILQMlXZQeAi5-LZHgSDLRX/view)**"
   ]
  },
  {
   "cell_type": "markdown",
   "metadata": {},
   "source": [
    "A single neuron can give a single output.\n",
    "\n",
    "![](Fig/fig135.PNG)\n",
    "\n",
    "Bias term has fixed value of positive 1. This neuron model was proposed in 1960.\n",
    "\n",
    "![](Fig/fig136.PNG)\n",
    "\n",
    "![](Fig/fig137.PNG)\n",
    "\n",
    "Currently perceptor model are used in single neuron. \n",
    "\n",
    "![](Fig/fig138.PNG)\n",
    "\n",
    "![](Fig/fig139.PNG)\n",
    "\n"
   ]
  },
  {
   "cell_type": "markdown",
   "metadata": {},
   "source": [
    "weights update. This is the whole process for a single neuron calculation. If value should be of float then to convert binary to float we can use learning rate and multiply it with x(t).\n",
    "\n",
    "![](Fig/fig140.PNG)\n",
    "\n",
    "We can genaralize this equation by murging these three into one. This single eqn calculation is called widrow hoff delta rule.\n",
    "\n",
    "![](Fig/fig141.PNG)"
   ]
  },
  {
   "cell_type": "markdown",
   "metadata": {},
   "source": [
    "# End of lecture!"
   ]
  }
 ],
 "metadata": {
  "kernelspec": {
   "display_name": "Python 3",
   "language": "python",
   "name": "python3"
  },
  "language_info": {
   "codemirror_mode": {
    "name": "ipython",
    "version": 3
   },
   "file_extension": ".py",
   "mimetype": "text/x-python",
   "name": "python",
   "nbconvert_exporter": "python",
   "pygments_lexer": "ipython3",
   "version": "3.8.5"
  }
 },
 "nbformat": 4,
 "nbformat_minor": 4
}
