{
 "cells": [
  {
   "cell_type": "markdown",
   "metadata": {},
   "source": [
    "<div class=\"alert alert-success\">\n",
    "    <b>Author</b>:\n",
    "\n",
    "      Rashik Rahman\n",
    "      17201012@uap-bd.edu\n",
    "\n",
    "</div>\n",
    "\n",
    "\n",
    "**[Click here to see class lecture](https://drive.google.com/file/d/1wwzvuuqlFU1mt40MdxhO0FHIyk8qKVZP/view)**\n"
   ]
  },
  {
   "cell_type": "markdown",
   "metadata": {},
   "source": [
    "Mean normalization is used when the range of min max is very large.\n",
    "\n",
    "![](Fig/fig7.PNG)\n",
    "\n",
    "![](Fig/fig8.PNG)\n",
    "\n",
    "![](Fig/fig9.PNG)\n",
    "\n",
    "There would be 3 parameters as there are two independent attributes(x1,x2).\n",
    "\n",
    "![](Fig/fig10.PNG)\n",
    "\n",
    "![](Fig/fig11.PNG)\n",
    "\n",
    "![](Fig/fig12.PNG)\n",
    "\n",
    "![](Fig/fig13.PNG)\n",
    "\n",
    "![](Fig/fig14.PNG)\n",
    "\n"
   ]
  },
  {
   "cell_type": "markdown",
   "metadata": {},
   "source": [
    "For the last two cases we get cost function,\n",
    "\n",
    "![](Fig/fig15.PNG)\n",
    "\n",
    "For the first two cases we get cost function,\n",
    "\n",
    "![](Fig/fig16.PNG)\n",
    "\n",
    "![](Fig/fig17.PNG)\n",
    "\n",
    "After merging these two functions we get. Its called log loss cost function.\n",
    "\n",
    "![](Fig/fig18.PNG)\n",
    "\n",
    "So the final cost function for the whole dataset iteration will be,\n",
    "\n",
    "![](Fig/fig19.PNG)\n",
    "\n",
    "\n",
    "Gradient decent. Here j means column and i means row. we pass a whole row in h(x), here x is represents the whole row.\n",
    "\n",
    "![](Fig/fig20.PNG)\n",
    "\n",
    "h(x) will return a continuous value ranging from 0-1. If the value is above 0.5 then we consider it as 1 else 0. After that this discrete value goes to cost function and compares with y.\n",
    "\n",
    "![](Fig/fig21.PNG)\n"
   ]
  },
  {
   "cell_type": "markdown",
   "metadata": {},
   "source": [
    "# End of lecture!"
   ]
  }
 ],
 "metadata": {
  "kernelspec": {
   "display_name": "Python 3",
   "language": "python",
   "name": "python3"
  },
  "language_info": {
   "codemirror_mode": {
    "name": "ipython",
    "version": 3
   },
   "file_extension": ".py",
   "mimetype": "text/x-python",
   "name": "python",
   "nbconvert_exporter": "python",
   "pygments_lexer": "ipython3",
   "version": "3.7.6"
  }
 },
 "nbformat": 4,
 "nbformat_minor": 4
}
