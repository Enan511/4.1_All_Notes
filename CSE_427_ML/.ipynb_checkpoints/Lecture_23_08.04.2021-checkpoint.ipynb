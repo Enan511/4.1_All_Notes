{
 "cells": [
  {
   "cell_type": "markdown",
   "metadata": {},
   "source": [
    "<div class=\"alert alert-success\">\n",
    "    <b>Author</b>:\n",
    "\n",
    "      Rashik Rahman\n",
    "      17201012@uap-bd.edu\n",
    "\n",
    "</div>\n",
    "\n",
    "\n",
    "**[Click here to see class lecture](https://drive.google.com/file/d/16plyd7WQoavO1GNXv-85pKTNaX4sP-d7/view)**"
   ]
  },
  {
   "cell_type": "markdown",
   "metadata": {},
   "source": [
    "![](Fig/fig170.PNG)\n",
    "\n",
    "![](Fig/fig171.PNG)\n",
    "\n",
    "Softmax calculates the probability of each outcome. o1,o2,o3 are output1,2,3. So when the values of outputs are calculated then it goes through softmax thus generating probability. Softmax is important.\n",
    "\n",
    "![](Fig/fig172.PNG)\n"
   ]
  },
  {
   "cell_type": "markdown",
   "metadata": {},
   "source": [
    "\n",
    "**Today we'll sutdy about how to optimize weights using back propagation.**\n",
    "\n",
    "\n",
    "![](Fig/fig172.PNG)\n",
    "\n",
    "Here W means weight. Weights between input and hidden layer is $W_{ij}$ this can be interpreted as weight between ith input layer and jth hidden layer. Same goes for weights between hidden and output later that is denoted by $W_{jk}$.\n",
    "\n",
    "![](Fig/fig173.PNG)\n",
    "\n",
    "**Ask clearance about the value of $W_{ij}$ in $Net_{aj}$**. active_j is the value needed to activate a hidden layer. O_aj is the output value of the hidden layer.\n",
    "\n",
    "![](Fig/fig174.PNG)\n",
    "\n",
    "Here active_k is the value needed to activate output layer. O_ak is the value of the output layer.\n",
    "\n",
    "![](Fig/fig175.PNG)"
   ]
  },
  {
   "cell_type": "markdown",
   "metadata": {},
   "source": [
    "We update/optimize the weights while back pass thus its called back propagation. \n",
    "\n",
    "![](Fig/fig176.PNG)\n",
    "\n",
    "![](Fig/fig177.PNG)\n",
    "\n",
    "![](Fig/fig178.PNG)"
   ]
  },
  {
   "cell_type": "markdown",
   "metadata": {},
   "source": [
    "# End of lecture!"
   ]
  }
 ],
 "metadata": {
  "kernelspec": {
   "display_name": "Python 3",
   "language": "python",
   "name": "python3"
  },
  "language_info": {
   "codemirror_mode": {
    "name": "ipython",
    "version": 3
   },
   "file_extension": ".py",
   "mimetype": "text/x-python",
   "name": "python",
   "nbconvert_exporter": "python",
   "pygments_lexer": "ipython3",
   "version": "3.8.5"
  }
 },
 "nbformat": 4,
 "nbformat_minor": 4
}
