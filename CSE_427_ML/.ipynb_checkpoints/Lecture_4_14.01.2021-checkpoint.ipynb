{
 "cells": [
  {
   "cell_type": "markdown",
   "metadata": {},
   "source": [
    "<div class=\"alert alert-success\">\n",
    "    <b>Author</b>:\n",
    "\n",
    "      Rashik Rahman\n",
    "      17201012@uap-bd.edu\n",
    "\n",
    "</div>\n",
    "\n",
    "\n",
    "**[Click here to see class lecture](https://drive.google.com/file/d/11VOiCVz6QUEhjdlbnTvWXtpm4atWHs9D/view)**\n"
   ]
  },
  {
   "cell_type": "markdown",
   "metadata": {},
   "source": [
    "![](Fig/fig3.PNG)"
   ]
  },
  {
   "cell_type": "markdown",
   "metadata": {},
   "source": [
    "# Standardization/Z-score normalization"
   ]
  },
  {
   "cell_type": "markdown",
   "metadata": {},
   "source": [
    "![](Fig/fig4.PNG)"
   ]
  },
  {
   "cell_type": "markdown",
   "metadata": {},
   "source": [
    "[Watch this 1st](https://www.youtube.com/watch?v=s9e2A04lmXI)\n",
    "\n",
    "[Watch this 2nd](https://www.youtube.com/watch?v=mnKm3YP56PY)\n",
    "\n",
    "[Watch this 3rd](https://www.youtube.com/watch?v=2tuBREK_mgE)"
   ]
  },
  {
   "cell_type": "code",
   "execution_count": 1,
   "metadata": {},
   "outputs": [
    {
     "name": "stdin",
     "output_type": "stream",
     "text": [
      " 5\n",
      " 10 40 30 50 20\n"
     ]
    },
    {
     "name": "stdout",
     "output_type": "stream",
     "text": [
      "14.1\n"
     ]
    }
   ],
   "source": [
    "# https://www.hackerrank.com/challenges/s10-standard-deviation/problem\n",
    "import statistics as st\n",
    "import math\n",
    "siz = int(input())\n",
    "vals = list(map(int, input().split()))\n",
    "vals.sort()\n",
    "mean = st.mean(vals)\n",
    "\n",
    "ss=[]\n",
    "for val in vals:\n",
    "    value = val-mean\n",
    "    ss.append(pow(value, 2))\n",
    "\n",
    "sd =  math.sqrt(sum(ss)/len(ss))\n",
    "\n",
    "\n",
    "print('{:.1f}'.format(sd))\n"
   ]
  },
  {
   "cell_type": "markdown",
   "metadata": {},
   "source": [
    "[Z-TABLE](http://www.z-table.com/)"
   ]
  },
  {
   "cell_type": "markdown",
   "metadata": {},
   "source": [
    "# Normalization(MinMaX)"
   ]
  },
  {
   "cell_type": "markdown",
   "metadata": {},
   "source": [
    "![](Fig/fig5.PNG)\n",
    "\n",
    "### Clearify with instructor what type of normalization he used in lecture. \n",
    "\n",
    "[Types of normalization](https://developers.google.com/machine-learning/data-prep/transform/normalization)\n",
    "\n",
    "[Types of normalization](https://en.wikipedia.org/wiki/Feature_scaling)\n",
    "\n",
    "[Types of normalization](https://sebastianraschka.com/Articles/2014_about_feature_scaling.html)"
   ]
  },
  {
   "cell_type": "markdown",
   "metadata": {},
   "source": [
    "# End of lecture!"
   ]
  }
 ],
 "metadata": {
  "kernelspec": {
   "display_name": "Python 3",
   "language": "python",
   "name": "python3"
  },
  "language_info": {
   "codemirror_mode": {
    "name": "ipython",
    "version": 3
   },
   "file_extension": ".py",
   "mimetype": "text/x-python",
   "name": "python",
   "nbconvert_exporter": "python",
   "pygments_lexer": "ipython3",
   "version": "3.7.6"
  }
 },
 "nbformat": 4,
 "nbformat_minor": 4
}
