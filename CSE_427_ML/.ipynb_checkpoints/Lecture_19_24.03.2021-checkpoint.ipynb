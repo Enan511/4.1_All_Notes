{
 "cells": [
  {
   "cell_type": "markdown",
   "metadata": {},
   "source": [
    "<div class=\"alert alert-success\">\n",
    "    <b>Author</b>:\n",
    "\n",
    "      Rashik Rahman\n",
    "      17201012@uap-bd.edu\n",
    "\n",
    "</div>\n",
    "\n",
    "\n",
    "**[Click here to see class lecture](https://drive.google.com/file/d/1K0ItVgdoksJgtpy2Ifz6xLDWGb96bwMu/view)**"
   ]
  },
  {
   "cell_type": "markdown",
   "metadata": {},
   "source": [
    "In the last class we saw hyper plane eqn for linear or binary classifier. But for multiclass classification one vs all approach is used. Meaning each class will have it's own plane that will separate the class from rest of the classes.\n",
    "\n",
    "![](Fig/fig126.PNG)\n",
    "\n",
    "Here we can see that the dataset is not linearly separable cause some green points shifted to red side and some red point shifted to green side. \n",
    "\n",
    "![](Fig/fig127.PNG)\n",
    "\n",
    "To solve this we use a kernal function to map the dataset so that it can be linearly separable.\n",
    "\n",
    "![](Fig/fig128.PNG)\n",
    "\n",
    "![](Fig/fig129.PNG)\n",
    "\n",
    "![](Fig/fig130.PNG)\n",
    "\n",
    "So the dual solution from the prev. lec ends up like this. Here alpha is lambda.\n",
    "\n",
    "![](Fig/fig131.PNG)\n",
    "\n",
    "![](Fig/fig132.PNG)"
   ]
  },
  {
   "cell_type": "markdown",
   "metadata": {},
   "source": [
    "Some kernal functions.\n",
    "\n",
    "![](Fig/fig133.PNG)\n",
    "\n",
    "Read further from **SVM.pdf**"
   ]
  },
  {
   "cell_type": "markdown",
   "metadata": {},
   "source": [
    "# End of lecture!"
   ]
  }
 ],
 "metadata": {
  "kernelspec": {
   "display_name": "Python 3",
   "language": "python",
   "name": "python3"
  },
  "language_info": {
   "codemirror_mode": {
    "name": "ipython",
    "version": 3
   },
   "file_extension": ".py",
   "mimetype": "text/x-python",
   "name": "python",
   "nbconvert_exporter": "python",
   "pygments_lexer": "ipython3",
   "version": "3.8.5"
  }
 },
 "nbformat": 4,
 "nbformat_minor": 4
}
