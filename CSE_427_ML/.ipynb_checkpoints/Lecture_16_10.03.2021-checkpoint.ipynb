{
 "cells": [
  {
   "cell_type": "markdown",
   "metadata": {},
   "source": [
    "<div class=\"alert alert-success\">\n",
    "    <b>Author</b>:\n",
    "\n",
    "      Rashik Rahman\n",
    "      17201012@uap-bd.edu\n",
    "\n",
    "</div>\n",
    "\n",
    "\n",
    "**[Click here to see class lecture](https://drive.google.com/file/d/1mBn5V3tQ7tz9fsOVyQ-2Xwokcx4AnlpE/view)**"
   ]
  },
  {
   "cell_type": "markdown",
   "metadata": {},
   "source": [
    "Hyperplane are used to divide the dataset. From these 3 planes only the middle one ensures maximum margin(distance) between positive and negative data. Thus the middle one is the optimal hyperplane. Thus svm will only select H0 and reject others. Here margin is the dotted line. So H0 maintain maximum distance from the margin.\n",
    "\n",
    "![](Fig/fig95.PNG)\n",
    "\n",
    "Points that are on the margine line those are called support vector points. d denotes as the width of the margine that the distance between two margins. So given some support vector points our first task is to calculate d such that d is maximum.\n",
    "\n",
    "![](Fig/fig96.PNG)"
   ]
  },
  {
   "cell_type": "markdown",
   "metadata": {},
   "source": []
  },
  {
   "cell_type": "markdown",
   "metadata": {},
   "source": []
  }
 ],
 "metadata": {
  "kernelspec": {
   "display_name": "Python 3",
   "language": "python",
   "name": "python3"
  },
  "language_info": {
   "codemirror_mode": {
    "name": "ipython",
    "version": 3
   },
   "file_extension": ".py",
   "mimetype": "text/x-python",
   "name": "python",
   "nbconvert_exporter": "python",
   "pygments_lexer": "ipython3",
   "version": "3.8.5"
  }
 },
 "nbformat": 4,
 "nbformat_minor": 4
}
