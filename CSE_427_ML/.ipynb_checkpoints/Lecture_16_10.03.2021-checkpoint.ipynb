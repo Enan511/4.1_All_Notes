{
 "cells": [
  {
   "cell_type": "markdown",
   "metadata": {},
   "source": [
    "<div class=\"alert alert-success\">\n",
    "    <b>Author</b>:\n",
    "\n",
    "      Rashik Rahman\n",
    "      17201012@uap-bd.edu\n",
    "\n",
    "</div>\n",
    "\n",
    "\n",
    "**[Click here to see class lecture](https://drive.google.com/file/d/1mBn5V3tQ7tz9fsOVyQ-2Xwokcx4AnlpE/view)**"
   ]
  },
  {
   "cell_type": "markdown",
   "metadata": {},
   "source": [
    "Hyperplane are used to divide the dataset. From these 3 planes only the middle one ensures maximum margin(distance) between positive and negative data. Thus the middle one is the optimal hyperplane. Thus svm will only select H0 and reject others. Here margin is the dotted line. So H0 maintain maximum distance from the margin.\n",
    "\n",
    "![](Fig/fig95.PNG)\n",
    "\n",
    "Points that are on the margine line those are called support vector points. d denotes as the width of the margine that the distance between two margins. So given some support vector points our first task is to calculate d such that d is maximum.\n",
    "\n",
    "![](Fig/fig96.PNG)"
   ]
  },
  {
   "cell_type": "markdown",
   "metadata": {},
   "source": [
    "Here c is constant, b is bias.\n",
    "\n",
    "![](Fig/fig97.PNG)\n",
    "\n",
    "2nd eqn is multiplied by yi=-1 thats why sign changes and -1 becomes 1. Thus the two eqn becomes same so we merge them in a single eqn. This single eqn can be of two type one for all points and one for support vector points.\n",
    "\n",
    "![](Fig/fig98.PNG)\n",
    "\n",
    "SV means support vectors\n",
    "\n",
    "![](Fig/fig99.PNG)\n",
    "\n",
    "![](Fig/fig100.PNG)\n",
    "\n"
   ]
  },
  {
   "cell_type": "markdown",
   "metadata": {},
   "source": [
    "\n",
    "\n",
    "![](Fig/fig101.PNG)\n",
    "\n",
    "![](Fig/fig102.PNG)\n",
    "\n",
    "2 is constant so its out. Then 1/2 and square is added cause when we do differenciation it'll omit each other. Depending on contraints we'll do optimization. And we'll use lagrange for that.\n",
    "\n",
    "![](Fig/fig103.PNG)"
   ]
  },
  {
   "cell_type": "markdown",
   "metadata": {},
   "source": [
    "# End of lecture!"
   ]
  }
 ],
 "metadata": {
  "kernelspec": {
   "display_name": "Python 3",
   "language": "python",
   "name": "python3"
  },
  "language_info": {
   "codemirror_mode": {
    "name": "ipython",
    "version": 3
   },
   "file_extension": ".py",
   "mimetype": "text/x-python",
   "name": "python",
   "nbconvert_exporter": "python",
   "pygments_lexer": "ipython3",
   "version": "3.8.5"
  }
 },
 "nbformat": 4,
 "nbformat_minor": 4
}
