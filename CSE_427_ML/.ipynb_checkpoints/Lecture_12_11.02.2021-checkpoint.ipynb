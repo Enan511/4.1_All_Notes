{
 "cells": [
  {
   "cell_type": "markdown",
   "metadata": {},
   "source": [
    "<div class=\"alert alert-success\">\n",
    "    <b>Author</b>:\n",
    "\n",
    "      Rashik Rahman\n",
    "      17201012@uap-bd.edu\n",
    "\n",
    "</div>\n",
    "\n",
    "\n",
    "**[Click here to see class lecture](https://drive.google.com/file/d/1Y48xxrk4Qoq15jF8iyV4dtIMrDGUrEiM/view)**\n"
   ]
  },
  {
   "cell_type": "markdown",
   "metadata": {},
   "source": [
    "Here root node is outlook so we devide the dataset on outlook, then we again split from sunny on basis of humid by calculating info gain.\n",
    "\n",
    "![](Fig/fig60.PNG)\n",
    "\n",
    "Then devide rain on the basis of wind by calculating info gain thus we get a tree where every node has either No(red) or Yes(green) reference attributes. Now when a new data point comes Rain(outlook), Hiogh(humid), weak(wind) we can predict its label. Following the tree we first goto rain then as humid is not reachable from rain outlook so we skip it and move to wind weak. From rain we can goto wind weak. Now weak has all yes labels so the final output label for this test data will be yes.\n",
    "\n",
    "![](Fig/fig61.PNG)\n",
    "\n",
    "After finding entropy of outlook, humid, wind we split the data on the basis of outlook cause it has the least entropy. After that for sunny we get a dataset based on that dataset we again calculate entropy for outlook, humid and wind. We'll see that humid has high gain thus low entropy so now it'll be splitted on humid. Overcast has pure subset so no need to split it. Moving on to Rain, based on rain we get a dataset based on that dataset we again calculate entropy for outlook, humid and wind.We'll see that Wind has high gain thus low entropy so now this dataset will be splitted on Wind.\n",
    "\n",
    "### ইনফরমেশান গেইন\n",
    "\n",
    "**ফরমুলা**\n",
    "\n",
    "$-(p_+ \\log_2 p_+) + -(p_- \\log_2 p_-)$\n",
    "\n",
    "এখানে $p_+$, $p_-$ আলাদা ক্লাস বুঝাচ্ছে। কোন নির্দিষ্ট এট্রিবিউটের জন্য প্রতিটি ক্লাসের করেস্পন্ডিং স্যাম্পল সংখ্যার হিসেবে $p_+$, $p_-$ বের করা হয়। \n",
    "\n",
    "**উদাহরণ**\n",
    "\n",
    "প্লে টেনিসে ডেটা সেটের জন্য, Outlook এট্রিবিউটের জিনি ইম্পিউরিটি বের করি- \n",
    "\n",
    "ক্লাস লেবেলের  জন্য $gain(PlayTennis) = -\\frac{9}{14}*\\log_2{\\frac{9}{14} + -\\frac{5}{14}*\\log_2{\\frac{5}{14}}} = 0.94$ \n",
    "\n",
    "ফিচার | ইয়েস | নো | টোটাল | ইনফরমেশান গেইন এর হিসেব | \n",
    "--- | --- | --- | --- | --- |\n",
    "Sunny | 2 | 3 | 5 | $-\\frac{2}{5}*\\log_2{\\frac{2}{5}} + -\\frac{3}{5}*\\log_2{\\frac{3}{5}} = 0.97$ |\n",
    "Overcast | 4 | 0 | 4 | $-\\frac{4}{4}*\\log_2{\\frac{4}{4}} + -\\frac{0}{4}*\\log_2{\\frac{0}{4}} = 0$ |\n",
    "Rainy | 3 | 2 | 5 | $-\\frac{3}{5}*\\log_2{\\frac{3}{5}} + -\\frac{2}{5}*\\log_2{\\frac{2}{5}} = 0.97$ |\n",
    "\n",
    "এখন, Outlook এট্রিবিউটের ইনফরমেশান গেইন = $gain(PlayTennis) - \\{\\frac{5}{14}*gain(Sunny) + \\frac{4}{14}*gain(Overcast) + \\frac{5}{14}*gain(Rainy)$\n",
    "$= \\frac{5}{14}*0.97 + \\frac{4}{14}*0 + \\frac{5}{14}*0.97 = 0.247$\n",
    "\n",
    "এভাবে অন্য এট্রিবিউটগুলোর জন্যও ইনফরমেশান গেইন বের করবো। সেখান থেকে সবচেয়ে বড়টা নিবো। রিকার্সিভলি এই কাজ চলতে থাকবে। \n",
    "\n",
    "> (কাজ ৯.২ বাকি এট্রিবুটগুলোর জন্য *ইনফরমেশান গেইন* নিজেরা বের করুন)\n",
    "\n",
    "**এর কিছু বৈশিষ্ট্য:**\n",
    "* ক্যাটেগরিক্যাল এর জন্য\n",
    "* মাল্টিক্লাস ক্লাসিফিকেশান ভালো পারফরম্যান্স\n",
    "* ইনফরমেশান গেইন এর মান ০ এর মানে কি? (প্রশ্ন করুন)\n",
    "* হেল্প- https://victorzhou.com/blog/information-gain/\n",
    "\n",
    "---"
   ]
  },
  {
   "cell_type": "markdown",
   "metadata": {},
   "source": [
    "In pure data entropy is 0 and in not pure maximum entropy is 1.\n",
    "\n",
    "![](Fig/fig63.PNG)"
   ]
  },
  {
   "cell_type": "markdown",
   "metadata": {},
   "source": [
    "# End of lecture"
   ]
  }
 ],
 "metadata": {
  "kernelspec": {
   "display_name": "Python 3",
   "language": "python",
   "name": "python3"
  },
  "language_info": {
   "codemirror_mode": {
    "name": "ipython",
    "version": 3
   },
   "file_extension": ".py",
   "mimetype": "text/x-python",
   "name": "python",
   "nbconvert_exporter": "python",
   "pygments_lexer": "ipython3",
   "version": "3.8.5"
  }
 },
 "nbformat": 4,
 "nbformat_minor": 4
}
