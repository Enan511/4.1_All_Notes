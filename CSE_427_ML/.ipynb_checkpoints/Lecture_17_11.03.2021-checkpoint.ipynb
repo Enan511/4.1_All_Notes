{
 "cells": [
  {
   "cell_type": "markdown",
   "metadata": {},
   "source": [
    "<div class=\"alert alert-success\">\n",
    "    <b>Author</b>:\n",
    "\n",
    "      Rashik Rahman\n",
    "      17201012@uap-bd.edu\n",
    "\n",
    "</div>\n",
    "\n",
    "\n",
    "**[Click here to see class lecture](https://drive.google.com/file/d/10bNfA3k1EUujUkYX9q4VHE4kj47ETo6i/view)**"
   ]
  },
  {
   "cell_type": "markdown",
   "metadata": {},
   "source": [
    "$f_x$ is derivative of objective function according to x. $f_y$ is derivative of objective function according to y. $g_x$ is derivative of constraint function x^2+y^2-100 according to x. $g_y$ is derivative of constraint function x^2+y^2-100 according to y.\n",
    "\n",
    "![](Fig/fig104.PNG)\n",
    "\n",
    "![](Fig/fig105.PNG)\n",
    "\n",
    "![](Fig/fig106.PNG)"
   ]
  },
  {
   "cell_type": "markdown",
   "metadata": {},
   "source": [
    "So here constraint is true x^2+y^2=100. Thus we get correct min max.\n",
    "\n",
    "![](Fig/fig107.PNG)\n",
    "\n",
    "**H.W**\n",
    "\n",
    "![](Fig/fig108.PNG)\n",
    "\n",
    "![](Fig/fig109.PNG)"
   ]
  },
  {
   "cell_type": "markdown",
   "metadata": {},
   "source": [
    "\n",
    "\n",
    "![](Fig/fig110.PNG)\n",
    "\n",
    "![](Fig/fig111.PNG)"
   ]
  },
  {
   "cell_type": "markdown",
   "metadata": {},
   "source": [
    "# End of lecture!"
   ]
  }
 ],
 "metadata": {
  "kernelspec": {
   "display_name": "Python 3",
   "language": "python",
   "name": "python3"
  },
  "language_info": {
   "codemirror_mode": {
    "name": "ipython",
    "version": 3
   },
   "file_extension": ".py",
   "mimetype": "text/x-python",
   "name": "python",
   "nbconvert_exporter": "python",
   "pygments_lexer": "ipython3",
   "version": "3.8.5"
  }
 },
 "nbformat": 4,
 "nbformat_minor": 4
}
