{
 "cells": [
  {
   "cell_type": "markdown",
   "metadata": {},
   "source": [
    "<div class=\"alert alert-success\">\n",
    "    <b>Author</b>:\n",
    "\n",
    "      Rashik Rahman\n",
    "      17201012@uap-bd.edu\n",
    "\n",
    "</div>\n",
    "\n",
    "\n",
    "**[Click here to see class lecture](https://drive.google.com/file/d/12YRMMC7shPZHxsj4ER0JxpDCGTdNPptf/view)**\n"
   ]
  },
  {
   "cell_type": "markdown",
   "metadata": {},
   "source": [
    "# KMeans"
   ]
  },
  {
   "cell_type": "markdown",
   "metadata": {},
   "source": [
    "![](Fig/fig36.PNG)\n",
    "\n",
    "![](Fig/fig37.PNG)\n",
    "\n",
    "![](Fig/fig38.PNG)\n",
    "\n",
    "![](Fig/fig39.PNG)"
   ]
  },
  {
   "cell_type": "markdown",
   "metadata": {},
   "source": [
    "As k=2 so we take two random centroids far from each other.\n",
    "\n",
    "![](Fig/fig40.PNG)\n",
    "\n",
    "![](Fig/fig41.PNG)\n",
    "\n",
    "**Breaking condition** when centroid isn't moving with the increase of iteration then iteration should be stopped. In other words when the position of the centriod is same as the centroid position in previous iteration then the loop is stopped.\n",
    "\n",
    "![](Fig/fig42.PNG)\n",
    "\n",
    "![](Fig/fig43.PNG)\n",
    "\n",
    "![](Fig/fig44.PNG)"
   ]
  },
  {
   "cell_type": "markdown",
   "metadata": {},
   "source": [
    "\n",
    "\n",
    "![](Fig/fig45.PNG)\n",
    "\n",
    "![](Fig/fig46.PNG)\n",
    "\n",
    "![](Fig/fig47.PNG)"
   ]
  },
  {
   "cell_type": "markdown",
   "metadata": {},
   "source": [
    "# End of lecture!"
   ]
  }
 ],
 "metadata": {
  "kernelspec": {
   "display_name": "Python 3",
   "language": "python",
   "name": "python3"
  },
  "language_info": {
   "codemirror_mode": {
    "name": "ipython",
    "version": 3
   },
   "file_extension": ".py",
   "mimetype": "text/x-python",
   "name": "python",
   "nbconvert_exporter": "python",
   "pygments_lexer": "ipython3",
   "version": "3.8.5"
  }
 },
 "nbformat": 4,
 "nbformat_minor": 4
}
