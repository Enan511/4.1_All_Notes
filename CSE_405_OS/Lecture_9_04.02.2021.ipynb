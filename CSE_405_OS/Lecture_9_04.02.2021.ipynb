{
 "cells": [
  {
   "cell_type": "markdown",
   "metadata": {},
   "source": [
    "<div class=\"alert alert-success\">\n",
    "    <b>Author</b>:\n",
    "\n",
    "      Rashik Rahman\n",
    "      17201012@uap-bd.edu\n",
    "\n",
    "</div>\n",
    "\n",
    "**[Click here to see class lecture](https://drive.google.com/file/d/1xFfgWMR3VkEdSCaOpPFKp_hF_pOkFDtm/view)**\n"
   ]
  },
  {
   "cell_type": "markdown",
   "metadata": {},
   "source": [
    "We have learned that for a program a process is executed. But when fork is called during execution a child process is created which inherits all the attributes(code,data etc) of the parent process, in a word a carbon copy of parent process is created. So now we have parent and child two individual processes.\n",
    "\n",
    "![](Fig/fig78.PNG)\n",
    "\n",
    "Here for calling fork() the program creates a duplicate process thus we get the output of program twice.\n",
    "\n",
    "![](Fig/fig79.PNG)\n",
    "\n",
    "PID() will print the process ID of current process. Now if we give getpid() in print function we'll see two pid in output as there are two process executed.\n",
    "\n",
    "![](Fig/fig80.PNG)\n",
    "\n",
    "![](Fig/fig81.PNG)\n",
    "\n",
    "Whenever a computer is started the first process to run is init process and all the other processes are the children of init. The children process of init may also have their own children process. Each process has a memory image shown in the box. After execution the memory image still remains. So these process are called zombie process cuz after executing memory image remains in memory. These zombie process will fillup the whole memory and your system will crash or suffer from hang issue. So we can take messures to prevent this. When we call wait() function child process executes beofre parent process and parent process will wait, and when the parent process is executed it clears the memory images child process and also clears the parent process image after execution. Thus zombie process can be prevented. But if for some reason partent executes before child process (when wait() is called) then the child process directly becomes the child of grandfather process, in this case when p1 is executed before c then c becomes direct child of init.\n",
    "\n",
    "\n",
    "![](Fig/fig83.PNG)\n",
    "\n",
    "![](Fig/fig82.PNG)\n",
    "\n",
    "![](Fig/fig84.PNG)"
   ]
  },
  {
   "cell_type": "markdown",
   "metadata": {},
   "source": [
    "when wait() isn't called parent child executes concurrently but when it is called parent waits until children terminates.\n",
    "\n",
    "![](Fig/fig85.PNG)\n",
    "\n",
    "By default child is a carbon copy of parent but if we want we can fork a child that is different from parent. We can do this by using exec function. We have to pass the task/command into exec function which would be executed by child.\n",
    "\n",
    "![](Fig/fig86.PNG)\n",
    "\n",
    "![](Fig/fig87.PNG)\n",
    "\n",
    "![](Fig/fig88.PNG)\n",
    "\n",
    "so here we can see tell C to execute wc(word count). This the instruction for wc comes from kernal we just pass wc to exec(). Here child is doing a different thing than parant.\n",
    "\n",
    "![](Fig/fig89.PNG)\n",
    "\n",
    "![](Fig/fig90.PNG)"
   ]
  },
  {
   "cell_type": "markdown",
   "metadata": {},
   "source": [
    "when we start computer or terminal first thing that happens is init calls fork() and creates children then assign the provided task like ls, wc etc via exec(). ex: exeec(ls)\n",
    "\n",
    "![](Fig/fig90.PNG)\n",
    "\n",
    "![](Fig/fig91.PNG)\n",
    "\n",
    "![](Fig/fig92.PNG)"
   ]
  },
  {
   "cell_type": "markdown",
   "metadata": {},
   "source": []
  },
  {
   "cell_type": "markdown",
   "metadata": {},
   "source": []
  },
  {
   "cell_type": "markdown",
   "metadata": {},
   "source": []
  }
 ],
 "metadata": {
  "kernelspec": {
   "display_name": "Python 3",
   "language": "python",
   "name": "python3"
  },
  "language_info": {
   "codemirror_mode": {
    "name": "ipython",
    "version": 3
   },
   "file_extension": ".py",
   "mimetype": "text/x-python",
   "name": "python",
   "nbconvert_exporter": "python",
   "pygments_lexer": "ipython3",
   "version": "3.8.5"
  }
 },
 "nbformat": 4,
 "nbformat_minor": 4
}
