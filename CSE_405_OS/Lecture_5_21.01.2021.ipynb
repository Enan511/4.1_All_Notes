{
 "cells": [
  {
   "cell_type": "markdown",
   "metadata": {},
   "source": [
    "<div class=\"alert alert-success\">\n",
    "    <b>Author</b>:\n",
    "\n",
    "      Rashik Rahman\n",
    "      17201012@uap-bd.edu\n",
    "\n",
    "</div>\n",
    "\n",
    "**[Click here to see class lecture](https://drive.google.com/file/d/1exmwvinAYnqoXbdeD-xo9KwgxpXEmbAr/view)**\n"
   ]
  },
  {
   "cell_type": "markdown",
   "metadata": {},
   "source": [
    "![](Fig/fig59.PNG)\n",
    "\n",
    "**Watch from 4:00min to 11:00min to understand the following varient of shortest job first. It is very important topic and calculation is prone to human error.**\n",
    "\n",
    "To get the wait time we minus arrival time from starting time.\n",
    "\n",
    "![](Fig/fig60.PNG)\n",
    "\n",
    "![](Fig/fig61.PNG)\n",
    "\n",
    "Non pre-emtive is the easy version. \n",
    "\n",
    "![](Fig/fig62.PNG)\n",
    "\n",
    "**Watch from 14:00min to 20:00min & 25:00min to 28:00min to understand the following varient of priority scheduling. It is very important topic and calculation is prone to human error.**\n",
    "    \n",
    "![](Fig/fig63.PNG)"
   ]
  },
  {
   "cell_type": "markdown",
   "metadata": {},
   "source": [
    "\n",
    "    \n",
    "![](Fig/fig64.PNG)\n",
    "\n",
    "**Watch from 34:00min to 41:00min to understand the following varient of round robin. It is very important topic and calculation is prone to human error.**\n",
    "\n",
    "![](Fig/fig65.PNG)"
   ]
  },
  {
   "cell_type": "markdown",
   "metadata": {},
   "source": [
    "# End of lecture!"
   ]
  }
 ],
 "metadata": {
  "kernelspec": {
   "display_name": "Python 3",
   "language": "python",
   "name": "python3"
  },
  "language_info": {
   "codemirror_mode": {
    "name": "ipython",
    "version": 3
   },
   "file_extension": ".py",
   "mimetype": "text/x-python",
   "name": "python",
   "nbconvert_exporter": "python",
   "pygments_lexer": "ipython3",
   "version": "3.7.6"
  }
 },
 "nbformat": 4,
 "nbformat_minor": 4
}
