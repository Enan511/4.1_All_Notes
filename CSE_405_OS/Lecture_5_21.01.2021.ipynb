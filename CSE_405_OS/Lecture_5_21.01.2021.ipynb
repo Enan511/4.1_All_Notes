{
 "cells": [
  {
   "cell_type": "markdown",
   "metadata": {},
   "source": [
    "<div class=\"alert alert-success\">\n",
    "    <b>Author</b>:\n",
    "\n",
    "      Rashik Rahman\n",
    "      17201012@uap-bd.edu\n",
    "\n",
    "</div>\n",
    "\n",
    "**[Click here to see class lecture](https://drive.google.com/file/d/1exmwvinAYnqoXbdeD-xo9KwgxpXEmbAr/view)**\n"
   ]
  },
  {
   "cell_type": "markdown",
   "metadata": {},
   "source": [
    "![](Fig/fig59.PNG)\n",
    "\n",
    "**Watch from 4:00min to 11:00min to understand the following varient of shortest job first. It is very important topic and calculation is prone to human error.**\n",
    "\n",
    "To get the wait time we minus arrival time from starting time. \n",
    "\n",
    "For the wait time the rule is $P_x = Last P_x wait time - arrival time$. As example, last wait time of p5 is 11 so actual wait time is 11-4=7.\n",
    "\n",
    "![](Fig/fig60.PNG)\n",
    "\n",
    "![](Fig/fig61.PNG)\n",
    "\n",
    "Non pre-emtive is the easy version. \n",
    "\n",
    "![](Fig/fig62.PNG)\n",
    "\n",
    "**Watch from 14:00min to 20:00min & 25:00min to 28:00min to understand the following varient of priority scheduling. It is very important topic and calculation is prone to human error.** \n",
    "    \n",
    "For the wait time the rule is $P_x = Last P_x wait time - sum of all previous P_x execution time - arrival time$. For example last P2 wait time is 13 and previously it only ran once so total previous execution time is 2 and arrival time is 0 so total wait time for P2 is 13-2-0=11.\n",
    "\n",
    "![](Fig/fig63.PNG)"
   ]
  },
  {
   "cell_type": "markdown",
   "metadata": {},
   "source": [
    "\n",
    "    \n",
    "![](Fig/fig64.PNG)\n",
    "\n",
    "**Watch from 34:00min to 41:00min to understand the following varient of round robin. It is very important topic and calculation is prone to human error.**\n",
    "\n",
    "For the wait time the rule is $P_x = Last_{..} P_x wait_{..} time - previous_{..} occurace_{..} of_{..} P_x count*quantam - arrival_{..} time$. For example last wait time of P1 is 12, previous occurace of P1 is 2, arrival time of P1 is 0 and quantum is 0 so total wait time of P1 is  12-2*2-0=8.\n",
    "\n",
    "![](Fig/fig65.PNG)"
   ]
  },
  {
   "cell_type": "markdown",
   "metadata": {},
   "source": [
    "# End of lecture!"
   ]
  }
 ],
 "metadata": {
  "kernelspec": {
   "display_name": "Python 3",
   "language": "python",
   "name": "python3"
  },
  "language_info": {
   "codemirror_mode": {
    "name": "ipython",
    "version": 3
   },
   "file_extension": ".py",
   "mimetype": "text/x-python",
   "name": "python",
   "nbconvert_exporter": "python",
   "pygments_lexer": "ipython3",
   "version": "3.7.6"
  }
 },
 "nbformat": 4,
 "nbformat_minor": 4
}
