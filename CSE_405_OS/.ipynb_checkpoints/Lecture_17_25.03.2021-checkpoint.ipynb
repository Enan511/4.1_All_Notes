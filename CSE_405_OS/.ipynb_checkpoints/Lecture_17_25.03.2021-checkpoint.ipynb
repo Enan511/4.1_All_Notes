{
 "cells": [
  {
   "cell_type": "markdown",
   "metadata": {},
   "source": [
    "<div class=\"alert alert-success\">\n",
    "    <b>Author</b>:\n",
    "\n",
    "      Rashik Rahman\n",
    "      17201012@uap-bd.edu\n",
    "\n",
    "</div>\n",
    "\n",
    "\n",
    "**[Click here to see class lecture](https://drive.google.com/file/d/1gRX0uLTS1NfCXS8Nk1qyT4LyLpo1w7e5/view)**"
   ]
  },
  {
   "cell_type": "markdown",
   "metadata": {},
   "source": [
    "![](Fig/fig202.PNG)\n",
    "\n",
    "Physical memory is very messy to store data of process like code, heap, stack. As they are stored randomly not serially. So virtual memory is created to let the process know that it can use all the memory and all the data are organized there.  \n",
    "\n",
    "![](Fig/fig203.PNG)\n",
    "\n",
    "![](Fig/fig204.PNG)\n",
    "\n",
    "In the free space of the virtual memory stack and heap can grow.\n",
    "\n",
    "![](Fig/fig205.PNG)"
   ]
  },
  {
   "cell_type": "markdown",
   "metadata": {},
   "source": [
    "When a instruction comes from cpu like load/store then that instruction is for physical memory so for the process to get that instruction, virtual to physical address translation is needed. For this translation a hardware is used named memory management. Os provides info like free space in memory, which process is stored in which part of the memory etc to the memory management unit. OS assists memory management unit to translate.\n",
    "\n",
    "![](Fig/fig206.PNG)\n",
    "\n",
    "Physical & virtual address is divided into several same size chunks which is called frame & page respectively. The page table contains corresponding frame for a page and it is handled by OS by giving Memory management unit access to page table. So when a instruction comes for in virtual memory this table is used to translate.\n",
    "\n",
    "![](Fig/fig207.PNG)\n",
    "\n",
    "![](Fig/fig209.PNG)\n",
    "\n",
    "![](Fig/fig208.PNG)"
   ]
  },
  {
   "cell_type": "markdown",
   "metadata": {},
   "source": [
    "Size of code is fixed but while process/program is running size of stak & heap grows.\n",
    "\n",
    "![](Fig/fig210.PNG)\n",
    "\n",
    "malloc is a memory allocation system call implemented in C. Process can allocate memory in free space of the memory.\n",
    "\n",
    "![](Fig/fig211.PNG)\n",
    "\n",
    "OS itself is a program and its kernal is the most important program. So does OS also gets a virtual memory image? The ans is both yes and no. Every memory image has a mapping of OS cause every process use some basic code of OS like fork, exec, etc. So when OS needs large memory it allocated memory itself otherwise uses malloc.\n",
    "\n",
    "![](Fig/fig212.PNG)\n",
    "\n",
    "![](Fig/fig213.PNG)\n",
    "\n",
    "![](Fig/fig214.PNG)\n",
    "\n",
    "Relocated process part is the physical address and from it virtual address is created 0-16KB. So when request comes to 0KB in virtual memory this maps to 32KB of physical memory, when request comes to 1KB in virtual memory this maps to 32+1=33KB of physical memory. As the size is from 0-16KB so if we request out of this range like 20KB then error will occur.\n",
    "\n",
    "![](Fig/fig215.PNG)\n",
    "\n",
    "**Ask mam to clarify the math 32kb+128**\n",
    "\n",
    "![](Fig/fig216.PNG)\n",
    "\n",
    "Memory management unit(MMU)\n",
    "\n",
    "![](Fig/fig217.PNG)"
   ]
  },
  {
   "cell_type": "markdown",
   "metadata": {},
   "source": [
    "\n",
    "\n",
    "![](Fig/fig218.PNG)\n",
    "\n",
    "Segmentation problem is when a process allocates memory there's a little chunk is left unallocated and it is so little that, this chunk cant be allocated to other processes. So when small chunks like this piles up it causes short of memory.\n",
    "\n",
    "![](Fig/fig219.PNG)"
   ]
  },
  {
   "cell_type": "markdown",
   "metadata": {},
   "source": [
    "# End of lecture!"
   ]
  }
 ],
 "metadata": {
  "kernelspec": {
   "display_name": "Python 3",
   "language": "python",
   "name": "python3"
  },
  "language_info": {
   "codemirror_mode": {
    "name": "ipython",
    "version": 3
   },
   "file_extension": ".py",
   "mimetype": "text/x-python",
   "name": "python",
   "nbconvert_exporter": "python",
   "pygments_lexer": "ipython3",
   "version": "3.8.5"
  }
 },
 "nbformat": 4,
 "nbformat_minor": 4
}
