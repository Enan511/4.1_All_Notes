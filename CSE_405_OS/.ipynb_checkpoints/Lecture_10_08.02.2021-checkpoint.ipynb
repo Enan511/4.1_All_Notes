{
 "cells": [
  {
   "cell_type": "markdown",
   "metadata": {},
   "source": [
    "<div class=\"alert alert-success\">\n",
    "    <b>Author</b>:\n",
    "\n",
    "      Rashik Rahman\n",
    "      17201012@uap-bd.edu\n",
    "\n",
    "</div>\n",
    "\n",
    "**[Click here to see class lecture](https://drive.google.com/file/d/1KPqxlTqlqLeyBXDzIbl47yMXgBrEhSxq/view)**\n"
   ]
  },
  {
   "cell_type": "markdown",
   "metadata": {},
   "source": [
    "![](Fig/fig105.PNG)\n",
    "\n",
    "![](Fig/fig106.PNG)\n",
    "\n",
    "![](Fig/fig107.PNG)\n",
    "\n",
    "![](Fig/fig108.PNG)\n",
    "\n",
    "Two ways to do IPC\n",
    "\n",
    "![](Fig/fig109.PNG)\n",
    "\n",
    "In shared memory process A & B communicate via a shared memory. They can both access that common memory. Note that they can't directly access each other. A writes data/message in shared memory and B reads it and vice-versa. This is how IPC works in shared memory.\n",
    "\n",
    "And in message passing, A & B can't directly pass message to each other but kernal connects/access all the process. They use kernal for that. A sends message to kernal and kernal sends it to B and vice-versa.\n",
    "\n",
    "![](Fig/fig110.PNG)\n"
   ]
  },
  {
   "cell_type": "markdown",
   "metadata": {},
   "source": [
    "- key_t : key/pass to provide a process with access to shared memory\n",
    "- size : size of shared memory\n",
    "- shmflg : flags to know state of shmget()\n",
    "\n",
    "![](Fig/fig111.PNG)\n",
    "\n",
    "Handler provides what instruction to execute upon receiving signal. System defined signal has fixed instruction and for user defined signals instruction are written in code.\n",
    "\n",
    "![](Fig/fig112.PNG)\n",
    "\n",
    "![](Fig/fig113.PNG)\n",
    "\n",
    "Here a pipe has two fd(file descriptors). pipe is generally used for IPC. One process writes another reads. 2 process shares a pipe. This is named pipe. But what's the benefits in having a pipe in a single process? When a child is forked from parent it inherits everything including these fd. Now is P_read and C_write is cut off then there's a pipe between parent and child and vice-versa. This is the difference between named and regular pipe.\n",
    "\n",
    "![](Fig/fig114.PNG)\n",
    "\n",
    "Act as a mailbox.\n",
    "\n",
    "![](Fig/fig115.PNG)"
   ]
  },
  {
   "cell_type": "markdown",
   "metadata": {},
   "source": [
    "\n",
    "\n",
    "![](Fig/fig116.PNG)\n",
    "\n",
    "![](Fig/fig117.PNG)\n",
    "\n",
    "![](Fig/fig118.PNG)\n",
    "\n",
    "In single thread one process shares all and in multithread process all thread only shares code,data and files, but as OS has to do time sharing so each thread has individual registers and stack.\n",
    "\n",
    "![](Fig/fig119.PNG)\n",
    "\n",
    "![](Fig/fig120.PNG)\n",
    "\n",
    "![](Fig/fig121.PNG)\n"
   ]
  },
  {
   "cell_type": "markdown",
   "metadata": {},
   "source": [
    "\n",
    "![](Fig/fig122.PNG)\n",
    "\n",
    "![](Fig/fig123.PNG)\n",
    "\n",
    "![](Fig/fig124.PNG)\n",
    "\n",
    "![](Fig/fig125.PNG)\n",
    "\n",
    "![](Fig/fig126.PNG)\n",
    "\n",
    "![](Fig/fig127.PNG)\n",
    "\n",
    "![](Fig/fig128.PNG)\n",
    "\n",
    "![](Fig/fig129.PNG)\n",
    "\n",
    "![](Fig/fig130.PNG)"
   ]
  },
  {
   "cell_type": "markdown",
   "metadata": {},
   "source": [
    "# End of lecture!"
   ]
  }
 ],
 "metadata": {
  "kernelspec": {
   "display_name": "Python 3",
   "language": "python",
   "name": "python3"
  },
  "language_info": {
   "codemirror_mode": {
    "name": "ipython",
    "version": 3
   },
   "file_extension": ".py",
   "mimetype": "text/x-python",
   "name": "python",
   "nbconvert_exporter": "python",
   "pygments_lexer": "ipython3",
   "version": "3.8.5"
  }
 },
 "nbformat": 4,
 "nbformat_minor": 4
}
