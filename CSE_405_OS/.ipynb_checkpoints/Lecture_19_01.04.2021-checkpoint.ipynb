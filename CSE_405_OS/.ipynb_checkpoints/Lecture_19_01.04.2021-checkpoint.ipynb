{
 "cells": [
  {
   "cell_type": "markdown",
   "metadata": {},
   "source": [
    "<div class=\"alert alert-success\">\n",
    "    <b>Author</b>:\n",
    "\n",
    "      Rashik Rahman\n",
    "      17201012@uap-bd.edu\n",
    "\n",
    "</div>\n",
    "\n",
    "\n",
    "**[Click here to see class lecture](https://drive.google.com/file/d/1yR9gWHYOMpRaFTHT_M3-CBP9UOzHRu5v/view)**"
   ]
  },
  {
   "cell_type": "markdown",
   "metadata": {},
   "source": [
    "![](Fig/fig220.PNG)\n",
    "\n",
    "\n",
    "We discussed page to frame mapping and fragmentation problem in previous lecture. That problem is called extrernal fragmentation. Ths problem can't occur in page it occurs in frame. But when a page is partially filled then internal fragmentation occurs in  page. In paging we divide the allocated virtual memory into multiple equal pages. So now when a process comes let it will get 1st 3 pages 2 process will get next 3 pages so these;s no scope for external fragmentation. Now we know each page has some address in it so let assume the 1st process fully usses 1st two page and partially uses the last page thus leaving some unused addresses. This wastage problem is called internal storage.\n",
    "\n",
    "\n",
    "![](Fig/fig221.PNG)\n",
    "\n",
    "![](Fig/fig222.PNG)\n",
    "\n",
    "Page table is used to translate from virtual memory to physical memory. OS provides necessary info of this page table to MMU.\n",
    "\n",
    "![](Fig/fig224.PNG)\n",
    "\n",
    "Each row of page table has multiple bits that can represent many things such as page status etc. These bits can contain only 0,1. Physical address are also stored here as a combination of 0 & 1.\n",
    "\n",
    "![](Fig/fig225.PNG)\n",
    "\n",
    "![](Fig/fig226.PNG)"
   ]
  },
  {
   "cell_type": "markdown",
   "metadata": {},
   "source": [
    "Here VPN is the page number and offset is the address number of that particular page. So like this we can calculate a particular address translation.\n",
    "\n",
    "![](Fig/fig227.PNG)\n",
    "\n",
    "![](Fig/fig228.PNG)\n",
    "\n",
    "Whenever a request comes for VA we need to convert it to PA. But each time traversing through all the pages is quite time consuming. It is just like using a loop to search. This issue can be resolved by caching. Cache memory is expensive and fast memory. Frequent/recent request's translation are kept in cacge memory. This cache is called Translation Lookaside Buffer(TLB). \n",
    "\n",
    "![](Fig/fig229.PNG)\n",
    "\n",
    "![](Fig/fig230.PNG)\n",
    "\n",
    "![](Fig/fig231.PNG)\n",
    "\n",
    "Multuiple page table improves search speed due to indexing. This index or chunk will represent which page table contains the address. So search space is reduced. \n",
    "\n",
    "![](Fig/fig232.PNG)\n",
    "\n",
    "![](Fig/fig233.PNG)"
   ]
  },
  {
   "cell_type": "markdown",
   "metadata": {},
   "source": [
    "\n",
    "\n",
    "![](Fig/fig234.PNG)\n",
    "\n",
    "Some time page can't be found in main memory it is called page fault.\n",
    "\n",
    "![](Fig/fig235.PNG)\n",
    "\n",
    "Let process A give page request. So if page fault occurs then cpu switches context to other process and in the mean time searches in disk for that missing page and restores it in the table(if space available) so when it is done with the other process OS can serve process A.\n",
    "\n",
    "![](Fig/fig236.PNG)\n",
    "\n",
    "![](Fig/fig238.PNG)\n",
    "\n",
    "![](Fig/fig237.PNG)\n",
    "\n",
    "![](Fig/fig239.PNG)"
   ]
  },
  {
   "cell_type": "markdown",
   "metadata": {},
   "source": [
    "\n",
    "\n",
    "![](Fig/fig240.PNG)\n",
    "\n",
    "![](Fig/fig241.PNG)\n",
    "\n",
    "![](Fig/fig245.PNG)\n",
    "\n",
    "![](Fig/fig242.PNG)\n",
    "\n",
    "![](Fig/fig246.PNG)\n",
    "\n",
    "![](Fig/fig243.PNG)\n",
    "\n",
    "![](Fig/fig244.PNG)"
   ]
  },
  {
   "cell_type": "markdown",
   "metadata": {},
   "source": [
    "# End of lecture!"
   ]
  }
 ],
 "metadata": {
  "kernelspec": {
   "display_name": "Python 3",
   "language": "python",
   "name": "python3"
  },
  "language_info": {
   "codemirror_mode": {
    "name": "ipython",
    "version": 3
   },
   "file_extension": ".py",
   "mimetype": "text/x-python",
   "name": "python",
   "nbconvert_exporter": "python",
   "pygments_lexer": "ipython3",
   "version": "3.8.5"
  }
 },
 "nbformat": 4,
 "nbformat_minor": 4
}
