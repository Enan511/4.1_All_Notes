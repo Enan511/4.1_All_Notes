{
 "cells": [
  {
   "cell_type": "markdown",
   "metadata": {},
   "source": [
    "<div class=\"alert alert-success\">\n",
    "    <b>Author</b>:\n",
    "\n",
    "      Rashik Rahman\n",
    "      17201012@uap-bd.edu\n",
    "\n",
    "</div>\n",
    "\n",
    "\n",
    "**[Click here to see class lecture](https://drive.google.com/file/d/1PMk0Mvm0-TU4noq4-t97BmVb4zrK4ilP/view)**"
   ]
  },
  {
   "cell_type": "markdown",
   "metadata": {},
   "source": [
    "![](Fig/fig247.PNG)\n",
    "\n",
    "![](Fig/fig248.PNG)\n",
    "\n",
    "![](Fig/fig249.PNG)\n",
    "\n",
    "![](Fig/fig250.PNG)\n",
    "\n",
    "![](Fig/fig251.PNG)\n",
    "\n",
    "![](Fig/fig252.PNG)"
   ]
  },
  {
   "cell_type": "markdown",
   "metadata": {},
   "source": [
    "\n",
    "\n",
    "![](Fig/fig253.PNG)\n",
    "\n",
    "Device drivers translate data in such a manner that os can understand it.\n",
    "\n",
    "![](Fig/fig254.PNG)\n",
    "\n",
    "inode is a unique number of file and indicated the memory location of that file.\n",
    "\n",
    "![](Fig/fig255.PNG)\n",
    "\n",
    "![](Fig/fig256.PNG)"
   ]
  },
  {
   "cell_type": "markdown",
   "metadata": {},
   "source": [
    "\n",
    "\n",
    "![](Fig/fig257.PNG)\n",
    "\n",
    "![](Fig/fig258.PNG)\n",
    "\n",
    "![](Fig/fig259.PNG)\n",
    "\n",
    "When you copy a file whiche is linked to the inode of the original file then it is called hardlink.\n",
    "\n",
    "![](Fig/fig260.PNG)\n",
    "\n",
    "![](Fig/fig261.PNG)\n",
    "\n",
    "![](Fig/fig262.PNG)\n",
    "\n",
    "![](Fig/fig263.PNG)"
   ]
  },
  {
   "cell_type": "markdown",
   "metadata": {},
   "source": [
    "# End of lecture!"
   ]
  }
 ],
 "metadata": {
  "kernelspec": {
   "display_name": "Python 3",
   "language": "python",
   "name": "python3"
  },
  "language_info": {
   "codemirror_mode": {
    "name": "ipython",
    "version": 3
   },
   "file_extension": ".py",
   "mimetype": "text/x-python",
   "name": "python",
   "nbconvert_exporter": "python",
   "pygments_lexer": "ipython3",
   "version": "3.8.5"
  }
 },
 "nbformat": 4,
 "nbformat_minor": 4
}
