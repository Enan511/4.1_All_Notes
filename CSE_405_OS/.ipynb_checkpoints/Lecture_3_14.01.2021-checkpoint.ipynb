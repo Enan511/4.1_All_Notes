{
 "cells": [
  {
   "cell_type": "markdown",
   "metadata": {},
   "source": [
    "<div class=\"alert alert-success\">\n",
    "    <b>Author</b>:\n",
    "\n",
    "      Rashik Rahman\n",
    "      17201012@uap-bd.edu\n",
    "\n",
    "</div>\n",
    "\n",
    "## [Click here to see class lecture](https://drive.google.com/file/d/1iaYVWVZEX-iEdjVmWGFdLsUZOIUsSJEt/view)\n"
   ]
  },
  {
   "cell_type": "markdown",
   "metadata": {},
   "source": [
    "![](Fig/fig32.PNG)\n",
    "\n",
    "Multiprocessor means that there would be multiple cores in a processor. There are two types of multiprocessors symmetric and asymmetric.\n",
    "\n",
    "![](Fig/fig33.PNG)\n",
    "\n",
    "In asymmetric there's a master core and some subordinate cores. Master core tries to do all the work but if it needs help it utilizes the subordinate cores. \n",
    "\n",
    "![](Fig/fig34.PNG)\n",
    "\n",
    "In symmetric all the cores are cosidered in same level and all will work parralelly by dividing the tasks among them. \n",
    "\n",
    "![](Fig/fig35.PNG)\n",
    "\n",
    "![](Fig/fig36.PNG)\n",
    "\n",
    "In the first fig we can see 3 individual cpu and in 2nd fig we can see a cpu having two cores.\n",
    "\n",
    "![](Fig/fig37.PNG)\n",
    "\n",
    "Cluster system is like multiple system working together just as in our lab. There's two type of cluster system asymmetric and symmetric. The concept is same as before. In Asymmetric there's a main computer who may utilize other computer if it needs them and in symmetric all the computers will be used in certain tasks."
   ]
  },
  {
   "cell_type": "markdown",
   "metadata": {},
   "source": [
    "\n",
    "![](Fig/fig38.PNG)\n",
    "\n",
    "![](Fig/fig39.PNG)\n",
    "\n",
    "![](Fig/fig40.PNG)\n",
    "\n",
    "![](Fig/fig41.PNG)\n",
    "\n",
    "![](Fig/fig42.PNG)\n",
    "\n",
    "Web based computing is cloud computing.\n",
    "\n",
    "![](Fig/fig43.PNG)\n",
    "\n",
    "**Protection & Security** is very important topic for viva and exam."
   ]
  },
  {
   "cell_type": "markdown",
   "metadata": {},
   "source": [
    "Lets say a computer has multiple user. now one user shouldn't know another users password or shouldn't be able to see/modify another users file. To ensure factors like this protection is used.\n",
    "\n",
    "Security ensures that external attacks like virus,malware doesn't harm your computer.\n",
    "\n",
    "OS has to provide very good protection & security."
   ]
  },
  {
   "cell_type": "markdown",
   "metadata": {},
   "source": [
    "# End of lecture!"
   ]
  }
 ],
 "metadata": {
  "kernelspec": {
   "display_name": "Python 3",
   "language": "python",
   "name": "python3"
  },
  "language_info": {
   "codemirror_mode": {
    "name": "ipython",
    "version": 3
   },
   "file_extension": ".py",
   "mimetype": "text/x-python",
   "name": "python",
   "nbconvert_exporter": "python",
   "pygments_lexer": "ipython3",
   "version": "3.7.6"
  }
 },
 "nbformat": 4,
 "nbformat_minor": 4
}
