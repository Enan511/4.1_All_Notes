{
 "cells": [
  {
   "cell_type": "markdown",
   "metadata": {},
   "source": [
    "<div class=\"alert alert-success\">\n",
    "    <b>Author</b>:\n",
    "\n",
    "      Rashik Rahman\n",
    "      17201012@uap-bd.edu\n",
    "\n",
    "</div>\n",
    "\n",
    "\n",
    "**[Click here to see class lecture](https://drive.google.com/file/d/1UIlwNYm36lzk2H-EMbYjyRQQCVgABKjN/view)**"
   ]
  },
  {
   "cell_type": "markdown",
   "metadata": {},
   "source": [
    "![](Fig/fig264.PNG)\n",
    "\n",
    "A OS can have multiple file system.\n",
    "\n",
    "![](Fig/fig265.PNG)\n",
    "\n",
    "This is not an array of files it is the whole file system. The first leeter in the array is S this denotes super block. The master plan of the whole file system resides here. Then next block is 'i' it keeps records of the occupied and free blocks in inodes. And the block after that 'd' keeps records of occupied and free space in data region.\n",
    "\n",
    "![](Fig/fig266.PNG)\n",
    "\n",
    "![](Fig/fig267.PNG)"
   ]
  },
  {
   "cell_type": "markdown",
   "metadata": {},
   "source": [
    "For a small file single label inode mapping is enough but for a large file multiple level maybe required. So a block can refer to multiple inodes.\n",
    "\n",
    "![](Fig/fig268.PNG)\n",
    "\n",
    "FAT is like link list.\n",
    "\n",
    "![](Fig/fig269.PNG)\n",
    "\n",
    "![](Fig/fig270.PNG)\n",
    "\n",
    "![](Fig/fig271.PNG)"
   ]
  },
  {
   "cell_type": "markdown",
   "metadata": {},
   "source": [
    "Linux can virtualize the whole file system with help of abstraction. For this VFS each file is considered as an object and does Read/write etc operation on the objects.\n",
    "\n",
    "![](Fig/fig272.PNG)"
   ]
  },
  {
   "cell_type": "markdown",
   "metadata": {},
   "source": [
    "# End of lecture!"
   ]
  }
 ],
 "metadata": {
  "kernelspec": {
   "display_name": "Python 3",
   "language": "python",
   "name": "python3"
  },
  "language_info": {
   "codemirror_mode": {
    "name": "ipython",
    "version": 3
   },
   "file_extension": ".py",
   "mimetype": "text/x-python",
   "name": "python",
   "nbconvert_exporter": "python",
   "pygments_lexer": "ipython3",
   "version": "3.8.5"
  }
 },
 "nbformat": 4,
 "nbformat_minor": 4
}
