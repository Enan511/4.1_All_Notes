{
 "cells": [
  {
   "cell_type": "markdown",
   "metadata": {},
   "source": [
    "<div class=\"alert alert-success\">\n",
    "    <b>Author</b>:\n",
    "\n",
    "      Rashik Rahman\n",
    "      17201012@uap-bd.edu\n",
    "\n",
    "</div>\n",
    "\n",
    "**[Click here to see class lecture](https://drive.google.com/file/d/1tpxrgbU5Sg52GWJkvJJz2kpreIY5X3jr/view)**\n"
   ]
  },
  {
   "cell_type": "markdown",
   "metadata": {},
   "source": [
    "![](Fig/fig44.PNG)"
   ]
  },
  {
   "cell_type": "markdown",
   "metadata": {},
   "source": [
    "## CPU Scheduling Algorithms"
   ]
  },
  {
   "cell_type": "markdown",
   "metadata": {},
   "source": [
    "![](Fig/fig45.PNG)\n",
    "\n",
    "When a process is interrupted for IO device input and the process has to wait then the process is shifted to device queues.\n",
    "\n",
    "![](Fig/fig46.PNG)\n",
    "\n",
    "A process is first in ready queue then it is passed to cpu either the process is executed/terminated/done or the process faces interruption such as IO request, fork a child etc. After the interruption the process again is put into the ready queue. Fork a child is a system call. System call is a service that we normal user can't access, OS makes system call to the kernal. When fork a child is called, a child of the running process is created and will be executed then the current process will be sent to ready queue again.\n",
    "\n",
    "![](Fig/fig47.PNG)"
   ]
  },
  {
   "cell_type": "markdown",
   "metadata": {},
   "source": [
    "Mainly short time scheduler is CPU scheduler and long term scheduler is job scheduler. There can be thousands of process so long term scheduler picks certain amount of process and puts them into queue then short term scheduler can work on these picked processes. So multiprocessing depends on long term scheduler cause long term scheduler will pick the amount of process. The greater the amount the greater the multitasking as short term will work on selected processes.\n",
    "\n",
    "![](Fig/fig48.PNG)\n",
    "\n",
    "Medium scheduler is just used to manage any kind of interruption except IO request.\n",
    "\n",
    "![](Fig/fig49.PNG)\n",
    "\n",
    "Depending on the time consumed by a process, the process can be described as IO bound process and CPU bound process.\n",
    "\n",
    "![](Fig/fig50.PNG)\n",
    "\n",
    "Like in shortest job first the jobs are sorted then executed this is the policy of this algorithm and mechanism is how to switch between processes.\n",
    "\n",
    "![](Fig/fig51.PNG)\n",
    "\n",
    "![](Fig/fig52.PNG)\n",
    "\n",
    "![](Fig/fig53.PNG)"
   ]
  },
  {
   "cell_type": "markdown",
   "metadata": {},
   "source": [
    "\n",
    "\n",
    "![](Fig/fig54.PNG)\n",
    "\n",
    "Burst time is execution time. \n",
    "\n",
    "![](Fig/fig55.PNG)\n",
    "\n",
    "![](Fig/fig56.PNG)"
   ]
  },
  {
   "cell_type": "markdown",
   "metadata": {},
   "source": [
    "\n",
    "\n",
    "![](Fig/fig57.PNG)\n",
    "\n",
    "Here we can see arival time. So arrival time will be the sort order here. To get the waiting time, p4 runs for 3 sec and p3 comes at time sec 1. So p3 actually waits for (3-1)=2sec. Thus we can see there's 2 after 0 in the average waiting time section. For the wait time the rule is $P_x = Last P_x wait time - arrival time$. For example last wait time for P1 is 11 so wait time would be 11-2=9.\n",
    "\n",
    "![](Fig/fig58.PNG)"
   ]
  },
  {
   "cell_type": "markdown",
   "metadata": {},
   "source": [
    "# End of lecture!"
   ]
  }
 ],
 "metadata": {
  "kernelspec": {
   "display_name": "Python 3",
   "language": "python",
   "name": "python3"
  },
  "language_info": {
   "codemirror_mode": {
    "name": "ipython",
    "version": 3
   },
   "file_extension": ".py",
   "mimetype": "text/x-python",
   "name": "python",
   "nbconvert_exporter": "python",
   "pygments_lexer": "ipython3",
   "version": "3.7.6"
  }
 },
 "nbformat": 4,
 "nbformat_minor": 4
}
