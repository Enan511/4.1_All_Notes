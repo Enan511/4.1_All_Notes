{
 "cells": [
  {
   "cell_type": "markdown",
   "metadata": {},
   "source": [
    "<div class=\"alert alert-success\">\n",
    "    <b>Author</b>:\n",
    "\n",
    "      Rashik Rahman\n",
    "      17201012@uap-bd.edu\n",
    "\n",
    "</div>\n",
    "\n",
    "**[Click here to see class lecture](https://drive.google.com/file/d/1tpxrgbU5Sg52GWJkvJJz2kpreIY5X3jr/view)**\n"
   ]
  },
  {
   "cell_type": "markdown",
   "metadata": {},
   "source": [
    "![](Fig/fig44.PNG)"
   ]
  },
  {
   "cell_type": "markdown",
   "metadata": {},
   "source": [
    "## CPU Scheduling Algorithms"
   ]
  },
  {
   "cell_type": "markdown",
   "metadata": {},
   "source": [
    "![](Fig/fig45.PNG)\n",
    "\n",
    "When a process is interrupted for IO device input and the process has to wait then the process is shifted to device queues.\n",
    "\n",
    "![](Fig/fig46.PNG)\n",
    "\n",
    "A process is first in ready queue then it is passed to cpu either the process is executed/terminated/done or the process faces interruption such as IO request, fork a child etc. After the interruption the process again is put into the ready queue. Fork a child is a system call. System call is a service that we normal user can't access, OS makes system call to the kernal. When fork a child is called, a child of the running process is created and will be executed then the current process will be sent to ready queue again.\n",
    "\n",
    "![](Fig/fig47.PNG)"
   ]
  },
  {
   "cell_type": "markdown",
   "metadata": {},
   "source": [
    "Mainly short time scheduler is CPU scheduler and long term scheduler is job scheduler. There can be thousands of process so long term scheduler picks certain amount of process and puts them into queue then short term scheduler can work on these picked processes.\n",
    "\n",
    "![](Fig/fig48.PNG)"
   ]
  },
  {
   "cell_type": "markdown",
   "metadata": {},
   "source": []
  }
 ],
 "metadata": {
  "kernelspec": {
   "display_name": "Python 3",
   "language": "python",
   "name": "python3"
  },
  "language_info": {
   "codemirror_mode": {
    "name": "ipython",
    "version": 3
   },
   "file_extension": ".py",
   "mimetype": "text/x-python",
   "name": "python",
   "nbconvert_exporter": "python",
   "pygments_lexer": "ipython3",
   "version": "3.7.6"
  }
 },
 "nbformat": 4,
 "nbformat_minor": 4
}
