{
 "cells": [
  {
   "cell_type": "markdown",
   "metadata": {},
   "source": [
    "<div class=\"alert alert-success\">\n",
    "    <b>Author</b>:\n",
    "\n",
    "      Rashik Rahman\n",
    "      17201012@uap-bd.edu\n",
    "\n",
    "</div>\n",
    "\n",
    "## [Click here to see class lecture](https://drive.google.com/file/d/1RXzYS1A4tSE_HXLVeFvGvOL2ehl5osZc/view)\n"
   ]
  },
  {
   "cell_type": "markdown",
   "metadata": {},
   "source": [
    "![](Fig/fig23.PNG)"
   ]
  },
  {
   "cell_type": "markdown",
   "metadata": {},
   "source": [
    "![](Fig/fig24.PNG)\n",
    "\n",
    "OS has a CPU scheduler that follows some certain algorithm like first come first serve/shortest job first to decide what process to run based on their execution time and other factors.\n",
    "\n",
    "- policy : by this cpu decides which process to run now.\n",
    "- mechanism : it provides the method of switching between processes efficiently.\n",
    "\n",
    "![](Fig/fig25.PNG)\n",
    "\n",
    "- With PID we can uniquely identifyt a process.\n",
    "- Memory image contains static(code&data that wont change) and dynamic(stack&heap its value will change time to time)data\n",
    "- CPU context are registers, program counter, stack pointer, current operand.\n",
    "- File descriptors are pointer registers inside CPU which is used to associate with other devices and to open files.\n",
    "\n",
    "![](Fig/fig26.PNG)\n",
    "\n",
    "Whenever we run a program a process is created by OS. How? OS first gives a PID to process then allocates memory and stores codes&data in the memeory that is fetched from exe file. Then sets the program counter to point to first instruction of the process.\n",
    "\n",
    "![](Fig/fig27.PNG)\n",
    "\n",
    "![](Fig/fig28.PNG)\n",
    "\n",
    "A process goes through 5 steps from when it start to when it ends. important states(running,ready,blocked) less important(new,dead).\n",
    "- running means currently the process is being executed\n",
    "- ready means that the process is waiting to be executed/scheduled\n",
    "- blocked means, a process maybe suspended while its running or not ready to run. An example of this can be IO interruption. like when you install something via cmd while the process is running if you press ctrl+c the process terminates without finishing. It means that the process was blocked by IO interruption. The process can be terminate or be paused. Like during execution a process needs to take input so it is blocked/suspended for a time being and after taking input or serving function call it can again run the process if the process is ready.\n",
    "\n",
    "![](Fig/fig29.PNG)\n",
    "\n",
    "First the process is ready then it moves to running state. From running state it can go back to ready if the process is de-scheduled or it can goto blocked for IO initiate. From blocked state process goes to ready state(When IO initiate is done) first from that it again can goto running state.\n",
    "\n",
    "![](Fig/fig30.PNG)\n",
    "\n",
    "Process0(p0) and Process1(p1) both takes 5ms to execute. Now p0 is running and p1 is ready. after 3ms of execution p0 initiates IO so from 4th sec p0 is blocked in the mean time p1 starts running. In the 7th sec of p1 running p0 finishes IO but it sees that p1 is running so it waits in ready state. when p1 finishes runninng then p0 again starts running and finishes the job. So in total p1 took only 5ms to run but p0 took 10ms to fullfill it's task.\n",
    "\n",
    "![](Fig/fig31.PNG)\n",
    "\n"
   ]
  },
  {
   "cell_type": "markdown",
   "metadata": {},
   "source": [
    "# End of lecture!"
   ]
  }
 ],
 "metadata": {
  "kernelspec": {
   "display_name": "Python 3",
   "language": "python",
   "name": "python3"
  },
  "language_info": {
   "codemirror_mode": {
    "name": "ipython",
    "version": 3
   },
   "file_extension": ".py",
   "mimetype": "text/x-python",
   "name": "python",
   "nbconvert_exporter": "python",
   "pygments_lexer": "ipython3",
   "version": "3.7.6"
  }
 },
 "nbformat": 4,
 "nbformat_minor": 4
}
