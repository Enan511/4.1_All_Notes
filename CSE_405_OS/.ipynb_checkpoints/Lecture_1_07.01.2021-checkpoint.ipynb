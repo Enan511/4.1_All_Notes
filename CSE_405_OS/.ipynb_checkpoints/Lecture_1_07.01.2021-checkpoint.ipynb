{
 "cells": [
  {
   "cell_type": "markdown",
   "metadata": {},
   "source": [
    "<div class=\"alert alert-success\">\n",
    "    <b>Author</b>:\n",
    "\n",
    "      Rashik Rahman\n",
    "      17201012@uap-bd.edu\n",
    "\n",
    "</div>\n",
    "\n",
    "## [Click here to see class lecture](https://drive.google.com/file/d/1dvI90c6j6oOZIDM9UA6XoVEKQ2-OvRop/view)\n"
   ]
  },
  {
   "cell_type": "markdown",
   "metadata": {},
   "source": [
    "![](Fig/fig1.PNG)\n",
    "\n",
    "We can't use app just by turning on pc hardware. We need an intermediate medium to let us use the app. That medium is OS.\n",
    "\n",
    "![](Fig/fig2.PNG)\n",
    "\n",
    "![](Fig/fig3.PNG)\n",
    "\n",
    "If we take the bottom-up approach we can see user wants to use app, app is run via OS and OS is run via hardware. Now if we see from top-down approach we can see after Hardware comes OS then app then user.\n",
    "\n",
    "![](Fig/fig4.PNG)\n",
    "\n",
    "![](Fig/fig5.PNG)\n",
    "\n",
    "![](Fig/fig6.PNG)\n",
    "\n",
    "Visualization of the hierarchy\n",
    "\n",
    "![](Fig/fig7.PNG)\n",
    "\n",
    "Kernal is the main first program that starts at the very beginning when you start your pc. And it runs until you shutdown you pc. It is the very first program to run and last program to terminate.\n",
    "\n",
    "![](Fig/fig8.PNG)\n",
    "\n",
    "System programs are all the programs that are related to OS and helps OS to run smoothly. OS is also a system program.\n",
    "\n",
    "![](Fig/fig9.PNG)\n",
    "\n",
    "There are some function that a OS can't use and its under kernal's possession. Only kernal can use those functions. So when OS wants to use those functions they need to request for permission from kernal. This request is called system call. \n",
    "\n",
    "![](Fig/fig10.PNG)\n",
    "\n",
    "To make a request to kernal or we can say to do system call we need an interface. This interface is called shell. Shell can be two types CLI & GUI.\n",
    "\n",
    "![](Fig/fig11.PNG)\n",
    "\n",
    "Program is a collection of instruction that is executed by computer. When you run a code then the code is called program.\n",
    "\n",
    "![](Fig/fig12.PNG)"
   ]
  },
  {
   "cell_type": "markdown",
   "metadata": {},
   "source": [
    "\n",
    "\n",
    "![](Fig/fig13.PNG)\n",
    "\n",
    "![](Fig/fig14.PNG)\n",
    "\n",
    "To run a program instruction & data stored in exe need to be moved to RAM/memory. OS does this job. OS does the loading stuff and manages cpu,memory, external devices.\n",
    "\n",
    "![](Fig/fig15.PNG)\n",
    "\n",
    "**OS cpu management**\n",
    "\n",
    "Lets consider a single core cpu. Consider using multiple program in on a single core cpu. Each program thinks that it is the only program that is ran by cpu. But all the program are being run parallelly. How does this happen? It is done via help of time sharing. CPU shuffles between programs for mili-seconds so the program doesn't realize that the cpu is also running another program besides it. Thus each process are in an illusion that it is the only process ran by cpu. This is known as cpu virtualization.\n",
    "\n",
    "![](Fig/fig16.PNG)\n",
    "\n",
    "**OS memory management**\n",
    "\n",
    "OS manages memory by doing memory virtualization. Its like the same concept of cpu virtualization. OS creates virtual address from 0-n that is available to a process. Thus the process thinks it can use all the addresses(virtual) so it is in an illusion that it is only using the memory.\n",
    "\n",
    "![](Fig/fig17.PNG)\n",
    "\n",
    "OS manages external devices like peripherals. To do so an important concept occurs that is interrupt.\n",
    "\n",
    "![](Fig/fig18.PNG)\n",
    "\n",
    "Interrupt can be caused by external devices or other processes.\n",
    "\n",
    "![](Fig/fig19.PNG) \n",
    "\n",
    "Every interrupt has its own unique code which defines the type of interruption. This list of code or interrupt service routine is known as interrupt vector. So basically interrupt vector has the memory address of service list with respect to interrupt number. Like for interrupt 2 execute job/service X. Now we can find the memory address of job X in interrupt vector. So starting from getting an interruption to execute that service all is managed by OS. While in interrupt operation is running OS won't take another interrupt. When os finishes current interrupt service and comes back to main program after that it can take another interruption.\n",
    "\n",
    "![](Fig/fig20.PNG)"
   ]
  },
  {
   "cell_type": "markdown",
   "metadata": {},
   "source": [
    "There are two types of interrupt system. One is vector that we already discuss. In vector OS will do the service when interrupt happens. But in polling OS/cpu will be always alert or in check to see if an interrupt happens or not. And when it happens it does the service.\n",
    "\n",
    "![](Fig/fig21.PNG)\n",
    "\n",
    "![](Fig/fig22.PNG)"
   ]
  },
  {
   "cell_type": "markdown",
   "metadata": {},
   "source": []
  }
 ],
 "metadata": {
  "kernelspec": {
   "display_name": "Python 3",
   "language": "python",
   "name": "python3"
  },
  "language_info": {
   "codemirror_mode": {
    "name": "ipython",
    "version": 3
   },
   "file_extension": ".py",
   "mimetype": "text/x-python",
   "name": "python",
   "nbconvert_exporter": "python",
   "pygments_lexer": "ipython3",
   "version": "3.7.6"
  }
 },
 "nbformat": 4,
 "nbformat_minor": 4
}
