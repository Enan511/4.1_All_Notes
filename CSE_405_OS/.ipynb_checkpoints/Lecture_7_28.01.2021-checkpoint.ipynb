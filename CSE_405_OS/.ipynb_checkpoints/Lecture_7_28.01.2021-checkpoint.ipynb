{
 "cells": [
  {
   "cell_type": "markdown",
   "metadata": {},
   "source": [
    "<div class=\"alert alert-success\">\n",
    "    <b>Author</b>:\n",
    "\n",
    "      Rashik Rahman\n",
    "      17201012@uap-bd.edu\n",
    "\n",
    "</div>\n",
    "\n",
    "**[Click here to see class lecture](https://drive.google.com/file/d/1aVu-ktXLP7llOdzWMCfvf4GUup12Vmmx/view)**\n"
   ]
  },
  {
   "cell_type": "markdown",
   "metadata": {},
   "source": [
    "![](Fig/fig66.PNG)\n",
    "\n",
    "![](Fig/fig67.PNG)\n",
    "\n",
    "Creation and management of a process, managing memory like allocating and disallocating, file manegement(CRUD), networking like maintaining communication between processes in same device or across multiple devices can't be done by user it is done by kernal.\n",
    "\n",
    "![](Fig/fig68.PNG)\n",
    "\n",
    "![](Fig/fig69.PNG)\n",
    "\n",
    "![](Fig/fig70.PNG)"
   ]
  },
  {
   "cell_type": "markdown",
   "metadata": {},
   "source": [
    "\n",
    "\n",
    "![](Fig/fig71.PNG)\n",
    "\n",
    "In user mode process can only do high level operation but in need it will do system call and temporarely kernal will be in cpu high previlage and thus can execute system call after that user mode again becoms high previlage.\n",
    "\n",
    "![](Fig/fig72.PNG)\n",
    "\n",
    "When we run a program we get error like this in OS there may also some error occur while running the computer now its the duty of OS to detect the errors and take certain steps to deal with those errors.\n",
    "\n",
    "![](Fig/fig73.PNG)\n",
    "\n",
    "![](Fig/fig74.PNG)\n",
    "\n",
    "![](Fig/fig75.PNG)\n",
    "\n",
    "Posix api is a common api used by most of the well known OS like windows and linux for this reason some basic system calls are same accross all platforms\n",
    "\n",
    "![](Fig/fig76.PNG)\n",
    "\n",
    "![](Fig/fig77.PNG)"
   ]
  },
  {
   "cell_type": "markdown",
   "metadata": {},
   "source": [
    "# End of lecture!"
   ]
  }
 ],
 "metadata": {
  "kernelspec": {
   "display_name": "Python 3",
   "language": "python",
   "name": "python3"
  },
  "language_info": {
   "codemirror_mode": {
    "name": "ipython",
    "version": 3
   },
   "file_extension": ".py",
   "mimetype": "text/x-python",
   "name": "python",
   "nbconvert_exporter": "python",
   "pygments_lexer": "ipython3",
   "version": "3.7.6"
  }
 },
 "nbformat": 4,
 "nbformat_minor": 4
}
