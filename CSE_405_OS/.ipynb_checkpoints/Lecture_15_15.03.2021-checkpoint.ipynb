{
 "cells": [
  {
   "cell_type": "markdown",
   "metadata": {},
   "source": [
    "<div class=\"alert alert-success\">\n",
    "    <b>Author</b>:\n",
    "\n",
    "      Rashik Rahman\n",
    "      17201012@uap-bd.edu\n",
    "\n",
    "</div>\n",
    "\n",
    "\n",
    "**[Click here to see class lecture](https://drive.google.com/file/d/1EZExH4-8VQDfftzpm4Jd1BGTDTHXx4IZ/view)**"
   ]
  },
  {
   "cell_type": "markdown",
   "metadata": {},
   "source": [
    "![](Fig/fig180.PNG)\n",
    "\n",
    "Used when multiple instances deadlock may occur. **Very important for Quiz, viva & Finals.** We need some information to implement the algorithm. \n",
    "\n",
    "![](Fig/fig181.PNG)\n",
    "\n",
    "Available represent number of resource of each resource type. Max represents max resource instance a process may need. Allocation refers to number of resources already allocated. Need refers to how much instance may be needed in the future except the current allocation.\n",
    "\n",
    "![](Fig/fig182.PNG)"
   ]
  },
  {
   "cell_type": "markdown",
   "metadata": {},
   "source": []
  },
  {
   "cell_type": "markdown",
   "metadata": {},
   "source": []
  }
 ],
 "metadata": {
  "kernelspec": {
   "display_name": "Python 3",
   "language": "python",
   "name": "python3"
  },
  "language_info": {
   "codemirror_mode": {
    "name": "ipython",
    "version": 3
   },
   "file_extension": ".py",
   "mimetype": "text/x-python",
   "name": "python",
   "nbconvert_exporter": "python",
   "pygments_lexer": "ipython3",
   "version": "3.8.5"
  }
 },
 "nbformat": 4,
 "nbformat_minor": 4
}
