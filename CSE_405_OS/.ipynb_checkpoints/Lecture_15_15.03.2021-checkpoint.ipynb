{
 "cells": [
  {
   "cell_type": "markdown",
   "metadata": {},
   "source": [
    "<div class=\"alert alert-success\">\n",
    "    <b>Author</b>:\n",
    "\n",
    "      Rashik Rahman\n",
    "      17201012@uap-bd.edu\n",
    "\n",
    "</div>\n",
    "\n",
    "\n",
    "**[Click here to see class lecture](https://drive.google.com/file/d/1EZExH4-8VQDfftzpm4Jd1BGTDTHXx4IZ/view)**"
   ]
  },
  {
   "cell_type": "markdown",
   "metadata": {},
   "source": [
    "![](Fig/fig180.PNG)\n",
    "\n",
    "Used when multiple instances deadlock may occur. **Very important for Quiz, viva & Finals.** We need some information to implement the algorithm. \n",
    "\n",
    "![](Fig/fig181.PNG)\n",
    "\n",
    "Available represent number of resource of each resource type. Max represents max resource instance a process may need in lifetime. Allocation refers to number of resources already allocated. Need refers to how much instance may be needed in the future except the current allocation, so need is max-allocation.\n",
    "\n",
    "![](Fig/fig182.PNG)\n",
    "\n",
    "![](Fig/fig183.PNG)\n",
    "\n",
    "Here are 5 processes(p0-p4) and 3 types of resources(A-C) each resourse having some number of resource. From the table we can see that p0 using only 1 B type resource, p1 using 2 A type resources, p2 using 3 A type & 2 C type resources and so on. Max represents the life time resource need for each type for each process like p0 will neeed 7 A type, 5 B type, 3 C type resources in its lifetime. Available represents the availabe number of instances of each type after allocation like in total there are 7 instances of A type allocated to 5 processes combindely so for A type there only remains 3 instances.\n",
    "\n",
    "![](Fig/fig184.PNG)\n",
    "\n",
    "So after doing max-allocation we get the need matrix.\n",
    "\n",
    "![](Fig/fig185.PNG)\n",
    "\n",
    "So bankers algorithm has two part one is safety algorithm another one is resource allocation/request algorithm. Safety algorithm tells you that if your current state is safe or not.\n",
    "\n",
    "Initially we take two arrays one is work = available array then finish array = number of processes and all index set to False. Now we iterate from i=0;i<5;i++ as there are 5 process so process[i]. For each iteration we check if need is <= work meaning that each index of need should be <= each index of work & finish[i]=False or not.  So for i = 0 finish[i] is false but need[i] is larger than work. So p0 can't be in safe sequence.\n",
    "Now for process 1 finish[i] is false and need[1] is less than work so p1 enters safe sequence. Now as process1 enters safe sequence so work must be updated. now work = work+allocation[i]=work+allocation[1]=work+allocation of process 1 = 3 3 2 + 2 0 0 = 5 3 2 and then set false[i]=true. Next check for i=2. For process 2 need isn't<= work cause first index isn't <=work thus process2 can't get into safe sequence. After iteration done p0 and p2 can't get in so we again start iteration for these two processes. Now p0 need is <=work so p0 enters safety sequence and p2 also enters. Now we have achieved a safe state where no deadlock will occur.\n",
    "\n",
    "![](Fig/fig186.PNG)\n",
    "\n",
    "![](Fig/fig187.PNG)"
   ]
  },
  {
   "cell_type": "markdown",
   "metadata": {},
   "source": []
  },
  {
   "cell_type": "markdown",
   "metadata": {},
   "source": []
  }
 ],
 "metadata": {
  "kernelspec": {
   "display_name": "Python 3",
   "language": "python",
   "name": "python3"
  },
  "language_info": {
   "codemirror_mode": {
    "name": "ipython",
    "version": 3
   },
   "file_extension": ".py",
   "mimetype": "text/x-python",
   "name": "python",
   "nbconvert_exporter": "python",
   "pygments_lexer": "ipython3",
   "version": "3.8.5"
  }
 },
 "nbformat": 4,
 "nbformat_minor": 4
}
