{
 "cells": [
  {
   "cell_type": "markdown",
   "metadata": {},
   "source": [
    "\n",
    "<div class=\"alert alert-success\">\n",
    "    <b>Author</b>:\n",
    "\n",
    "      Rashik Rahman\n",
    "      17201012@uap-bd.edu\n",
    "\n",
    "</div>\n",
    "\n",
    "\n",
    "**[Click here to see class lecture](https://drive.google.com/file/d/1916qkrElFjo5o7VncJwQPS84hvTzuxUY/view)**\n"
   ]
  },
  {
   "cell_type": "markdown",
   "metadata": {},
   "source": [
    "When multiple process works on a shared memory. There is a inconsistency. When a process is in critical section accessing the memory then other process can't access the shared memory. To implement this we can use semaphore method. When a process enters critical section semaphores locks the critical section. Thus other process can't access this critical section. When a process exits its critical section semaphore then unlocks the critical section. This is how semaphore works. Semaphore does it by using an underline variable that is a unsigned interger variable. When the variable tends to be negative like count is now 0 and decrease is called again then the count would be negative so semaphore locks the critical section. And it is locked until the variable's value is greater equal to 0.\n",
    "\n",
    "![](Fig/fig147.PNG)\n",
    "\n",
    "![](Fig/fig148.PNG)\n",
    "\n",
    "semaphore is first initialized with 1. When process 1 goes to critical section before going it calls a wait funciton to decrease the variable value by 1. So now the value is 0 and process 1 is in critical section. Now when a process 2 wants to get in critical section it calls the wait funciton but value is 0 decreasing it would result in negative value so semaphore locks the critical section and doesn't decrease. When process 1 gets out of critical section it increases the value by 1 thus now the value is 1  and process 2 can enter critical section by decreasing it.\n",
    "\n",
    "![](Fig/fig149.PNG)"
   ]
  },
  {
   "cell_type": "markdown",
   "metadata": {},
   "source": []
  },
  {
   "cell_type": "markdown",
   "metadata": {},
   "source": []
  },
  {
   "cell_type": "markdown",
   "metadata": {},
   "source": []
  }
 ],
 "metadata": {
  "kernelspec": {
   "display_name": "Python 3",
   "language": "python",
   "name": "python3"
  },
  "language_info": {
   "codemirror_mode": {
    "name": "ipython",
    "version": 3
   },
   "file_extension": ".py",
   "mimetype": "text/x-python",
   "name": "python",
   "nbconvert_exporter": "python",
   "pygments_lexer": "ipython3",
   "version": "3.8.5"
  }
 },
 "nbformat": 4,
 "nbformat_minor": 4
}
