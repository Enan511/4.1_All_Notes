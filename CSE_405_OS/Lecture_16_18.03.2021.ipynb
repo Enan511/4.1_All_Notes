{
 "cells": [
  {
   "cell_type": "markdown",
   "metadata": {},
   "source": [
    "<div class=\"alert alert-success\">\n",
    "    <b>Author</b>:\n",
    "\n",
    "      Rashik Rahman\n",
    "      17201012@uap-bd.edu\n",
    "\n",
    "</div>\n",
    "\n",
    "\n",
    "**[Click here to see class lecture](https://drive.google.com/file/d/1DOMuYk3cuQ40myagXJDjOlKXnafdUZg1/view)**"
   ]
  },
  {
   "cell_type": "markdown",
   "metadata": {},
   "source": [
    "Deadlock can be handled in 3 ways of which last way is to let the OS / system app handle it. For this the system must have a deadlock detection method. So for this following 3 steps are considered.\n",
    "\n",
    "![](Fig/fig191.PNG)\n",
    "\n",
    "There are two types of deadlock detection. One is for single instance and another is for multiple instance.\n",
    "\n",
    "![](Fig/fig192.PNG)\n",
    "\n",
    "P1->R1 means process1 requesting for resource1. R1->p2 means resource1 is allocated to process2. So in preventaion we needed this resouce allocation graph but for detection we need wait-for graph. So from this resource allocation graph we can make wait-for graph.\n",
    "Here in (a) we can see that p4 requesting for R2 but R2 is allocated to p1 so in (b) p4 has a arrow to p1. \n",
    "\n",
    "Now if a cycle appears in wait-for graph then we can say that deadlock occured.\n",
    "\n",
    "![](Fig/fig193.PNG)"
   ]
  },
  {
   "cell_type": "markdown",
   "metadata": {},
   "source": [
    "deadlock detection for multiple instances.\n",
    "\n",
    "![](Fig/fig194.PNG)\n",
    "\n",
    "![](Fig/fig195.PNG)\n",
    "\n",
    "![](Fig/fig196.PNG)\n",
    "\n",
    "![](Fig/fig197.PNG)\n",
    "\n",
    "As all the process can be included in a safe sequence so the system is at safe state. If we go serially the sequence would be like same as previous lecture's sequence. And if a process couldn't be included in the sequence then deadlock may occur.\n",
    "\n",
    "![](Fig/fig198.PNG)"
   ]
  },
  {
   "cell_type": "markdown",
   "metadata": {},
   "source": [
    "When to use deadlock algorithm. This algo will tell if deadlock occur or not, doesn't specify for which process the deadlock occured. \n",
    "\n",
    "![](Fig/fig199.PNG)\n",
    "\n",
    "So we know how to detect deadlock. But now how we solve it? We can follow steps igven in the fig. Abort all process is a naive way. Another one is aborting one process at a time. \n",
    "And there are some prequisite for selecting the process.\n",
    "\n",
    "![](Fig/fig200.PNG)\n",
    "\n",
    "Selecting the victim process. We will select a process that has the minimum cost of abortion, meaning minimum cpu usage to abort. Then rollback to a safe state where the aborted process was in safe sequence.\n",
    "\n",
    "![](Fig/fig201.PNG)\n"
   ]
  },
  {
   "cell_type": "markdown",
   "metadata": {},
   "source": [
    "# End of lecture!"
   ]
  }
 ],
 "metadata": {
  "kernelspec": {
   "display_name": "Python 3",
   "language": "python",
   "name": "python3"
  },
  "language_info": {
   "codemirror_mode": {
    "name": "ipython",
    "version": 3
   },
   "file_extension": ".py",
   "mimetype": "text/x-python",
   "name": "python",
   "nbconvert_exporter": "python",
   "pygments_lexer": "ipython3",
   "version": "3.8.5"
  }
 },
 "nbformat": 4,
 "nbformat_minor": 4
}
