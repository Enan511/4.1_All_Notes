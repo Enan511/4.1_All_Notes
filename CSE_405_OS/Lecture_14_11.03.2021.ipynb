{
 "cells": [
  {
   "cell_type": "markdown",
   "metadata": {},
   "source": [
    "\n",
    "<div class=\"alert alert-success\">\n",
    "    <b>Author</b>:\n",
    "\n",
    "      Rashik Rahman\n",
    "      17201012@uap-bd.edu\n",
    "\n",
    "</div>\n",
    "\n",
    "\n",
    "**[Click here to see class lecture](https://drive.google.com/file/d/1xZ7uaeXe8NjeLp1lUJBgkkSKMFBsG4zq/view)**\n"
   ]
  },
  {
   "cell_type": "markdown",
   "metadata": {},
   "source": [
    "Deadlock is just as the name suggest. Process uses computer resources. Now process 1 is using resource 1 and process 2 is using resource 2. Now p1 needs r2 untill it gets r2 it won't release r1 on the other hand p2 needs r1 until it gets r1 it won't release r2. So this situation is called a deadlock. It can happen between two or more processes.\n",
    "\n",
    "![](Fig/fig158.PNG)\n",
    "\n",
    "![](Fig/fig159.PNG)\n",
    "\n",
    "Each process requests for a resource then uses it after use releases it.\n",
    "\n",
    "![](Fig/fig160.PNG)\n",
    "\n",
    "If a process occupies a resource then another process has to wait until the resource is released. This is mutual exclusion. Hold and wait is the previous example or p1 r1 p2 r2.\n",
    "If the following situations arises at the same time then deadlock happens.\n",
    "\n",
    "![](Fig/fig161.PNG)\n",
    "\n",
    "![](Fig/fig162.PNG)"
   ]
  },
  {
   "cell_type": "markdown",
   "metadata": {},
   "source": [
    "request edge goes to process to resource that means process needs that resource. And assignment edge goes to resource to process that means ths resource is allocated/assigned to that process.\n",
    "\n",
    "![](Fig/fig163.PNG)\n",
    "\n",
    "![](Fig/fig164.PNG)\n",
    "\n",
    "Here R1 R3 has single instance R2 has two instance and R4 has 3 instance.\n",
    "\n",
    "![](Fig/fig165.PNG)\n",
    "\n",
    "Here there's a ccycle R2->p1->r1->p2->r3->p3->r2. So a deadlock occurs. r2 is assigned to p1 and p1 request for r1. Until it gets r1 it won't release r2. This goes on and results in a circular deadlock. Qs can come like this from a graph determine deadlock.\n",
    "\n",
    "![](Fig/fig166.PNG)\n",
    "\n",
    "Here a cycle exists but no deadlock. Cause p1 request r1 and holds r2 and r1 has two instance another instance is assigned to p2. So when p2 finishes p1 can get that instance and release r2. p3 holds r1 and requests for r2. when p4 releases r2 p3 can get it and release r1. So here deadlock won't occur.\n",
    "\n",
    "![](Fig/fig167.PNG)"
   ]
  },
  {
   "cell_type": "markdown",
   "metadata": {},
   "source": [
    "\n",
    "![](Fig/fig168.PNG)\n",
    "\n",
    "![](Fig/fig169.PNG)\n",
    "\n",
    "![](Fig/fig170.PNG)\n",
    "\n",
    "![](Fig/fig171.PNG)\n",
    "\n",
    "Safe state is arrenging the processes in such a way cycle won't occur.\n",
    "\n",
    "![](Fig/fig172.PNG)\n",
    "\n",
    "![](Fig/fig173.PNG)\n",
    "\n",
    "In safe state deadlock won't occur but in unsafe it may or may not occur.\n",
    "\n",
    "![](Fig/fig174.PNG)\n"
   ]
  },
  {
   "cell_type": "markdown",
   "metadata": {},
   "source": [
    "\n",
    "![](Fig/fig175.PNG)\n",
    "\n",
    "![](Fig/fig176.PNG)\n",
    "\n",
    "![](Fig/fig177.PNG)\n",
    "\n",
    "When claim edge will become assign edge and if circle is formed then that resource isn't allocation allowed.\n",
    "\n",
    "![](Fig/fig178.PNG)\n",
    "\n",
    "![](Fig/fig179.PNG)"
   ]
  },
  {
   "cell_type": "markdown",
   "metadata": {},
   "source": [
    "# End of lecture!"
   ]
  }
 ],
 "metadata": {
  "kernelspec": {
   "display_name": "Python 3",
   "language": "python",
   "name": "python3"
  },
  "language_info": {
   "codemirror_mode": {
    "name": "ipython",
    "version": 3
   },
   "file_extension": ".py",
   "mimetype": "text/x-python",
   "name": "python",
   "nbconvert_exporter": "python",
   "pygments_lexer": "ipython3",
   "version": "3.8.5"
  }
 },
 "nbformat": 4,
 "nbformat_minor": 4
}