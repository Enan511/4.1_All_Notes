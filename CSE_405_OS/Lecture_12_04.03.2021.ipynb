{
 "cells": [
  {
   "cell_type": "markdown",
   "metadata": {},
   "source": [
    "<div class=\"alert alert-success\">\n",
    "    <b>Author</b>:\n",
    "\n",
    "      Rashik Rahman\n",
    "      17201012@uap-bd.edu\n",
    "\n",
    "</div>\n",
    "\n",
    "\n",
    "**[Click here to see class lecture](https://drive.google.com/file/d/1NiOMjOZz8xfW2HhUzpXb68W5utOmG5Wk/view)**"
   ]
  },
  {
   "cell_type": "markdown",
   "metadata": {},
   "source": [
    "![](Fig/fig131.PNG)"
   ]
  },
  {
   "cell_type": "markdown",
   "metadata": {},
   "source": [
    "**We'll learn about how process synchronize when they share/access the same memory.**\n",
    "\n",
    "![](Fig/fig132.PNG)\n",
    "\n",
    "To maintain data consistency we have to make sure only one process can access shared memory at a time. When A access it B can't and vice-versa.\n",
    "\n",
    "![](Fig/fig133.PNG)\n",
    "\n",
    "Producer produces and consumer consumes. When producers buffer if full then he stops producing and consumer consumes. After buffer is empty consumer stops and producer again starts producing.\n",
    "\n",
    "![](Fig/fig134.PNG)\n",
    "\n",
    "Types of buffer.\n",
    "\n",
    "![](Fig/fig135.PNG)\n",
    "\n"
   ]
  },
  {
   "cell_type": "markdown",
   "metadata": {},
   "source": []
  },
  {
   "cell_type": "markdown",
   "metadata": {},
   "source": []
  }
 ],
 "metadata": {
  "kernelspec": {
   "display_name": "Python 3",
   "language": "python",
   "name": "python3"
  },
  "language_info": {
   "codemirror_mode": {
    "name": "ipython",
    "version": 3
   },
   "file_extension": ".py",
   "mimetype": "text/x-python",
   "name": "python",
   "nbconvert_exporter": "python",
   "pygments_lexer": "ipython3",
   "version": "3.8.5"
  }
 },
 "nbformat": 4,
 "nbformat_minor": 4
}
