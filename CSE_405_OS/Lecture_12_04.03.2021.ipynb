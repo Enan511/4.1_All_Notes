{
 "cells": [
  {
   "cell_type": "markdown",
   "metadata": {},
   "source": [
    "<div class=\"alert alert-success\">\n",
    "    <b>Author</b>:\n",
    "\n",
    "      Rashik Rahman\n",
    "      17201012@uap-bd.edu\n",
    "\n",
    "</div>\n",
    "\n",
    "\n",
    "**[Click here to see class lecture](https://drive.google.com/file/d/1NiOMjOZz8xfW2HhUzpXb68W5utOmG5Wk/view)**"
   ]
  },
  {
   "cell_type": "markdown",
   "metadata": {},
   "source": [
    "![](Fig/fig131.PNG)"
   ]
  },
  {
   "cell_type": "markdown",
   "metadata": {},
   "source": [
    "**We'll learn about how process synchronize when they share/access the same memory.**\n",
    "\n",
    "![](Fig/fig132.PNG)\n",
    "\n",
    "To maintain data consistency we have to make sure only one process can access shared memory at a time. When A access it B can't and vice-versa.\n",
    "\n",
    "![](Fig/fig133.PNG)\n",
    "\n",
    "Producer produces and consumer consumes. When producers buffer if full then he stops producing and consumer consumes. After buffer is empty consumer stops and producer again starts producing.\n",
    "\n",
    "![](Fig/fig134.PNG)\n",
    "\n",
    "Types of buffer. Unbounded buffer isn't practicle due to memory limitations.\n",
    "\n",
    "![](Fig/fig135.PNG)\n",
    "\n",
    "![](Fig/fig136.PNG)\n",
    "\n",
    "![](Fig/fig137.PNG)\n",
    "\n",
    "![](Fig/fig138.PNG)\n",
    "\n"
   ]
  },
  {
   "cell_type": "markdown",
   "metadata": {},
   "source": [
    "To solve this they used a circular array.\n",
    "\n",
    "Here in variable represents what is the next empty position in the array and out variable represents what is next position that a consumer can consume from. Count variable's value is increased by one when producer produced and decreased by one when consumer consumed. Count is also used to know if buffer is full or not i.e if count==buffer stop production else continue production. If count==0 then stop consuming else continue consuming.\n",
    "\n",
    "![](Fig/fig139.PNG)\n",
    "\n",
    "Here if procuder and consumer process run parallelly then theres a prob cause count variable is shared in both and increase and decrease at the same time is a problem.\n",
    "\n",
    "![](Fig/fig140.PNG)\n",
    "\n",
    "Here when count++ and count-- happens the value should be 5 in the end but we see the value is 6,4 in the end cause of time sharing producer and consumer takes two registers to maintain count. This is inconsistency this problem is called race condition.\n",
    "\n",
    "![](Fig/fig141.PNG)\n",
    "\n",
    "![](Fig/fig142.PNG)\n",
    "\n",
    "![](Fig/fig143.PNG)"
   ]
  },
  {
   "cell_type": "markdown",
   "metadata": {},
   "source": [
    "\n",
    "\n",
    "![](Fig/fig144.PNG)\n",
    "\n",
    "Mutual Exclusion : Other process can't access a processes critical section while that process is running. Like p2 is in critical section so p3 can access critical section.\n",
    "\n",
    "Progress : When a process is done with critical section then it can't directly access it again it has to go to exit section and then again take permission from entry section to access critical section.\n",
    "\n",
    "Bounded waiting : This ensures that a process doesn't wait for eternity. Like setting a limit of when a process asks permission other 1 or 2 or 3 high priority process can access critical section before it but not more than that. Though the process asked for permission first but as these process are of higher priority thus they get access but this is limited.\n",
    "\n",
    "![](Fig/fig145.PNG)\n",
    "\n",
    "\n",
    "# Solutions \n",
    "\n",
    "Limitation of paterson's solution is it can only handle two process. Turn variable represents which processe's turn it is now. Here i wants to access critical section thus its flag is set true but before it acceessing critical section it lets j to access it first by setting turn to j. if j flag is set and turn is j then j can access it otherwise i will access it. And after done with critical section i clears its flag.\n",
    "\n",
    "![](Fig/fig146.PNG)\n",
    "\n"
   ]
  },
  {
   "cell_type": "markdown",
   "metadata": {},
   "source": [
    "# End of lecture!"
   ]
  }
 ],
 "metadata": {
  "kernelspec": {
   "display_name": "Python 3",
   "language": "python",
   "name": "python3"
  },
  "language_info": {
   "codemirror_mode": {
    "name": "ipython",
    "version": 3
   },
   "file_extension": ".py",
   "mimetype": "text/x-python",
   "name": "python",
   "nbconvert_exporter": "python",
   "pygments_lexer": "ipython3",
   "version": "3.8.5"
  }
 },
 "nbformat": 4,
 "nbformat_minor": 4
}