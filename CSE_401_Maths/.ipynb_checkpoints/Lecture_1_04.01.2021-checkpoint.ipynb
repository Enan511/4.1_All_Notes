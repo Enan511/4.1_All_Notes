{
 "cells": [
  {
   "cell_type": "markdown",
   "metadata": {},
   "source": [
    "<div class=\"alert alert-success\">\n",
    "    <b>Author</b>:\n",
    "\n",
    "      Rashik Rahman\n",
    "      17201012@uap-bd.edu\n",
    "\n",
    "</div>\n",
    "\n",
    "\n",
    "## [Click here to see class lecture](https://drive.google.com/file/d/1SqWLuD2BJcGP2WfTx_8MOxcfXYwrdLgI/view)\n"
   ]
  },
  {
   "cell_type": "markdown",
   "metadata": {},
   "source": [
    "![](Fig/fig1.PNG)\n",
    "\n",
    "In this Tower of Henoi problem there are 3 conditions. \n",
    "\n",
    "- You can only move the top element of a tower\n",
    "- At a time one disk can be moved\n",
    "- Can't place small disk on larger disk.\n",
    "\n",
    "For 2 disk we can solve this with 3 minimum moves\n",
    "\n",
    "For 3 disk we can solve this with 7 minimum moves\n",
    "\n",
    "For 4 disk we can solve this with 15 minimum moves"
   ]
  },
  {
   "cell_type": "markdown",
   "metadata": {},
   "source": []
  }
 ],
 "metadata": {
  "kernelspec": {
   "display_name": "Python 3",
   "language": "python",
   "name": "python3"
  },
  "language_info": {
   "codemirror_mode": {
    "name": "ipython",
    "version": 3
   },
   "file_extension": ".py",
   "mimetype": "text/x-python",
   "name": "python",
   "nbconvert_exporter": "python",
   "pygments_lexer": "ipython3",
   "version": "3.7.6"
  }
 },
 "nbformat": 4,
 "nbformat_minor": 4
}
