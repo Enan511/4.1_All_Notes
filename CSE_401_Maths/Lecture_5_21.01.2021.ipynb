{
 "cells": [
  {
   "cell_type": "markdown",
   "metadata": {},
   "source": [
    "<div class=\"alert alert-success\">\n",
    "    <b>Author</b>:\n",
    "\n",
    "      Rashik Rahman\n",
    "      17201012@uap-bd.edu\n",
    "\n",
    "</div>\n",
    "\n",
    "\n",
    "**[Click here to see class lecture](https://drive.google.com/file/d/1NFAlR9sJqVbLGDnbye8ZA81eeqV_2CJU/view)**"
   ]
  },
  {
   "cell_type": "markdown",
   "metadata": {},
   "source": [
    "![](Fig/fig7.PNG)\n",
    "\n",
    "We can convert gib equation to just a simple equation with the help of sum notation.\n",
    "\n",
    "![](Fig/fig8.PNG)\n",
    "\n",
    "Sigma and delimited are the same thing. But sigma is more useful.\n",
    "\n",
    "![](Fig/fig9.PNG)\n",
    "\n",
    "Here we can see that the changes is definiation is simpler in sigma notation. To formulate delimited we have to change the range and change the function but in sigma notation we just add a condition over the limit. So for sigma the function remains $k^2$. That's why sigmoid is easier. \n",
    "\n",
    "![](Fig/fig10.PNG)\n",
    "\n",
    "Here in delimited pi(N) is a loop that finds all primes<N. Then we find $1/P_k$.\n",
    "\n",
    "![](Fig/fig11.PNG)\n",
    "\n",
    "![](Fig/fig12.PNG)\n",
    "\n",
    "\n"
   ]
  },
  {
   "cell_type": "markdown",
   "metadata": {},
   "source": [
    "If the property is satisfied then the k will be added to sum.\n",
    "\n",
    "![](Fig/fig13.PNG)\n",
    "\n",
    "![](Fig/fig14.PNG)\n",
    "\n",
    "![](Fig/fig15.PNG)\n",
    "\n",
    "![](Fig/fig16.PNG)\n",
    "\n",
    "![](Fig/fig17.PNG)"
   ]
  },
  {
   "cell_type": "markdown",
   "metadata": {},
   "source": [
    "# 42min"
   ]
  },
  {
   "cell_type": "markdown",
   "metadata": {},
   "source": []
  }
 ],
 "metadata": {
  "kernelspec": {
   "display_name": "Python 3",
   "language": "python",
   "name": "python3"
  },
  "language_info": {
   "codemirror_mode": {
    "name": "ipython",
    "version": 3
   },
   "file_extension": ".py",
   "mimetype": "text/x-python",
   "name": "python",
   "nbconvert_exporter": "python",
   "pygments_lexer": "ipython3",
   "version": "3.7.6"
  }
 },
 "nbformat": 4,
 "nbformat_minor": 4
}
