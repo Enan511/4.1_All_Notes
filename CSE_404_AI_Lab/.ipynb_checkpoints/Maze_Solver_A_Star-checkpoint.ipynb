{
 "cells": [
  {
   "cell_type": "code",
   "execution_count": 1,
   "metadata": {},
   "outputs": [],
   "source": [
    "import pandas as pd\n",
    "import numpy as np\n",
    "from scipy import spatial\n",
    "from sklearn.metrics.pairwise import euclidean_distances\n",
    "from sklearn.metrics.pairwise import manhattan_distances"
   ]
  },
  {
   "cell_type": "code",
   "execution_count": 2,
   "metadata": {},
   "outputs": [],
   "source": [
    "row, col = 5, 4\n",
    "matrix = np.zeros([row, col],int)"
   ]
  },
  {
   "cell_type": "code",
   "execution_count": 3,
   "metadata": {},
   "outputs": [
    {
     "data": {
      "text/plain": [
       "array([[ 0,  0, -1,  0],\n",
       "       [ 0,  0, -1,  0],\n",
       "       [ 0,  0,  0,  0],\n",
       "       [ 0,  0,  0,  0],\n",
       "       [ 0,  0,  0,  0]])"
      ]
     },
     "execution_count": 3,
     "metadata": {},
     "output_type": "execute_result"
    }
   ],
   "source": [
    "matrix[0,2] = -1\n",
    "matrix[1,2] = -1\n",
    "matrix"
   ]
  },
  {
   "cell_type": "code",
   "execution_count": 4,
   "metadata": {},
   "outputs": [],
   "source": [
    "xs, ys = 0,0\n",
    "xd,yd = 3,4"
   ]
  },
  {
   "cell_type": "code",
   "execution_count": 5,
   "metadata": {},
   "outputs": [],
   "source": [
    "y,x = ys, xs\n",
    "cost = {}\n",
    "lock=0\n",
    "ngn=0"
   ]
  },
  {
   "cell_type": "code",
   "execution_count": 6,
   "metadata": {},
   "outputs": [],
   "source": [
    "while True:\n",
    "    \n",
    "\n",
    "    right,upper_right,down,up,down_right,left,upper_left,down_left = np.nan,np.nan,np.nan,np.nan,np.nan,np.nan,np.nan,np.nan\n",
    "\n",
    "    if (x+1<col)and(matrix[y,x]==0):\n",
    "        if matrix[y,x+1] == 0:\n",
    "            right = [y,x+1]\n",
    "\n",
    "    if (y-1>0)and(x+1<col)and(matrix[y,x]==0):\n",
    "        if matrix[y-1,x+1] == 0:\n",
    "            upper_right = [y-1,x+1]\n",
    "\n",
    "    if (y+1<row)and(x+1<col)and(matrix[y,x]==0):  \n",
    "        if matrix[y+1,x+1] == 0:\n",
    "            down_right = [y+1,x+1]\n",
    "\n",
    "    if (y-1>0)and(matrix[y,x]==0):\n",
    "        if matrix[y-1,x] == 0:\n",
    "            up = [y-1,x]\n",
    "\n",
    "    if (y+1<row)and(matrix[y,x]==0):  \n",
    "        if matrix[y+1,x] == 0:\n",
    "            down = [y+1,x]  \n",
    "\n",
    "    if (x-1>0)and(matrix[y,x]==0):\n",
    "        if matrix[y,x-1] == 0:\n",
    "            left = [y,x-1]\n",
    "\n",
    "    if (x-1>0)and(y-1>0)and(matrix[y,x]==0):\n",
    "        if matrix[y-1,x-1] == 0:\n",
    "            upper_left = [y-1,x-1]\n",
    "\n",
    "    if (x-1>0)and(y+1<row)and(matrix[y,x]==0):\n",
    "        if matrix[y+1,x-1] == 0:\n",
    "            down_left = [y+1,x-1]\n",
    "\n",
    "    # print(right,upper_right,down,up,down_right,left,upper_left,down_left)\n",
    "\n",
    "    neighbour = []\n",
    "\n",
    "    for i in [right,upper_right,down,up,down_right,left,upper_left,down_left]:\n",
    "        if i is not np.nan:\n",
    "            neighbour.append(i)\n",
    "\n",
    "    # print(neighbour)\n",
    "\n",
    "    tmp = 10000000000000000000000000000\n",
    "    ny,nx,nhn,fgn=np.nan, np.nan, np.nan,np.nan\n",
    "    \n",
    "    for i in neighbour:\n",
    "        gn = spatial.distance.euclidean([y,x], i)\n",
    "        hn = manhattan_distances([i],[[yd,xd]])[0][0]\n",
    "        fn = gn+hn\n",
    "        if fn<tmp:\n",
    "            tmp=fn\n",
    "            ny = i[0]\n",
    "            nx = i[1]\n",
    "            fgn=gn\n",
    "            nhn = hn\n",
    "\n",
    "\n",
    "    ngn+=fgn # As we are summing up parent gn with current gn and putting it on current node cost. We could have also done individual cost then sum them in the end but as per \n",
    "            # algorithm current node cost has to be the sum of parent node cost and it's gn.\n",
    "    matrix[y,x]=-1\n",
    "#     print(y,x)\n",
    "    y,x=int(ny),int(nx)\n",
    "    \n",
    "    if lock == 1:\n",
    "        cost[(y,x)] = ngn+nhn\n",
    "#         print(cost)\n",
    "        break\n",
    "    else:\n",
    "        cost[(y,x)] = ngn\n",
    "\n",
    "    if (y == yd)or(x==xd):\n",
    "        lock = 1\n",
    "#         break\n"
   ]
  },
  {
   "cell_type": "code",
   "execution_count": 7,
   "metadata": {},
   "outputs": [
    {
     "data": {
      "text/plain": [
       "{(1, 1): 1.4142135623730951,\n",
       " (2, 2): 2.8284271247461903,\n",
       " (3, 3): 4.242640687119286,\n",
       " (4, 3): 5.242640687119286}"
      ]
     },
     "execution_count": 7,
     "metadata": {},
     "output_type": "execute_result"
    }
   ],
   "source": [
    "cost"
   ]
  },
  {
   "cell_type": "code",
   "execution_count": 8,
   "metadata": {},
   "outputs": [
    {
     "name": "stdout",
     "output_type": "stream",
     "text": [
      "Path cost is, F(n) = 5.242640687119286\n"
     ]
    }
   ],
   "source": [
    "print('Path cost is, F(n) =',cost[yd,xd])"
   ]
  },
  {
   "cell_type": "markdown",
   "metadata": {},
   "source": [
    "# Reference:\n",
    "---\n",
    "\n",
    "[Rahman, Rashik, Tanmoy Pias and Tanjina Helaly. “GGCS: A Greedy Graph-Based Character Segmentation System for Bangladeshi License Plate.” 2020 4th International Symposium on Multidisciplinary Studies and Innovative Technologies (ISMSIT) (2020): 1-7.](https://www.researchgate.net/publication/346029492_GGCS_A_Greedy_Graph-Based_Character_Segmentation_System_for_Bangladeshi_License_Plate)"
   ]
  }
 ],
 "metadata": {
  "kernelspec": {
   "display_name": "Python 3",
   "language": "python",
   "name": "python3"
  },
  "language_info": {
   "codemirror_mode": {
    "name": "ipython",
    "version": 3
   },
   "file_extension": ".py",
   "mimetype": "text/x-python",
   "name": "python",
   "nbconvert_exporter": "python",
   "pygments_lexer": "ipython3",
   "version": "3.8.5"
  }
 },
 "nbformat": 4,
 "nbformat_minor": 4
}
