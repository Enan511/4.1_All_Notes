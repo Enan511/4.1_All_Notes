{
 "cells": [
  {
   "cell_type": "markdown",
   "metadata": {},
   "source": [
    "<div class=\"alert alert-success\">\n",
    "    <b>Author</b>:\n",
    "\n",
    "      Rashik Rahman\n",
    "      17201012@uap-bd.edu\n",
    "\n",
    "</div>\n",
    "\n",
    "**[Click here to see class lecture](https://drive.google.com/file/d/17jr7Lyo1RuYaLCyq4aOdQ7uPaPNyP1nn/view)**\n"
   ]
  },
  {
   "cell_type": "markdown",
   "metadata": {},
   "source": [
    "![Imgur](https://i.imgur.com/TwAIPZh.png)\n",
    "\n",
    "# Inputs\n",
    "\n",
    "## Fromat : parent, child, g(n), h(n) of child\n",
    "\n",
    "A B 6 8\n",
    "\n",
    "A F 3 6\n",
    "\n",
    "B C 3 5\n",
    "\n",
    "B D 2 7\n",
    "\n",
    "C D 1 7\n",
    "\n",
    "D C 1 5\n",
    "\n",
    "C E 5 3\n",
    "\n",
    "D E 8 3\n",
    "\n",
    "F G 1 5\n",
    "\n",
    "F H 7 3\n",
    "\n",
    "G I 3 1\n",
    "\n",
    "H I 2 1\n",
    "\n",
    "E I 5 1\n",
    "\n",
    "E J 5 0\n",
    "\n",
    "I E 5 3\n",
    "\n",
    "I J 3 0\n",
    "\n",
    "END"
   ]
  },
  {
   "cell_type": "code",
   "execution_count": 1,
   "metadata": {},
   "outputs": [],
   "source": [
    "import pandas as pd\n",
    "pd.set_option('mode.chained_assignment', None)"
   ]
  },
  {
   "cell_type": "markdown",
   "metadata": {},
   "source": [
    "## Manually taking inputs"
   ]
  },
  {
   "cell_type": "code",
   "execution_count": 1,
   "metadata": {},
   "outputs": [
    {
     "name": "stdin",
     "output_type": "stream",
     "text": [
      "Enter parent, child, g(n), h(n) A B 6 8\n",
      "Enter parent, child, g(n), h(n) A F 3 6\n",
      "Enter parent, child, g(n), h(n) B C 3 5\n",
      "Enter parent, child, g(n), h(n) B D 2 7\n",
      "Enter parent, child, g(n), h(n) C D 1 7\n",
      "Enter parent, child, g(n), h(n) D C 1 5\n",
      "Enter parent, child, g(n), h(n) C E 5 3\n",
      "Enter parent, child, g(n), h(n) D E 8 3\n",
      "Enter parent, child, g(n), h(n) F G 1 5\n",
      "Enter parent, child, g(n), h(n) F H 7 3\n",
      "Enter parent, child, g(n), h(n) G I 3 1\n",
      "Enter parent, child, g(n), h(n) H I 2 1\n",
      "Enter parent, child, g(n), h(n) E I 5 1\n",
      "Enter parent, child, g(n), h(n) E J 5 0\n",
      "Enter parent, child, g(n), h(n) I E 5 3\n",
      "Enter parent, child, g(n), h(n) I J 3 0\n",
      "Enter parent, child, g(n), h(n) END\n"
     ]
    }
   ],
   "source": [
    "\n",
    "\n",
    "df = pd.DataFrame()\n",
    "while True:\n",
    "    state = input('Enter parent, child, g(n), h(n)')\n",
    "    if state.split()[0].lower()=='end':\n",
    "        break\n",
    "    df = df.append([state.split()])"
   ]
  },
  {
   "cell_type": "markdown",
   "metadata": {},
   "source": [
    "## The following code block will take direct input from github for the given graph above. So no need to manually take inputs for this given scenario."
   ]
  },
  {
   "cell_type": "code",
   "execution_count": 2,
   "metadata": {},
   "outputs": [
    {
     "data": {
      "text/html": [
       "<div>\n",
       "<style scoped>\n",
       "    .dataframe tbody tr th:only-of-type {\n",
       "        vertical-align: middle;\n",
       "    }\n",
       "\n",
       "    .dataframe tbody tr th {\n",
       "        vertical-align: top;\n",
       "    }\n",
       "\n",
       "    .dataframe thead th {\n",
       "        text-align: right;\n",
       "    }\n",
       "</style>\n",
       "<table border=\"1\" class=\"dataframe\">\n",
       "  <thead>\n",
       "    <tr style=\"text-align: right;\">\n",
       "      <th></th>\n",
       "      <th>0</th>\n",
       "      <th>1</th>\n",
       "      <th>2</th>\n",
       "      <th>3</th>\n",
       "    </tr>\n",
       "  </thead>\n",
       "  <tbody>\n",
       "    <tr>\n",
       "      <th>0</th>\n",
       "      <td>A</td>\n",
       "      <td>B</td>\n",
       "      <td>6</td>\n",
       "      <td>8</td>\n",
       "    </tr>\n",
       "    <tr>\n",
       "      <th>1</th>\n",
       "      <td>A</td>\n",
       "      <td>F</td>\n",
       "      <td>3</td>\n",
       "      <td>6</td>\n",
       "    </tr>\n",
       "    <tr>\n",
       "      <th>2</th>\n",
       "      <td>B</td>\n",
       "      <td>C</td>\n",
       "      <td>3</td>\n",
       "      <td>5</td>\n",
       "    </tr>\n",
       "    <tr>\n",
       "      <th>3</th>\n",
       "      <td>B</td>\n",
       "      <td>D</td>\n",
       "      <td>2</td>\n",
       "      <td>7</td>\n",
       "    </tr>\n",
       "    <tr>\n",
       "      <th>4</th>\n",
       "      <td>C</td>\n",
       "      <td>D</td>\n",
       "      <td>1</td>\n",
       "      <td>7</td>\n",
       "    </tr>\n",
       "    <tr>\n",
       "      <th>5</th>\n",
       "      <td>D</td>\n",
       "      <td>C</td>\n",
       "      <td>1</td>\n",
       "      <td>5</td>\n",
       "    </tr>\n",
       "    <tr>\n",
       "      <th>6</th>\n",
       "      <td>C</td>\n",
       "      <td>E</td>\n",
       "      <td>5</td>\n",
       "      <td>3</td>\n",
       "    </tr>\n",
       "    <tr>\n",
       "      <th>7</th>\n",
       "      <td>D</td>\n",
       "      <td>E</td>\n",
       "      <td>8</td>\n",
       "      <td>3</td>\n",
       "    </tr>\n",
       "    <tr>\n",
       "      <th>8</th>\n",
       "      <td>F</td>\n",
       "      <td>G</td>\n",
       "      <td>1</td>\n",
       "      <td>5</td>\n",
       "    </tr>\n",
       "    <tr>\n",
       "      <th>9</th>\n",
       "      <td>F</td>\n",
       "      <td>H</td>\n",
       "      <td>7</td>\n",
       "      <td>3</td>\n",
       "    </tr>\n",
       "    <tr>\n",
       "      <th>10</th>\n",
       "      <td>G</td>\n",
       "      <td>I</td>\n",
       "      <td>3</td>\n",
       "      <td>1</td>\n",
       "    </tr>\n",
       "    <tr>\n",
       "      <th>11</th>\n",
       "      <td>H</td>\n",
       "      <td>I</td>\n",
       "      <td>2</td>\n",
       "      <td>1</td>\n",
       "    </tr>\n",
       "    <tr>\n",
       "      <th>12</th>\n",
       "      <td>E</td>\n",
       "      <td>I</td>\n",
       "      <td>5</td>\n",
       "      <td>1</td>\n",
       "    </tr>\n",
       "    <tr>\n",
       "      <th>13</th>\n",
       "      <td>E</td>\n",
       "      <td>J</td>\n",
       "      <td>5</td>\n",
       "      <td>0</td>\n",
       "    </tr>\n",
       "    <tr>\n",
       "      <th>14</th>\n",
       "      <td>I</td>\n",
       "      <td>E</td>\n",
       "      <td>5</td>\n",
       "      <td>3</td>\n",
       "    </tr>\n",
       "    <tr>\n",
       "      <th>15</th>\n",
       "      <td>I</td>\n",
       "      <td>J</td>\n",
       "      <td>3</td>\n",
       "      <td>0</td>\n",
       "    </tr>\n",
       "  </tbody>\n",
       "</table>\n",
       "</div>"
      ],
      "text/plain": [
       "    0  1  2  3\n",
       "0   A  B  6  8\n",
       "1   A  F  3  6\n",
       "2   B  C  3  5\n",
       "3   B  D  2  7\n",
       "4   C  D  1  7\n",
       "5   D  C  1  5\n",
       "6   C  E  5  3\n",
       "7   D  E  8  3\n",
       "8   F  G  1  5\n",
       "9   F  H  7  3\n",
       "10  G  I  3  1\n",
       "11  H  I  2  1\n",
       "12  E  I  5  1\n",
       "13  E  J  5  0\n",
       "14  I  E  5  3\n",
       "15  I  J  3  0"
      ]
     },
     "execution_count": 2,
     "metadata": {},
     "output_type": "execute_result"
    }
   ],
   "source": [
    "df = pd.read_csv('https://raw.githubusercontent.com/RashikRahman/4.1_All_Notes/main/CSE_404_AI_Lab/input_data.csv?token=ANTI6EH2YPNIRYMRURQFRWTADROWW')\n",
    "df"
   ]
  },
  {
   "cell_type": "code",
   "execution_count": 3,
   "metadata": {},
   "outputs": [
    {
     "name": "stdin",
     "output_type": "stream",
     "text": [
      "Give Start State a\n",
      "Give Goal State j\n"
     ]
    }
   ],
   "source": [
    "header = input('Give Start State').upper()\n",
    "goal = input('Give Goal State').upper()"
   ]
  },
  {
   "cell_type": "code",
   "execution_count": 4,
   "metadata": {},
   "outputs": [
    {
     "data": {
      "text/plain": [
       "('A', 'J')"
      ]
     },
     "execution_count": 4,
     "metadata": {},
     "output_type": "execute_result"
    }
   ],
   "source": [
    "header,goal"
   ]
  },
  {
   "cell_type": "code",
   "execution_count": 5,
   "metadata": {},
   "outputs": [
    {
     "data": {
      "text/html": [
       "<div>\n",
       "<style scoped>\n",
       "    .dataframe tbody tr th:only-of-type {\n",
       "        vertical-align: middle;\n",
       "    }\n",
       "\n",
       "    .dataframe tbody tr th {\n",
       "        vertical-align: top;\n",
       "    }\n",
       "\n",
       "    .dataframe thead th {\n",
       "        text-align: right;\n",
       "    }\n",
       "</style>\n",
       "<table border=\"1\" class=\"dataframe\">\n",
       "  <thead>\n",
       "    <tr style=\"text-align: right;\">\n",
       "      <th></th>\n",
       "      <th>Parent</th>\n",
       "      <th>Child</th>\n",
       "      <th>g(n)</th>\n",
       "      <th>h(n)</th>\n",
       "    </tr>\n",
       "  </thead>\n",
       "  <tbody>\n",
       "    <tr>\n",
       "      <th>0</th>\n",
       "      <td>A</td>\n",
       "      <td>B</td>\n",
       "      <td>6</td>\n",
       "      <td>8</td>\n",
       "    </tr>\n",
       "    <tr>\n",
       "      <th>1</th>\n",
       "      <td>A</td>\n",
       "      <td>F</td>\n",
       "      <td>3</td>\n",
       "      <td>6</td>\n",
       "    </tr>\n",
       "    <tr>\n",
       "      <th>2</th>\n",
       "      <td>B</td>\n",
       "      <td>C</td>\n",
       "      <td>3</td>\n",
       "      <td>5</td>\n",
       "    </tr>\n",
       "    <tr>\n",
       "      <th>3</th>\n",
       "      <td>B</td>\n",
       "      <td>D</td>\n",
       "      <td>2</td>\n",
       "      <td>7</td>\n",
       "    </tr>\n",
       "    <tr>\n",
       "      <th>4</th>\n",
       "      <td>C</td>\n",
       "      <td>D</td>\n",
       "      <td>1</td>\n",
       "      <td>7</td>\n",
       "    </tr>\n",
       "    <tr>\n",
       "      <th>5</th>\n",
       "      <td>D</td>\n",
       "      <td>C</td>\n",
       "      <td>1</td>\n",
       "      <td>5</td>\n",
       "    </tr>\n",
       "    <tr>\n",
       "      <th>6</th>\n",
       "      <td>C</td>\n",
       "      <td>E</td>\n",
       "      <td>5</td>\n",
       "      <td>3</td>\n",
       "    </tr>\n",
       "    <tr>\n",
       "      <th>7</th>\n",
       "      <td>D</td>\n",
       "      <td>E</td>\n",
       "      <td>8</td>\n",
       "      <td>3</td>\n",
       "    </tr>\n",
       "    <tr>\n",
       "      <th>8</th>\n",
       "      <td>F</td>\n",
       "      <td>G</td>\n",
       "      <td>1</td>\n",
       "      <td>5</td>\n",
       "    </tr>\n",
       "    <tr>\n",
       "      <th>9</th>\n",
       "      <td>F</td>\n",
       "      <td>H</td>\n",
       "      <td>7</td>\n",
       "      <td>3</td>\n",
       "    </tr>\n",
       "    <tr>\n",
       "      <th>10</th>\n",
       "      <td>G</td>\n",
       "      <td>I</td>\n",
       "      <td>3</td>\n",
       "      <td>1</td>\n",
       "    </tr>\n",
       "    <tr>\n",
       "      <th>11</th>\n",
       "      <td>H</td>\n",
       "      <td>I</td>\n",
       "      <td>2</td>\n",
       "      <td>1</td>\n",
       "    </tr>\n",
       "    <tr>\n",
       "      <th>12</th>\n",
       "      <td>E</td>\n",
       "      <td>I</td>\n",
       "      <td>5</td>\n",
       "      <td>1</td>\n",
       "    </tr>\n",
       "    <tr>\n",
       "      <th>13</th>\n",
       "      <td>E</td>\n",
       "      <td>J</td>\n",
       "      <td>5</td>\n",
       "      <td>0</td>\n",
       "    </tr>\n",
       "    <tr>\n",
       "      <th>14</th>\n",
       "      <td>I</td>\n",
       "      <td>E</td>\n",
       "      <td>5</td>\n",
       "      <td>3</td>\n",
       "    </tr>\n",
       "    <tr>\n",
       "      <th>15</th>\n",
       "      <td>I</td>\n",
       "      <td>J</td>\n",
       "      <td>3</td>\n",
       "      <td>0</td>\n",
       "    </tr>\n",
       "  </tbody>\n",
       "</table>\n",
       "</div>"
      ],
      "text/plain": [
       "   Parent Child  g(n)  h(n)\n",
       "0       A     B     6     8\n",
       "1       A     F     3     6\n",
       "2       B     C     3     5\n",
       "3       B     D     2     7\n",
       "4       C     D     1     7\n",
       "5       D     C     1     5\n",
       "6       C     E     5     3\n",
       "7       D     E     8     3\n",
       "8       F     G     1     5\n",
       "9       F     H     7     3\n",
       "10      G     I     3     1\n",
       "11      H     I     2     1\n",
       "12      E     I     5     1\n",
       "13      E     J     5     0\n",
       "14      I     E     5     3\n",
       "15      I     J     3     0"
      ]
     },
     "execution_count": 5,
     "metadata": {},
     "output_type": "execute_result"
    }
   ],
   "source": [
    "df.columns = ['Parent', 'Child', 'g(n)', 'h(n)']\n",
    "df"
   ]
  },
  {
   "cell_type": "code",
   "execution_count": 6,
   "metadata": {},
   "outputs": [
    {
     "data": {
      "text/plain": [
       "(16, 4)"
      ]
     },
     "execution_count": 6,
     "metadata": {},
     "output_type": "execute_result"
    }
   ],
   "source": [
    "df.shape"
   ]
  },
  {
   "cell_type": "code",
   "execution_count": 7,
   "metadata": {},
   "outputs": [],
   "source": [
    "df['g(n)'] = df['g(n)'].astype('int32') \n",
    "df['h(n)'] = df['h(n)'].astype('int32') \n",
    "path = [header]\n",
    "sdf = df.copy()"
   ]
  },
  {
   "cell_type": "code",
   "execution_count": 8,
   "metadata": {},
   "outputs": [],
   "source": [
    "path_cost = 0\n",
    "while True:\n",
    "    if header==goal:\n",
    "        break\n",
    "    sd = sdf[sdf.Parent==header]\n",
    "    sd['cost']=sd[['g(n)','h(n)']].sum(axis=1)\n",
    "    sd=sd.sort_values(by='cost',ascending=True).reset_index()\n",
    "    header = sd.loc[0].Child\n",
    "    path_cost+=sd.loc[0]['g(n)']#.value\n",
    "    path.append(header)"
   ]
  },
  {
   "cell_type": "code",
   "execution_count": 9,
   "metadata": {},
   "outputs": [
    {
     "name": "stdout",
     "output_type": "stream",
     "text": [
      "Shortes path  ['A', 'F', 'G', 'I', 'J']\n"
     ]
    }
   ],
   "source": [
    "print('Shortes path ',path)"
   ]
  },
  {
   "cell_type": "code",
   "execution_count": 10,
   "metadata": {},
   "outputs": [
    {
     "name": "stdout",
     "output_type": "stream",
     "text": [
      "Total path cost is  10\n"
     ]
    }
   ],
   "source": [
    "print('Total path cost is ',path_cost+list(sdf[sdf['Child']==goal]['h(n)'])[0])"
   ]
  },
  {
   "cell_type": "code",
   "execution_count": 11,
   "metadata": {},
   "outputs": [
    {
     "name": "stdout",
     "output_type": "stream",
     "text": [
      "   Current Next  Gn  Hn\n",
      "0        A    B   6   8\n",
      "1        A    F   3   6\n",
      "2        B    C   3   5\n",
      "3        B    D   2   7\n",
      "4        C    D   1   7\n",
      "5        D    C   1   5\n",
      "6        C    E   5   3\n",
      "7        D    E   8   3\n",
      "8        F    G   1   5\n",
      "9        F    H   7   3\n",
      "10       G    I   3   1\n",
      "11       H    I   2   1\n",
      "12       E    I   5   1\n",
      "13       E    J   5   0\n",
      "14       I    E   5   3\n",
      "15       I    J   3   0\n",
      "The shortest path is ['A', 'F', 'G', 'I', 'J'] and the cost of it is  10\n"
     ]
    }
   ],
   "source": [
    "import pandas as pd\n",
    "\n",
    "def solve(df, start, end):\n",
    "    df.apply(pd.to_numeric, errors='ignore')\n",
    "    total_cost = 0 \n",
    "    shortest_path = [start]\n",
    "    for _ in iter(int, 1):\n",
    "        if start==end:\n",
    "            break\n",
    "        df2 = df[df.Current==start]\n",
    "        df2['Fn'] = df2.Gn+df2.Hn\n",
    "        df2=df2.sort_values(by='Fn',ascending=True).reset_index()\n",
    "        start = df2.iloc[:1].Next.values[0]\n",
    "        total_cost+=df2.iloc[:1].Gn.values[0]\n",
    "        shortest_path.append(start)\n",
    "    print('The shortest path is {} and the cost of it is  {}'.format(shortest_path, total_cost))\n",
    "\n",
    "\n",
    "\n",
    "\n",
    "if __name__ == '__main__':\n",
    "    path = './graph_inputs.txt' \n",
    "    df = pd.read_csv(path, sep=\" \", header=None)\n",
    "    df.columns = ['Current','Next','Gn','Hn']\n",
    "    start, end = 'A','J'\n",
    "    print(df)\n",
    "    pd.set_option('mode.chained_assignment', None)  #switching off the warnings.\n",
    "    solve(df,start,end)"
   ]
  }
 ],
 "metadata": {
  "kernelspec": {
   "display_name": "Python 3",
   "language": "python",
   "name": "python3"
  },
  "language_info": {
   "codemirror_mode": {
    "name": "ipython",
    "version": 3
   },
   "file_extension": ".py",
   "mimetype": "text/x-python",
   "name": "python",
   "nbconvert_exporter": "python",
   "pygments_lexer": "ipython3",
   "version": "3.8.5"
  }
 },
 "nbformat": 4,
 "nbformat_minor": 4
}
