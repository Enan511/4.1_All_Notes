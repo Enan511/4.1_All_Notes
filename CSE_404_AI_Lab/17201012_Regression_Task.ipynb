{
 "cells": [
  {
   "cell_type": "markdown",
   "metadata": {},
   "source": [
    "# Load & Prep Data"
   ]
  },
  {
   "cell_type": "code",
   "execution_count": 1,
   "metadata": {},
   "outputs": [],
   "source": [
    "from sklearn.datasets import load_boston\n",
    "import pandas as pd \n",
    "import numpy as np\n",
    "\n",
    "boston = load_boston()"
   ]
  },
  {
   "cell_type": "code",
   "execution_count": 2,
   "metadata": {},
   "outputs": [
    {
     "data": {
      "text/plain": [
       "array(['CRIM', 'ZN', 'INDUS', 'CHAS', 'NOX', 'RM', 'AGE', 'DIS', 'RAD',\n",
       "       'TAX', 'PTRATIO', 'B', 'LSTAT'], dtype='<U7')"
      ]
     },
     "execution_count": 2,
     "metadata": {},
     "output_type": "execute_result"
    }
   ],
   "source": [
    "boston.feature_names"
   ]
  },
  {
   "cell_type": "code",
   "execution_count": 3,
   "metadata": {},
   "outputs": [
    {
     "data": {
      "text/plain": [
       "array([6.320e-03, 1.800e+01, 2.310e+00, 0.000e+00, 5.380e-01, 6.575e+00,\n",
       "       6.520e+01, 4.090e+00, 1.000e+00, 2.960e+02, 1.530e+01, 3.969e+02,\n",
       "       4.980e+00])"
      ]
     },
     "execution_count": 3,
     "metadata": {},
     "output_type": "execute_result"
    }
   ],
   "source": [
    "boston.data[0]"
   ]
  },
  {
   "cell_type": "code",
   "execution_count": 4,
   "metadata": {},
   "outputs": [
    {
     "data": {
      "text/plain": [
       "24.0"
      ]
     },
     "execution_count": 4,
     "metadata": {},
     "output_type": "execute_result"
    }
   ],
   "source": [
    "boston.target[0]"
   ]
  },
  {
   "cell_type": "code",
   "execution_count": 5,
   "metadata": {},
   "outputs": [],
   "source": [
    "X = boston.data\n",
    "y = boston.target"
   ]
  },
  {
   "cell_type": "code",
   "execution_count": 6,
   "metadata": {},
   "outputs": [
    {
     "data": {
      "text/plain": [
       "(506, 13)"
      ]
     },
     "execution_count": 6,
     "metadata": {},
     "output_type": "execute_result"
    }
   ],
   "source": [
    "X.shape"
   ]
  },
  {
   "cell_type": "code",
   "execution_count": 7,
   "metadata": {},
   "outputs": [
    {
     "data": {
      "text/html": [
       "<div>\n",
       "<style scoped>\n",
       "    .dataframe tbody tr th:only-of-type {\n",
       "        vertical-align: middle;\n",
       "    }\n",
       "\n",
       "    .dataframe tbody tr th {\n",
       "        vertical-align: top;\n",
       "    }\n",
       "\n",
       "    .dataframe thead th {\n",
       "        text-align: right;\n",
       "    }\n",
       "</style>\n",
       "<table border=\"1\" class=\"dataframe\">\n",
       "  <thead>\n",
       "    <tr style=\"text-align: right;\">\n",
       "      <th></th>\n",
       "      <th>0</th>\n",
       "      <th>1</th>\n",
       "      <th>2</th>\n",
       "      <th>3</th>\n",
       "      <th>4</th>\n",
       "      <th>5</th>\n",
       "      <th>6</th>\n",
       "      <th>7</th>\n",
       "      <th>8</th>\n",
       "      <th>9</th>\n",
       "      <th>10</th>\n",
       "      <th>11</th>\n",
       "      <th>12</th>\n",
       "    </tr>\n",
       "  </thead>\n",
       "  <tbody>\n",
       "    <tr>\n",
       "      <th>count</th>\n",
       "      <td>506.000000</td>\n",
       "      <td>506.000000</td>\n",
       "      <td>506.000000</td>\n",
       "      <td>506.000000</td>\n",
       "      <td>506.000000</td>\n",
       "      <td>506.000000</td>\n",
       "      <td>506.000000</td>\n",
       "      <td>506.000000</td>\n",
       "      <td>506.000000</td>\n",
       "      <td>506.000000</td>\n",
       "      <td>506.000000</td>\n",
       "      <td>506.000000</td>\n",
       "      <td>506.000000</td>\n",
       "    </tr>\n",
       "    <tr>\n",
       "      <th>mean</th>\n",
       "      <td>3.613524</td>\n",
       "      <td>11.363636</td>\n",
       "      <td>11.136779</td>\n",
       "      <td>0.069170</td>\n",
       "      <td>0.554695</td>\n",
       "      <td>6.284634</td>\n",
       "      <td>68.574901</td>\n",
       "      <td>3.795043</td>\n",
       "      <td>9.549407</td>\n",
       "      <td>408.237154</td>\n",
       "      <td>18.455534</td>\n",
       "      <td>356.674032</td>\n",
       "      <td>12.653063</td>\n",
       "    </tr>\n",
       "    <tr>\n",
       "      <th>std</th>\n",
       "      <td>8.601545</td>\n",
       "      <td>23.322453</td>\n",
       "      <td>6.860353</td>\n",
       "      <td>0.253994</td>\n",
       "      <td>0.115878</td>\n",
       "      <td>0.702617</td>\n",
       "      <td>28.148861</td>\n",
       "      <td>2.105710</td>\n",
       "      <td>8.707259</td>\n",
       "      <td>168.537116</td>\n",
       "      <td>2.164946</td>\n",
       "      <td>91.294864</td>\n",
       "      <td>7.141062</td>\n",
       "    </tr>\n",
       "    <tr>\n",
       "      <th>min</th>\n",
       "      <td>0.006320</td>\n",
       "      <td>0.000000</td>\n",
       "      <td>0.460000</td>\n",
       "      <td>0.000000</td>\n",
       "      <td>0.385000</td>\n",
       "      <td>3.561000</td>\n",
       "      <td>2.900000</td>\n",
       "      <td>1.129600</td>\n",
       "      <td>1.000000</td>\n",
       "      <td>187.000000</td>\n",
       "      <td>12.600000</td>\n",
       "      <td>0.320000</td>\n",
       "      <td>1.730000</td>\n",
       "    </tr>\n",
       "    <tr>\n",
       "      <th>25%</th>\n",
       "      <td>0.082045</td>\n",
       "      <td>0.000000</td>\n",
       "      <td>5.190000</td>\n",
       "      <td>0.000000</td>\n",
       "      <td>0.449000</td>\n",
       "      <td>5.885500</td>\n",
       "      <td>45.025000</td>\n",
       "      <td>2.100175</td>\n",
       "      <td>4.000000</td>\n",
       "      <td>279.000000</td>\n",
       "      <td>17.400000</td>\n",
       "      <td>375.377500</td>\n",
       "      <td>6.950000</td>\n",
       "    </tr>\n",
       "    <tr>\n",
       "      <th>50%</th>\n",
       "      <td>0.256510</td>\n",
       "      <td>0.000000</td>\n",
       "      <td>9.690000</td>\n",
       "      <td>0.000000</td>\n",
       "      <td>0.538000</td>\n",
       "      <td>6.208500</td>\n",
       "      <td>77.500000</td>\n",
       "      <td>3.207450</td>\n",
       "      <td>5.000000</td>\n",
       "      <td>330.000000</td>\n",
       "      <td>19.050000</td>\n",
       "      <td>391.440000</td>\n",
       "      <td>11.360000</td>\n",
       "    </tr>\n",
       "    <tr>\n",
       "      <th>75%</th>\n",
       "      <td>3.677083</td>\n",
       "      <td>12.500000</td>\n",
       "      <td>18.100000</td>\n",
       "      <td>0.000000</td>\n",
       "      <td>0.624000</td>\n",
       "      <td>6.623500</td>\n",
       "      <td>94.075000</td>\n",
       "      <td>5.188425</td>\n",
       "      <td>24.000000</td>\n",
       "      <td>666.000000</td>\n",
       "      <td>20.200000</td>\n",
       "      <td>396.225000</td>\n",
       "      <td>16.955000</td>\n",
       "    </tr>\n",
       "    <tr>\n",
       "      <th>max</th>\n",
       "      <td>88.976200</td>\n",
       "      <td>100.000000</td>\n",
       "      <td>27.740000</td>\n",
       "      <td>1.000000</td>\n",
       "      <td>0.871000</td>\n",
       "      <td>8.780000</td>\n",
       "      <td>100.000000</td>\n",
       "      <td>12.126500</td>\n",
       "      <td>24.000000</td>\n",
       "      <td>711.000000</td>\n",
       "      <td>22.000000</td>\n",
       "      <td>396.900000</td>\n",
       "      <td>37.970000</td>\n",
       "    </tr>\n",
       "  </tbody>\n",
       "</table>\n",
       "</div>"
      ],
      "text/plain": [
       "               0           1           2           3           4           5   \\\n",
       "count  506.000000  506.000000  506.000000  506.000000  506.000000  506.000000   \n",
       "mean     3.613524   11.363636   11.136779    0.069170    0.554695    6.284634   \n",
       "std      8.601545   23.322453    6.860353    0.253994    0.115878    0.702617   \n",
       "min      0.006320    0.000000    0.460000    0.000000    0.385000    3.561000   \n",
       "25%      0.082045    0.000000    5.190000    0.000000    0.449000    5.885500   \n",
       "50%      0.256510    0.000000    9.690000    0.000000    0.538000    6.208500   \n",
       "75%      3.677083   12.500000   18.100000    0.000000    0.624000    6.623500   \n",
       "max     88.976200  100.000000   27.740000    1.000000    0.871000    8.780000   \n",
       "\n",
       "               6           7           8           9           10          11  \\\n",
       "count  506.000000  506.000000  506.000000  506.000000  506.000000  506.000000   \n",
       "mean    68.574901    3.795043    9.549407  408.237154   18.455534  356.674032   \n",
       "std     28.148861    2.105710    8.707259  168.537116    2.164946   91.294864   \n",
       "min      2.900000    1.129600    1.000000  187.000000   12.600000    0.320000   \n",
       "25%     45.025000    2.100175    4.000000  279.000000   17.400000  375.377500   \n",
       "50%     77.500000    3.207450    5.000000  330.000000   19.050000  391.440000   \n",
       "75%     94.075000    5.188425   24.000000  666.000000   20.200000  396.225000   \n",
       "max    100.000000   12.126500   24.000000  711.000000   22.000000  396.900000   \n",
       "\n",
       "               12  \n",
       "count  506.000000  \n",
       "mean    12.653063  \n",
       "std      7.141062  \n",
       "min      1.730000  \n",
       "25%      6.950000  \n",
       "50%     11.360000  \n",
       "75%     16.955000  \n",
       "max     37.970000  "
      ]
     },
     "execution_count": 7,
     "metadata": {},
     "output_type": "execute_result"
    }
   ],
   "source": [
    "df = pd.DataFrame(X)\n",
    "df.describe()"
   ]
  },
  {
   "cell_type": "code",
   "execution_count": 8,
   "metadata": {},
   "outputs": [
    {
     "data": {
      "text/html": [
       "<div>\n",
       "<style scoped>\n",
       "    .dataframe tbody tr th:only-of-type {\n",
       "        vertical-align: middle;\n",
       "    }\n",
       "\n",
       "    .dataframe tbody tr th {\n",
       "        vertical-align: top;\n",
       "    }\n",
       "\n",
       "    .dataframe thead th {\n",
       "        text-align: right;\n",
       "    }\n",
       "</style>\n",
       "<table border=\"1\" class=\"dataframe\">\n",
       "  <thead>\n",
       "    <tr style=\"text-align: right;\">\n",
       "      <th></th>\n",
       "      <th>0</th>\n",
       "      <th>1</th>\n",
       "      <th>2</th>\n",
       "      <th>3</th>\n",
       "      <th>4</th>\n",
       "      <th>5</th>\n",
       "      <th>6</th>\n",
       "      <th>7</th>\n",
       "      <th>8</th>\n",
       "      <th>9</th>\n",
       "      <th>10</th>\n",
       "      <th>11</th>\n",
       "      <th>12</th>\n",
       "      <th>y</th>\n",
       "    </tr>\n",
       "  </thead>\n",
       "  <tbody>\n",
       "    <tr>\n",
       "      <th>0</th>\n",
       "      <td>0.00632</td>\n",
       "      <td>18.0</td>\n",
       "      <td>2.31</td>\n",
       "      <td>0.0</td>\n",
       "      <td>0.538</td>\n",
       "      <td>6.575</td>\n",
       "      <td>65.2</td>\n",
       "      <td>4.0900</td>\n",
       "      <td>1.0</td>\n",
       "      <td>296.0</td>\n",
       "      <td>15.3</td>\n",
       "      <td>396.90</td>\n",
       "      <td>4.98</td>\n",
       "      <td>24.0</td>\n",
       "    </tr>\n",
       "    <tr>\n",
       "      <th>1</th>\n",
       "      <td>0.02731</td>\n",
       "      <td>0.0</td>\n",
       "      <td>7.07</td>\n",
       "      <td>0.0</td>\n",
       "      <td>0.469</td>\n",
       "      <td>6.421</td>\n",
       "      <td>78.9</td>\n",
       "      <td>4.9671</td>\n",
       "      <td>2.0</td>\n",
       "      <td>242.0</td>\n",
       "      <td>17.8</td>\n",
       "      <td>396.90</td>\n",
       "      <td>9.14</td>\n",
       "      <td>21.6</td>\n",
       "    </tr>\n",
       "    <tr>\n",
       "      <th>2</th>\n",
       "      <td>0.02729</td>\n",
       "      <td>0.0</td>\n",
       "      <td>7.07</td>\n",
       "      <td>0.0</td>\n",
       "      <td>0.469</td>\n",
       "      <td>7.185</td>\n",
       "      <td>61.1</td>\n",
       "      <td>4.9671</td>\n",
       "      <td>2.0</td>\n",
       "      <td>242.0</td>\n",
       "      <td>17.8</td>\n",
       "      <td>392.83</td>\n",
       "      <td>4.03</td>\n",
       "      <td>34.7</td>\n",
       "    </tr>\n",
       "    <tr>\n",
       "      <th>3</th>\n",
       "      <td>0.03237</td>\n",
       "      <td>0.0</td>\n",
       "      <td>2.18</td>\n",
       "      <td>0.0</td>\n",
       "      <td>0.458</td>\n",
       "      <td>6.998</td>\n",
       "      <td>45.8</td>\n",
       "      <td>6.0622</td>\n",
       "      <td>3.0</td>\n",
       "      <td>222.0</td>\n",
       "      <td>18.7</td>\n",
       "      <td>394.63</td>\n",
       "      <td>2.94</td>\n",
       "      <td>33.4</td>\n",
       "    </tr>\n",
       "    <tr>\n",
       "      <th>4</th>\n",
       "      <td>0.06905</td>\n",
       "      <td>0.0</td>\n",
       "      <td>2.18</td>\n",
       "      <td>0.0</td>\n",
       "      <td>0.458</td>\n",
       "      <td>7.147</td>\n",
       "      <td>54.2</td>\n",
       "      <td>6.0622</td>\n",
       "      <td>3.0</td>\n",
       "      <td>222.0</td>\n",
       "      <td>18.7</td>\n",
       "      <td>396.90</td>\n",
       "      <td>5.33</td>\n",
       "      <td>36.2</td>\n",
       "    </tr>\n",
       "  </tbody>\n",
       "</table>\n",
       "</div>"
      ],
      "text/plain": [
       "         0     1     2    3      4      5     6       7    8      9    10  \\\n",
       "0  0.00632  18.0  2.31  0.0  0.538  6.575  65.2  4.0900  1.0  296.0  15.3   \n",
       "1  0.02731   0.0  7.07  0.0  0.469  6.421  78.9  4.9671  2.0  242.0  17.8   \n",
       "2  0.02729   0.0  7.07  0.0  0.469  7.185  61.1  4.9671  2.0  242.0  17.8   \n",
       "3  0.03237   0.0  2.18  0.0  0.458  6.998  45.8  6.0622  3.0  222.0  18.7   \n",
       "4  0.06905   0.0  2.18  0.0  0.458  7.147  54.2  6.0622  3.0  222.0  18.7   \n",
       "\n",
       "       11    12     y  \n",
       "0  396.90  4.98  24.0  \n",
       "1  396.90  9.14  21.6  \n",
       "2  392.83  4.03  34.7  \n",
       "3  394.63  2.94  33.4  \n",
       "4  396.90  5.33  36.2  "
      ]
     },
     "execution_count": 8,
     "metadata": {},
     "output_type": "execute_result"
    }
   ],
   "source": [
    "df = pd.concat((df,pd.DataFrame(y,columns=['y'])),axis=1)\n",
    "df.columns=['0','1','2','3','4','5','6','7','8','9','10','11','12','y']\n",
    "df.head()"
   ]
  },
  {
   "cell_type": "markdown",
   "metadata": {},
   "source": [
    "# Preparing Hypothesis parameters and coefficients"
   ]
  },
  {
   "cell_type": "code",
   "execution_count": 9,
   "metadata": {},
   "outputs": [],
   "source": [
    "x1 = df['0']\n",
    "x2 = df['1']\n",
    "x3 = df['2']\n",
    "x4 = df['3']\n",
    "x5 = df['4']\n",
    "x6 = df['5']\n",
    "x7 = df['6']\n",
    "x8 = df['7']\n",
    "x9 = df['8']\n",
    "x10 = df['9']\n",
    "x11 = df['10']\n",
    "x12 = df['11']\n",
    "x13 = df['12']\n",
    "y = df['y']\n"
   ]
  },
  {
   "cell_type": "code",
   "execution_count": 10,
   "metadata": {},
   "outputs": [],
   "source": [
    "df['diff']=np.NaN\n",
    "df['yhat']=np.NaN"
   ]
  },
  {
   "cell_type": "markdown",
   "metadata": {},
   "source": [
    "```ruby\n",
    "thetas=[38.091694926302125,\n",
    " -0.11944344700245635,\n",
    " 0.044779951066510684,\n",
    " 0.005485261681774737,\n",
    " 2.3408036062420767,\n",
    " -16.1236043154296,\n",
    " 3.708709012219163,\n",
    " -0.0031210817807345867,\n",
    " -1.3863973702786825,\n",
    " 0.24417832698880473,\n",
    " -0.010989636563079976,\n",
    " -1.0459211887459754,\n",
    " 0.008110106932705016,\n",
    " -0.4927927245047084]\n",
    " ```"
   ]
  },
  {
   "cell_type": "code",
   "execution_count": 11,
   "metadata": {},
   "outputs": [],
   "source": [
    "thetas=[38.091694926302125,\n",
    " df['0'].mean(),df['1'].mean(),df['2'].mean(),df['3'].mean(),df['4'].mean(),df['5'].mean(),df['6'].mean(),df['7'].mean(),\n",
    "       df['8'].mean(),df['9'].mean(),df['10'].mean(),df['11'].mean(),df['12'].mean()]"
   ]
  },
  {
   "cell_type": "code",
   "execution_count": 12,
   "metadata": {},
   "outputs": [
    {
     "data": {
      "text/plain": [
       "14"
      ]
     },
     "execution_count": 12,
     "metadata": {},
     "output_type": "execute_result"
    }
   ],
   "source": [
    "len(thetas)"
   ]
  },
  {
   "cell_type": "markdown",
   "metadata": {},
   "source": [
    "# Linear Regression with Gradient Decent optimizer"
   ]
  },
  {
   "cell_type": "markdown",
   "metadata": {},
   "source": [
    "![Imgur](https://i.imgur.com/GI8ZMlB.png)\n",
    "\n",
    "![Imgur](https://i.imgur.com/KZAGNVR.png)\n",
    "\n",
    "![Imgur](https://i.imgur.com/OcehM0J.png)"
   ]
  },
  {
   "cell_type": "code",
   "execution_count": 13,
   "metadata": {},
   "outputs": [
    {
     "name": "stdin",
     "output_type": "stream",
     "text": [
      "Enter epoch no. : 10\n"
     ]
    }
   ],
   "source": [
    "epoch = int(input('Enter epoch no. :'))"
   ]
  },
  {
   "cell_type": "code",
   "execution_count": 14,
   "metadata": {},
   "outputs": [
    {
     "name": "stdout",
     "output_type": "stream",
     "text": [
      "\n",
      "\n",
      "\n",
      "For step :  0\n",
      "Cost is : 46813579833.55867\n",
      "Gradient Decent optimized thetas :  [-261.4126468742346, -1322.0381743704347, -2999.0852973137758, -3593.2856007473456, -20.466706162189535, -169.63137981099354, -1864.4702557757582, -21253.07837125379, -1072.5213818903794, -3277.7630824403864, -131200.29505688787, -5566.282211131444, -106611.4959532375, -3967.7637872353657]\n",
      "\n",
      "\n",
      "\n",
      "For step :  1\n",
      "Cost is : 4557058241753943.0\n",
      "Gradient Decent optimized thetas :  [-93584.50391143518, -419154.44984528824, -934143.1906248946, -1131080.3884858224, -6408.283404326809, -53269.12366230098, -584599.5056406561, -6677816.5846350165, -335417.2776824037, -1034549.8471447176, -41284194.55454732, -1746563.3412177437, -33372020.76135251, -1247950.3802593024]\n",
      "\n",
      "\n",
      "\n",
      "For step :  2\n",
      "Cost is : 4.4935994178791585e+20\n",
      "Gradient Decent optimized thetas :  [-29395890.887521643, -131720747.6100252, -293147212.16903883, -355246782.858019, -2011857.5674442223, -16727457.897631215, -183552258.85879377, -2097050462.417157, -105292421.50471076, -324997834.65021545, -12966071915.289522, -548417125.3316443, -10476834875.295986, -391927356.0898716]\n",
      "\n",
      "\n",
      "\n",
      "For step :  3\n",
      "Cost is : 4.431026779066098e+25\n",
      "Gradient Decent optimized thetas :  [-9230787561.784754, -41365142303.969055, -92048924496.2395, -111555638930.26862, -631748888.1978735, -5252727874.867459, -57638218436.71414, -658514586420.3922, -33062899633.098454, -102058467272.43668, -4071635193190.515, -172212155615.66415, -3289854865172.3433, -123073551473.03917]\n",
      "\n",
      "\n",
      "\n",
      "For step :  4\n",
      "Cost is : 4.3693254689837195e+30\n",
      "Gradient Decent optimized thetas :  [-2898634798249.02, -12989472258958.434, -28904935877025.234, -35030556335274.64, -198380459919.04648, -1649452861579.7068, -18099443937564.613, -206785711942296.4, -10382335957373.883, -32048308269676.383, -1278569360571253.2, -54077753402355.48, -1033073205774181.4, -38647380830608.81]\n",
      "\n",
      "\n",
      "\n",
      "For step :  5\n",
      "Cost is : 4.3084833394597334e+35\n",
      "Gradient Decent optimized thetas :  [-910224438451298.9, -4078933935396255.5, -9076677127016792.0, -1.1000238061149182e+16, -62295095578064.945, -517958445947662.94, -5683556972120595.0, -6.493450697168461e+16, -3260243372912218.5, -1.0063758409491384e+16, -4.0149425616811334e+17, -1.6981405724626176e+16, -3.244038932340336e+17, -1.2135987002816936e+16]\n",
      "\n",
      "\n",
      "\n",
      "For step :  6\n",
      "Cost is : 4.248488426457756e+40\n",
      "Gradient Decent optimized thetas :  [-2.8582716437887466e+17, -1.2808600908813268e+18, -2.8502429982548183e+18, -3.4542764984369065e+18, -1.956180221896466e+16, -1.6264845038354602e+17, -1.7847411066347884e+18, -2.0390625997040275e+19, -1.0237761932370095e+18, -3.160204737320332e+18, -1.2607655981698818e+20, -5.332472791108591e+18, -1.018687704925477e+20, -3.810922486839466e+18]\n",
      "\n",
      "\n",
      "\n",
      "For step :  7\n",
      "Cost is : 4.1893289326282665e+45\n",
      "Gradient Decent optimized thetas :  [-8.975497111147284e+19, -4.022135579215084e+20, -8.950285677722294e+20, -1.0847061659084803e+21, -6.14276461868848e+18, -5.1074596081183285e+19, -5.604414360164944e+20, -6.403030488907004e+21, -3.214844984652636e+20, -9.9236224076171e+20, -3.9590351803331086e+22, -1.674494243428411e+21, -3.1988661990028023e+22, -1.19669954630613e+21]\n",
      "\n",
      "\n",
      "\n",
      "For step :  8\n",
      "Cost is : 4.130993224898408e+50\n",
      "Gradient Decent optimized thetas :  [-2.8184706862585276e+22, -1.2630243303461674e+23, -2.810553833487503e+23, -3.406176275426503e+23, -1.9289407367043285e+21, -1.6038359779731562e+22, -1.759888883265642e+23, -2.0106689928493746e+24, -1.0095202792044095e+23, -3.116199416495033e+23, -1.243209647789851e+25, -5.2582189944532015e+23, -1.004502647509121e+25, -3.757856027275215e+23]\n",
      "\n",
      "\n",
      "\n",
      "For step :  9\n",
      "Cost is : 4.0734698321839304e+55\n",
      "Gradient Decent optimized thetas :  [-8.850514808365046e+24, -3.966128011804472e+25, -8.825654438780192e+25, -1.0696018132349255e+26, -6.05722764400474e+23, -5.036339083628381e+24, -5.5263738233482205e+25, -6.313869355725762e+26, -3.1700788033628557e+25, -9.785437619137079e+25, -3.90390627490361e+27, -1.6511771899193253e+26, -3.15432251970679e+27, -1.1800357044473508e+26]\n"
     ]
    }
   ],
   "source": [
    "for step in range(epoch):\n",
    "    t0,t1,t2,t3,t4,t5,t6,t7,t8,t9,t10,t11,t12,t13=(thetas[0],thetas[1],thetas[2],thetas[3],thetas[4],thetas[5],thetas[6],thetas[7],\n",
    "                                                   thetas[8],thetas[9],thetas[10],thetas[11],thetas[12],thetas[13])\n",
    "    \n",
    "    df['yhat']=t0+t1*x1+t2*x2+t3*x3+t4*x4+t5*x5+t6*x6+t7*x7+t8*x8+t9*x9+t10*x10+t11*x11+t12*x12+t13*x13\n",
    "    \n",
    "    df['diff']=(df.yhat-df.y)**2\n",
    "    \n",
    "    m = df.shape[0]\n",
    "    \n",
    "    cost = (df['diff'].sum())/(2*m)\n",
    "    \n",
    "    print('\\n\\n')\n",
    "    print('For step : ', step)\n",
    "    print('Cost is : {}'.format(cost))\n",
    "    \n",
    "    step_size = 0.001\n",
    "    \n",
    "\n",
    "    thetas[0] = thetas[0] - (step_size/m)*(np.sqrt(df['diff']).sum())\n",
    "    thetas[1] = thetas[1] - (step_size/m)*((np.sqrt(df['diff'])*x1).sum())\n",
    "    thetas[2] = thetas[2] - (step_size/m)*((np.sqrt(df['diff'])*x2).sum())\n",
    "    thetas[3] = thetas[3] - (step_size/m)*((np.sqrt(df['diff'])*x3).sum())\n",
    "    thetas[4] = thetas[4] - (step_size/m)*((np.sqrt(df['diff'])*x4).sum())\n",
    "    thetas[5] = thetas[5] - (step_size/m)*((np.sqrt(df['diff'])*x5).sum())\n",
    "    thetas[6] = thetas[6] - (step_size/m)*((np.sqrt(df['diff'])*x6).sum())\n",
    "    thetas[7] = thetas[7] - (step_size/m)*((np.sqrt(df['diff'])*x7).sum())\n",
    "    thetas[8] = thetas[8] - (step_size/m)*((np.sqrt(df['diff'])*x8).sum())\n",
    "    thetas[9] = thetas[9] - (step_size/m)*((np.sqrt(df['diff'])*x9).sum())\n",
    "    thetas[10] = thetas[10] - (step_size/m)*((np.sqrt(df['diff'])*x10).sum())\n",
    "    thetas[11] = thetas[11] - (step_size/m)*((np.sqrt(df['diff'])*x11).sum())\n",
    "    thetas[12] = thetas[12] - (step_size/m)*((np.sqrt(df['diff'])*x12).sum())\n",
    "    thetas[13] = thetas[13] - (step_size/m)*((np.sqrt(df['diff'])*x13).sum())\n",
    "    print('Gradient Decent optimized thetas : ', thetas)\n",
    "    \n",
    "    "
   ]
  }
 ],
 "metadata": {
  "kernelspec": {
   "display_name": "Python 3",
   "language": "python",
   "name": "python3"
  },
  "language_info": {
   "codemirror_mode": {
    "name": "ipython",
    "version": 3
   },
   "file_extension": ".py",
   "mimetype": "text/x-python",
   "name": "python",
   "nbconvert_exporter": "python",
   "pygments_lexer": "ipython3",
   "version": "3.8.5"
  }
 },
 "nbformat": 4,
 "nbformat_minor": 4
}
