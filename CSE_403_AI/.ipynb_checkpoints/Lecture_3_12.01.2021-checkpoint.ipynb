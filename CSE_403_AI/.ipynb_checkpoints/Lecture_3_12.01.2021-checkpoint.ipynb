{
 "cells": [
  {
   "cell_type": "markdown",
   "metadata": {},
   "source": [
    "<div class=\"alert alert-success\">\n",
    "    <b>Author</b>:\n",
    "\n",
    "      Rashik Rahman\n",
    "      17201012@uap-bd.edu\n",
    "\n",
    "</div>\n",
    "\n",
    "**[Click here to see class lecture](https://drive.google.com/file/d/19gIun4MMOwZQTt_s7VrJIDFyG3VPFXdI/view)**\n"
   ]
  },
  {
   "cell_type": "markdown",
   "metadata": {},
   "source": [
    "![](Fig/fig30.PNG)\n",
    "\n",
    "In this chapter we'll know how environment effect agent, agent's performance and agent performance calculation."
   ]
  },
  {
   "cell_type": "markdown",
   "metadata": {},
   "source": [
    "![](Fig/fig31.PNG)\n",
    "\n",
    "Agent is any device or product that can understand a problematic environment(surronding theke problem bujhar try korbe) and can take action to solve the problem.  If we consider human as a agent then the sensors of the human would be eyes,ear, nose etc. actuators would be hands, legs, mouth etc. Sensor are used to sense and actuators are used to execute actions.\n",
    "\n",
    "![](Fig/fig32.PNG)\n",
    "\n",
    "![](Fig/fig33.PNG)\n",
    "\n",
    "![](Fig/fig34.PNG)\n",
    "\n"
   ]
  },
  {
   "cell_type": "markdown",
   "metadata": {},
   "source": []
  }
 ],
 "metadata": {
  "kernelspec": {
   "display_name": "Python 3",
   "language": "python",
   "name": "python3"
  },
  "language_info": {
   "codemirror_mode": {
    "name": "ipython",
    "version": 3
   },
   "file_extension": ".py",
   "mimetype": "text/x-python",
   "name": "python",
   "nbconvert_exporter": "python",
   "pygments_lexer": "ipython3",
   "version": "3.7.6"
  }
 },
 "nbformat": 4,
 "nbformat_minor": 4
}
