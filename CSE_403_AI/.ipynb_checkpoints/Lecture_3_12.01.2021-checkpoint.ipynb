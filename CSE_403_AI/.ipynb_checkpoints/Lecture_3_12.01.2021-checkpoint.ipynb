{
 "cells": [
  {
   "cell_type": "markdown",
   "metadata": {},
   "source": [
    "<div class=\"alert alert-success\">\n",
    "    <b>Author</b>:\n",
    "\n",
    "      Rashik Rahman\n",
    "      17201012@uap-bd.edu\n",
    "\n",
    "</div>\n",
    "\n",
    "**[Click here to see class lecture](https://drive.google.com/file/d/19gIun4MMOwZQTt_s7VrJIDFyG3VPFXdI/view)**\n"
   ]
  },
  {
   "cell_type": "markdown",
   "metadata": {},
   "source": [
    "![](Fig/fig30.PNG)\n",
    "![](Fig/fig36.PNG)\n",
    "\n",
    "In this chapter we'll know how environment effect agent, agent's performance and agent performance calculation."
   ]
  },
  {
   "cell_type": "markdown",
   "metadata": {},
   "source": [
    "![](Fig/fig31.PNG)\n",
    "\n",
    "Agent is any device or product that can understand a problematic environment(surronding theke problem bujhar try korbe) and can take action to solve the problem.  If we consider human as a agent then the sensors of the human would be eyes,ear, nose etc. actuators would be hands, legs, mouth etc. Sensor are used to sense and actuators are used to execute actions.\n",
    "\n",
    "![](Fig/fig32.PNG)\n",
    "\n",
    "![](Fig/fig33.PNG)\n",
    "\n",
    "![](Fig/fig34.PNG)\n",
    "\n",
    "![](Fig/fig35.PNG)\n",
    "\n",
    "![](Fig/fig37.PNG)\n",
    "\n",
    "So basically agent is architecture+program."
   ]
  },
  {
   "cell_type": "markdown",
   "metadata": {},
   "source": [
    "\n",
    "![](Fig/fig38.PNG)\n",
    "\n",
    "There are some components of agent.\n",
    "\n",
    "![](Fig/fig39.PNG)\n",
    "\n",
    "There are four rules for an intelligent agent. Rational action is the best action an agent can take from the perceived environment.\n",
    "\n",
    "![](Fig/fig40.PNG) \n",
    "\n",
    "Rational agent always performs the right thing.\n",
    "\n",
    "![](Fig/fig41.PNG) \n",
    "\n",
    "![](Fig/fig42.PNG)  \n",
    "\n",
    "![](Fig/fig43.PNG)  \n",
    "\n",
    "![](Fig/fig44.PNG) \n",
    "\n",
    "![](Fig/fig45.PNG)  \n",
    "\n",
    "![](Fig/fig46.PNG)  \n",
    "\n",
    "![](Fig/fig47.PNG)  \n",
    "\n",
    "![](Fig/fig48.PNG)  "
   ]
  },
  {
   "cell_type": "markdown",
   "metadata": {},
   "source": [
    "\n",
    "![](Fig/fig49.PNG)   \n",
    "\n",
    "![](Fig/fig50.PNG)\n",
    "\n",
    "These are the types of environment. \n",
    "\n",
    "![](Fig/fig51.PNG)\n",
    "\n",
    "![](Fig/fig52.PNG)\n",
    "\n",
    "![](Fig/fig53.PNG)\n",
    "\n",
    "![](Fig/fig54.PNG)\n",
    "\n",
    "![](Fig/fig55.PNG)\n",
    "\n",
    "![](Fig/fig56.PNG)\n",
    "\n",
    "![](Fig/fig57.PNG)\n",
    "\n",
    "![](Fig/fig58.PNG)"
   ]
  },
  {
   "cell_type": "markdown",
   "metadata": {},
   "source": [
    "Example of an agent.\n",
    "\n",
    "\n",
    "![](Fig/fig59.PNG)\n",
    "\n",
    "![](Fig/fig60.PNG)"
   ]
  },
  {
   "cell_type": "markdown",
   "metadata": {},
   "source": []
  },
  {
   "cell_type": "markdown",
   "metadata": {},
   "source": []
  }
 ],
 "metadata": {
  "kernelspec": {
   "display_name": "Python 3",
   "language": "python",
   "name": "python3"
  },
  "language_info": {
   "codemirror_mode": {
    "name": "ipython",
    "version": 3
   },
   "file_extension": ".py",
   "mimetype": "text/x-python",
   "name": "python",
   "nbconvert_exporter": "python",
   "pygments_lexer": "ipython3",
   "version": "3.7.6"
  }
 },
 "nbformat": 4,
 "nbformat_minor": 4
}
