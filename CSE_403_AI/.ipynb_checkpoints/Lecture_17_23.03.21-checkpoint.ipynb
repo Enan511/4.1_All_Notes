{
 "cells": [
  {
   "cell_type": "markdown",
   "metadata": {},
   "source": [
    "<div class=\"alert alert-success\">\n",
    "    <b>Author</b>:\n",
    "\n",
    "      Rashik Rahman\n",
    "      17201012@uap-bd.edu\n",
    "\n",
    "</div>\n",
    "\n",
    "\n",
    "**[Click here to see class lecture](https://drive.google.com/file/d/1ZD8iVNF4sjs1Z-mWdTJNbvjofO1Xtlz4/view)**"
   ]
  },
  {
   "cell_type": "markdown",
   "metadata": {},
   "source": [
    "![](Fig/fig274.PNG)\n",
    "\n",
    "This symbols means that X & Y are independent from each other.\n",
    "\n",
    "![](Fig/fig275.PNG)\n",
    "\n",
    "In the left side we have joint distribution table and in the right side we have multiplication table so when we multiply P(T) with P(W) we get the right side table. For hot and sun we multiply 0.5 * 0.6 = 0.3 so in the 1st row P value is 0.3 that doesn't match with  left side table. Thus we can say that hot and sun is not independent variable. Ans so on for all the other rows.\n",
    "\n",
    "![](Fig/fig276.PNG)\n",
    "\n",
    "Here each time the probability is half for head tail so it is independent.\n",
    "\n",
    "![](Fig/fig277.PNG)\n",
    "\n",
    "![](Fig/fig278.PNG)"
   ]
  },
  {
   "cell_type": "markdown",
   "metadata": {},
   "source": [
    "Here toothache is irrelivent for catching cavity. Toothache doesn't impact catching the cavity so we can just give up toothache from evidence as we can giveup on irrelivent variables of evidence. So we can say that catch is conditionally independent from toothache given cavity. And for the second example we can say that catch is conditionally independent on toothache given no cavity\n",
    "\n",
    "![](Fig/fig279.PNG)\n",
    "\n",
    "Here we can say X is conditionally independent of Y given Z.\n",
    "\n",
    "![](Fig/fig280.PNG)\n",
    "\n",
    "Traffic jam is conditionally independent from umbrella given rainy cause rainy causes some traffic jam and umbrella has nothing to do with traffic jam.\n",
    "\n",
    "![](Fig/fig281.PNG)\n",
    "\n",
    "Here alarm is dependent on smoke as it detects smoke thus predicts fire occured. A smoke can come from fire or a cigeratte. So Alarm is independent of fire given smoke.\n",
    "\n",
    "![](Fig/fig282.PNG)\n",
    "\n",
    "![](Fig/fig283.PNG)"
   ]
  },
  {
   "cell_type": "markdown",
   "metadata": {},
   "source": []
  },
  {
   "cell_type": "markdown",
   "metadata": {},
   "source": []
  }
 ],
 "metadata": {
  "kernelspec": {
   "display_name": "Python 3",
   "language": "python",
   "name": "python3"
  },
  "language_info": {
   "codemirror_mode": {
    "name": "ipython",
    "version": 3
   },
   "file_extension": ".py",
   "mimetype": "text/x-python",
   "name": "python",
   "nbconvert_exporter": "python",
   "pygments_lexer": "ipython3",
   "version": "3.8.5"
  }
 },
 "nbformat": 4,
 "nbformat_minor": 4
}
