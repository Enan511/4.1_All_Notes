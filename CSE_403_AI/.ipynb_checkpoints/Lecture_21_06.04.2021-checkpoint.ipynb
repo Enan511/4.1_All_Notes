{
 "cells": [
  {
   "cell_type": "markdown",
   "metadata": {},
   "source": [
    "<div class=\"alert alert-success\">\n",
    "    <b>Author</b>:\n",
    "\n",
    "      Rashik Rahman\n",
    "      17201012@uap-bd.edu\n",
    "\n",
    "</div>\n",
    "\n",
    "\n",
    "**[Click here to see class lecture](https://drive.google.com/file/d/18I0fLW9EqPppxp-wBbCyvQssypA61SV4/view)**"
   ]
  },
  {
   "cell_type": "markdown",
   "metadata": {},
   "source": [
    "**Today we'll learn about predicate logic. And in the next class we'll learn about fuzzy logic as we'll skip semantic networks & frames**\n",
    "\n",
    "![](Fig/fig320.PNG)\n",
    "\n",
    "Proposonal logic can't represent keywords All & Few/some, Function. We need quantifiers like universal and existential to represent this. Thus it can be represented in predicate logic.\n",
    "\n",
    "![](Fig/fig321.PNG)\n",
    "\n",
    "So functions, predicates, quantifiers are new feature that can be only found in predicate logic.\n",
    "\n",
    "![](Fig/fig322.PNG)\n",
    "\n",
    "All nouns and quantifiers are object.\n",
    "\n",
    "![](Fig/fig323.PNG)\n",
    "\n",
    "![](Fig/fig324.PNG)\n",
    "\n",
    "![](Fig/fig325.PNG)"
   ]
  },
  {
   "cell_type": "markdown",
   "metadata": {},
   "source": [
    "\n",
    "\n",
    "![](Fig/fig326.PNG)\n",
    "\n",
    "exists quantifier is used to represent few/some, universal quantifier is used to represent all.\n",
    "\n",
    "![](Fig/fig327.PNG)\n",
    "\n",
    "![](Fig/fig328.PNG)\n",
    "\n",
    "If hasan is basket ball player then he is tall.\n",
    "\n",
    "For all x if x is in garden then x is beautiful.\n",
    "\n",
    "![](Fig/fig329.PNG)\n",
    "\n",
    "![](Fig/fig330.PNG)\n",
    "\n",
    "Here E means employee, GE means greater equals, I means income and P means pay tax.\n",
    "\n",
    "So the first interpretation is for all x is x is employee and salary is greater equal to 30k then x pay tax\n",
    "\n",
    "2nd interpretation, Some y if y is employee then they are sick.\n",
    "\n",
    "3rd interpretation, All x,y if x and y is employee and president then income of x is not greater equals income of y.\n",
    "\n",
    "![](Fig/fig331.PNG)\n",
    "\n",
    "1st interpretation, for all x and few y x loves y. So 1st statement, All people love some persons.\n",
    "\n",
    "2nd interpretation, for all x if x is handsome then few y lovs x. So 2nd statement, All handsome persons are loved by some persons.\n",
    "\n",
    "![](Fig/fig332.PNG)\n",
    "\n",
    "![](Fig/fig336.PNG)\n",
    "\n",
    "![](Fig/fig337.PNG)\n",
    "\n",
    "![](Fig/fig338.PNG)\n",
    "\n",
    "![](Fig/fig339.PNG)"
   ]
  },
  {
   "cell_type": "markdown",
   "metadata": {},
   "source": [
    "\n",
    "\n",
    "![](Fig/fig333.PNG)\n",
    "\n",
    "arc represents relationship between objects.\n",
    "\n",
    "![](Fig/fig334.PNG)\n",
    "\n",
    "![](Fig/fig335.PNG)"
   ]
  },
  {
   "cell_type": "markdown",
   "metadata": {},
   "source": [
    "# End of lecture!"
   ]
  }
 ],
 "metadata": {
  "kernelspec": {
   "display_name": "Python 3",
   "language": "python",
   "name": "python3"
  },
  "language_info": {
   "codemirror_mode": {
    "name": "ipython",
    "version": 3
   },
   "file_extension": ".py",
   "mimetype": "text/x-python",
   "name": "python",
   "nbconvert_exporter": "python",
   "pygments_lexer": "ipython3",
   "version": "3.8.5"
  }
 },
 "nbformat": 4,
 "nbformat_minor": 4
}
