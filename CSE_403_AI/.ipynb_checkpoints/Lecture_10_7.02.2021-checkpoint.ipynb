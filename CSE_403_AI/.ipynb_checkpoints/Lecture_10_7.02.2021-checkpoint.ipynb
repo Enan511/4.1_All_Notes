{
 "cells": [
  {
   "cell_type": "markdown",
   "metadata": {},
   "source": [
    "<div class=\"alert alert-success\">\n",
    "    <b>Author</b>:\n",
    "\n",
    "      Rashik Rahman\n",
    "      17201012@uap-bd.edu\n",
    "\n",
    "</div>\n",
    "\n",
    "**[Click here to see class lecture](https://drive.google.com/file/d/166TzF4Mm6Dk84AsuAqT3gmn6-3JzUfak/view)**\n"
   ]
  },
  {
   "cell_type": "markdown",
   "metadata": {},
   "source": [
    "![](Fig/fig145.PNG)\n",
    "\n",
    "We'll study the marked algorithms.\n",
    "\n",
    "![](Fig/fig146.PNG)\n",
    "\n",
    "![](Fig/fig147.PNG)\n",
    "\n",
    "![](Fig/fig148.PNG)\n",
    "\n",
    "Heuristics function may have multiple distance matrics, i.e. euclidean, manhattan. Heuristic cost(hn) tells us the cost from a particular node to goal node.\n",
    "\n",
    "![](Fig/fig149.PNG)\n"
   ]
  },
  {
   "cell_type": "markdown",
   "metadata": {},
   "source": [
    "Q can come like, **what are the properties of a good hn function/What conditions needs to be statisfied if we want to label a hn function as a good hn function/ A good heuristic function satisfies Admissible property, justify your answer.** Example diye bujhate hobe. To label a heuristic function as admissible its cost needs to be grater equal to 0 and less equal to then the heruistic cost of actual goal node.\n",
    "\n",
    "![](Fig/fig150.PNG)\n",
    "\n",
    "closed list/fringe is for the visited nodes and open is for expanded fringe.\n",
    "\n",
    "![](Fig/fig151.PNG)\n",
    "\n",
    "![](Fig/fig152.PNG)\n",
    "\n",
    "Best first search has two parts. A start where fn=gn+hn and Greedy best first search where fn=hn.\n",
    "\n",
    "![](Fig/fig153.PNG)\n",
    "\n",
    "![](Fig/fig154.PNG)"
   ]
  },
  {
   "cell_type": "markdown",
   "metadata": {},
   "source": [
    "UCS focuses only on path cost(gn) so it can lead to increase in number of nodes in the whole path. Thus greedy is better than UCS as it depends on heuristic cos(hn). But for some cases just hn may not be optimal. Thus A star is better than UCS,Greedy cause it combines these two that is gn+hn. A star is very efficient cause decreases searching time, will prevent from unnecessary depth and branching factor. Thus A star is optimal and complete. \n",
    "\n",
    "![](Fig/fig154.PNG)\n",
    "\n",
    "![](Fig/fig155.PNG)\n",
    "\n",
    "![](Fig/fig156.PNG)\n",
    "\n",
    "![](Fig/fig157.PNG)\n",
    "\n",
    "So the total path cost is 450. But this is not optimal cause to go to bucharest there are more paths. And we can see that the path arad->rimnichu->pitesti->bucharest is the optimal with cost of 418.\n",
    "\n",
    "![](Fig/fig158.PNG)\n"
   ]
  },
  {
   "cell_type": "markdown",
   "metadata": {},
   "source": [
    "\n",
    "So why its called greedy?\n",
    "\n",
    "![](Fig/fig159.PNG)\n",
    "\n",
    "![](Fig/fig160.PNG)\n",
    "\n",
    "Path er actual cost bolle gn er sum bujhay.\n",
    "\n",
    "![](Fig/fig161.PNG)\n",
    "\n",
    "![](Fig/fig162.PNG)\n",
    "\n"
   ]
  },
  {
   "cell_type": "markdown",
   "metadata": {},
   "source": [
    "# End of lecture!"
   ]
  }
 ],
 "metadata": {
  "kernelspec": {
   "display_name": "Python 3",
   "language": "python",
   "name": "python3"
  },
  "language_info": {
   "codemirror_mode": {
    "name": "ipython",
    "version": 3
   },
   "file_extension": ".py",
   "mimetype": "text/x-python",
   "name": "python",
   "nbconvert_exporter": "python",
   "pygments_lexer": "ipython3",
   "version": "3.8.5"
  }
 },
 "nbformat": 4,
 "nbformat_minor": 4
}
