{
 "cells": [
  {
   "cell_type": "markdown",
   "metadata": {},
   "source": [
    "<div class=\"alert alert-success\">\n",
    "    <b>Author</b>:\n",
    "\n",
    "      Rashik Rahman\n",
    "      17201012@uap-bd.edu\n",
    "\n",
    "</div>\n",
    "\n",
    "\n",
    "**[Click here to see class lecture](https://drive.google.com/file/d/1aTFEphnTs9hzcfEZ7F-VmYczjVn8gRXP/view)**"
   ]
  },
  {
   "cell_type": "markdown",
   "metadata": {},
   "source": [
    "![](Fig/fig178.PNG)\n",
    "\n",
    "![](Fig/fig179.PNG)"
   ]
  },
  {
   "cell_type": "markdown",
   "metadata": {},
   "source": [
    "\n",
    "\n",
    "![](Fig/fig180.PNG)\n",
    "\n",
    "![](Fig/fig181.PNG)\n",
    "\n",
    "New population/generation is basically child and old is parent. Fittest new population/generation would be selected as parent in next iteration.\n",
    "\n",
    "![](Fig/fig182.PNG)\n",
    "\n",
    "![](Fig/fig183.PNG)\n",
    "\n",
    "There are three GA operators selection, crossover, mutation.\n",
    "\n",
    "![](Fig/fig184.PNG)\n",
    "\n",
    "![](Fig/fig185.PNG)"
   ]
  },
  {
   "cell_type": "markdown",
   "metadata": {},
   "source": [
    "\n",
    "\n",
    "![](Fig/fig186.PNG)\n",
    "\n",
    "Here head is same but tail is swapped in the children/offspring part.\n",
    "\n",
    "![](Fig/fig187.PNG)\n",
    "\n",
    "mutation means changing a value in a given index. like if the value is 0 then replace it with 1 and vice-versa. \n",
    "\n",
    "![](Fig/fig188.PNG)\n",
    "\n",
    "![](Fig/fig189.PNG)\n",
    "\n",
    "Here we mutate 1 bit thus we get a different child from parent.\n",
    "\n",
    "![](Fig/fig190.PNG)\n",
    "\n",
    "GA is also known as SGA.\n",
    "\n",
    "![](Fig/fig191.PNG)\n",
    "\n",
    "![](Fig/fig192.PNG)\n",
    "\n",
    "When encoded then its called genotype and when decoded then its called phenotype.\n",
    "\n",
    "![](Fig/fig193.PNG)\n",
    "\n",
    "![](Fig/fig194.PNG)"
   ]
  },
  {
   "cell_type": "markdown",
   "metadata": {},
   "source": [
    "\n",
    "![](Fig/fig195.PNG)\n",
    "\n",
    "![](Fig/fig196.PNG)\n",
    "\n",
    "Here A is the fittest cause has the greatest fitness value. So A has high probability of surviving. Then C at last B.\n",
    "\n",
    "![](Fig/fig197.PNG)"
   ]
  },
  {
   "cell_type": "markdown",
   "metadata": {},
   "source": [
    "**Example**\n",
    "\n",
    "Here X can be any number from 0 to 32. So to represent 32 in binary we need 5bits cause 2^5=32. \n",
    "\n",
    "![](Fig/fig198.PNG)\n",
    "\n",
    "Here 2nd string has the highest fitness thus highest survival probability. And the 3rd string has the lowest probability thus it is eleminated and the remaining three goes to the next part. Here actual count is 1,2,0,1 this means 1 will occur once 2 will occur twice and 4 will occur once. And as 3 has 0 occurance thus it is eleminated. Sum of actual count should be equal to total population.\n",
    "\n",
    "![](Fig/fig199.PNG)\n",
    "\n",
    "Here 2 appears twice cause it has actual count of 2 meaning it will appear twice. For cross over we need pair. So here 1,2 is pair and 2,4 is pair. Crossover point is 4 and 2 cause we split at that position. Here the max and average increases if it decreases then need to change crossover point. max, average should increase in each iteration.\n",
    "\n",
    "![](Fig/fig200.PNG)\n",
    "\n",
    "2 no string fitness is already high so need to mutate it we mutate the others. We must select such a bit to do mutation that results in increase in value(x). So we target the 0s in the sequence.\n",
    "\n",
    "![](Fig/fig201.PNG)\n",
    "\n",
    "![](Fig/fig202.PNG)\n",
    "\n",
    "![](Fig/fig203.PNG)\n",
    "\n",
    "![](Fig/fig204.PNG)"
   ]
  },
  {
   "cell_type": "markdown",
   "metadata": {},
   "source": []
  }
 ],
 "metadata": {
  "kernelspec": {
   "display_name": "Python 3",
   "language": "python",
   "name": "python3"
  },
  "language_info": {
   "codemirror_mode": {
    "name": "ipython",
    "version": 3
   },
   "file_extension": ".py",
   "mimetype": "text/x-python",
   "name": "python",
   "nbconvert_exporter": "python",
   "pygments_lexer": "ipython3",
   "version": "3.8.5"
  }
 },
 "nbformat": 4,
 "nbformat_minor": 4
}
