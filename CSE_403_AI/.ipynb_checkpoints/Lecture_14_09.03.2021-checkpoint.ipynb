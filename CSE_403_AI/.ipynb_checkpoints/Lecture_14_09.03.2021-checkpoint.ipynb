{
 "cells": [
  {
   "cell_type": "markdown",
   "metadata": {},
   "source": [
    "<div class=\"alert alert-success\">\n",
    "    <b>Author</b>:\n",
    "\n",
    "      Rashik Rahman\n",
    "      17201012@uap-bd.edu\n",
    "\n",
    "</div>\n",
    "\n",
    "\n",
    "**[Click here to see class lecture](https://drive.google.com/file/d/1mcKuL35dKcO4g5Lr6QHLqKn3nRiV5C9z/view)**"
   ]
  },
  {
   "cell_type": "markdown",
   "metadata": {
    "heading_collapsed": "true"
   },
   "source": [
    "# Basic theory"
   ]
  },
  {
   "cell_type": "markdown",
   "metadata": {},
   "source": [
    "![](Fig/fig205.PNG)\n",
    "\n",
    "![](Fig/fig206.PNG)\n",
    "\n",
    "![](Fig/fig207.PNG)\n",
    "\n",
    "![](Fig/fig208.PNG)\n",
    "\n",
    "Utility node means leaf node.\n",
    "\n",
    "![](Fig/fig209.PNG)"
   ]
  },
  {
   "cell_type": "markdown",
   "metadata": {},
   "source": [
    "![](Fig/fig210.PNG)\n",
    "\n",
    "In deterministic the game follows a strict pattern/rule. And nondeterministic has randomness to it and also a luck factor.\n",
    "\n",
    "![](Fig/fig211.PNG)\n",
    "\n",
    "![](Fig/fig212.PNG)\n",
    "\n",
    "![](Fig/fig213.PNG)\n",
    "\n",
    "![](Fig/fig214.PNG)\n"
   ]
  },
  {
   "cell_type": "markdown",
   "metadata": {},
   "source": [
    "# ALGO\n",
    "\n"
   ]
  },
  {
   "cell_type": "markdown",
   "metadata": {},
   "source": [
    "Utility function are for leaf nodes.\n",
    "\n",
    "![](Fig/fig215.PNG)\n",
    "\n",
    "![](Fig/fig216.PNG)\n",
    "\n",
    "![](Fig/fig217.PNG)\n",
    "\n",
    "![](Fig/fig218.PNG)\n",
    "\n",
    "![](Fig/fig219.PNG)\n",
    "\n",
    "![](Fig/fig220.PNG)"
   ]
  },
  {
   "cell_type": "markdown",
   "metadata": {},
   "source": [
    "\n",
    "\n",
    "![](Fig/fig221.PNG)"
   ]
  },
  {
   "cell_type": "markdown",
   "metadata": {},
   "source": []
  }
 ],
 "metadata": {
  "kernelspec": {
   "display_name": "Python 3",
   "language": "python",
   "name": "python3"
  },
  "language_info": {
   "codemirror_mode": {
    "name": "ipython",
    "version": 3
   },
   "file_extension": ".py",
   "mimetype": "text/x-python",
   "name": "python",
   "nbconvert_exporter": "python",
   "pygments_lexer": "ipython3",
   "version": "3.8.5"
  }
 },
 "nbformat": 4,
 "nbformat_minor": 4
}
