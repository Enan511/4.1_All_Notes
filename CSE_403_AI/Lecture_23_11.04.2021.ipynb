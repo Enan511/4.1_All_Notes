{
 "cells": [
  {
   "cell_type": "markdown",
   "metadata": {},
   "source": [
    "<div class=\"alert alert-success\">\n",
    "    <b>Author</b>:\n",
    "\n",
    "      Rashik Rahman\n",
    "      17201012@uap-bd.edu\n",
    "\n",
    "</div>\n",
    "\n",
    "\n",
    "**[Click here to see class lecture](https://drive.google.com/file/d/1LDKVLvUJpBgHtdk5HkdXP9BIoJvtfn-u/view)**\n",
    "\n",
    "\n",
    "\n",
    "**[Click here to see class lecture](https://drive.google.com/file/d/1ZkfvnM6QZ--2iQzU2HNMdhcRclM5Zjd3/view)**"
   ]
  },
  {
   "cell_type": "markdown",
   "metadata": {},
   "source": [
    "![](Fig/fig369.PNG)\n",
    "\n",
    "AI/ANN/ML is developed for giving agent reasoning like human.\n",
    "\n",
    "![](Fig/fig370.PNG)\n",
    "\n",
    "![](Fig/fig371.PNG)\n",
    "\n",
    "![](Fig/fig372.PNG)\n",
    "\n",
    "![](Fig/fig373.PNG)\n",
    "\n",
    "![](Fig/fig374.PNG)"
   ]
  },
  {
   "cell_type": "markdown",
   "metadata": {},
   "source": [
    "Here theta is threshold. Sign is activation function like RELU, Sigmoid.\n",
    "\n",
    "![](Fig/fig375.PNG)\n",
    "\n",
    "![](Fig/fig376.PNG)\n",
    "\n",
    "![](Fig/fig377.PNG)\n",
    "\n",
    "![](Fig/fig378.PNG)\n",
    "\n",
    "![](Fig/fig379.PNG)"
   ]
  },
  {
   "cell_type": "markdown",
   "metadata": {},
   "source": [
    "\n",
    "\n",
    "![](Fig/fig380.PNG)\n",
    "\n",
    "![](Fig/fig381.PNG)\n",
    "\n",
    "![](Fig/fig382.PNG)\n",
    "\n",
    "## Important\n",
    "\n",
    "![](Fig/fig383.PNG)\n",
    "\n",
    "Here in the first 2 iteration the error is 0 so weights are not updated. But in 3rd iteration we see error is -1 meaning is we need to reduce the weight value currently its is high. So we update the weights in 3rd iteration. And use the updated weights in the next iterations.\n",
    "\n",
    "![](Fig/fig384.PNG)"
   ]
  },
  {
   "cell_type": "markdown",
   "metadata": {},
   "source": [
    "**Not much imp**\n",
    "\n",
    "![](Fig/fig385.PNG)\n",
    "\n",
    "![](Fig/fig386.PNG)\n",
    "\n",
    "![](Fig/fig387.PNG)\n",
    "\n",
    "![](Fig/fig388.PNG)\n",
    "\n",
    "![](Fig/fig389.PNG)\n",
    "\n",
    "![](Fig/fig390.PNG)\n",
    "\n",
    "![](Fig/fig391.PNG)"
   ]
  },
  {
   "cell_type": "markdown",
   "metadata": {},
   "source": [
    "**Applications**\n",
    "\n",
    "![](Fig/fig392.PNG)\n",
    "\n",
    "![](Fig/fig393.PNG)\n",
    "\n",
    "![](Fig/fig394.PNG)\n",
    "\n",
    "![](Fig/fig395.PNG)\n",
    "\n",
    "![](Fig/fig396.PNG)\n",
    "\n",
    "![](Fig/fig397.PNG)\n",
    "\n",
    "![](Fig/fig398.PNG)\n",
    "\n",
    "![](Fig/fig399.PNG)\n",
    "\n",
    "![](Fig/fig400.PNG)\n",
    "\n",
    "![](Fig/fig401.PNG)"
   ]
  },
  {
   "cell_type": "markdown",
   "metadata": {},
   "source": [
    "# End of lecture!"
   ]
  }
 ],
 "metadata": {
  "kernelspec": {
   "display_name": "Python 3",
   "language": "python",
   "name": "python3"
  },
  "language_info": {
   "codemirror_mode": {
    "name": "ipython",
    "version": 3
   },
   "file_extension": ".py",
   "mimetype": "text/x-python",
   "name": "python",
   "nbconvert_exporter": "python",
   "pygments_lexer": "ipython3",
   "version": "3.8.5"
  }
 },
 "nbformat": 4,
 "nbformat_minor": 4
}
