{
 "cells": [
  {
   "cell_type": "markdown",
   "metadata": {},
   "source": [
    "<div class=\"alert alert-success\">\n",
    "    <b>Author</b>:\n",
    "\n",
    "      Rashik Rahman\n",
    "      17201012@uap-bd.edu\n",
    "\n",
    "</div>\n",
    "\n",
    "**[Click here to see class lecture](https://drive.google.com/file/d/1QBb7lMS3vRqjP00QUD2ZTnvwrDF8r7A-/view)**\n"
   ]
  },
  {
   "cell_type": "markdown",
   "metadata": {},
   "source": [
    "![](Fig/fig69.PNG)\n",
    "\n",
    "![](Fig/fig70.PNG)\n",
    "\n",
    "![](Fig/fig71.PNG)\n",
    "\n",
    "![](Fig/fig72.PNG)\n",
    "\n",
    "![](Fig/fig73.PNG)\n",
    "\n",
    "![](Fig/fig74.PNG)\n",
    "\n",
    "![](Fig/fig75.PNG)"
   ]
  },
  {
   "cell_type": "markdown",
   "metadata": {},
   "source": [
    "\n",
    "\n",
    "![](Fig/fig76.PNG)\n",
    "\n",
    "![](Fig/fig77.PNG)\n",
    "\n",
    "![](Fig/fig78.PNG)\n",
    "\n",
    "![](Fig/fig79.PNG)\n",
    "\n",
    "![](Fig/fig80.PNG)\n",
    "\n",
    "![](Fig/fig81.PNG)\n",
    "\n",
    "![](Fig/fig82.PNG)"
   ]
  },
  {
   "cell_type": "markdown",
   "metadata": {},
   "source": [
    "\n",
    "\n",
    "![](Fig/fig83.PNG)\n",
    "\n",
    "![](Fig/fig84.PNG)\n",
    "\n",
    "![](Fig/fig85.PNG)\n",
    "\n",
    "![](Fig/fig86.PNG)\n",
    "\n",
    "![](Fig/fig87.PNG)\n",
    "\n",
    "![](Fig/fig88.PNG)\n",
    "\n",
    "Chapter 3 er page 70 porjonto viva."
   ]
  },
  {
   "cell_type": "markdown",
   "metadata": {},
   "source": [
    "# End of lecture!"
   ]
  }
 ],
 "metadata": {
  "kernelspec": {
   "display_name": "Python 3",
   "language": "python",
   "name": "python3"
  },
  "language_info": {
   "codemirror_mode": {
    "name": "ipython",
    "version": 3
   },
   "file_extension": ".py",
   "mimetype": "text/x-python",
   "name": "python",
   "nbconvert_exporter": "python",
   "pygments_lexer": "ipython3",
   "version": "3.8.5"
  }
 },
 "nbformat": 4,
 "nbformat_minor": 4
}
