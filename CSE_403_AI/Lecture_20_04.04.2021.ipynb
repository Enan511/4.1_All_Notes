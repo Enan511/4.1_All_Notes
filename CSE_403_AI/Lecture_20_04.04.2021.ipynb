{
 "cells": [
  {
   "cell_type": "markdown",
   "metadata": {},
   "source": [
    "#### <div class=\"alert alert-success\">\n",
    "    <b>Author</b>:\n",
    "\n",
    "      Rashik Rahman\n",
    "      17201012@uap-bd.edu\n",
    "\n",
    "</div>\n",
    "\n",
    "\n",
    "\n",
    "**[Click here to see class lecture](https://drive.google.com/file/d/15g7OfcwBurajPWvE3X77rrv8d_yPItpi/view)**\n"
   ]
  },
  {
   "cell_type": "markdown",
   "metadata": {},
   "source": [
    "![](Fig/fig295.PNG)\n",
    "\n",
    "A artifiacial agent may have various purpose depending on the work they have to do. But main purpose to build such agent is to give it human like ability to think.\n",
    "\n",
    "Preparing knowledge representation in such a way that machines understands it. The purpose of KR is how to how to prepare representation so that machine understands and how much storage efficient is the KR. Result of logic most of the time is True/False, rule is if-else based, semantic net is graphical representation, Frames introduces oop concepts. \n",
    "\n",
    "![](Fig/fig296.PNG) \n",
    "\n",
    "![](Fig/fig297.PNG)\n",
    "\n",
    "To make the agent more smart and human like more knowledge is needed to train it.\n",
    "\n",
    "\n",
    "![](Fig/fig298.PNG)\n",
    "\n",
    "![](Fig/fig299.PNG)\n",
    "\n",
    "![](Fig/fig300.PNG)\n"
   ]
  },
  {
   "cell_type": "markdown",
   "metadata": {},
   "source": [
    "\n",
    "\n",
    "![](Fig/fig301.PNG)\n",
    "\n",
    "Symbol can be any characters except T and F cause it represents true & false.\n",
    "\n",
    "![](Fig/fig302.PNG)\n",
    "\n",
    "![](Fig/fig303.PNG)\n",
    "\n",
    "![](Fig/fig304.PNG)\n",
    "\n",
    "H implies S means if H then S. So when we find a condition we can use implies. Left side is condition and right side is conclusion.\n",
    "\n",
    "![](Fig/fig305.PNG)\n",
    "\n",
    "![](Fig/fig306.PNG)\n",
    "\n",
    "Here for statement S1 we get three rep p,q,r so there can be $2^3$=8 representation of S1. Rep shape can be like from p=F,q=F,r=F to p=T,q=T,r=T. In the 8 rep if we find fome of the Y to be True then S1 is satisfiable, if all is False then contradiction, if all is True then valid. Now if there's another statement S2 and it's True positions in rep table is equal to True S1's True positions in rep table then we can say both of the statement is equivalence. \n",
    "\n",
    "![](Fig/fig307.PNG) \n",
    "\n",
    "![](Fig/fig308.PNG) \n",
    "\n",
    "![](Fig/fig367.PNG)\n",
    "\n",
    "Q te P=T,Q=F,R=F emon kichu bole dea na thakle 2^n hishabe hobe jekhane n=no. of variable. Here variables are 3 p,q,r so 2^3 = 8 ta interpretation hobe. like FFF,FFT,FTT, ....., TTT.\n",
    "\n",
    "Table shajiye bole dite hobe valid, contraditory or satisfiable reasoning dite hobe naile marks  kata.\n",
    "\n",
    "\n",
    "![](Fig/fig309.PNG)\n",
    "\n",
    "![](Fig/fig368.PNG)\n",
    "\n",
    "![](Fig/fig310.PNG)"
   ]
  },
  {
   "cell_type": "markdown",
   "metadata": {},
   "source": [
    "\n",
    "\n",
    "![](Fig/fig311.PNG)\n",
    "\n",
    "![](Fig/fig312.PNG)\n",
    "\n",
    "![](Fig/fig313.PNG)\n",
    "\n",
    "![](Fig/fig314.PNG)\n",
    "\n",
    "![](Fig/fig315.PNG)"
   ]
  },
  {
   "cell_type": "markdown",
   "metadata": {},
   "source": [
    "\n",
    "\n",
    "![](Fig/fig316.PNG)\n",
    "\n",
    "![](Fig/fig317.PNG)\n",
    "\n",
    "![](Fig/fig318.PNG)\n",
    "\n",
    "PL means propositional logic.\n",
    "\n",
    "![](Fig/fig319.PNG)"
   ]
  },
  {
   "cell_type": "markdown",
   "metadata": {},
   "source": [
    "# End of lecture!"
   ]
  }
 ],
 "metadata": {
  "kernelspec": {
   "display_name": "Python 3",
   "language": "python",
   "name": "python3"
  },
  "language_info": {
   "codemirror_mode": {
    "name": "ipython",
    "version": 3
   },
   "file_extension": ".py",
   "mimetype": "text/x-python",
   "name": "python",
   "nbconvert_exporter": "python",
   "pygments_lexer": "ipython3",
   "version": "3.8.5"
  }
 },
 "nbformat": 4,
 "nbformat_minor": 4
}
