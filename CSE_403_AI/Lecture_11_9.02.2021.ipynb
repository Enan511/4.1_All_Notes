{
 "cells": [
  {
   "cell_type": "markdown",
   "metadata": {},
   "source": [
    "<div class=\"alert alert-success\">\n",
    "    <b>Author</b>:\n",
    "\n",
    "      Rashik Rahman\n",
    "      17201012@uap-bd.edu\n",
    "\n",
    "</div>\n",
    "\n",
    "**[Click here to see class lecture](https://drive.google.com/file/d/1FB5EryFGfi_d2EoX0hUdkxkxBxVWuiiW/view)**\n"
   ]
  },
  {
   "cell_type": "markdown",
   "metadata": {},
   "source": [
    "## A star\n",
    "\n",
    "![](Fig/fig163.PNG)\n",
    "\n",
    "![](Fig/fig164.PNG)\n",
    "\n",
    "![](Fig/fig165.PNG)\n",
    "\n",
    "![](Fig/fig166.PNG)\n",
    "\n",
    "![](Fig/fig167.PNG)\n"
   ]
  },
  {
   "cell_type": "markdown",
   "metadata": {},
   "source": [
    "\n",
    "![](Fig/fig168.PNG)\n",
    "\n",
    "![](Fig/fig169.PNG)\n",
    "\n",
    "The condition of **admisibility** is it should be greater equal to 0 and less then equal to the path cost of current node to goal. Here from A->G cost is 4 and hn of A is 4 so it does satisfy the condition.  The condition is also satisfied for B but admisibility is not enough.\n",
    "\n",
    "![](Fig/fig170.PNG)\n",
    "\n",
    "![](Fig/fig171.PNG)\n",
    "\n",
    "As admisibility isn't enough so we need a more strong property that is consistency. If the hn difference of parent and child is less equal to path cost of parent to child then we can say consistency is satisfied.\n",
    "\n",
    "![](Fig/fig172.PNG)\n",
    "\n",
    "![](Fig/fig173.PNG)\n",
    "\n"
   ]
  },
  {
   "cell_type": "markdown",
   "metadata": {},
   "source": [
    "For hA=4 consistancy isn't satisfied cause hA-hC is 4-1=3 and cost of A->C is 1 so the condition isn't satisfied but for hA=2 it is satisfied.\n",
    "\n",
    "![](Fig/fig174.PNG)\n",
    "\n",
    "![](Fig/fig175.PNG)\n",
    "\n",
    "Here h2(s) means the sum of moves needed to put a tile in its place. like to move 7 from start state position to goal state position it is needed to move 3 times, to move 2 from start state position to goal state position it is needed to move 1 time, to move 5 from start state position to goal state position it is needed to move 2 times so on. Thus the sum be like 3+1+2+.....=18\n",
    "\n",
    "![](Fig/fig176.PNG)"
   ]
  },
  {
   "cell_type": "markdown",
   "metadata": {},
   "source": [
    "# Sylbus till mid\n",
    "\n",
    "# End of lecture!"
   ]
  }
 ],
 "metadata": {
  "kernelspec": {
   "display_name": "Python 3",
   "language": "python",
   "name": "python3"
  },
  "language_info": {
   "codemirror_mode": {
    "name": "ipython",
    "version": 3
   },
   "file_extension": ".py",
   "mimetype": "text/x-python",
   "name": "python",
   "nbconvert_exporter": "python",
   "pygments_lexer": "ipython3",
   "version": "3.8.5"
  }
 },
 "nbformat": 4,
 "nbformat_minor": 4
}
