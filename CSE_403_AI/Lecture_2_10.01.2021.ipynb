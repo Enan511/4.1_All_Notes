{
 "cells": [
  {
   "cell_type": "markdown",
   "metadata": {},
   "source": [
    "<div class=\"alert alert-success\">\n",
    "    <b>Author</b>:\n",
    "\n",
    "      Rashik Rahman\n",
    "      17201012@uap-bd.edu\n",
    "\n",
    "</div>\n",
    "\n",
    "**[Click here to see class lecture](https://drive.google.com/file/d/11NOvCSiici9b_cMZZPHtVtaWFtmJK0hB/view)**\n"
   ]
  },
  {
   "cell_type": "markdown",
   "metadata": {},
   "source": [
    "[watch this](https://www.youtube.com/watch?v=2ePf9rue1Ao)"
   ]
  },
  {
   "cell_type": "markdown",
   "metadata": {},
   "source": [
    "![](Fig/fig89.PNG)\n",
    "\n",
    "![](Fig/fig9.PNG)\n",
    "\n",
    "Not intelligent\n",
    "\n",
    "![](Fig/fig10.PNG)\n",
    "\n",
    "Partially intelligent.\n",
    "\n",
    "![](Fig/fig11.PNG)\n",
    "\n",
    "AI deff from book.\n",
    "\n",
    "![](Fig/fig12.PNG)\n",
    "\n",
    "![](Fig/fig13.PNG)\n",
    "\n",
    "![](Fig/fig14.PNG)\n",
    "\n",
    "![](Fig/fig15.PNG)\n",
    "\n",
    "![](Fig/fig16.PNG)\n",
    "\n",
    "![](Fig/fig17.PNG)"
   ]
  },
  {
   "cell_type": "markdown",
   "metadata": {},
   "source": [
    "![](Fig/fig18.PNG)\n",
    "\n",
    "![](Fig/fig19.PNG)\n",
    "\n",
    "![](Fig/fig20.PNG)\n",
    "\n",
    "![](Fig/fig21.PNG)\n",
    "\n",
    "![](Fig/fig22.PNG)\n",
    "\n",
    "![](Fig/fig23.PNG)"
   ]
  },
  {
   "cell_type": "markdown",
   "metadata": {},
   "source": [
    "\n",
    "![](Fig/fig24.PNG)\n",
    "\n",
    "![](Fig/fig26.PNG)\n",
    "\n",
    "![](Fig/fig25.PNG)\n",
    "\n",
    "![](Fig/fig27.PNG)\n",
    "\n",
    "![](Fig/fig28.PNG)\n",
    "\n",
    "![](Fig/fig29.PNG)"
   ]
  },
  {
   "cell_type": "markdown",
   "metadata": {},
   "source": [
    "# End of lectuer!"
   ]
  }
 ],
 "metadata": {
  "kernelspec": {
   "display_name": "Python 3",
   "language": "python",
   "name": "python3"
  },
  "language_info": {
   "codemirror_mode": {
    "name": "ipython",
    "version": 3
   },
   "file_extension": ".py",
   "mimetype": "text/x-python",
   "name": "python",
   "nbconvert_exporter": "python",
   "pygments_lexer": "ipython3",
   "version": "3.7.6"
  }
 },
 "nbformat": 4,
 "nbformat_minor": 4
}
