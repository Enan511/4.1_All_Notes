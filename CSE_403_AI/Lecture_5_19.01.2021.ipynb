{
 "cells": [
  {
   "cell_type": "markdown",
   "metadata": {},
   "source": [
    "<div class=\"alert alert-success\">\n",
    "    <b>Author</b>:\n",
    "\n",
    "      Rashik Rahman\n",
    "      17201012@uap-bd.edu\n",
    "\n",
    "</div>\n",
    "\n",
    "**[Click here to see class lecture](https://drive.google.com/file/d/1FIJ9ijMvZICI-r1cMA4G3DX08VpBpHrV/view)**\n"
   ]
  },
  {
   "cell_type": "code",
   "execution_count": 1,
   "metadata": {},
   "outputs": [
    {
     "data": {
      "text/html": [
       "\n",
       "<iframe width=\"560\" height=\"315\" src=\"https://www.youtube.com/embed/ad79nYk2keg\" frameborder=\"0\" allow=\"accelerometer; autoplay; clipboard-write; encrypted-media; gyroscope; picture-in-picture\" allowfullscreen></iframe>\n"
      ],
      "text/plain": [
       "<IPython.core.display.HTML object>"
      ]
     },
     "metadata": {},
     "output_type": "display_data"
    }
   ],
   "source": [
    "%%html\n",
    "\n",
    "<iframe width=\"560\" height=\"315\" src=\"https://www.youtube.com/embed/ad79nYk2keg\" frameborder=\"0\" allow=\"accelerometer; autoplay; clipboard-write; encrypted-media; gyroscope; picture-in-picture\" allowfullscreen></iframe>"
   ]
  },
  {
   "cell_type": "markdown",
   "metadata": {},
   "source": [
    "Searching agent is basically a planning agent.\n",
    "\n",
    "![](Fig/fig90.PNG)\n",
    "\n",
    "Here to count the states we used n * mn method. Here n represents number of location and m represents number of problem condition i.e. dirt or clean. So we get 2 * 2 * 2. = 8 possible world states.\n",
    "\n",
    "![](Fig/fig87.PNG)\n",
    "\n",
    "![](Fig/fig91.PNG)\n",
    "\n",
    "A chess board has 8 * 8 = 64 squares. So to place the first queen we need to observe 64 squares, to place the second queen we have to observe 63 squares. Thus 1.8 * 14^14 possible sequence investigation is needed. But can we do better?\n",
    "\n",
    "![](Fig/fig92.PNG)\n",
    "\n",
    "A better approach.\n",
    "\n",
    "![](Fig/fig93.PNG)"
   ]
  },
  {
   "cell_type": "markdown",
   "metadata": {},
   "source": [
    "## Explaination of books\n",
    "\n",
    "\n",
    "![](Fig/fig94.PNG)\n",
    "\n",
    "![](Fig/fig95.PNG)\n",
    "\n",
    "![](Fig/fig96.PNG)\n",
    "\n",
    "![](Fig/fig97.PNG)\n",
    "\n",
    "## Some definations\n",
    "\n",
    "![](Fig/fig98.PNG)\n",
    "\n",
    "![](Fig/fig99.PNG)\n",
    "\n",
    "![](Fig/fig100.PNG)\n",
    "\n",
    "![](Fig/fig101.PNG)\n",
    "\n",
    "If we want to form a tree from the following graph it'll result in infinite tree. Cause there exist a loop in graph(a-b). \n",
    "\n",
    "![](Fig/fig102.PNG)\n"
   ]
  },
  {
   "cell_type": "markdown",
   "metadata": {},
   "source": [
    "# End of lecture!"
   ]
  }
 ],
 "metadata": {
  "kernelspec": {
   "display_name": "Python 3",
   "language": "python",
   "name": "python3"
  },
  "language_info": {
   "codemirror_mode": {
    "name": "ipython",
    "version": 3
   },
   "file_extension": ".py",
   "mimetype": "text/x-python",
   "name": "python",
   "nbconvert_exporter": "python",
   "pygments_lexer": "ipython3",
   "version": "3.7.6"
  }
 },
 "nbformat": 4,
 "nbformat_minor": 4
}
