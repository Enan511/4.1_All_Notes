{
 "cells": [
  {
   "cell_type": "markdown",
   "metadata": {},
   "source": [
    "<div class=\"alert alert-success\">\n",
    "    <b>Author</b>:\n",
    "\n",
    "      Rashik Rahman\n",
    "      17201012@uap-bd.edu\n",
    "\n",
    "</div>\n",
    "\n",
    "**[Click here to see class lecture](https://drive.google.com/file/d/1sBkoa1cxqcfJOPITC6ipNFd1A3WPLKCc/view)**\n"
   ]
  },
  {
   "cell_type": "markdown",
   "metadata": {},
   "source": [
    "![](Fig/fig103.PNG)\n",
    "\n",
    "![](Fig/fig104.PNG)\n",
    "\n",
    "![](Fig/fig105.PNG)\n",
    "\n",
    "The marked last nodes are called leaf node.\n",
    "\n",
    "![](Fig/fig106.PNG)\n",
    "\n",
    "Done lab implementation of graph/tree searching problem. Fringe is a set of imediate the child nodes of a parent node.\n",
    "\n",
    "![](Fig/fig107.PNG)"
   ]
  },
  {
   "cell_type": "markdown",
   "metadata": {},
   "source": [
    "\n",
    "\n",
    "![](Fig/fig108.PNG)\n",
    "\n",
    "![](Fig/fig109.PNG)\n",
    "\n",
    "![](Fig/fig110.PNG)\n",
    "\n",
    "![](Fig/fig111.PNG)\n",
    "\n",
    "![](Fig/fig112.PNG)\n",
    "\n",
    "**LIFO data structure would be used in case of DFS**\n",
    "\n",
    "![](Fig/fig113.PNG)\n",
    "\n",
    "![](Fig/fig114.PNG)\n",
    "\n",
    "![](Fig/fig115.PNG)"
   ]
  },
  {
   "cell_type": "markdown",
   "metadata": {},
   "source": [
    "If there are m tiers or m levels in a tree then numbers of leaf nodes(number of nodes in last level) will be $b^m$. Big O notation refers to worst case situation cause it is a upper bound of an algorithm.\n",
    "\n",
    "![](Fig/fig116.PNG)\n",
    "\n",
    "Four properties of DFS. Time complexity is $b^m$ cause is has to traverse through $b^m$ nodes but space complexity is $b*m$ cause it takes childs in the fringe. Not optimal cause traversal happens from left to right here the optimal solution maybe in the right most node but as the traversal starts from leftmost node so it has to traverse through the whole tree.\n",
    "\n",
    "![](Fig/fig117.PNG)\n",
    "\n",
    "![](Fig/fig118.PNG)\n",
    "\n",
    "![](Fig/fig119.PNG)\n",
    "\n",
    "![](Fig/fig120.PNG)\n"
   ]
  },
  {
   "cell_type": "markdown",
   "metadata": {},
   "source": [
    "# End of lecture!"
   ]
  }
 ],
 "metadata": {
  "kernelspec": {
   "display_name": "Python 3",
   "language": "python",
   "name": "python3"
  },
  "language_info": {
   "codemirror_mode": {
    "name": "ipython",
    "version": 3
   },
   "file_extension": ".py",
   "mimetype": "text/x-python",
   "name": "python",
   "nbconvert_exporter": "python",
   "pygments_lexer": "ipython3",
   "version": "3.8.5"
  }
 },
 "nbformat": 4,
 "nbformat_minor": 4
}
