{
 "cells": [
  {
   "cell_type": "markdown",
   "metadata": {},
   "source": [
    "<div class=\"alert alert-success\">\n",
    "    <b>Author</b>:\n",
    "\n",
    "      Rashik Rahman\n",
    "      17201012@uap-bd.edu\n",
    "\n",
    "</div>\n",
    "\n",
    "**[Click here to see class lecture](https://drive.google.com/file/d/1sLgCTW_c-VwCx9V224k6hlZK3G3dkLdi/view)**\n"
   ]
  },
  {
   "cell_type": "markdown",
   "metadata": {},
   "source": [
    "**See puzzle solve in lab section**\n",
    "\n",
    "We'll learn how to solve maze today."
   ]
  },
  {
   "cell_type": "markdown",
   "metadata": {},
   "source": [
    "So from a base matrix we get a start & goal state. Now we need to find the shortest path using A * algorithm. Here the difficulty is, to solve a maze we need to manually calculate Gn and Hn to get Fn. Hn is the manhatten cost between current state and goal state and Gn is the eucledian cost between two neighbours. We take two fringe open and close fringe. close fringe keeps visited states and open fringe keeps expandable states. At first S is kept in CF(closed fringe) and from S we can expand to A,B,C states so they are kept in OF(open fringe). Now we don't expand from these 3 state we only expand from the stat that has the lowest Fn. After calculating Fn for all three states we see that B has the lowest Fn thus we put B in CF flush OF and expand B and put those states in OF. Current node's cost will be = current node gn + parent node gn thus when we reach goal state it will store the total path cost in the goal state. Then in the end add hn to goal state total cost thus you get total Fn.\n",
    "\n",
    "![](Fig/fig144.PNG)\n",
    "\n",
    "![](Fig/fig177.png)"
   ]
  },
  {
   "cell_type": "markdown",
   "metadata": {},
   "source": [
    "# End of lecture!"
   ]
  }
 ],
 "metadata": {
  "kernelspec": {
   "display_name": "Python 3",
   "language": "python",
   "name": "python3"
  },
  "language_info": {
   "codemirror_mode": {
    "name": "ipython",
    "version": 3
   },
   "file_extension": ".py",
   "mimetype": "text/x-python",
   "name": "python",
   "nbconvert_exporter": "python",
   "pygments_lexer": "ipython3",
   "version": "3.8.5"
  }
 },
 "nbformat": 4,
 "nbformat_minor": 4
}
