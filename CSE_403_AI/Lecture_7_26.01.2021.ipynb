{
 "cells": [
  {
   "cell_type": "markdown",
   "metadata": {},
   "source": [
    "<div class=\"alert alert-success\">\n",
    "    <b>Author</b>:\n",
    "\n",
    "      Rashik Rahman\n",
    "      17201012@uap-bd.edu\n",
    "\n",
    "</div>\n",
    "\n",
    "**[Click here to see class lecture](https://drive.google.com/file/d/1vhqGzwY8mTOEOgfvbQELXTl1BWq1gUYS/view)**\n"
   ]
  },
  {
   "cell_type": "markdown",
   "metadata": {},
   "source": [
    "![](Fig/fig121.PNG)"
   ]
  },
  {
   "cell_type": "markdown",
   "metadata": {},
   "source": [
    "**BFS will use FIFO data structure for fringe**\n",
    "\n",
    "![](Fig/fig122.PNG)\n",
    "\n",
    "Here time and space both complexity is $b^s$ cause it traverse through all the $b^s$ nodes and stores all the $b^s$ nodes in the fringe.\n",
    "\n",
    "![](Fig/fig123.PNG)\n",
    "\n",
    "![](Fig/fig124.PNG)\n",
    "\n",
    "![](Fig/fig125.PNG)\n",
    "\n",
    "![](Fig/fig126.PNG)\n",
    "\n",
    "When the searching value is in the upper level or shalow level then BFS is best and when the value is in depth level then DFS is best. Following BFS vs. DFS topic are very important.\n",
    "\n",
    "![](Fig/fig127.PNG)\n",
    "\n",
    "![](Fig/fig128.PNG)\n",
    "\n",
    "branching factor means size of list/queue/stack.\n",
    "\n",
    "![](Fig/fig129.PNG)"
   ]
  },
  {
   "cell_type": "markdown",
   "metadata": {},
   "source": [
    "In IDS level are redundent, this means that levels are being repeated as we increase the limit with each iteration cause dfs starts from top at each iteration.\n",
    "\n",
    "![](Fig/fig130.PNG)\n",
    "\n",
    "![](Fig/fig131.PNG)\n",
    "\n",
    "![](Fig/fig132.PNG)\n",
    "\n",
    "![](Fig/fig133.PNG)\n",
    "\n",
    "![](Fig/fig134.PNG)\n",
    "\n",
    "![](Fig/fig135.PNG)\n",
    "\n",
    "![](Fig/fig136.PNG)\n",
    "\n",
    "![](Fig/fig137.PNG)\n",
    "\n",
    "Here we expand the leeast cost node first. So from S we expand d from d expand a. Now a is a leaf node so now we can compare cost of a e c p cause these are in the fringe. e has the lowest cost so we expand e.\n",
    "\n",
    "![](Fig/fig138.PNG)"
   ]
  },
  {
   "cell_type": "markdown",
   "metadata": {},
   "source": [
    "\n",
    "\n",
    "![](Fig/fig139.PNG)\n",
    "\n",
    "![](Fig/fig140.PNG)\n",
    "\n",
    "![](Fig/fig141.PNG)\n",
    "\n",
    "![](Fig/fig142.PNG)\n",
    "\n",
    "![](Fig/fig143.PNG)"
   ]
  },
  {
   "cell_type": "markdown",
   "metadata": {},
   "source": [
    "# End of lecture!"
   ]
  }
 ],
 "metadata": {
  "kernelspec": {
   "display_name": "Python 3",
   "language": "python",
   "name": "python3"
  },
  "language_info": {
   "codemirror_mode": {
    "name": "ipython",
    "version": 3
   },
   "file_extension": ".py",
   "mimetype": "text/x-python",
   "name": "python",
   "nbconvert_exporter": "python",
   "pygments_lexer": "ipython3",
   "version": "3.7.6"
  }
 },
 "nbformat": 4,
 "nbformat_minor": 4
}
