{
 "cells": [
  {
   "cell_type": "markdown",
   "metadata": {},
   "source": [
    "\n",
    "<div class=\"alert alert-success\">\n",
    "    <b>Author</b>:\n",
    "\n",
    "      Rashik Rahman\n",
    "      17201012@uap-bd.edu\n",
    "\n",
    "</div>\n",
    "\n",
    "\n",
    "**[Click here to see class lecture](https://drive.google.com/file/d/1skSI3Zy6TwzAiESKmg2PlCIGI7qtq7ie/view)**\n"
   ]
  },
  {
   "cell_type": "markdown",
   "metadata": {},
   "source": [
    "Today we'll learn about fuzzy logic. Earlier we only studiend logics having only T and F values but fuzzy can enhance that by using itnerval of 0-1. Thus it is called many valued logic.\n",
    "\n",
    "![](Fig/fig340.PNG)\n",
    "\n",
    "![](Fig/fig341.PNG)\n",
    "\n",
    "![](Fig/fig342.PNG)\n",
    "\n",
    "![](Fig/fig343.PNG)\n",
    "\n",
    "![](Fig/fig344.PNG)\n",
    "\n",
    "![](Fig/fig345.PNG)\n",
    "\n",
    "Using these functions we can determine degree of membership of a fuzzy set.\n",
    "\n",
    "![](Fig/fig346.PNG)"
   ]
  },
  {
   "cell_type": "markdown",
   "metadata": {},
   "source": [
    "Degree of membership calculation using multiple functions.\n",
    "\n",
    "![](Fig/fig347.PNG)\n",
    "\n",
    "![](Fig/fig348.PNG)\n",
    "\n",
    "**Trapizoidal can be divided into two separate functions. R & L functions.\n",
    "\n",
    "![](Fig/fig349.PNG)\n",
    "\n",
    "![](Fig/fig350.PNG)\n",
    "\n",
    "![](Fig/fig351.PNG)"
   ]
  },
  {
   "cell_type": "markdown",
   "metadata": {},
   "source": [
    "\n",
    "\n",
    "![](Fig/fig352.PNG)\n",
    "\n",
    "![](Fig/fig353.PNG)\n",
    "\n",
    "![](Fig/fig354.PNG)\n",
    "\n",
    "Hedges are basically modifiers that give a level to the values. Like very, not so, more, quite, more or less, extremely etc.\n",
    "\n",
    "![](Fig/fig355.PNG)"
   ]
  },
  {
   "cell_type": "markdown",
   "metadata": {},
   "source": [
    "**Important: Fuzzy modifier/hedges**\n",
    "\n",
    "![](Fig/fig356.PNG)\n",
    "\n",
    "![](Fig/fig357.PNG)\n",
    "\n",
    "![](Fig/fig358.PNG)\n",
    "\n",
    "![](Fig/fig359.PNG)\n",
    "\n",
    "![](Fig/fig360.PNG)"
   ]
  },
  {
   "cell_type": "markdown",
   "metadata": {},
   "source": []
  },
  {
   "cell_type": "markdown",
   "metadata": {},
   "source": []
  }
 ],
 "metadata": {
  "kernelspec": {
   "display_name": "Python 3",
   "language": "python",
   "name": "python3"
  },
  "language_info": {
   "codemirror_mode": {
    "name": "ipython",
    "version": 3
   },
   "file_extension": ".py",
   "mimetype": "text/x-python",
   "name": "python",
   "nbconvert_exporter": "python",
   "pygments_lexer": "ipython3",
   "version": "3.8.5"
  }
 },
 "nbformat": 4,
 "nbformat_minor": 4
}
