{
 "cells": [
  {
   "cell_type": "markdown",
   "metadata": {},
   "source": [
    "<div class=\"alert alert-success\">\n",
    "    <b>Author</b>:\n",
    "\n",
    "      Rashik Rahman\n",
    "      17201012@uap-bd.edu\n",
    "\n",
    "</div>\n",
    "\n",
    "\n",
    "**[Click here to see class lecture](https://drive.google.com/file/d/1OdCNm07e1ofkD7lKTCQWu4RegrI1DvMj/view)**"
   ]
  },
  {
   "cell_type": "markdown",
   "metadata": {},
   "source": [
    "![](Fig/fig402.PNG)\n",
    "\n",
    "![](Fig/fig403.PNG)\n",
    "\n",
    "![](Fig/fig404.PNG)\n",
    "\n",
    "![](Fig/fig405.PNG)\n",
    "\n",
    "![](Fig/fig406.PNG)\n",
    "\n",
    "![](Fig/fig407.PNG)"
   ]
  },
  {
   "cell_type": "markdown",
   "metadata": {},
   "source": [
    "\n",
    "\n",
    "![](Fig/fig408.PNG)\n",
    "\n",
    "![](Fig/fig409.PNG)\n",
    "\n",
    "![](Fig/fig410.PNG)\n",
    "\n",
    "![](Fig/fig411.PNG)"
   ]
  },
  {
   "cell_type": "markdown",
   "metadata": {},
   "source": [
    "\n",
    "\n",
    "![](Fig/fig412.PNG)\n",
    "\n",
    "![](Fig/fig413.PNG)\n",
    "\n",
    "![](Fig/fig414.PNG)\n",
    "\n",
    "![](Fig/fig415.PNG)\n"
   ]
  },
  {
   "cell_type": "markdown",
   "metadata": {},
   "source": [
    "# End of lecture!"
   ]
  }
 ],
 "metadata": {
  "kernelspec": {
   "display_name": "Python 3",
   "language": "python",
   "name": "python3"
  },
  "language_info": {
   "codemirror_mode": {
    "name": "ipython",
    "version": 3
   },
   "file_extension": ".py",
   "mimetype": "text/x-python",
   "name": "python",
   "nbconvert_exporter": "python",
   "pygments_lexer": "ipython3",
   "version": "3.8.5"
  }
 },
 "nbformat": 4,
 "nbformat_minor": 4
}
