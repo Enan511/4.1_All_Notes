{
 "cells": [
  {
   "cell_type": "markdown",
   "metadata": {},
   "source": [
    "<div class=\"alert alert-success\">\n",
    "    <b>Author</b>:\n",
    "\n",
    "      Rashik Rahman\n",
    "      17201012@uap-bd.edu\n",
    "\n",
    "</div>\n",
    "\n",
    "\n",
    "**[Click here to see class lecture](https://drive.google.com/file/d/1xhbf2VCEkdyg0694cazOfmkWZ5GG7kQo/view)**"
   ]
  },
  {
   "cell_type": "markdown",
   "metadata": {},
   "source": [
    "![](Fig/fig253.PNG)\n",
    "\n",
    "![](Fig/fig254.PNG)\n",
    "\n",
    "![](Fig/fig255.PNG)\n",
    "\n",
    "![](Fig/fig256.PNG)\n",
    "\n",
    "![](Fig/fig257.PNG)\n",
    "\n",
    "![](Fig/fig258.PNG)"
   ]
  },
  {
   "cell_type": "markdown",
   "metadata": {},
   "source": [
    "\n",
    "\n",
    "![](Fig/fig259.PNG)\n",
    "\n",
    "![](Fig/fig260.PNG)\n",
    "\n",
    "![](Fig/fig261.PNG)\n",
    "\n",
    "![](Fig/fig262.PNG)\n",
    "\n",
    "![](Fig/fig263.PNG)\n",
    "\n",
    "![](Fig/fig264.PNG)\n",
    "\n",
    "![](Fig/fig265.PNG)\n",
    "\n",
    "like cavity is relevant given condition and sunny is irrelevant condition.\n",
    "\n",
    "![](Fig/fig270.PNG)"
   ]
  },
  {
   "cell_type": "markdown",
   "metadata": {},
   "source": [
    "Here the highlightes eqn is for P(b)>0 for P(a)>0 a,b will swap places in the eqn.\n",
    "\n",
    "![](Fig/fig266.PNG)\n",
    "\n",
    "Unconditional probability. Here the mark before toothache means 'no' so no toothache no catch.\n",
    "\n",
    "![](Fig/fig267.PNG)\n",
    "\n",
    "![](Fig/fig268.PNG)\n",
    "\n",
    "Here as there are two columns in toothache and condition is no cavity thus the probability is the sum of those divided by sum of all four values regarding to toothache as it is divided by probability of toothache.\n",
    "\n",
    "![](Fig/fig269.PNG)\n",
    "\n",
    "We divide the values by alpha such that the sum of the divided value is 1. So to be that alpha needs to be 0.2. Alpha is the normalization factor. So normalize korte bolle evabe alpha er value ber korte hobe.\n",
    "\n",
    "![](Fig/fig271.PNG)\n",
    "\n",
    "![](Fig/fig272.PNG)\n",
    "\n",
    "![](Fig/fig273.PNG)\n",
    "\n",
    "**Next topic**\n",
    "\n",
    "![](Fig/fig274.PNG)"
   ]
  },
  {
   "cell_type": "markdown",
   "metadata": {},
   "source": [
    "# End of lecture!"
   ]
  }
 ],
 "metadata": {
  "kernelspec": {
   "display_name": "Python 3",
   "language": "python",
   "name": "python3"
  },
  "language_info": {
   "codemirror_mode": {
    "name": "ipython",
    "version": 3
   },
   "file_extension": ".py",
   "mimetype": "text/x-python",
   "name": "python",
   "nbconvert_exporter": "python",
   "pygments_lexer": "ipython3",
   "version": "3.8.5"
  }
 },
 "nbformat": 4,
 "nbformat_minor": 4
}
