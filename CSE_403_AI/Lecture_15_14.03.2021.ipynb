{
 "cells": [
  {
   "cell_type": "markdown",
   "metadata": {},
   "source": [
    "<div class=\"alert alert-success\">\n",
    "    <b>Author</b>:\n",
    "\n",
    "      Rashik Rahman\n",
    "      17201012@uap-bd.edu\n",
    "\n",
    "</div>\n",
    "\n",
    "\n",
    "**[Click here to see class lecture](https://drive.google.com/file/d/1axm_CvBkht-ZEOoeekLcsf7Gdg78CiQy/view)**"
   ]
  },
  {
   "cell_type": "markdown",
   "metadata": {},
   "source": [
    "In other searches there was no oponent but in adverserial search there is oponents for searching. Agents compete against each other to see who reaches optimal solution first. This is the main difference between adverserial search and all other searches.\n",
    "\n",
    "![](Fig/fig237.PNG)\n",
    "\n",
    "MinMax is very slow considering complex problems cause in complex problem branching factor/branches are very high. This can be solved using pruning(tree theke kichu branch bad dea without hampering the end result). Alpha-beta pruning will be used.\n",
    "\n",
    "![](Fig/fig238.PNG)\n",
    "\n",
    "![](Fig/fig239.PNG)\n",
    "\n",
    "![](Fig/fig240.PNG)\n",
    "\n",
    "![](Fig/fig241.PNG)"
   ]
  },
  {
   "cell_type": "markdown",
   "metadata": {},
   "source": [
    "The condition to prune is when alpha>=beta.\n",
    "\n",
    "![](Fig/fig242.PNG)\n",
    "\n",
    "Initially alpha and beta value are -inf, +inf. Then these value passed to child. While back tracking to D alpha is updated as layer of D is max function. After that beta of B is updated as layer of B is min function. Then going to E node we pass alpha beta value of -inf,3 to E node. When E takes 5 then alpha becomes 5 and alpha > beta so condition is met node E can be prunned. If the condition didn't met then we would have taken 9 as max no. But as condition is met so no need to compare terminal nodes.\n",
    "\n",
    "![](Fig/fig243.PNG)\n",
    "\n",
    "![](Fig/fig244.PNG)\n",
    "\n",
    "alpha beta of A is updated and passed down to F. Then F gets 1 as F is max so alpha now be updated to 1. Comming to C, C gets 1 from its left childe nodes value and as it is of min func so beta is updated to be 1. So condition is met thus no need to search the subtree it can be prunned.\n",
    "\n",
    "![](Fig/fig245.PNG)\n",
    "\n",
    "![](Fig/fig246.PNG)\n",
    "\n",
    "The path needs to be highlighted.\n",
    "\n",
    "![](Fig/fig247.PNG)"
   ]
  },
  {
   "cell_type": "markdown",
   "metadata": {},
   "source": [
    "\n",
    "\n",
    "![](Fig/fig248.PNG)\n",
    "\n",
    "![](Fig/fig249.PNG)\n",
    "\n",
    "![](Fig/fig250.PNG)\n",
    "\n",
    "![](Fig/fig251.PNG)\n",
    "\n",
    "![](Fig/fig252.PNG)"
   ]
  },
  {
   "cell_type": "markdown",
   "metadata": {},
   "source": [
    "# End of lecture!"
   ]
  }
 ],
 "metadata": {
  "kernelspec": {
   "display_name": "Python 3",
   "language": "python",
   "name": "python3"
  },
  "language_info": {
   "codemirror_mode": {
    "name": "ipython",
    "version": 3
   },
   "file_extension": ".py",
   "mimetype": "text/x-python",
   "name": "python",
   "nbconvert_exporter": "python",
   "pygments_lexer": "ipython3",
   "version": "3.8.5"
  }
 },
 "nbformat": 4,
 "nbformat_minor": 4
}
