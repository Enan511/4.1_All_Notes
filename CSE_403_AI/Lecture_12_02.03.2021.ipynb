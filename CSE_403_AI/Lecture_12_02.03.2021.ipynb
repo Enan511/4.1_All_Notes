{
 "cells": [
  {
   "cell_type": "markdown",
   "metadata": {},
   "source": [
    "<div class=\"alert alert-success\">\n",
    "    <b>Author</b>:\n",
    "\n",
    "      Rashik Rahman\n",
    "      17201012@uap-bd.edu\n",
    "\n",
    "</div>\n",
    "\n",
    "\n",
    "**[Click here to see class lecture](https://drive.google.com/file/d/1aTFEphnTs9hzcfEZ7F-VmYczjVn8gRXP/view)**"
   ]
  },
  {
   "cell_type": "markdown",
   "metadata": {},
   "source": [
    "![](Fig/fig178.PNG)\n",
    "\n",
    "![](Fig/fig179.PNG)"
   ]
  },
  {
   "cell_type": "markdown",
   "metadata": {},
   "source": [
    "\n",
    "\n",
    "![](Fig/fig180.PNG)\n",
    "\n",
    "![](Fig/fig181.PNG)\n",
    "\n",
    "New population/generation is basically child and old is parent. Fittest new population/generation would be selected as parent in next iteration.\n",
    "\n",
    "![](Fig/fig182.PNG)\n",
    "\n",
    "![](Fig/fig183.PNG)\n",
    "\n",
    "There are three GA operators selection, crossover, mutation.\n",
    "\n",
    "![](Fig/fig184.PNG)\n",
    "\n",
    "![](Fig/fig185.PNG)"
   ]
  },
  {
   "cell_type": "markdown",
   "metadata": {},
   "source": [
    "\n",
    "\n",
    "![](Fig/fig186.PNG)\n",
    "\n",
    "Here head is same but tail is swapped in the children/offspring part.\n",
    "\n",
    "![](Fig/fig187.PNG)\n",
    "\n",
    "![](Fig/fig188.PNG)"
   ]
  },
  {
   "cell_type": "markdown",
   "metadata": {},
   "source": []
  },
  {
   "cell_type": "markdown",
   "metadata": {},
   "source": []
  }
 ],
 "metadata": {
  "kernelspec": {
   "display_name": "Python 3",
   "language": "python",
   "name": "python3"
  },
  "language_info": {
   "codemirror_mode": {
    "name": "ipython",
    "version": 3
   },
   "file_extension": ".py",
   "mimetype": "text/x-python",
   "name": "python",
   "nbconvert_exporter": "python",
   "pygments_lexer": "ipython3",
   "version": "3.8.5"
  }
 },
 "nbformat": 4,
 "nbformat_minor": 4
}
