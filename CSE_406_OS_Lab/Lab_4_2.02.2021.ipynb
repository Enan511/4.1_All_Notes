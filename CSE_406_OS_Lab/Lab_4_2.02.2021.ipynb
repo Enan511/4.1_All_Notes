{
 "cells": [
  {
   "cell_type": "markdown",
   "metadata": {},
   "source": [
    "<div class=\"alert alert-success\">\n",
    "    <b>Author</b>:\n",
    "\n",
    "      Rashik Rahman\n",
    "      17201012@uap-bd.edu\n",
    "\n",
    "</div>\n",
    "\n",
    "**[Click here to see class lecture]()**\n"
   ]
  },
  {
   "cell_type": "code",
   "execution_count": 32,
   "metadata": {},
   "outputs": [
    {
     "name": "stdin",
     "output_type": "stream",
     "text": [
      "Enter sequence :  98 183 37 122 14 124 65 67\n",
      "Give header :  53\n"
     ]
    }
   ],
   "source": [
    "queue = list(map(int, input('Enter sequence : ').split()))\n",
    "header = int(input('Give header : '))"
   ]
  },
  {
   "cell_type": "markdown",
   "metadata": {},
   "source": [
    "# SCAN"
   ]
  },
  {
   "cell_type": "code",
   "execution_count": 33,
   "metadata": {},
   "outputs": [
    {
     "data": {
      "text/plain": [
       "[14, 37, 53, 65, 67, 98, 122, 124, 183]"
      ]
     },
     "execution_count": 33,
     "metadata": {},
     "output_type": "execute_result"
    }
   ],
   "source": [
    "q2 = queue.copy()\n",
    "q2.append(header)\n",
    "q2.sort()\n",
    "q2"
   ]
  },
  {
   "cell_type": "code",
   "execution_count": 57,
   "metadata": {},
   "outputs": [
    {
     "data": {
      "text/plain": [
       "[53, 37, 14]"
      ]
     },
     "execution_count": 57,
     "metadata": {},
     "output_type": "execute_result"
    }
   ],
   "source": [
    "q3 = q2[:q2.index(header)]\n",
    "q3.append(header)\n",
    "q3 = q3[::-1]\n",
    "q3"
   ]
  },
  {
   "cell_type": "code",
   "execution_count": 35,
   "metadata": {},
   "outputs": [
    {
     "data": {
      "text/plain": [
       "[0, 65, 67, 98, 122, 124, 183]"
      ]
     },
     "execution_count": 35,
     "metadata": {},
     "output_type": "execute_result"
    }
   ],
   "source": [
    "q4 = q2[q2.index(header):]\n",
    "q4.sort()\n",
    "q4[q4.index(header)]=0\n",
    "q4"
   ]
  },
  {
   "cell_type": "code",
   "execution_count": 48,
   "metadata": {},
   "outputs": [
    {
     "name": "stdout",
     "output_type": "stream",
     "text": [
      "abs(53-37)+abs(37-14)+abs(14-0)+abs(0-65)+abs(65-67)+abs(67-98)+abs(98-122)+abs(122-124)+abs(124-183)\n"
     ]
    }
   ],
   "source": [
    "cost = []\n",
    "for i in range(len(q3)-1):\n",
    "    cost.append(abs(q3[i] - q3[i+1]))\n",
    "    print('abs({}-{})'.format(q3[i],q3[i+1]),end='+')\n",
    "    \n",
    "cost.append(q3[i+1])\n",
    "print('abs({}-{})'.format(q3[i+1],0),end='+')\n",
    "\n",
    "for i in range(len(q4)-1):\n",
    "    cost.append(abs(q4[i] - q4[i+1]))\n",
    "    if i == (len(q4)-2):\n",
    "        print('abs({}-{})'.format(q4[i],q4[i+1]))\n",
    "    else:\n",
    "        print('abs({}-{})'.format(q4[i],q4[i+1]),end='+')"
   ]
  },
  {
   "cell_type": "code",
   "execution_count": 58,
   "metadata": {},
   "outputs": [
    {
     "name": "stdout",
     "output_type": "stream",
     "text": [
      "[53, 37, 14, 0, 65, 67, 98, 122, 124, 183]\n"
     ]
    }
   ],
   "source": [
    "q3.extend(q4)\n",
    "print(q3)"
   ]
  },
  {
   "cell_type": "code",
   "execution_count": 49,
   "metadata": {},
   "outputs": [
    {
     "name": "stdout",
     "output_type": "stream",
     "text": [
      "Path cost is  236\n"
     ]
    }
   ],
   "source": [
    "print('Path cost is ',sum(cost))"
   ]
  },
  {
   "cell_type": "code",
   "execution_count": null,
   "metadata": {},
   "outputs": [],
   "source": []
  }
 ],
 "metadata": {
  "kernelspec": {
   "display_name": "Python 3",
   "language": "python",
   "name": "python3"
  },
  "language_info": {
   "codemirror_mode": {
    "name": "ipython",
    "version": 3
   },
   "file_extension": ".py",
   "mimetype": "text/x-python",
   "name": "python",
   "nbconvert_exporter": "python",
   "pygments_lexer": "ipython3",
   "version": "3.7.6"
  }
 },
 "nbformat": 4,
 "nbformat_minor": 4
}
