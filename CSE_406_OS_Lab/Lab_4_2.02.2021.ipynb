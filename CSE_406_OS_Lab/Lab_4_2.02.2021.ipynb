{
 "cells": [
  {
   "cell_type": "markdown",
   "metadata": {},
   "source": [
    "<div class=\"alert alert-success\">\n",
    "    <b>Author</b>:\n",
    "\n",
    "      Rashik Rahman\n",
    "      17201012@uap-bd.edu\n",
    "\n",
    "</div>\n",
    "\n",
    "**[Click here to see class lecture](https://drive.google.com/file/d/1_7FrH-Vl5SsBMVvPy-uQsfgV-j3CHQHq/view)**\n"
   ]
  },
  {
   "cell_type": "code",
   "execution_count": 1,
   "metadata": {},
   "outputs": [
    {
     "name": "stdin",
     "output_type": "stream",
     "text": [
      "Enter sequence :  98 183 37 122 14 124 65 67\n",
      "Give header :  53\n"
     ]
    }
   ],
   "source": [
    "queue = list(map(int, input('Enter sequence : ').split()))\n",
    "header = int(input('Give header : '))"
   ]
  },
  {
   "cell_type": "markdown",
   "metadata": {},
   "source": [
    "# SCAN"
   ]
  },
  {
   "cell_type": "code",
   "execution_count": 2,
   "metadata": {},
   "outputs": [
    {
     "data": {
      "text/plain": [
       "[14, 37, 53, 65, 67, 98, 122, 124, 183]"
      ]
     },
     "execution_count": 2,
     "metadata": {},
     "output_type": "execute_result"
    }
   ],
   "source": [
    "q2 = queue.copy()\n",
    "q2.append(header)\n",
    "q2.sort()\n",
    "q2"
   ]
  },
  {
   "cell_type": "code",
   "execution_count": 3,
   "metadata": {},
   "outputs": [
    {
     "data": {
      "text/plain": [
       "[53, 37, 14]"
      ]
     },
     "execution_count": 3,
     "metadata": {},
     "output_type": "execute_result"
    }
   ],
   "source": [
    "q3 = q2[:q2.index(header)]\n",
    "q3.append(header)\n",
    "q3 = q3[::-1]\n",
    "q3"
   ]
  },
  {
   "cell_type": "code",
   "execution_count": 4,
   "metadata": {},
   "outputs": [
    {
     "data": {
      "text/plain": [
       "[0, 65, 67, 98, 122, 124, 183]"
      ]
     },
     "execution_count": 4,
     "metadata": {},
     "output_type": "execute_result"
    }
   ],
   "source": [
    "q4 = q2[q2.index(header):]\n",
    "q4.sort()\n",
    "q4[q4.index(header)]=0\n",
    "q4"
   ]
  },
  {
   "cell_type": "code",
   "execution_count": 5,
   "metadata": {},
   "outputs": [
    {
     "name": "stdout",
     "output_type": "stream",
     "text": [
      "abs(53-37)+abs(37-14)+abs(14-0)+abs(0-65)+abs(65-67)+abs(67-98)+abs(98-122)+abs(122-124)+abs(124-183)\n"
     ]
    }
   ],
   "source": [
    "cost = []\n",
    "for i in range(len(q3)-1):\n",
    "    cost.append(abs(q3[i] - q3[i+1]))\n",
    "    print('abs({}-{})'.format(q3[i],q3[i+1]),end='+')\n",
    "    \n",
    "cost.append(q3[i+1])\n",
    "print('abs({}-{})'.format(q3[i+1],0),end='+')\n",
    "\n",
    "for i in range(len(q4)-1):\n",
    "    cost.append(abs(q4[i] - q4[i+1]))\n",
    "    if i == (len(q4)-2):\n",
    "        print('abs({}-{})'.format(q4[i],q4[i+1]))\n",
    "    else:\n",
    "        print('abs({}-{})'.format(q4[i],q4[i+1]),end='+')"
   ]
  },
  {
   "cell_type": "code",
   "execution_count": 6,
   "metadata": {},
   "outputs": [
    {
     "name": "stdout",
     "output_type": "stream",
     "text": [
      "[53, 37, 14, 0, 65, 67, 98, 122, 124, 183]\n"
     ]
    }
   ],
   "source": [
    "q3.extend(q4)\n",
    "print(q3)"
   ]
  },
  {
   "cell_type": "code",
   "execution_count": 7,
   "metadata": {},
   "outputs": [
    {
     "name": "stdout",
     "output_type": "stream",
     "text": [
      "Path cost is  236\n"
     ]
    }
   ],
   "source": [
    "print('Path cost is ',sum(cost))"
   ]
  },
  {
   "cell_type": "markdown",
   "metadata": {},
   "source": [
    "# C-SCAN"
   ]
  },
  {
   "cell_type": "code",
   "execution_count": 10,
   "metadata": {},
   "outputs": [],
   "source": [
    "end_boundary = 199"
   ]
  },
  {
   "cell_type": "code",
   "execution_count": 11,
   "metadata": {},
   "outputs": [],
   "source": [
    "q2.insert(len(q2),end_boundary)"
   ]
  },
  {
   "cell_type": "code",
   "execution_count": 12,
   "metadata": {},
   "outputs": [
    {
     "data": {
      "text/plain": [
       "[0, 14, 37, 53, 65, 67, 98, 122, 124, 183, 199]"
      ]
     },
     "execution_count": 12,
     "metadata": {},
     "output_type": "execute_result"
    }
   ],
   "source": [
    "q2.insert(0,0)\n",
    "q2"
   ]
  },
  {
   "cell_type": "code",
   "execution_count": 17,
   "metadata": {},
   "outputs": [
    {
     "data": {
      "text/plain": [
       "[0, 14, 37]"
      ]
     },
     "execution_count": 17,
     "metadata": {},
     "output_type": "execute_result"
    }
   ],
   "source": [
    "q3 = q2[:q2.index(header)]\n",
    "q3"
   ]
  },
  {
   "cell_type": "code",
   "execution_count": 18,
   "metadata": {},
   "outputs": [
    {
     "data": {
      "text/plain": [
       "[53, 65, 67, 98, 122, 124, 183, 199]"
      ]
     },
     "execution_count": 18,
     "metadata": {},
     "output_type": "execute_result"
    }
   ],
   "source": [
    "q4 = q2[q2.index(header):]\n",
    "q4"
   ]
  },
  {
   "cell_type": "code",
   "execution_count": 21,
   "metadata": {},
   "outputs": [
    {
     "name": "stdout",
     "output_type": "stream",
     "text": [
      "The path is :  [53, 65, 67, 98, 122, 124, 183, 199, 0, 14, 37]\n"
     ]
    }
   ],
   "source": [
    "q5 = q4+q3\n",
    "print('The path is : ',q5)"
   ]
  },
  {
   "cell_type": "code",
   "execution_count": 22,
   "metadata": {},
   "outputs": [
    {
     "name": "stdout",
     "output_type": "stream",
     "text": [
      "abs(53-65)+abs(65-67)+abs(67-98)+abs(98-122)+abs(122-124)+abs(124-183)+abs(183-199)+abs(199-0)+abs(0-14)+abs(14-37)\n"
     ]
    }
   ],
   "source": [
    "cost = []\n",
    "\n",
    "for i in range(len(q5)-1):\n",
    "    cost.append(abs(q5[i] - q5[i+1]))\n",
    "    if i == (len(q5)-2):\n",
    "        print('abs({}-{})'.format(q5[i],q5[i+1]))\n",
    "    else:\n",
    "        print('abs({}-{})'.format(q5[i],q5[i+1]),end='+')"
   ]
  },
  {
   "cell_type": "code",
   "execution_count": 23,
   "metadata": {},
   "outputs": [
    {
     "name": "stdout",
     "output_type": "stream",
     "text": [
      "Path cost is  382\n"
     ]
    }
   ],
   "source": [
    "print('Path cost is ',sum(cost))"
   ]
  },
  {
   "cell_type": "markdown",
   "metadata": {},
   "source": [
    "# C-LOOK"
   ]
  },
  {
   "cell_type": "code",
   "execution_count": 27,
   "metadata": {},
   "outputs": [
    {
     "data": {
      "text/plain": [
       "[53, 65, 67, 98, 122, 124, 183, 14, 37]"
      ]
     },
     "execution_count": 27,
     "metadata": {},
     "output_type": "execute_result"
    }
   ],
   "source": [
    "q6 = q4[:-1]+q3[1:]\n",
    "\n",
    "q6"
   ]
  },
  {
   "cell_type": "code",
   "execution_count": 28,
   "metadata": {},
   "outputs": [
    {
     "name": "stdout",
     "output_type": "stream",
     "text": [
      "abs(53-65)+abs(65-67)+abs(67-98)+abs(98-122)+abs(122-124)+abs(124-183)+abs(183-14)+abs(14-37)\n"
     ]
    }
   ],
   "source": [
    "cost = []\n",
    "\n",
    "for i in range(len(q6)-1):\n",
    "    cost.append(abs(q6[i] - q6[i+1]))\n",
    "    if i == (len(q6)-2):\n",
    "        print('abs({}-{})'.format(q6[i],q6[i+1]))\n",
    "    else:\n",
    "        print('abs({}-{})'.format(q6[i],q6[i+1]),end='+')"
   ]
  },
  {
   "cell_type": "code",
   "execution_count": 29,
   "metadata": {},
   "outputs": [
    {
     "name": "stdout",
     "output_type": "stream",
     "text": [
      "Path cost is  322\n"
     ]
    }
   ],
   "source": [
    "print('Path cost is ',sum(cost))"
   ]
  }
 ],
 "metadata": {
  "kernelspec": {
   "display_name": "Python 3",
   "language": "python",
   "name": "python3"
  },
  "language_info": {
   "codemirror_mode": {
    "name": "ipython",
    "version": 3
   },
   "file_extension": ".py",
   "mimetype": "text/x-python",
   "name": "python",
   "nbconvert_exporter": "python",
   "pygments_lexer": "ipython3",
   "version": "3.7.6"
  }
 },
 "nbformat": 4,
 "nbformat_minor": 4
}
