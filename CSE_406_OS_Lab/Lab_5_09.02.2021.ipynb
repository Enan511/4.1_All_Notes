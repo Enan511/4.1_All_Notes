{
 "cells": [
  {
   "cell_type": "markdown",
   "metadata": {},
   "source": [
    "<div class=\"alert alert-success\">\n",
    "    <b>Author</b>:\n",
    "\n",
    "      Rashik Rahman\n",
    "      17201012@uap-bd.edu\n",
    "\n",
    "</div>\n",
    "\n",
    "**[Click here to see class lecture](https://drive.google.com/file/d/1T-MsLa8kiktHvG3QJhKWQlB0GJlEt7sy/view)**\n"
   ]
  },
  {
   "cell_type": "markdown",
   "metadata": {},
   "source": [
    "![](Fig/fig1.PNG)\n",
    "\n",
    "When a process comes its page is put into frame. But at a certain time memory is full and can't take the page of a new process. So now we use page replacement algorithms to remove inactive page from frame and replace it with the new page.\n",
    "\n",
    "![](Fig/fig2.PNG)\n",
    "\n",
    "![](Fig/fig3.PNG)\n",
    "\n",
    "![](Fig/fig4.PNG)\n",
    "\n",
    "![](Fig/fig5.PNG)\n",
    "\n",
    "![](Fig/fig6.PNG)"
   ]
  },
  {
   "cell_type": "markdown",
   "metadata": {},
   "source": [
    "# FIFO\n",
    "\n",
    "\n",
    "\n",
    "![](Fig/fig7.PNG)"
   ]
  },
  {
   "cell_type": "code",
   "execution_count": 18,
   "metadata": {},
   "outputs": [],
   "source": [
    "buffer = int(input('Provide buffer size'))\n",
    "\n",
    "sequence = list(map(int, input('Provide input sequence').split()))"
   ]
  },
  {
   "cell_type": "code",
   "execution_count": 19,
   "metadata": {},
   "outputs": [
    {
     "output_type": "execute_result",
     "data": {
      "text/plain": [
       "[6, 4, 0, 1, 0, 2, 7, 1, 1, 7, 2, 0, 1, 0, 4, 6]"
      ]
     },
     "metadata": {},
     "execution_count": 19
    }
   ],
   "source": [
    "sequence"
   ]
  },
  {
   "cell_type": "code",
   "execution_count": 20,
   "metadata": {},
   "outputs": [
    {
     "output_type": "stream",
     "name": "stdout",
     "text": [
      "[6]\n[6, 4]\n[6, 4, 0]\n[6, 4, 0, 1]\n--hit--\n[4, 0, 1, 2]\n[0, 1, 2, 7]\n--hit--\n--hit--\n--hit--\n--hit--\n--hit--\n--hit--\n--hit--\n[1, 2, 7, 4]\n[2, 7, 4, 6]\n"
     ]
    }
   ],
   "source": [
    "buffer_ls = []\n",
    "page_fault = 0\n",
    "for val in sequence:\n",
    "    if len(buffer_ls)<buffer:\n",
    "        if val in buffer_ls:\n",
    "            print('--hit--')\n",
    "        else:\n",
    "            page_fault+=1\n",
    "            buffer_ls.append(val)\n",
    "            print(buffer_ls)\n",
    "    else:\n",
    "        if val in buffer_ls:\n",
    "            print('--hit--')\n",
    "        else:\n",
    "            page_fault+=1\n",
    "            buffer_ls.pop(0)\n",
    "            buffer_ls.append(val)\n",
    "            print(buffer_ls)"
   ]
  },
  {
   "cell_type": "code",
   "execution_count": 21,
   "metadata": {},
   "outputs": [
    {
     "output_type": "stream",
     "name": "stdout",
     "text": [
      "Number of page fault 8\n"
     ]
    }
   ],
   "source": [
    "print('Number of page fault', page_fault)"
   ]
  },
  {
   "cell_type": "markdown",
   "metadata": {},
   "source": [
    "# Optimal Replacement\n",
    "\n",
    "![](Fig/fig8.PNG)"
   ]
  },
  {
   "cell_type": "code",
   "execution_count": 22,
   "metadata": {},
   "outputs": [
    {
     "output_type": "stream",
     "name": "stdout",
     "text": [
      "[6]\n[6, 4]\n[6, 4, 0]\n[6, 4, 0, 1]\n--hit--\n[4, 0, 1, 2]\n[0, 1, 2, 7]\n--hit--\n--hit--\n--hit--\n--hit--\n--hit--\n--hit--\n--hit--\n[0, 1, 2, 4]\n[0, 1, 4, 6]\n"
     ]
    }
   ],
   "source": [
    "buffer_ls = []\n",
    "page_fault = 0\n",
    "\n",
    "for val in sequence:\n",
    "    idx = []\n",
    "    tmp_ls = sequence[sequence.index(val)+1:]\n",
    "    \n",
    "    if len(buffer_ls)<buffer:\n",
    "        if val in buffer_ls:\n",
    "            print('--hit--')\n",
    "        else:\n",
    "            page_fault+=1\n",
    "            buffer_ls.append(val)\n",
    "            print(buffer_ls)\n",
    "    else:\n",
    "        if val in buffer_ls:\n",
    "            print('--hit--')\n",
    "        else:\n",
    "            page_fault+=1\n",
    "            \n",
    "            for i in buffer_ls:\n",
    "                try:\n",
    "                    idx.append(tmp_ls.index(i))\n",
    "                except:\n",
    "                    continue    \n",
    "            \n",
    "            buffer_ls.remove(tmp_ls[max(idx)])\n",
    "            buffer_ls.append(val)\n",
    "            print(buffer_ls)"
   ]
  },
  {
   "cell_type": "code",
   "execution_count": 23,
   "metadata": {},
   "outputs": [
    {
     "output_type": "stream",
     "name": "stdout",
     "text": [
      "Number of page fault 8\n"
     ]
    }
   ],
   "source": [
    "print('Number of page fault', page_fault)"
   ]
  },
  {
   "cell_type": "markdown",
   "metadata": {},
   "source": [
    "# LRU Page Replacement\n",
    "\n",
    "![](Fig/fig9.PNG)"
   ]
  },
  {
   "cell_type": "code",
   "execution_count": 24,
   "metadata": {},
   "outputs": [
    {
     "output_type": "stream",
     "name": "stdout",
     "text": [
      "[6]\n[6, 4]\n[6, 4, 0]\n[6, 4, 0, 1]\n--hit--\n[4, 1, 0, 2]\n[1, 0, 2, 7]\n--hit--\n--hit--\n--hit--\n--hit--\n--hit--\n--hit--\n--hit--\n[2, 1, 0, 4]\n[1, 0, 4, 6]\n"
     ]
    }
   ],
   "source": [
    "buffer_ls = []  \n",
    "page_fault = 0\n",
    "\n",
    "  \n",
    "for i in sequence: \n",
    "  \n",
    "\n",
    "    if i in buffer_ls: \n",
    "         # Remove previous index of current page \n",
    "        print('--hit--')\n",
    "        buffer_ls.remove(i) \n",
    "  \n",
    "        # Now append it, at last index \n",
    "        buffer_ls.append(i) \n",
    "  \n",
    "\n",
    "    else: \n",
    "        # Check if the list can hold equal pages \n",
    "        if(len(buffer_ls) == buffer): \n",
    "            buffer_ls.remove(buffer_ls[0]) \n",
    "            buffer_ls.append(i) \n",
    "  \n",
    "        else: \n",
    "            buffer_ls.append(i) \n",
    "  \n",
    "        print(buffer_ls)\n",
    "        page_fault +=1\n",
    "          \n",
    "       "
   ]
  },
  {
   "cell_type": "code",
   "execution_count": 25,
   "metadata": {},
   "outputs": [
    {
     "output_type": "stream",
     "name": "stdout",
     "text": [
      "Number of page fault 8\n"
     ]
    }
   ],
   "source": [
    "print('Number of page fault', page_fault)"
   ]
  },
  {
   "cell_type": "markdown",
   "metadata": {},
   "source": [
    "# End of lab"
   ]
  }
 ],
 "metadata": {
  "kernelspec": {
   "name": "python385jvsc74a57bd0187a3bd7aa36e721320d9cf66e4acc41f80d667db05d703b6fb2e15f59a96abb",
   "display_name": "Python 3.8.5 64-bit (conda)"
  },
  "language_info": {
   "codemirror_mode": {
    "name": "ipython",
    "version": 3
   },
   "file_extension": ".py",
   "mimetype": "text/x-python",
   "name": "python",
   "nbconvert_exporter": "python",
   "pygments_lexer": "ipython3",
   "version": "3.8.5"
  }
 },
 "nbformat": 4,
 "nbformat_minor": 4
}