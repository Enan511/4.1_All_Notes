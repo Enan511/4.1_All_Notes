{
 "cells": [
  {
   "cell_type": "markdown",
   "metadata": {},
   "source": [
    "<div class=\"alert alert-success\">\n",
    "    <b>Author</b>:\n",
    "\n",
    "      Rashik Rahman\n",
    "      17201012@uap-bd.edu\n",
    "\n",
    "</div>\n",
    "\n",
    "**[Click here to see class lecture](https://drive.google.com/file/d/180NkgwAnCq7cEArneigPcM-z8LwMlH51/view)**\n"
   ]
  },
  {
   "cell_type": "markdown",
   "metadata": {},
   "source": [
    "# FCFS"
   ]
  },
  {
   "cell_type": "code",
   "execution_count": 1,
   "metadata": {},
   "outputs": [
    {
     "name": "stdin",
     "output_type": "stream",
     "text": [
      "Enter sequence :  98 183 37 122 14 124 65 67\n",
      "Give header :  53\n"
     ]
    }
   ],
   "source": [
    "queue = list(map(int, input('Enter sequence : ').split()))\n",
    "header = int(input('Give header : '))"
   ]
  },
  {
   "cell_type": "code",
   "execution_count": 2,
   "metadata": {},
   "outputs": [
    {
     "name": "stdout",
     "output_type": "stream",
     "text": [
      "Path is [53, 98, 183, 37, 122, 14, 124, 65, 67]\n"
     ]
    }
   ],
   "source": [
    "queue.insert(0, header)\n",
    "print('Path is',queue)"
   ]
  },
  {
   "cell_type": "code",
   "execution_count": 3,
   "metadata": {},
   "outputs": [
    {
     "name": "stdout",
     "output_type": "stream",
     "text": [
      "abs(98-53)+abs(183-98)+abs(37-183)+abs(122-37)+abs(14-122)+abs(124-14)+abs(65-124)+abs(67-65)\n"
     ]
    }
   ],
   "source": [
    "temp = [0]\n",
    "\n",
    "for i in range(1,len(queue)):\n",
    "    if i == len(queue)-1:\n",
    "        print('abs({}-{})'.format(queue[i],queue[i-1]))\n",
    "    else:\n",
    "        print('abs({}-{})'.format(queue[i],queue[i-1]),end='+')\n",
    "    temp.append(abs(queue[i]-queue[i-1]))\n",
    "   \n"
   ]
  },
  {
   "cell_type": "code",
   "execution_count": 4,
   "metadata": {},
   "outputs": [
    {
     "name": "stdout",
     "output_type": "stream",
     "text": [
      "Total path cost is 640\n"
     ]
    }
   ],
   "source": [
    "print('Total path cost is',sum(temp))"
   ]
  },
  {
   "cell_type": "markdown",
   "metadata": {},
   "source": [
    "# SSTF"
   ]
  },
  {
   "cell_type": "code",
   "execution_count": 5,
   "metadata": {},
   "outputs": [
    {
     "name": "stdout",
     "output_type": "stream",
     "text": [
      "abs(53-65)+abs(65-67)+abs(67-37)+abs(37-14)+abs(14-98)+abs(98-122)+abs(122-124)+abs(124-183)+abs(183-183)\n"
     ]
    }
   ],
   "source": [
    "path = [header]\n",
    "cnt = len(queue)-1\n",
    "val=0\n",
    "while queue:\n",
    "    \n",
    "    if cnt == 0:\n",
    "        queue.remove(header)\n",
    "        hdr = path[len(path)-1]\n",
    "        minDist = 9999999999999999999\n",
    "        for i in queue:\n",
    "            if minDist>abs(hdr-i):\n",
    "                minDist = abs(hdr-i)\n",
    "                temp = i\n",
    "        print('abs({}-{})'.format(hdr,temp))\n",
    "        path.append(temp)\n",
    "        header=temp\n",
    "    else:\n",
    "        queue.remove(header)\n",
    "        hdr = path[len(path)-1]\n",
    "        minDist = 9999999999999999999\n",
    "        for i in queue:\n",
    "            if minDist>abs(hdr-i):\n",
    "                minDist = abs(hdr-i)\n",
    "                temp = i\n",
    "        print('abs({}-{})'.format(hdr,temp),end='+')\n",
    "        val+=abs(hdr-temp)\n",
    "        path.append(temp)\n",
    "        header=temp\n",
    "\n",
    "        \n",
    "    cnt-=1"
   ]
  },
  {
   "cell_type": "code",
   "execution_count": 6,
   "metadata": {},
   "outputs": [
    {
     "name": "stdout",
     "output_type": "stream",
     "text": [
      "Path is [53, 65, 67, 37, 14, 98, 122, 124, 183]\n"
     ]
    }
   ],
   "source": [
    "print('Path is',path[:-1])"
   ]
  },
  {
   "cell_type": "code",
   "execution_count": 7,
   "metadata": {},
   "outputs": [
    {
     "name": "stdout",
     "output_type": "stream",
     "text": [
      "Path cost is 236\n"
     ]
    }
   ],
   "source": [
    "print('Path cost is',val)"
   ]
  }
 ],
 "metadata": {
  "kernelspec": {
   "display_name": "Python 3",
   "language": "python",
   "name": "python3"
  },
  "language_info": {
   "codemirror_mode": {
    "name": "ipython",
    "version": 3
   },
   "file_extension": ".py",
   "mimetype": "text/x-python",
   "name": "python",
   "nbconvert_exporter": "python",
   "pygments_lexer": "ipython3",
   "version": "3.7.6"
  }
 },
 "nbformat": 4,
 "nbformat_minor": 4
}
