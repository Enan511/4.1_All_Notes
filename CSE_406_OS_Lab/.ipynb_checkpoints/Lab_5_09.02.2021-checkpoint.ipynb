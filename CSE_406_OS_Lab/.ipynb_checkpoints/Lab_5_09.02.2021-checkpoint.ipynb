{
 "cells": [
  {
   "cell_type": "markdown",
   "metadata": {},
   "source": [
    "<div class=\"alert alert-success\">\n",
    "    <b>Author</b>:\n",
    "\n",
    "      Rashik Rahman\n",
    "      17201012@uap-bd.edu\n",
    "\n",
    "</div>\n",
    "\n",
    "**[Click here to see class lecture](https://drive.google.com/file/d/1T-MsLa8kiktHvG3QJhKWQlB0GJlEt7sy/view)**\n"
   ]
  },
  {
   "cell_type": "markdown",
   "metadata": {},
   "source": [
    "![](Fig/fig1.PNG)\n",
    "\n",
    "When a process comes its page is put into frame. But at a certain time memory is full and can't take the page of a new process. So now we use page replacement algorithms to remove inactive page from frame and replace it with the new page.\n",
    "\n",
    "![](Fig/fig2.PNG)\n",
    "\n",
    "![](Fig/fig3.PNG)\n",
    "\n",
    "![](Fig/fig4.PNG)\n",
    "\n",
    "![](Fig/fig5.PNG)"
   ]
  },
  {
   "cell_type": "markdown",
   "metadata": {},
   "source": []
  },
  {
   "cell_type": "markdown",
   "metadata": {},
   "source": []
  }
 ],
 "metadata": {
  "kernelspec": {
   "display_name": "Python 3",
   "language": "python",
   "name": "python3"
  },
  "language_info": {
   "codemirror_mode": {
    "name": "ipython",
    "version": 3
   },
   "file_extension": ".py",
   "mimetype": "text/x-python",
   "name": "python",
   "nbconvert_exporter": "python",
   "pygments_lexer": "ipython3",
   "version": "3.8.5"
  }
 },
 "nbformat": 4,
 "nbformat_minor": 4
}
