{
 "cells": [
  {
   "cell_type": "markdown",
   "metadata": {},
   "source": [
    "<div class=\"alert alert-success\">\n",
    "    <b>Author</b>:\n",
    "\n",
    "      Rashik Rahman\n",
    "      17201012@uap-bd.edu\n",
    "\n",
    "</div>\n",
    "\n",
    "**[Click here to see class lecture](https://drive.google.com/file/d/1T-MsLa8kiktHvG3QJhKWQlB0GJlEt7sy/view)**\n"
   ]
  },
  {
   "cell_type": "markdown",
   "metadata": {},
   "source": [
    "![](Fig/fig1.PNG)\n",
    "\n",
    "When a process comes its page is put into frame. But at a certain time memory is full and can't take the page of a new process. So now we use page replacement algorithms to remove inactive page from frame and replace it with the new page.\n",
    "\n",
    "![](Fig/fig2.PNG)\n",
    "\n",
    "![](Fig/fig3.PNG)\n",
    "\n",
    "![](Fig/fig4.PNG)\n",
    "\n",
    "![](Fig/fig5.PNG)\n",
    "\n",
    "![](Fig/fig6.PNG)"
   ]
  },
  {
   "cell_type": "markdown",
   "metadata": {},
   "source": [
    "# FIFO\n",
    "\n",
    "\n",
    "\n",
    "![](Fig/fig7.PNG)"
   ]
  },
  {
   "cell_type": "code",
   "execution_count": 1,
   "metadata": {},
   "outputs": [
    {
     "name": "stdin",
     "output_type": "stream",
     "text": [
      "Provide buffer size 3\n",
      "Provide input sequence 7 0 1 2 0 3 0 4 2 3 0 3 2 1 2 0 1 7 0 1\n"
     ]
    }
   ],
   "source": [
    "buffer = int(input('Provide buffer size'))\n",
    "\n",
    "sequence = list(map(int, input('Provide input sequence').split()))"
   ]
  },
  {
   "cell_type": "code",
   "execution_count": 2,
   "metadata": {},
   "outputs": [
    {
     "data": {
      "text/plain": [
       "[7, 0, 1, 2, 0, 3, 0, 4, 2, 3, 0, 3, 2, 1, 2, 0, 1, 7, 0, 1]"
      ]
     },
     "execution_count": 2,
     "metadata": {},
     "output_type": "execute_result"
    }
   ],
   "source": [
    "sequence"
   ]
  },
  {
   "cell_type": "code",
   "execution_count": 8,
   "metadata": {},
   "outputs": [
    {
     "name": "stdout",
     "output_type": "stream",
     "text": [
      "[7]\n",
      "[7, 0]\n",
      "[7, 0, 1]\n",
      "[0, 1, 2]\n",
      "--hit--\n",
      "[1, 2, 3]\n",
      "[2, 3, 0]\n",
      "[3, 0, 4]\n",
      "[0, 4, 2]\n",
      "[4, 2, 3]\n",
      "[2, 3, 0]\n",
      "--hit--\n",
      "--hit--\n",
      "[3, 0, 1]\n",
      "[0, 1, 2]\n",
      "--hit--\n",
      "--hit--\n",
      "[1, 2, 7]\n",
      "[2, 7, 0]\n",
      "[7, 0, 1]\n"
     ]
    }
   ],
   "source": [
    "buffer_ls = []\n",
    "page_fault = 0\n",
    "for val in sequence:\n",
    "    if len(buffer_ls)<buffer:\n",
    "        if val in buffer_ls:\n",
    "            print('--hit--')\n",
    "        else:\n",
    "            page_fault+=1\n",
    "            buffer_ls.append(val)\n",
    "            print(buffer_ls)\n",
    "    else:\n",
    "        if val in buffer_ls:\n",
    "            print('--hit--')\n",
    "        else:\n",
    "            page_fault+=1\n",
    "            buffer_ls.pop(0)\n",
    "            buffer_ls.append(val)\n",
    "            print(buffer_ls)"
   ]
  },
  {
   "cell_type": "code",
   "execution_count": 9,
   "metadata": {},
   "outputs": [
    {
     "name": "stdout",
     "output_type": "stream",
     "text": [
      "Number of page fault 15\n"
     ]
    }
   ],
   "source": [
    "print('Number of page fault', page_fault)"
   ]
  },
  {
   "cell_type": "markdown",
   "metadata": {},
   "source": [
    "# Optimal Replacement\n",
    "\n",
    "![](Fig/fig8.PNG)"
   ]
  },
  {
   "cell_type": "code",
   "execution_count": 13,
   "metadata": {},
   "outputs": [
    {
     "name": "stdout",
     "output_type": "stream",
     "text": [
      "[7]\n",
      "[7, 0]\n",
      "[7, 0, 1]\n"
     ]
    }
   ],
   "source": [
    "buffer_ls = []\n",
    "page_fault = 0\n",
    "for val in sequence:\n",
    "    tmp_ls = sequence[sequence.index(val)+1:]\n",
    "    \n",
    "    if len(buffer_ls)<buffer:\n",
    "        if val in buffer_ls:\n",
    "            print('--hit--')\n",
    "        else:\n",
    "            page_fault+=1\n",
    "            buffer_ls.append(val)\n",
    "            print(buffer_ls)\n",
    "    else:\n",
    "        if val in buffer_ls:\n",
    "            print('--hit--')\n",
    "        else:\n",
    "            page_fault+=1\n",
    "            \n",
    "            for i in buffer_ls:\n",
    "                pass\n",
    "            \n",
    "            buffer_ls.pop(0)\n",
    "            buffer_ls.append(val)\n",
    "            print(buffer_ls)"
   ]
  },
  {
   "cell_type": "code",
   "execution_count": null,
   "metadata": {},
   "outputs": [],
   "source": []
  }
 ],
 "metadata": {
  "kernelspec": {
   "display_name": "Python 3",
   "language": "python",
   "name": "python3"
  },
  "language_info": {
   "codemirror_mode": {
    "name": "ipython",
    "version": 3
   },
   "file_extension": ".py",
   "mimetype": "text/x-python",
   "name": "python",
   "nbconvert_exporter": "python",
   "pygments_lexer": "ipython3",
   "version": "3.8.5"
  }
 },
 "nbformat": 4,
 "nbformat_minor": 4
}
