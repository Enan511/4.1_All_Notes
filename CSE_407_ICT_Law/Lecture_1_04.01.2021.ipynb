{
 "cells": [
  {
   "cell_type": "markdown",
   "metadata": {},
   "source": [
    "<div class=\"alert alert-success\">\n",
    "    <b>Author</b>:\n",
    "\n",
    "      Rashik Rahman\n",
    "      17201012@uap-bd.edu\n",
    "\n",
    "</div>\n",
    "\n",
    "\n",
    "## [Click here to see class lecture](https://drive.google.com/file/d/12VuRs67ZqeHXupOhSsfjbI2OcCa82GR7/view)\n"
   ]
  },
  {
   "cell_type": "markdown",
   "metadata": {},
   "source": [
    "BD ICT act 2006, Section 57 was canceled in 2018. Section 57 was divided into multiple section in Digital Security ACT 2018. Initially section 57 had many crimes but only one punishment for those crime. So in 2018 it was divided in multiple section with individual punishments that can found in DIGITAL ACT LAW 2018. Today we'll see section 57. Lets see an example of ACT 2018. Consider you use your friend's electronic device(mobile,pc etc) without his permission ad delete some files then he may file a case against you, and you'll directly goto jail there's no need of evidence to put you in jail without arrest warrent. Police will put you in jail without inspection after that you can get bail from court but initially you can goto jail. This is considered as criminal offense and your friend can take action in any period of time. Like you committed this offense now your friend can file a case anytime after 1/2/3 years also.\n",
    "\n",
    "**ICT ACT 39 of 2006 section 57**\n",
    "\n",
    "![](Fig/fig1.PNG)\n",
    "\n",
    "Criminal offense case is of two types. One is civil another is criminal. Civil is paribarik offense like divorce, property related offense etc. And criminal is like murder, stealing etc. We will study ICT criminal offense. In criminal offense jail is must but civil doesn't has jail except only one scenario. To prove someone as a criminal two condition must be satisfied one is Actus reus another is Mens rea.\n",
    "\n",
    "**Actus reus :** is commonly defined as a criminal act that was the result of voluntary bodily movement. This describes a physical activity that harms another person or damages property. Anything from a physical assault or murder to the destruction of public property would qualify as an actus reus.\n",
    "\n",
    "**Mens rea :** refers to criminal intent. Mens rea is the mental element of a person's intention to commit a crime; or knowledge that one's action or lack of action would cause a crime to be committed. It is a necessary element of many crimes. So mens rea is divided in two section intention and knowledge. \n",
    "\n",
    "So to prove someone as criminal we have to prove actus reus, intention & knowledge these 3 things.\n",
    "\n",
    "Lects get introduced with some terms here red marked area number 1 means Section within the section blue marked 1 is sub-section. Within sub-section black marked 'a' is called clause and within clause yellow marked roman number are sub-clause.\n",
    "Long title contains the proposal of the law, written after the law number. Like 'Act prepared to provide legal recognition and security of Information and \n",
    "Communication Technology and rules of relevant subjects' this is a long title. We'll learn about section 57 of ICT ACT 39. ACT 39 provides legal support for ICT and rules of relevant subject.\n",
    "\n",
    "![](Fig/fig2.PNG)"
   ]
  },
  {
   "cell_type": "markdown",
   "metadata": {},
   "source": [
    "## ICT ACT 39 of 2006 section 57\n",
    "\n",
    "Here in the line 'Punishment for publishing fake, obscene or defaming' here we can see that there's an 'or' between two words and there's comma after 'fake' This means fake or obscene or defaming if there was 'and' that would have meant fake and obscene and defaming. Here in section 57 we can see punishment for if someone publishes fake(mittha) or obscene(oshlil) or defaming(man hanikor) info in electronic form about someone. So in this one section there's only one punishment for 3 crimes. There is one punishment for total 10 crimes in this section.\n",
    "\n",
    "- If any person deliberately publishes or transmits or causes to be published or transmitted in the website or in electronic form any material which is fake and obscene\n",
    "\n",
    "**For the following the content may or may not be fake, obscene or defaming**\n",
    "\n",
    "- its effect is such as to tend to deprave and corrupt persons who are likely, having regard to all relevant circumstances, to read, see or hear the matter contained or embodied in it\n",
    "- causes to deteriorate law and order\n",
    "- creates possibility to deteriorate law and order\n",
    "- prejudice(harm/damage/bad influence) the image of the State\n",
    "- prejudice the image of the person\n",
    "- causes to hurt religious belief\n",
    "- causes to may hurt religious belief\n",
    "- instigate(provoke) against any person\n",
    "- instigate against any organization\n",
    "\n",
    "\n",
    "![](Fig/fig1.PNG)"
   ]
  },
  {
   "cell_type": "markdown",
   "metadata": {},
   "source": [
    "**Section 57 was canceled by DIGITAL ACT LAW 2018. But these 10 offense is scattered into 10 section in DIGITAL ACT LAW 2018 from section 18-45.**"
   ]
  },
  {
   "cell_type": "markdown",
   "metadata": {},
   "source": [
    "# End of lecture!"
   ]
  }
 ],
 "metadata": {
  "kernelspec": {
   "display_name": "Python 3",
   "language": "python",
   "name": "python3"
  },
  "language_info": {
   "codemirror_mode": {
    "name": "ipython",
    "version": 3
   },
   "file_extension": ".py",
   "mimetype": "text/x-python",
   "name": "python",
   "nbconvert_exporter": "python",
   "pygments_lexer": "ipython3",
   "version": "3.8.5"
  }
 },
 "nbformat": 4,
 "nbformat_minor": 4
}
