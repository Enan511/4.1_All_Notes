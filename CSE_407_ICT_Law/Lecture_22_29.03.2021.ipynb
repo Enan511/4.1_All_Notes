{
 "cells": [
  {
   "cell_type": "markdown",
   "metadata": {},
   "source": [
    "<div class=\"alert alert-success\">\n",
    "    <b>Author</b>:\n",
    "\n",
    "      Rashik Rahman\n",
    "      17201012@uap-bd.edu\n",
    "\n",
    "</div>\n",
    "\n",
    "\n",
    "**[Click here to see class lecture](https://drive.google.com/file/d/15hm7fDGiSIj_9_dTKQkSOk_k2DgedgeT/view)**"
   ]
  },
  {
   "cell_type": "markdown",
   "metadata": {},
   "source": [
    "Arrest without warrent can be issued for any crime that falls under this ACT.  And these are non bailable offences. So for total of 75days that person can be kept in jail.\n",
    "\n",
    "Investigation = section 5\n",
    "\n",
    "![](Fig/fig94.png)\n",
    "\n",
    "Search = section 6\n",
    "\n",
    "![](Fig/fig95.png)\n",
    "\n",
    "![](Fig/fig96.png)\n",
    "\n",
    "![](Fig/fig97.png)"
   ]
  },
  {
   "cell_type": "markdown",
   "metadata": {},
   "source": [
    "Evidence = section 7\n",
    "\n",
    "![](Fig/fig98.png)\n",
    "\n",
    "Here penalty = section 8 and this is subsection 1.\n",
    "\n",
    "![](Fig/fig99.png)"
   ]
  },
  {
   "cell_type": "markdown",
   "metadata": {},
   "source": []
  }
 ],
 "metadata": {
  "kernelspec": {
   "display_name": "Python 3",
   "language": "python",
   "name": "python3"
  },
  "language_info": {
   "codemirror_mode": {
    "name": "ipython",
    "version": 3
   },
   "file_extension": ".py",
   "mimetype": "text/x-python",
   "name": "python",
   "nbconvert_exporter": "python",
   "pygments_lexer": "ipython3",
   "version": "3.8.5"
  }
 },
 "nbformat": 4,
 "nbformat_minor": 4
}
