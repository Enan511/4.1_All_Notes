{
 "cells": [
  {
   "cell_type": "markdown",
   "metadata": {},
   "source": [
    "<div class=\"alert alert-success\">\n",
    "    <b>Author</b>:\n",
    "\n",
    "      Rashik Rahman\n",
    "      17201012@uap-bd.edu\n",
    "\n",
    "</div>\n",
    "\n",
    "\n",
    "**[Click here to see class lecture](https://drive.google.com/file/d/1bfuTtlKFkXcVeia-OzZJVWkTYN8QVb6B/view)**"
   ]
  },
  {
   "cell_type": "markdown",
   "metadata": {},
   "source": [
    "By knowing info we can use our powers given in constitution's article 7. Article 39 implies importance of info. So for this reason right to info act came in 2009. Every thing is info except for office note sheets and it's photocopies.\n",
    "\n",
    "Duties of authority,\n",
    "- First will preserve info and make index of all info. Index as like Serialization  that is given in the beginning of a book.\n",
    "- Certain info would have price but reasonable\n",
    "- Info cant be limited full info must be given\n",
    "- Instructions for publication will be given by info. commission.\n",
    "\n",
    "![](Fig/fig47.PNG)\n",
    "\n",
    "IC is a statutory body.\n",
    "\n",
    "![](Fig/fig48.PNG)\n",
    "\n",
    "Only Nominated DO or Designated Officer will provide info. After notification 60 days will be given to nominate DO after that another 15 days will be given to inform the IC about appointed DO.\n",
    "\n",
    "![](Fig/fig49.PNG)"
   ]
  },
  {
   "cell_type": "markdown",
   "metadata": {},
   "source": [
    "\n",
    "\n",
    "![](Fig/fig50.PNG)\n",
    "\n",
    "20 working days means count 20days except holidays friday saturday. So every week has 5 working days thus 20 working days means 4 weeks. In case of third party connected then it may lead to 30 working days. In case of rejection DO must reject within 10 working days if it needs to be rejected. If 10 working days are exceeded then legal actions can be taken against DO. As he violated his statutory duty.\n",
    "\n",
    "![](Fig/fig51.PNG)"
   ]
  },
  {
   "cell_type": "markdown",
   "metadata": {},
   "source": []
  },
  {
   "cell_type": "markdown",
   "metadata": {},
   "source": []
  }
 ],
 "metadata": {
  "kernelspec": {
   "display_name": "Python 3",
   "language": "python",
   "name": "python3"
  },
  "language_info": {
   "codemirror_mode": {
    "name": "ipython",
    "version": 3
   },
   "file_extension": ".py",
   "mimetype": "text/x-python",
   "name": "python",
   "nbconvert_exporter": "python",
   "pygments_lexer": "ipython3",
   "version": "3.8.5"
  }
 },
 "nbformat": 4,
 "nbformat_minor": 4
}
