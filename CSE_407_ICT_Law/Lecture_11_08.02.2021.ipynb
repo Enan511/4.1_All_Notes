{
 "cells": [
  {
   "cell_type": "markdown",
   "metadata": {},
   "source": [
    "<div class=\"alert alert-success\">\n",
    "    <b>Author</b>:\n",
    "\n",
    "      Rashik Rahman\n",
    "      17201012@uap-bd.edu\n",
    "\n",
    "</div>\n",
    "\n",
    "\n",
    "**[Click here to see class lecture](https://drive.google.com/file/d/1Dr4AIySvnFSx_vUzcvCkjbAQT8nAmLHq/view)**\n"
   ]
  },
  {
   "cell_type": "markdown",
   "metadata": {},
   "source": [
    "Convention/treaty means chukti. Bangladesh is a party of some WIPO administrated treaties. Meaning that bangladesh falls under or agrees with that treaty. Whats the importance of protecting IP rights? Ans is the following fig.\n",
    "\n",
    "- Second if one's work can be protected then his moral will increase to do or create new work/algorith/project.\n",
    "\n",
    "IP is the short form of intelectual property right.\n",
    "\n",
    "![](Fig/fig32.PNG)"
   ]
  },
  {
   "cell_type": "markdown",
   "metadata": {},
   "source": [
    "There are 4 laws with 4 rules that protects IP of BD. First is the patents and designs act 1991 & the patent and design rule of 1933 so the rule came after 22year from the act. Then comes trademark act, copy right act, GI.\n",
    "\n",
    "Patent & design act says patent registration will have validation till 16 years from registration date and design registration will have validation till 5 years from registration after that the registration will be expired you'll have to renew it. Design is like a design of a product such as design of iphones, cars etc. In industry when a company launches a product they register the design and also patent the product like apple registered their 12promax design. Copy right protection is lifetime. Even if the person dies his child gets the copyright for 60 years generallly. Untill registration of a geographical based goods(jamdani,moslin) get canceled or invalidated IP rights can be provided with GI.  So whats GI goods? These are such goods that can be agriculture, natural, or manufactured good that originates from a country/territory/region/locality of the country, where any specific quality/reputation/characteristic of the is essentially attributable to its geographical origin.\n",
    "\n",
    "![](Fig/fig33.PNG)"
   ]
  },
  {
   "cell_type": "markdown",
   "metadata": {},
   "source": [
    "- if cinematograph film such as movie if it releases in 2021 then it will get copyright from 2022 to 2082, 60years as copyright is provided from begining of the year.\n",
    "\n",
    "- Broadcasting organization is like tv channel, youtube news/vlog/entertainment and many more channels etc. 25year validaty\n",
    "\n",
    "- copy right of a performer is called performer's right. 50years validaty. A performer can copy right his stage show or his own dance moves or painting etc.\n",
    "\n",
    "![](Fig/fig34.PNG)\n",
    "\n",
    "infringement means violation. For violation of copy right court will minimum give punishment in the following fig. But if the person violates without knowing it or not for business purpose then court can reduce the punishment but punishment will be given.\n",
    "\n",
    "A person commited who commited violation of copy right before this act was emplaced his punishment won't be counted, for this reason if he commits violation again after emplacement of this act it will be counted as his first offence not second and he'll get punishment for first offence.\n",
    "\n",
    "![](Fig/fig35.PNG)\n",
    "\n",
    "![](Fig/fig36.PNG)"
   ]
  },
  {
   "cell_type": "markdown",
   "metadata": {},
   "source": [
    "# End of lecture!"
   ]
  }
 ],
 "metadata": {
  "kernelspec": {
   "display_name": "Python 3",
   "language": "python",
   "name": "python3"
  },
  "language_info": {
   "codemirror_mode": {
    "name": "ipython",
    "version": 3
   },
   "file_extension": ".py",
   "mimetype": "text/x-python",
   "name": "python",
   "nbconvert_exporter": "python",
   "pygments_lexer": "ipython3",
   "version": "3.8.5"
  }
 },
 "nbformat": 4,
 "nbformat_minor": 4
}
