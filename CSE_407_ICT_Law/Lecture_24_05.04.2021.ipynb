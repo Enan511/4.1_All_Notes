{
 "cells": [
  {
   "cell_type": "markdown",
   "metadata": {},
   "source": [
    "<div class=\"alert alert-success\">\n",
    "    <b>Author</b>:\n",
    "\n",
    "      Rashik Rahman\n",
    "      17201012@uap-bd.edu\n",
    "\n",
    "</div>\n",
    "\n",
    "\n",
    "**[Click here to see class lecture](https://drive.google.com/file/d/14Cqu8qs3dfKBgSPZZFHQceSWnCfD0VpW/view)**"
   ]
  },
  {
   "cell_type": "markdown",
   "metadata": {},
   "source": [
    "# Section 26"
   ]
  },
  {
   "cell_type": "markdown",
   "metadata": {},
   "source": [
    "Even if you provide your classmated fb id to another person then it is a offence according to this section. Or provide name/number/address then its also a crime so it is not mendatory to conduct this in digital media. So it is very dangerous criminal offence. \n",
    "\n",
    "![](Fig/fig118.PNG)\n",
    "\n",
    "physical info that chubby/tall/white heir boy.\n",
    "\n",
    "![](Fig/fig119.PNG)"
   ]
  },
  {
   "cell_type": "markdown",
   "metadata": {},
   "source": [
    "# Section 27"
   ]
  },
  {
   "cell_type": "markdown",
   "metadata": {},
   "source": [
    "It is very dangerous as it is not limited to digital media(it is not mentioned in this subsection). just like section 26. \n",
    "\n",
    "Even when you cause a road block doing protest it is offence acording to section 27, subsection 1, clause c.\n",
    "\n",
    "![](Fig/fig120.PNG)\n",
    "\n",
    "![](Fig/fig121.PNG)"
   ]
  },
  {
   "cell_type": "markdown",
   "metadata": {},
   "source": [
    "# Section 28"
   ]
  },
  {
   "cell_type": "markdown",
   "metadata": {},
   "source": [
    "This has to be in digital media as it is mentioned(website/electronic format) broadcast can be like/share.\n",
    "\n",
    "![](Fig/fig122.PNG)\n",
    "\n",
    "![](Fig/fig123.PNG)"
   ]
  },
  {
   "cell_type": "markdown",
   "metadata": {},
   "source": [
    "# Section 30"
   ]
  },
  {
   "cell_type": "markdown",
   "metadata": {},
   "source": [
    "\n",
    "\n",
    "![](Fig/fig124.PNG)"
   ]
  },
  {
   "cell_type": "markdown",
   "metadata": {},
   "source": [
    "# End of lecture!"
   ]
  }
 ],
 "metadata": {
  "kernelspec": {
   "display_name": "Python 3",
   "language": "python",
   "name": "python3"
  },
  "language_info": {
   "codemirror_mode": {
    "name": "ipython",
    "version": 3
   },
   "file_extension": ".py",
   "mimetype": "text/x-python",
   "name": "python",
   "nbconvert_exporter": "python",
   "pygments_lexer": "ipython3",
   "version": "3.8.5"
  }
 },
 "nbformat": 4,
 "nbformat_minor": 4
}
