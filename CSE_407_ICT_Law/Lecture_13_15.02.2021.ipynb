{
 "cells": [
  {
   "cell_type": "markdown",
   "metadata": {},
   "source": [
    "<div class=\"alert alert-success\">\n",
    "    <b>Author</b>:\n",
    "\n",
    "      Rashik Rahman\n",
    "      17201012@uap-bd.edu\n",
    "\n",
    "</div>\n",
    "\n",
    "\n",
    "**[Click here to see class lecture](https://drive.google.com/file/d/1AsurUKEQ1vQRvpYGbBeQ-H7CP3jQCUAx/view)**\n"
   ]
  },
  {
   "cell_type": "markdown",
   "metadata": {},
   "source": [
    "Fact will be given in exam we'll have to solve that problem during xm using DSA2018, IP ACT that we have studied so far. And in ethics we need to refer to short version of the 8 laws, public interest is a common in all facts so besides public interest we'll try to use other law to identify and solve the given problem. Like public interest was served with client&employeer principle.\n",
    "\n",
    "\n",
    "\n",
    "1. PUBLIC – Software engineers shall act consistently with the public interest. As like USA develop AI bomber drone. Though this kills other but this falls under public interest of their country. To make the country safe this is one of the public interest.\n",
    "\n",
    "2. CLIENT AND EMPLOYER – Software engineers shall act in a manner that is in the best interests of their client and employer consistent with the public interest. Have to provide the best product maintaining public interest.\n",
    "\n",
    "3. PRODUCT – Software engineers shall ensure that their products and related modifications meet the highest professional standards possible. Product should be developed maintaining highest standard. Like if UCAM was made maintaining industrial highest standard then when result is published we all weill be able to see it immediately but we can't cause it wasn't developed maintaining highest standard. But they provided 24/7 support if any problem occured thus they tried to provide their highest standard. So after product delivery you have to maintain highest standard and provide any service or modification related to the product.\n",
    "\n",
    "4. JUDGMENT – Software engineers shall maintain integrity(strong moral quality) and independence in their professional judgment.\n",
    "\n",
    "5. MANAGEMENT – Software engineering managers and leaders shall subscribe to and promote an ethical approach to the management of software development and maintenance.\n",
    "\n",
    "6. PROFESSION – Software engineers shall advance the integrity and reputation of the profession consistent with the public interest.\n",
    "\n",
    "7. COLLEAGUES – Software engineers shall be fair to and supportive of their colleagues.\n",
    "\n",
    "8. SELF – Software engineers shall participate in lifelong learning regarding the practice of their profession and shall promote an ethical approach to the practice of the profession."
   ]
  },
  {
   "cell_type": "markdown",
   "metadata": {},
   "source": []
  },
  {
   "cell_type": "markdown",
   "metadata": {},
   "source": []
  }
 ],
 "metadata": {
  "kernelspec": {
   "display_name": "Python 3",
   "language": "python",
   "name": "python3"
  },
  "language_info": {
   "codemirror_mode": {
    "name": "ipython",
    "version": 3
   },
   "file_extension": ".py",
   "mimetype": "text/x-python",
   "name": "python",
   "nbconvert_exporter": "python",
   "pygments_lexer": "ipython3",
   "version": "3.8.5"
  }
 },
 "nbformat": 4,
 "nbformat_minor": 4
}
