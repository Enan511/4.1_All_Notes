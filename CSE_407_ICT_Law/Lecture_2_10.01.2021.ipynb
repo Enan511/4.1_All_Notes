{
 "cells": [
  {
   "cell_type": "markdown",
   "metadata": {},
   "source": [
    "<div class=\"alert alert-success\">\n",
    "    <b>Author</b>:\n",
    "\n",
    "      Rashik Rahman\n",
    "      17201012@uap-bd.edu\n",
    "\n",
    "</div>\n",
    "\n",
    "\n",
    "## [Click here to see class lecture](https://drive.google.com/file/d/11-5WG7YTQG1Ooxudc-eUQ0uv7mh3gzP8/view)\n"
   ]
  },
  {
   "cell_type": "markdown",
   "metadata": {},
   "source": [
    "## ACT 39/ICT LAW\n",
    "\n"
   ]
  },
  {
   "cell_type": "markdown",
   "metadata": {},
   "source": [
    "![](Fig/fig3.PNG)\n",
    "\n",
    "\n",
    "![](Fig/fig4.PNG)"
   ]
  },
  {
   "cell_type": "markdown",
   "metadata": {},
   "source": [
    "In **section 1**, sub-section 2 we can see the jurisdiction of this law(ACT 39/ ICT LAW). It is territorial jurisdiction. So if a criminal(supposing he/she commited a crime according to ACT 39) is in the territory of Bangladesh then this ACT will be applicable on him. We will see **section 2** in following classes, it contains all the definations. According to **Section 3** the ICT ACT 39 will dominate over all the other ACTS, no matter what other ACT says about some action, ICT ACT 39's action will take priority. According to **Section 4**\n",
    "\n",
    "- যদি কোন ব্যক্তি বাংলাদেশের বাহিরে এই আইনের অধীন কোন অপরাধ করেন যাহা বাংলাদেশে করিলে এই আইনের অধীন দণ্ডযোগ্য হইত, তাহা হইলে এই আইন এইরূপে প্রযোজ্য হইবে যেন অপরাধটি তিনি বাংলাদেশেই করিয়াছেন৷\n",
    "\n",
    "- যদি কোন ব্যক্তি বাংলাদেশের বাহির হইতে বাংলাদেশে অবস্থিত কোন কম্পিউটার, কম্পিউটার সিস্টেম বা কম্পিউটার নেটওয়ার্কের সাহায্যে বাংলাদেশের অভ্যন্তরে এই আইনের অধীন কোন অপরাধ করেন, তাহা হইলে উক্ত ব্যক্তির বিরুদ্ধে এই আইনের বিধানাবলী এইরূপে প্রযোজ্য হইবে যেন উক্ত অপরাধের সম্পূর্ণ প্রক্রিয়া বাংলাদেশেই সংঘটিত হইয়ছল৷\n",
    "\n",
    "- যদি কোন ব্যক্তি বাংলাদেশের অভ্যন্তর হইতে বাংলাদেশের বাহিরে এই আইনের অধীন কোন অপরাধ করেন, তাহা হইলে উক্ত ব্যক্তির বিরুদ্ধে এই আইনের বিধানাবলী এইরূপে প্রযোজ্য হইবে যেন উক্ত অপরাধের সম্পূর্ণ প্রক্রিয়া বাংলাদেশেই সংঘটিত হইয়াছিল৷"
   ]
  },
  {
   "cell_type": "markdown",
   "metadata": {},
   "source": [
    "## Now moving to digital security act\n",
    "\n"
   ]
  },
  {
   "cell_type": "markdown",
   "metadata": {},
   "source": [
    "![](Fig/fig5.PNG)\n",
    "\n",
    "![](Fig/fig6.PNG)"
   ]
  },
  {
   "cell_type": "markdown",
   "metadata": {},
   "source": [
    "\n",
    "\n",
    "In **section 1** sub-section 2 we can't see any territorial jurisdiction. This is a flaw of this ACT as it was developed very fast. According to this if someone commits crime from MARs against Jupyter which is punishable under this ACT that person will be considered as a criminal and is punishable. Unofficially this ACT's territorial jurisdiction is within BD but it wasn't mentioned in the ACT. We'll see **Section 2 in the following classes**. According to **Section 3** if this ACT conflicts with another act, this act will take priority. However(this part is different from acr 39) if it conflicts with ICT Law 2009 ACT 20 then ICT law 2009 will take priority. **This is the conflicting dominating provision in ICT ACT and Digital Security ACT**\n",
    "According to **section 4** is same as ICT LAW ACT 39."
   ]
  },
  {
   "cell_type": "markdown",
   "metadata": {},
   "source": [
    "# End of lecture!"
   ]
  }
 ],
 "metadata": {
  "kernelspec": {
   "display_name": "Python 3",
   "language": "python",
   "name": "python3"
  },
  "language_info": {
   "codemirror_mode": {
    "name": "ipython",
    "version": 3
   },
   "file_extension": ".py",
   "mimetype": "text/x-python",
   "name": "python",
   "nbconvert_exporter": "python",
   "pygments_lexer": "ipython3",
   "version": "3.8.5"
  }
 },
 "nbformat": 4,
 "nbformat_minor": 4
}
