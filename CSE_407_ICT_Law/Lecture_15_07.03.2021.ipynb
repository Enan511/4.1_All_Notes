{
 "cells": [
  {
   "cell_type": "markdown",
   "metadata": {},
   "source": [
    "<div class=\"alert alert-success\">\n",
    "    <b>Author</b>:\n",
    "\n",
    "      Rashik Rahman\n",
    "      17201012@uap-bd.edu\n",
    "\n",
    "</div>\n",
    "\n",
    "\n",
    "**[Click here to see class lecture](https://drive.google.com/file/d/1Mh3tA60eanrXUsSazYRuo3x-MoaAKEi5/view)**"
   ]
  },
  {
   "cell_type": "markdown",
   "metadata": {},
   "source": [
    "Instrument means deed/dolil. So handwritten instrument isn't info but computer printed/created documented deed is info. Machine readable docs like qr code/ digital nid/ digital LP all those has digital chip that is readable by machine is considered as info. All information providing authority is baddho to provide info. Office note is a note that draws special attention to a certain matter. Like extra note for approval for contest fundings. But extra note isn't info.\n",
    "\n",
    "![](Fig/fig44.PNG)\n",
    "\n",
    "Statutory body means any organization that is established by the law.\n",
    "\n",
    "![](Fig/fig45.PNG)\n",
    "\n",
    "Qs will come from third party connected. third party example can be: Let you want to know sum of forth year students of UAP from UGC. UGC then will ask UAP for that info thus UAP is the 3rd party. So baseline is when you want info from some authority and if they goes to another authority to fetch the info that another authority is thirdy party. In exm we may need to identify 3rd party and also determine if they can provide info or not as there are 7 authority that aren't bound to give info.\n",
    "\n",
    "![](Fig/fig46.PNG)"
   ]
  },
  {
   "cell_type": "markdown",
   "metadata": {},
   "source": [
    "# End of lecture!"
   ]
  }
 ],
 "metadata": {
  "kernelspec": {
   "display_name": "Python 3",
   "language": "python",
   "name": "python3"
  },
  "language_info": {
   "codemirror_mode": {
    "name": "ipython",
    "version": 3
   },
   "file_extension": ".py",
   "mimetype": "text/x-python",
   "name": "python",
   "nbconvert_exporter": "python",
   "pygments_lexer": "ipython3",
   "version": "3.8.5"
  }
 },
 "nbformat": 4,
 "nbformat_minor": 4
}
