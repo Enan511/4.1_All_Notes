{
 "cells": [
  {
   "cell_type": "markdown",
   "metadata": {},
   "source": [
    "<div class=\"alert alert-success\">\n",
    "    <b>Author</b>:\n",
    "\n",
    "      Rashik Rahman\n",
    "      17201012@uap-bd.edu\n",
    "\n",
    "</div>\n",
    "\n",
    "\n",
    "## [Click here to see class lecture](https://drive.google.com/file/d/1qBPNIMHDaj1Hb_N6Sdu_-y64_1zJvF-s/view)\n"
   ]
  },
  {
   "cell_type": "markdown",
   "metadata": {},
   "source": [
    "# Today we'll see some definitions from section 2,sub-section 1 of Digital security ACT 2018.\n",
    "\n",
    "![](Fig/fig7.PNG)\n",
    "\n"
   ]
  },
  {
   "cell_type": "markdown",
   "metadata": {},
   "source": [
    "- Clause C: Digital security agency formed under section 5 of this act.\n",
    "- Clause D: Computer Emergency response team(under HQ)/National computer emergency response team(HQ) formed under section 9.\n",
    "- Clause F: There's only onne National security council that is formed under section 12.\n",
    "\n",
    "In these clauses there's no mention of what will the agencies or team be. Just said that these are formed under certain section. **So these clauses are unclear, not specified, these are some lackings/drawbacks of digital security act for which it can be interpreted as per will. We are saying that this is a drawback cause in the definition section everything is mentioned/explained clearly but here in these cluase agencies/teams are unclear.**\n"
   ]
  },
  {
   "cell_type": "markdown",
   "metadata": {},
   "source": [
    "\n",
    "![](Fig/fig9.PNG)"
   ]
  },
  {
   "cell_type": "markdown",
   "metadata": {},
   "source": [
    "ACT 46 was developed to ensure national digital security and to create laws regarding digital crime identification, prevention, suppression, trial and other related matters."
   ]
  },
  {
   "cell_type": "markdown",
   "metadata": {},
   "source": [
    "\n",
    "![](Fig/fig8.PNG)\n"
   ]
  },
  {
   "cell_type": "markdown",
   "metadata": {},
   "source": [
    "In sub-section 1 of section 5 it should be director general instead of managing director. It's a mistake. **Section 5** explains formation of agency that will full fill the objective of ACT 46. In section 5 sub-section 3 we can see that power function responsibility of agency is determined by rules. These rules may or may not be published in parlament. It can be made by any executive for this reason democracy is depreciated. The executive can make the rules as he pleases. The power now belongs to executive. But our nation's law is all power belongs to the people of tha state or to the people representative who is a member of parlament."
   ]
  },
  {
   "cell_type": "markdown",
   "metadata": {},
   "source": [
    "\n",
    "![](Fig/fig10.PNG)\n",
    "\n",
    "![](Fig/fig11.PNG)"
   ]
  },
  {
   "cell_type": "markdown",
   "metadata": {},
   "source": [
    "So in seciton 5,6,7 all the power belongs to executive and this is a big drawback."
   ]
  },
  {
   "cell_type": "markdown",
   "metadata": {},
   "source": [
    "# End of lecture!"
   ]
  }
 ],
 "metadata": {
  "kernelspec": {
   "display_name": "Python 3",
   "language": "python",
   "name": "python3"
  },
  "language_info": {
   "codemirror_mode": {
    "name": "ipython",
    "version": 3
   },
   "file_extension": ".py",
   "mimetype": "text/x-python",
   "name": "python",
   "nbconvert_exporter": "python",
   "pygments_lexer": "ipython3",
   "version": "3.7.6"
  }
 },
 "nbformat": 4,
 "nbformat_minor": 4
}
