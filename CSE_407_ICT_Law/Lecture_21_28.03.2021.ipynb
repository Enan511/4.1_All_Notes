{
 "cells": [
  {
   "cell_type": "markdown",
   "metadata": {},
   "source": [
    "<div class=\"alert alert-success\">\n",
    "    <b>Author</b>:\n",
    "\n",
    "      Rashik Rahman\n",
    "      17201012@uap-bd.edu\n",
    "\n",
    "</div>\n",
    "\n",
    "\n",
    "**[Click here to see class lecture](https://drive.google.com/file/d/1y56vagKgf-wcptWwjGiFZWsMUOCA-cW7/view)**"
   ]
  },
  {
   "cell_type": "markdown",
   "metadata": {},
   "source": [
    "![](Fig/fig89.png)\n",
    "\n",
    "![](Fig/fig90.png)\n",
    "\n",
    "Depending on this deff everything can be porno content. If following mentions causes sexual arousal then its porno content. But this arousal may vary person to person. Some people may be aroused just by looking at a hijabi girl and some may not be aroused even after looking at a model. The following mentions are obscene dialogue but there's no standard for obscene dialouge, performance can be any type like sing, dance, poem recitation etc if these causes arousal then it can be a porno content for this anything can be porno content. Nude is obviously porno content but gesture or half naked dance has no clear standard like weiving hand or someone dancing wearing sleve less dress can be gesture and half naked dance  dress and if it causes arousal then its also porno content so everything can be porno content if someone is aroused by these type of video, image, audio graphics etc. So the deffination covers very large area of concepts and is based on such topic that varies person to person. Here in section 2 even a book provided by NCTB can be a sexual content cause section 2 has no exceptions like clause 1.\n",
    "\n",
    "This ACT won't b e appicable if any of section 1 has artistic , educational value and if any of section 1 & 2 falls under religious act.\n",
    "\n",
    "![](Fig/fig91.png)\n",
    "\n",
    "We'll study children ACT 2013 instead of 1974.\n",
    "\n",
    "![](Fig/fig92.png)\n",
    "\n",
    "All pornography case will fall under this law cause this law will prevail over all in the field of pornography. The mentions of section 4 is prohabited. You can't carry porno content like even if someone sends you a porno pic in messenger then it would be considered as you are carrying it.\n",
    "\n",
    "![](Fig/fig93.png)"
   ]
  },
  {
   "cell_type": "markdown",
   "metadata": {},
   "source": [
    "# End of lecture"
   ]
  }
 ],
 "metadata": {
  "kernelspec": {
   "display_name": "Python 3",
   "language": "python",
   "name": "python3"
  },
  "language_info": {
   "codemirror_mode": {
    "name": "ipython",
    "version": 3
   },
   "file_extension": ".py",
   "mimetype": "text/x-python",
   "name": "python",
   "nbconvert_exporter": "python",
   "pygments_lexer": "ipython3",
   "version": "3.8.5"
  }
 },
 "nbformat": 4,
 "nbformat_minor": 4
}
