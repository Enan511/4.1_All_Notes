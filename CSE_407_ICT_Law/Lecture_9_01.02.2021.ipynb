{
 "cells": [
  {
   "cell_type": "markdown",
   "metadata": {},
   "source": [
    "<div class=\"alert alert-success\">\n",
    "    <b>Author</b>:\n",
    "\n",
    "      Rashik Rahman\n",
    "      17201012@uap-bd.edu\n",
    "\n",
    "</div>\n",
    "\n",
    "\n",
    "**[Click here to see class lecture](https://drive.google.com/file/d/1AtanRT0muLSSKhUMUStrRipJqmFnf1Na/view)**\n"
   ]
  },
  {
   "cell_type": "markdown",
   "metadata": {},
   "source": [
    "```ruby\n",
    "# code block\n",
    "print '3 backticks or'\n",
    "print 'indent 4 spaces'\n",
    "```\n",
    "\n",
    "Horizontal Rule\n",
    "\n",
    "---\n",
    "\n",
    "\n",
    "\n",
    "`Inline code` with backticks\n",
    "\n",
    "**Inline code** with backticks"
   ]
  },
  {
   "cell_type": "markdown",
   "metadata": {},
   "source": [
    "Mobile phone is also included in computer system. \n",
    "\n",
    "![](Fig/fig26.png)\n",
    "\n",
    "![](Fig/fig27.png)\n",
    "\n",
    "Secured computer system means password protected computer systems.\n",
    "\n",
    "![](Fig/fig28.png)\n",
    "\n",
    "![](Fig/fig29.png)"
   ]
  },
  {
   "cell_type": "markdown",
   "metadata": {},
   "source": [
    "# End of lecture!"
   ]
  }
 ],
 "metadata": {
  "kernelspec": {
   "display_name": "Python 3",
   "language": "python",
   "name": "python3"
  },
  "language_info": {
   "codemirror_mode": {
    "name": "ipython",
    "version": 3
   },
   "file_extension": ".py",
   "mimetype": "text/x-python",
   "name": "python",
   "nbconvert_exporter": "python",
   "pygments_lexer": "ipython3",
   "version": "3.8.5"
  }
 },
 "nbformat": 4,
 "nbformat_minor": 4
}
