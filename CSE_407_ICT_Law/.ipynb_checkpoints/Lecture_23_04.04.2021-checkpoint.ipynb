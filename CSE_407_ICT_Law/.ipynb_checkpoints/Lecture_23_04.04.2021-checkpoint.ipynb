{
 "cells": [
  {
   "cell_type": "markdown",
   "metadata": {},
   "source": [
    "<div class=\"alert alert-success\">\n",
    "    <b>Author</b>:\n",
    "\n",
    "      Rashik Rahman\n",
    "      17201012@uap-bd.edu\n",
    "\n",
    "</div>\n",
    "\n",
    "\n",
    "**[Click here to see class lecture](https://drive.google.com/file/d/1qoi7F34P8NJsP3CgahT_DFqC87dF2K0k/view)**"
   ]
  },
  {
   "cell_type": "markdown",
   "metadata": {},
   "source": [
    "# Section 19"
   ]
  },
  {
   "cell_type": "markdown",
   "metadata": {},
   "source": [
    "- a.Collecting or copying any data from any computer, computer system or computer network is considered as damage. There's no mention of personal computer or not so if someone copies some data from their own personal computer that may fall under this offence. And if I collect dta with permission that shouldnt be an offence but by this it may be offence. This maybe a linguistic problem of translation otherwise these terms are very trevial to be considered as a offence. **So consider the correction of this clause as collecting or copying data from other person's computer, computer system or computer network without their permission.**\n",
    "\n",
    "- d.If your friend locks your computer/mobile in a box or changes the password of your computer then he is obstructing you from accessing the computer. As you are the authorized person so your friend's doings falls under this offence.\n",
    "\n",
    "- f.unfair interference means accessing some service without authorization like using other peoples wifi without telling them and shift credit of that service to that person then this will fall under this offence.\n",
    "\n",
    "![](Fig/fig109.PNG)\n",
    "\n",
    "![](Fig/fig110.PNG)\n",
    "\n",
    "![](Fig/fig111.PNG)"
   ]
  },
  {
   "cell_type": "markdown",
   "metadata": {},
   "source": [
    "# Section 20"
   ]
  },
  {
   "cell_type": "markdown",
   "metadata": {},
   "source": [
    "If you are not authorized but try to hide/damage/modify open-source source code, or general source code which is preservable/maintanable(like source code of github,facebook,chrome etc) by urself or other person then its a offence.\n",
    "\n",
    "![](Fig/fig112.PNG)"
   ]
  },
  {
   "cell_type": "markdown",
   "metadata": {},
   "source": [
    "# Section 21"
   ]
  },
  {
   "cell_type": "markdown",
   "metadata": {},
   "source": [
    "**Very important**\n",
    "\n",
    "Propaganda may not be lie but maybe misleading. So it is indirect lie. And it represents news from one side not both.\n",
    "\n",
    "![](Fig/fig113.PNG)\n",
    "\n",
    "sipir of liberation war deff is from **Section 2, subsection 1, clause u**\n",
    "\n",
    "![](Fig/fig114.PNG)"
   ]
  },
  {
   "cell_type": "markdown",
   "metadata": {},
   "source": [
    "# Section 24\n",
    "\n"
   ]
  },
  {
   "cell_type": "markdown",
   "metadata": {},
   "source": [
    "- a.Holds identity of someone else like giving status like work in facebook but in reality you are not in digital media.\n",
    "- b.Holds identity of a live or dead person. Basically jaliati/fraud.\n",
    "\n",
    "An example can be faking signature of a person and taking property, creating a fake fb account and use it for inappropreate means etc. So harm can be physical, material or social.\n",
    "\n",
    "![](Fig/fig115.PNG)\n",
    "\n",
    "![](Fig/fig116.PNG)"
   ]
  },
  {
   "cell_type": "markdown",
   "metadata": {},
   "source": [
    "# Section 25"
   ]
  },
  {
   "cell_type": "markdown",
   "metadata": {},
   "source": [
    "**Very imp**\n",
    "\n",
    "\n",
    "![](Fig/fig117.PNG)\n"
   ]
  },
  {
   "cell_type": "markdown",
   "metadata": {},
   "source": [
    "# End of lecture!"
   ]
  }
 ],
 "metadata": {
  "kernelspec": {
   "display_name": "Python 3",
   "language": "python",
   "name": "python3"
  },
  "language_info": {
   "codemirror_mode": {
    "name": "ipython",
    "version": 3
   },
   "file_extension": ".py",
   "mimetype": "text/x-python",
   "name": "python",
   "nbconvert_exporter": "python",
   "pygments_lexer": "ipython3",
   "version": "3.8.5"
  }
 },
 "nbformat": 4,
 "nbformat_minor": 4
}
