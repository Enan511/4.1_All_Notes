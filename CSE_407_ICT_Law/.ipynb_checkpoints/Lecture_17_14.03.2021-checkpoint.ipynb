{
 "cells": [
  {
   "cell_type": "markdown",
   "metadata": {},
   "source": [
    "<div class=\"alert alert-success\">\n",
    "    <b>Author</b>:\n",
    "\n",
    "      Rashik Rahman\n",
    "      17201012@uap-bd.edu\n",
    "\n",
    "</div>\n",
    "\n",
    "\n",
    "**[Click here to see class lecture](https://drive.google.com/file/d/1Uy7mJfgx2a3oqaglSELv-sRUux01bkq8/view)**"
   ]
  },
  {
   "cell_type": "markdown",
   "metadata": {},
   "source": [
    "In third party if someone asks info from authority A and authority A doesn't have that info so A goes to B for info here authority B is 3rd party and authority B can be any institution or individual."
   ]
  },
  {
   "cell_type": "markdown",
   "metadata": {},
   "source": [
    "Due to country security the followings are releaved from right to info. ACT. They are not bound to provide info.Qs can come like is it justified to exclude these for country security and secrecy? or it is neccessary for excluded these authority for country security, do you support this statement or not? Schedule is the detailed explaination of a section/law. It is not mendatory for every law to have schedule.\n",
    "\n",
    "![](Fig/fig62.PNG)\n",
    "\n",
    "![](Fig/fig63.PNG)\n",
    "\n",
    "These are the facts for which implementing RTI is a challenge. Like shortage of strong political will and commitment etc. RTI is related to fundamental rights of 'Bak shadhinota/freedom of speech' cause to have freedom in speech we need info thus RTI is imp and we should know about why RTI is facing challenges in implementation. For this challenge people's right given by constitution is hampered. Database aren't fully developed for web based app thats why some web pages has no data in a certain section. Then adopting pro people rti awareness and its implementation should be increased.\n",
    "\n",
    "![](Fig/fig64.PNG)\n",
    "\n",
    "![](Fig/fig65.PNG)"
   ]
  },
  {
   "cell_type": "markdown",
   "metadata": {},
   "source": [
    "# Registration of copy right"
   ]
  },
  {
   "cell_type": "markdown",
   "metadata": {},
   "source": [
    "Copy right registration can be done by two way one is manual and another is online.\n",
    "\n",
    "![](Fig/fig66.PNG)\n",
    "\n",
    "![](Fig/fig67.PNG)\n",
    "\n",
    "Online process\n",
    "\n",
    "![](Fig/fig68.PNG)\n",
    "\n",
    "![](Fig/fig69.PNG)\n",
    "\n",
    "\n"
   ]
  },
  {
   "cell_type": "markdown",
   "metadata": {},
   "source": [
    "# End of lecture!"
   ]
  }
 ],
 "metadata": {
  "kernelspec": {
   "display_name": "Python 3",
   "language": "python",
   "name": "python3"
  },
  "language_info": {
   "codemirror_mode": {
    "name": "ipython",
    "version": 3
   },
   "file_extension": ".py",
   "mimetype": "text/x-python",
   "name": "python",
   "nbconvert_exporter": "python",
   "pygments_lexer": "ipython3",
   "version": "3.8.5"
  }
 },
 "nbformat": 4,
 "nbformat_minor": 4
}
