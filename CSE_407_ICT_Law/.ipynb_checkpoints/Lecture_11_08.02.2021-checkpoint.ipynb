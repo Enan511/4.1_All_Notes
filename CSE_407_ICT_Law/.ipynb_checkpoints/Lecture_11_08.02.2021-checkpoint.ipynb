{
 "cells": [
  {
   "cell_type": "markdown",
   "metadata": {},
   "source": [
    "<div class=\"alert alert-success\">\n",
    "    <b>Author</b>:\n",
    "\n",
    "      Rashik Rahman\n",
    "      17201012@uap-bd.edu\n",
    "\n",
    "</div>\n",
    "\n",
    "\n",
    "**[Click here to see class lecture](https://drive.google.com/file/d/1Dr4AIySvnFSx_vUzcvCkjbAQT8nAmLHq/view)**\n"
   ]
  },
  {
   "cell_type": "markdown",
   "metadata": {},
   "source": [
    "Convention/treaty means chukti. Bangladesh is a party of some WIPO administrated treaties. Meaning that bangladesh falls under or agrees with that treaty. Whats the importance of protecting IP rights? Ans is the following fig.\n",
    "\n",
    "- Second if one's work can be protected then his moral will increase to do or create new work/algorith/project.\n",
    "\n",
    "IP is the short form of intelectual property right.\n",
    "\n",
    "![](Fig/fig32.PNG)"
   ]
  },
  {
   "cell_type": "markdown",
   "metadata": {},
   "source": [
    "**Till min 20**"
   ]
  },
  {
   "cell_type": "markdown",
   "metadata": {},
   "source": [
    "# End of lecture!"
   ]
  }
 ],
 "metadata": {
  "kernelspec": {
   "display_name": "Python 3",
   "language": "python",
   "name": "python3"
  },
  "language_info": {
   "codemirror_mode": {
    "name": "ipython",
    "version": 3
   },
   "file_extension": ".py",
   "mimetype": "text/x-python",
   "name": "python",
   "nbconvert_exporter": "python",
   "pygments_lexer": "ipython3",
   "version": "3.8.5"
  }
 },
 "nbformat": 4,
 "nbformat_minor": 4
}
