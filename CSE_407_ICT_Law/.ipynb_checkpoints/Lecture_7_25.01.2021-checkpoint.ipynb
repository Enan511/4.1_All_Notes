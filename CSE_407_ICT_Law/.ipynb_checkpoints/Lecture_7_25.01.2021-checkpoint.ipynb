{
 "cells": [
  {
   "cell_type": "markdown",
   "metadata": {},
   "source": [
    "<div class=\"alert alert-success\">\n",
    "    <b>Author</b>:\n",
    "\n",
    "      Rashik Rahman\n",
    "      17201012@uap-bd.edu\n",
    "\n",
    "</div>\n",
    "\n",
    "\n",
    "**[Click here to see class lecture](https://drive.google.com/file/d/1TeKzbVvp3vSUhEMxVlA_dwNV28fLctN9/view)**\n"
   ]
  },
  {
   "cell_type": "markdown",
   "metadata": {},
   "source": [
    "Here the highlighted part should be removed cause in Bangla we saw that there's no representative body there it says just a specialized person from BCS.BASIS,ISPAB,NTMC or suitable representative from mass media or recommendation from ministry of information may co-opt with the council. So members can be added to council via with respect to section 3.\n",
    "![](Fig/fig19.PNG)\n",
    "\n",
    "So section 13 explains the power of council. **Hierarchy : National Digital Council->Digital security agency->Emergency Response Team+Digital Forensic Lab**\n",
    "\n",
    "Under threat means may or may not threatened. The council will advice agency. Though among the 13 members there are only few that are expert in digital security still the council will advice with respect to subsection 2 clause b.\n",
    "\n",
    "![](Fig/fig20.PNG)"
   ]
  },
  {
   "cell_type": "markdown",
   "metadata": {},
   "source": [
    "\n",
    "\n",
    "![](Fig/fig21.PNG)"
   ]
  },
  {
   "cell_type": "markdown",
   "metadata": {},
   "source": [
    "# End of lecture !"
   ]
  }
 ],
 "metadata": {
  "kernelspec": {
   "display_name": "Python 3",
   "language": "python",
   "name": "python3"
  },
  "language_info": {
   "codemirror_mode": {
    "name": "ipython",
    "version": 3
   },
   "file_extension": ".py",
   "mimetype": "text/x-python",
   "name": "python",
   "nbconvert_exporter": "python",
   "pygments_lexer": "ipython3",
   "version": "3.7.6"
  }
 },
 "nbformat": 4,
 "nbformat_minor": 4
}
