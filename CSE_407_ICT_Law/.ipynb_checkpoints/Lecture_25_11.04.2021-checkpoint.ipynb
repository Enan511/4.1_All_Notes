{
 "cells": [
  {
   "cell_type": "markdown",
   "metadata": {},
   "source": [
    "<div class=\"alert alert-success\">\n",
    "    <b>Author</b>:\n",
    "\n",
    "      Rashik Rahman\n",
    "      17201012@uap-bd.edu\n",
    "\n",
    "</div>\n",
    "\n",
    "\n",
    "**[Click here to see class lecture](https://drive.google.com/file/d/10IgsVRmjh4hdtdDhJOljOrOt97qMjfbd/view)**"
   ]
  },
  {
   "cell_type": "markdown",
   "metadata": {},
   "source": [
    "![](Fig/fig125.PNG)\n",
    "\n",
    "According to it if a hacker harms some computer by hacking then it will be an offence. If no harm caused then it wont be an offence.\n",
    "\n",
    "![](Fig/fig126.PNG)\n",
    "\n",
    "![](Fig/fig127.PNG)\n",
    "\n",
    "![](Fig/fig128.PNG)\n",
    "\n",
    "- 37.compenation mamla korle jorimanar taka je case korse se pabe but generally sei jorimanar tk sorkari koshagare jay.\n",
    "- 38.service provider are not liable\n",
    "\n",
    "![](Fig/fig129.PNG)"
   ]
  },
  {
   "cell_type": "markdown",
   "metadata": {},
   "source": [
    "\n",
    "\n",
    "![](Fig/fig130.PNG)\n",
    "\n",
    "![](Fig/fig131.PNG)"
   ]
  },
  {
   "cell_type": "markdown",
   "metadata": {},
   "source": [
    "# End of lecture!"
   ]
  }
 ],
 "metadata": {
  "kernelspec": {
   "display_name": "Python 3",
   "language": "python",
   "name": "python3"
  },
  "language_info": {
   "codemirror_mode": {
    "name": "ipython",
    "version": 3
   },
   "file_extension": ".py",
   "mimetype": "text/x-python",
   "name": "python",
   "nbconvert_exporter": "python",
   "pygments_lexer": "ipython3",
   "version": "3.8.5"
  }
 },
 "nbformat": 4,
 "nbformat_minor": 4
}
