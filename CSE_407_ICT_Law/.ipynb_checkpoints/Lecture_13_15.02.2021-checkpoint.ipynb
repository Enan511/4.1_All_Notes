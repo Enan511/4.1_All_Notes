{
 "cells": [
  {
   "cell_type": "markdown",
   "metadata": {},
   "source": [
    "<div class=\"alert alert-success\">\n",
    "    <b>Author</b>:\n",
    "\n",
    "      Rashik Rahman\n",
    "      17201012@uap-bd.edu\n",
    "\n",
    "</div>\n",
    "\n",
    "\n",
    "**[Click here to see class lecture](https://drive.google.com/file/d/1AsurUKEQ1vQRvpYGbBeQ-H7CP3jQCUAx/view)**\n"
   ]
  },
  {
   "cell_type": "markdown",
   "metadata": {},
   "source": [
    "Fact will be given in exam we'll have to solve that problem during xm using DSA2018, IP ACT that we have studied so far. And in ethics we need to refer to short version of the 8 laws, public interest is a common in all facts so besides public interest we'll try to use other law to identify and solve the given problem. Like public interest was served with client&employeer principle.\n",
    "\n",
    "\n",
    "\n",
    "1. PUBLIC – Software engineers shall act consistently with the public interest. As like USA develop AI bomber drone. Though this kills other but this falls under public interest of their country. To make the country safe this is one of the public interest.\n",
    "\n",
    "2. CLIENT AND EMPLOYER – Software engineers shall act in a manner that is in the best interests of their client and employer consistent with the public interest. Have to provide the best product maintaining public interest.\n",
    "\n",
    "3. PRODUCT – Software engineers shall ensure that their products and related modifications meet the highest professional standards possible. Product should be developed maintaining highest standard. Like if UCAM was made maintaining industrial highest standard then when result is published we all weill be able to see it immediately but we can't cause it wasn't developed maintaining highest standard. But they provided 24/7 support if any problem occured thus they tried to provide their highest standard. So after product delivery you have to maintain highest standard and provide any service or modification related to the product.\n",
    "\n",
    "4. JUDGMENT – Software engineers shall maintain integrity(strong moral quality) and independence in their professional judgment. Professional judgement should be done with truthfulness and can't be influenced you have to be independent and give a decision.\n",
    "\n",
    "5. MANAGEMENT – Software engineering managers and leaders shall subscribe to and promote an ethical approach to the management of software development and maintenance. This tells about how the management should be in software development and maintanance. Management should be of ethical approch thus management should maintain and promote ethics.\n",
    "\n",
    "6. PROFESSION – Software engineers shall advance the integrity and reputation of the profession consistent with the public interest. So while advancing in profession you should maintain public interest and avoid works that go against public interest.\n",
    "\n",
    "7. COLLEAGUES – Software engineers shall be fair to and supportive of their colleagues. Everyone in a company you work in is your colleague, from your boss to even your ganetor is your colleague. Colleague should support each other in fair means like boss taker your credit that is not right and if you colleague doesn't support you then he is going against this principle.\n",
    "\n",
    "8. SELF – Software engineers shall participate in lifelong learning regarding the practice of their profession and shall promote an ethical approach to the practice of the profession."
   ]
  },
  {
   "cell_type": "markdown",
   "metadata": {},
   "source": [
    "### QS suggestion\n",
    "\n",
    "- executive er power kivabe DSA te kivabe dea ache explain or DSA 2018 er koy jygy executive pwr/rule er kotha bola ache or describe that executive ke DSA te beshi pwr dea hoise naki.\n",
    "    - Just kon kon jygy rules er kotha bola ache ta bollei hobe.\n",
    "    \n",
    "- critical information infrastructure theke q asbe like identify CII kina CII hole section,subsection diye prove kore punishment er kotha bola. Like: As he completed all the elements of section 17 so under section17 he his guilty and his punishment is something. Also prove actus reus and mens rea. Qs e IP er sathe DSA/code of ethics etc mix thakbe, GI is also imp like GI protection pabe ki pabena IP law onujai and paile kto diner jonno pabe?\n",
    "\n",
    "- what is copy right and punishment of copy right viaolation. What will happen if someone violate copy right but not for business purpose/gain.like i provide a book for you to read buut didn't give the author name so  it is copy right  violatiom but not for business/personal gain so what punishment will i get? Computer program copy right ios imp for xm.\n",
    "\n",
    "- in problem sstatement solve mention law and section/principle. So have to specify in detail. then provide decision."
   ]
  },
  {
   "cell_type": "markdown",
   "metadata": {},
   "source": [
    "# End of lecture!"
   ]
  }
 ],
 "metadata": {
  "kernelspec": {
   "display_name": "Python 3",
   "language": "python",
   "name": "python3"
  },
  "language_info": {
   "codemirror_mode": {
    "name": "ipython",
    "version": 3
   },
   "file_extension": ".py",
   "mimetype": "text/x-python",
   "name": "python",
   "nbconvert_exporter": "python",
   "pygments_lexer": "ipython3",
   "version": "3.8.5"
  }
 },
 "nbformat": 4,
 "nbformat_minor": 4
}
