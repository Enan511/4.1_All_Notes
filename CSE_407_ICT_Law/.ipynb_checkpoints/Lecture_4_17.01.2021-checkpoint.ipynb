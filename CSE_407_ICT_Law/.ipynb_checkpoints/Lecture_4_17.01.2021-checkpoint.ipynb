{
 "cells": [
  {
   "cell_type": "markdown",
   "metadata": {},
   "source": [
    "<div class=\"alert alert-success\">\n",
    "    <b>Author</b>:\n",
    "\n",
    "      Rashik Rahman\n",
    "      17201012@uap-bd.edu\n",
    "\n",
    "</div>\n",
    "\n",
    "\n",
    "**[Click here to see class lecture](https://drive.google.com/file/d/1eX4QJb4SwIahMD5N_bX1ORp3W2wUC1GY/view)**\n"
   ]
  },
  {
   "cell_type": "markdown",
   "metadata": {},
   "source": [
    "In previous lecture we saw some definations about emergency response team, digital security council/agency etc. But what will they do, where will they come from or how they'll be formed these types of things weren't mentioned by the law, the law says everything will be mentioned in rules. But whenever the rule term comes the power transfer from people of republic to executive cause executive makes the rules. The power stays to people of republic when the law explains everything without depending on the rules. Law only mentions one power that digital security agency can use but they'll need permission for it.\n",
    "\n",
    "![](Fig/fig12.PNG)"
   ]
  },
  {
   "cell_type": "markdown",
   "metadata": {},
   "source": []
  },
  {
   "cell_type": "markdown",
   "metadata": {},
   "source": []
  }
 ],
 "metadata": {
  "kernelspec": {
   "display_name": "Python 3",
   "language": "python",
   "name": "python3"
  },
  "language_info": {
   "codemirror_mode": {
    "name": "ipython",
    "version": 3
   },
   "file_extension": ".py",
   "mimetype": "text/x-python",
   "name": "python",
   "nbconvert_exporter": "python",
   "pygments_lexer": "ipython3",
   "version": "3.7.6"
  }
 },
 "nbformat": 4,
 "nbformat_minor": 4
}
