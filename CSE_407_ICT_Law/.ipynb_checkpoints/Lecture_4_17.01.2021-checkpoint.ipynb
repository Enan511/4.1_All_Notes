{
 "cells": [
  {
   "cell_type": "markdown",
   "metadata": {},
   "source": [
    "<div class=\"alert alert-success\">\n",
    "    <b>Author</b>:\n",
    "\n",
    "      Rashik Rahman\n",
    "      17201012@uap-bd.edu\n",
    "\n",
    "</div>\n",
    "\n",
    "\n",
    "**[Click here to see class lecture](https://drive.google.com/file/d/1eX4QJb4SwIahMD5N_bX1ORp3W2wUC1GY/view)**\n"
   ]
  },
  {
   "cell_type": "markdown",
   "metadata": {},
   "source": [
    "In previous lecture we saw some definations about emergency response team, digital security council/agency etc. But what will they do, where will they come from or how they'll be formed these types of things weren't mentioned by the law, the law says everything will be mentioned in rules. But whenever the rule term comes the power transfer from people of republic to executive cause executive makes the rules. The power stays to people of republic when the law explains everything without depending on the rules. Law only mentions one power that digital security agency can use but they'll need permission for it.\n",
    "\n",
    "![](Fig/fig12.PNG)\n",
    "\n",
    "So in section 8 is about power to remove or block some data information. In sub section 1 we can see that there's term about director generals purview/authority. Till now we don't know what director general will do it all will be set via rules. So we don't know what type of content falls under director general's purview. So if anything falls under his purview that threatens digital security then he can request BTRC to remove or block that content. Then BTRC will ask permission from govt. \n",
    "\n",
    "Law and order enforcing security force are basically police. If a published/propagated content in digital media is evident/visible to police that it hampers the nation or any part in terms of nations unity, security etc then police will request BTRC to block or remove the data information via director general. So now the question is how we'll understand what content will fall under this law, or what content will be harmfull? Another point is what is nation unity?Is there any clear definition of nations unity?What is actual definition of hatred,racism? There's not, thus in the name of nation unity police can request to block any kind of content. \n",
    "\n",
    "BTRC will ask permission from govt to remove or block data.\n",
    "\n",
    "Then all other things will be determined by rules. Thus the power shifts to executive."
   ]
  },
  {
   "cell_type": "markdown",
   "metadata": {},
   "source": [
    "# End of lecture!"
   ]
  }
 ],
 "metadata": {
  "kernelspec": {
   "display_name": "Python 3",
   "language": "python",
   "name": "python3"
  },
  "language_info": {
   "codemirror_mode": {
    "name": "ipython",
    "version": 3
   },
   "file_extension": ".py",
   "mimetype": "text/x-python",
   "name": "python",
   "nbconvert_exporter": "python",
   "pygments_lexer": "ipython3",
   "version": "3.7.6"
  }
 },
 "nbformat": 4,
 "nbformat_minor": 4
}
