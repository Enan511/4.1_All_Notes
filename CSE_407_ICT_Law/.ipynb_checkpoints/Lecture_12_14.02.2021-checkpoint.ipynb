{
 "cells": [
  {
   "cell_type": "markdown",
   "metadata": {},
   "source": [
    "<div class=\"alert alert-success\">\n",
    "    <b>Author</b>:\n",
    "\n",
    "      Rashik Rahman\n",
    "      17201012@uap-bd.edu\n",
    "\n",
    "</div>\n",
    "\n",
    "\n",
    "**[Click here to see class lecture](https://drive.google.com/file/d/12nUA14m5UJsjzHBiaf1Bw_8SBP7leeKM/view)**\n"
   ]
  },
  {
   "cell_type": "markdown",
   "metadata": {},
   "source": [
    "**Todays topic : code of ethics of a software engineers**\n",
    "\n",
    "We'll go through IEEE and ACM provided ethics.\n",
    "\n",
    "![](Fig/fig37.PNG)"
   ]
  },
  {
   "cell_type": "markdown",
   "metadata": {},
   "source": [
    "[Web link](http://ethics.acm.org/code-of-ethics/software-engineering-code/)"
   ]
  },
  {
   "cell_type": "markdown",
   "metadata": {},
   "source": [
    "<h1>The Software Engineering Code of Ethics and Professional Practice</h1>\n",
    "\n",
    "<p>Software Engineering Code of Ethics and Professional Practice (Version 5.2) as recommended by the ACM/IEEE-CS Joint Task Force on Software Engineering Ethics and Professional Practices and jointly approved by the ACM and the IEEE-CS as the standard for teaching and practicing software engineering.</p>\n",
    "<h2>Software Engineering Code of Ethics and Professional Practice (Short Version)</h2>\n",
    "<h3>PREAMBLE</h3>\n",
    "<p>The short version of the code summarizes aspirations at a high level of the abstraction; the clauses that are included in the full version give examples and details of how these aspirations change the way we act as software engineering professionals. Without the aspirations, the details can become legalistic and tedious; without the details, the aspirations can become high sounding but empty; together, the aspirations and the details form a cohesive code.</p>\n",
    "<p>Software engineers shall commit themselves to making the analysis, specification, design, development, testing and maintenance of software a beneficial and respected profession. In accordance with their commitment to the health, safety and welfare of the public, software engineers shall adhere to the following Eight Principles:</p>\n",
    "\n",
    "1. PUBLIC – Software engineers shall act consistently with the public interest.\n",
    "\n",
    "2. CLIENT AND EMPLOYER – Software engineers shall act in a manner that is in the best interests of their client and employer consistent with the public interest.\n",
    "\n",
    "3. PRODUCT – Software engineers shall ensure that their products and related modifications meet the highest professional standards possible.\n",
    "\n",
    "4. JUDGMENT – Software engineers shall maintain integrity and independence in their professional judgment.\n",
    "\n",
    "5. MANAGEMENT – Software engineering managers and leaders shall subscribe to and promote an ethical approach to the management of software development and maintenance.\n",
    "\n",
    "6. PROFESSION – Software engineers shall advance the integrity and reputation of the profession consistent with the public interest.\n",
    "\n",
    "7. COLLEAGUES – Software engineers shall be fair to and supportive of their colleagues.\n",
    "\n",
    "8. SELF – Software engineers shall participate in lifelong learning regarding the practice of their profession and shall promote an ethical approach to the practice of the profession."
   ]
  },
  {
   "cell_type": "code",
   "execution_count": null,
   "metadata": {},
   "outputs": [],
   "source": []
  }
 ],
 "metadata": {
  "kernelspec": {
   "display_name": "Python 3",
   "language": "python",
   "name": "python3"
  },
  "language_info": {
   "codemirror_mode": {
    "name": "ipython",
    "version": 3
   },
   "file_extension": ".py",
   "mimetype": "text/x-python",
   "name": "python",
   "nbconvert_exporter": "python",
   "pygments_lexer": "ipython3",
   "version": "3.8.5"
  }
 },
 "nbformat": 4,
 "nbformat_minor": 4
}
