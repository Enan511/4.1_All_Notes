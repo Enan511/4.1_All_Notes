{
 "cells": [
  {
   "cell_type": "markdown",
   "metadata": {},
   "source": [
    "<div class=\"alert alert-success\">\n",
    "    <b>Author</b>:\n",
    "\n",
    "      Rashik Rahman\n",
    "      17201012@uap-bd.edu\n",
    "\n",
    "</div>\n",
    "\n",
    "\n",
    "**[Click here to see class lecture](https://drive.google.com/file/d/1jDnfQhLA7qy1YXp_B1b1TVNZZETMbMKq/view)**\n"
   ]
  },
  {
   "cell_type": "markdown",
   "metadata": {},
   "source": [
    "## We'll learn about intelectual rights today. (copy right, trademark etc)"
   ]
  },
  {
   "cell_type": "markdown",
   "metadata": {},
   "source": [
    "GI means geographical indication. Using GI a country/city can claim copy or production rights. Example: for business purpose only Bangladesh can produce&sell Jamdani Sharee as Bangladesh claimed GI for it. Bangladesh also claimed GI for moslin sharee, Hilsha fish etc. If any countr wants to produce these stuff they have use different names for these like they can use the name heritage sharee instead of jamdani sharee. So this is also a part of intelectual property right. GI, trademark, copy right etc falls under intelectual property right."
   ]
  },
  {
   "cell_type": "markdown",
   "metadata": {},
   "source": [
    "In copy right you earn as a creator and in patent you earn as an inverntor. Invent/আবষ্কার goes into patent and create/develop goes under copy right. Patent can be claimed when the work is industrial. \n",
    "\n",
    "Apple can register it's mobile design and patent it under industrial design thus can protect intelectual property right. One can even copy right his own developed dance style.\n",
    "\n",
    "![](Fig/fig30.PNG)"
   ]
  },
  {
   "cell_type": "markdown",
   "metadata": {},
   "source": [
    "\n",
    "\n",
    "![](Fig/fig31.PNG)"
   ]
  },
  {
   "cell_type": "markdown",
   "metadata": {},
   "source": [
    "# End of lecture!"
   ]
  }
 ],
 "metadata": {
  "kernelspec": {
   "display_name": "Python 3",
   "language": "python",
   "name": "python3"
  },
  "language_info": {
   "codemirror_mode": {
    "name": "ipython",
    "version": 3
   },
   "file_extension": ".py",
   "mimetype": "text/x-python",
   "name": "python",
   "nbconvert_exporter": "python",
   "pygments_lexer": "ipython3",
   "version": "3.8.5"
  }
 },
 "nbformat": 4,
 "nbformat_minor": 4
}
