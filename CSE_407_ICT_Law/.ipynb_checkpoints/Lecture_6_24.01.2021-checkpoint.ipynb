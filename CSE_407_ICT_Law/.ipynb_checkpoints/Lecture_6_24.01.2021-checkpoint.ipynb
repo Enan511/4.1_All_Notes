{
 "cells": [
  {
   "cell_type": "markdown",
   "metadata": {},
   "source": [
    "<div class=\"alert alert-success\">\n",
    "    <b>Author</b>:\n",
    "\n",
    "      Rashik Rahman\n",
    "      17201012@uap-bd.edu\n",
    "\n",
    "</div>\n",
    "\n",
    "\n",
    "**[Click here to see class lecture](https://drive.google.com/file/d/1DM9OB3D_OJs8h3VDkETDEdGGC2jFOvly/view)**\n"
   ]
  },
  {
   "cell_type": "markdown",
   "metadata": {},
   "source": [
    "DSA 2018 shows power embalance cause in section 9, sub-section 5 is effective untill it goes against sub-section 4. And we can also see that executive gains power over legisleture. In DSA 2018 we can see a general hierarchy and that is Digital security agency->Emergency Response Team+Digital Forensic Lab.\n",
    "\n",
    "![](Fig/fig15.PNG)\n",
    "\n",
    "So what is digital forensic lab? The task of this lab is to look into technical mater of a case like if a file has been tempered with, how the system was hacked, track down hack approach, to recover deleted evidence/file from a system, if a image or video is edited or original etc. In subsection 2 we can see that if a lab was established before enactment of this law the agency will acknowledge that lab if it satisfies quality assurace according to section 11 and that lab will be deemed that it was established under this act. So this phenomenon of acknowledging old lab as new is called retrospective effect. \n",
    "\n",
    "DSA 2018 is a criminal ACT and we know we can't include any restropective effect in any criminal ACT cause due to this criminal justice can be violated. Lets see an example, like if we say you are stupid it is not a crime in the current time but tomorrow a law may exist that if someone says stupid to another person it will be considered as a crime and will be punished with 5 years of jail and all the cases before this law is enforced also will fall under this law. So for this retrospective effect a person that said stupid yesterday will be considered as a criminal today and this is criminal justice violation. Thus retrospective effect can't be included in criminal ACT. But in DSA 2018 section 10, sub-section 2 we can see retrospective effect. In section 10, sub-section 4 we can see that power was given to executive as all will be decided by rules.\n",
    "\n",
    "![](Fig/fig16.PNG)\n",
    "\n",
    "In section 11, sub-section 2, clause d we can see that they say to use qualityfull equipments but who will set the standards? So this is not clarified. And people can abuse this term for their personal gains. If the standars were mentioned in law then people wouldn't be able to abuse it. In clause e we can see there may a conflict occur for following both scientific procedures and procedures determined by rules. As an example scientific procedure is alwasy evolving so in future it may go against the procedures determined by rules thus cause a conflict.\n",
    "\n",
    "![](Fig/fig17.PNG)"
   ]
  },
  {
   "cell_type": "markdown",
   "metadata": {},
   "source": [
    "In section 12 sub-section 1 clause m we can see a mention about Director General of National Digital Security Council. But there's no mention how he got selected for the post or what will his duties be or what his qualifications should be, there's no info about him. So it is very unclear in this ACT. Council will select this director general but there's no mention how will he be selected or who is he. All the other members have post like one is secretary of Bangladesh bank, another one is secretary of public security division, these member are included as per their post if new person comes to this post he will also be a member of the council. So certain someone is added to council as he has the following post mentioned in subsection 1 of section 12. This term is called ex-officio.\n",
    "\n",
    "![](Fig/fig18.PNG)"
   ]
  },
  {
   "cell_type": "markdown",
   "metadata": {},
   "source": [
    "# End of lecture!"
   ]
  }
 ],
 "metadata": {
  "kernelspec": {
   "display_name": "Python 3",
   "language": "python",
   "name": "python3"
  },
  "language_info": {
   "codemirror_mode": {
    "name": "ipython",
    "version": 3
   },
   "file_extension": ".py",
   "mimetype": "text/x-python",
   "name": "python",
   "nbconvert_exporter": "python",
   "pygments_lexer": "ipython3",
   "version": "3.7.6"
  }
 },
 "nbformat": 4,
 "nbformat_minor": 4
}
