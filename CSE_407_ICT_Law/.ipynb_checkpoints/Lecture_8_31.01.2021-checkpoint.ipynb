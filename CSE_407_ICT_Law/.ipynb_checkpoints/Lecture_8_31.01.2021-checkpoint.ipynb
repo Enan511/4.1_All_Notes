{
 "cells": [
  {
   "cell_type": "markdown",
   "metadata": {},
   "source": [
    "<div class=\"alert alert-success\">\n",
    "    <b>Author</b>:\n",
    "\n",
    "      Rashik Rahman\n",
    "      17201012@uap-bd.edu\n",
    "\n",
    "</div>\n",
    "\n",
    "\n",
    "**[Click here to see class lecture](https://drive.google.com/file/d/1VRF4dVFznpIKBXa-v8kU1k-YGsubA9fu/view)**\n"
   ]
  },
  {
   "cell_type": "markdown",
   "metadata": {},
   "source": [
    "**Today we'll learn about critical information infrastructer's deffination, how it is published, how it is inspected and if possible we'll also learn a crime.**"
   ]
  },
  {
   "cell_type": "markdown",
   "metadata": {},
   "source": [
    "We can find deffination of critical information infrastructure(CII don't write cii in exam its just for writing simplicity here) in section 2 subsection 1 clause g of Digital security act 2018. Information infrastructure basically means an object holding information i.e. notebook, mobile etc. So simply CII is any info infrastructure physical or virtual that govt. declares as CII. CII may control, process, circulate or preserve any info. If CII damaged then may harm/affetc the followings\n",
    "\n",
    "- public safety/financial security/ public health\n",
    "- national security/national integrity/ sovereignty\n",
    "\n",
    "So basically when an info infrastructure is harmed and due to that may affects the points mentioned above then if the Govt. wants then this info infrastructure can be declared as CII. An example can be Database of a banking system. Another example can be Mobile. The scenario is you development this blue whale game just to check how to develop app and how to route & keep information in an app. But leakage of this game may cause people to die, so as your system/mobile holds information/game(command/instruction) and hampers public health thus mobile can be declared as CII. Bhoomi office is also a CII cause it contains land records(physical/offline) of a certain area and if damaged then can cause harm to financial security(as many invest in land business),harm to public health/safety cause if Bhoomi office is burnt then it may cause a riot that can lead to public health/safety issues. Thus we can see CII can be both virtual and physical. In exam we'll have to decide if a given description has any CII or not.\n",
    "\n",
    "![](Fig/fig22.PNG)\n",
    "\n",
    "Govt. gazette is actually official gazette. And through this gazette govt. may declare any CII. So to be a CII govt. declaration is a must.\n",
    "\n",
    "![](Fig/fig23.PNG)"
   ]
  },
  {
   "cell_type": "markdown",
   "metadata": {},
   "source": [
    "- DG will visit&inspect CII to ensure that if it is abiding by the provision of the ACT. And will submit a repot to govt. Now here a question may rise who is this DG? Agency's DG or Council's DG or any other DG? Which DG is it? This is very unclear in subsection 1 of section 16. This DG maybe the DG of Agency according to Section 2 subsection 1 clause r.\n",
    "\n",
    "- CII will submit a investigative report to govt. about it's internal and external infrastructure and notify DG about the report. The process of submission will be set by Rules/executives.CII can't do submission as it is a system so the authority or owner of CII will submit the report following the process set by rules.\n",
    "\n",
    "- DG may start an investigation if he reasonably believe that an individual may harm CII. DG can start the investigation on his own volition/accord (suo-motu) or if he gets an complaint. The may start investigation if the matter falls under his jurisdiction.\n",
    "\n",
    "- expert person can be anyone appointed by govt.\n",
    "\n",
    "![](Fig/fig24.PNG)\n",
    "\n",
    "There are two elements of crime and to prove the crime these two elements must be proven. One is Actus reus and another one is Mens rea. subsection 1 of section 17 refers to Mens rea and the clause of it refers to Actus reus. In clause b there are 6 crimes. entrance, harms, renders inactive, tries to enter, tries to harm, tries to render inactive. The element of crime of clause a is entrance and the entrance is illegal. In clause B there's also mention of entrance and entrance that is illigal. This means if the entrance of a person is authorized and that person harms, destroys infrastructure then it won't be considered as a crime and if the entrance wasn't authorized then its a crime.\n",
    "\n",
    "![](Fig/fig25.PNG)"
   ]
  },
  {
   "cell_type": "markdown",
   "metadata": {},
   "source": [
    "# End of lecture!"
   ]
  }
 ],
 "metadata": {
  "kernelspec": {
   "display_name": "Python 3",
   "language": "python",
   "name": "python3"
  },
  "language_info": {
   "codemirror_mode": {
    "name": "ipython",
    "version": 3
   },
   "file_extension": ".py",
   "mimetype": "text/x-python",
   "name": "python",
   "nbconvert_exporter": "python",
   "pygments_lexer": "ipython3",
   "version": "3.8.5"
  }
 },
 "nbformat": 4,
 "nbformat_minor": 4
}
