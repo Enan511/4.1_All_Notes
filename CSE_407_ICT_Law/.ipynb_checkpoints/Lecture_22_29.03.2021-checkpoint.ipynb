{
 "cells": [
  {
   "cell_type": "markdown",
   "metadata": {},
   "source": [
    "<div class=\"alert alert-success\">\n",
    "    <b>Author</b>:\n",
    "\n",
    "      Rashik Rahman\n",
    "      17201012@uap-bd.edu\n",
    "\n",
    "</div>\n",
    "\n",
    "\n",
    "**[Click here to see class lecture](https://drive.google.com/file/d/15hm7fDGiSIj_9_dTKQkSOk_k2DgedgeT/view)**"
   ]
  },
  {
   "cell_type": "markdown",
   "metadata": {},
   "source": [
    "Arrest without warrent can be issued for any crime that falls under this ACT.  And these are non bailable offences. So for total of 75days that person can be kept in jail.\n",
    "\n",
    "Investigation = section 5\n",
    "\n",
    "![](Fig/fig94.png)\n",
    "\n",
    "Search = section 6\n",
    "\n",
    "![](Fig/fig95.png)\n",
    "\n",
    "![](Fig/fig96.png)\n",
    "\n",
    "![](Fig/fig97.png)"
   ]
  },
  {
   "cell_type": "markdown",
   "metadata": {},
   "source": [
    "Evidence = section 7\n",
    "\n",
    "![](Fig/fig98.png)\n",
    "\n",
    "Here penalty = section 8 and this is subsection 1. Fine upto 2 lakh. For porno content consent doesn't matter. Who ever produces porno content is elligable for punishment.\n",
    "\n",
    "![](Fig/fig99.png)\n",
    "\n",
    "subsection 2 & 3.\n",
    "\n",
    "![](Fig/fig100.png)\n",
    "\n",
    "![](Fig/fig101.png)\n",
    "\n",
    "![](Fig/fig102.png)\n",
    "\n",
    "![](Fig/fig103.png)"
   ]
  },
  {
   "cell_type": "markdown",
   "metadata": {},
   "source": [
    "Section 9 shows some exceptions of this ACT.\n",
    "\n",
    "Section 10 says cognizabole means that arrest without warrent and non-bailable.\n",
    "\n",
    "\n",
    "![](Fig/fig104.png)\n",
    "\n",
    "![](Fig/fig105.png)\n",
    "\n",
    "![](Fig/fig106.png)\n",
    "\n",
    "![](Fig/fig107.png)\n",
    "\n",
    "![](Fig/fig108.png)"
   ]
  },
  {
   "cell_type": "markdown",
   "metadata": {},
   "source": [
    "# End of lecture!"
   ]
  }
 ],
 "metadata": {
  "kernelspec": {
   "display_name": "Python 3",
   "language": "python",
   "name": "python3"
  },
  "language_info": {
   "codemirror_mode": {
    "name": "ipython",
    "version": 3
   },
   "file_extension": ".py",
   "mimetype": "text/x-python",
   "name": "python",
   "nbconvert_exporter": "python",
   "pygments_lexer": "ipython3",
   "version": "3.8.5"
  }
 },
 "nbformat": 4,
 "nbformat_minor": 4
}
