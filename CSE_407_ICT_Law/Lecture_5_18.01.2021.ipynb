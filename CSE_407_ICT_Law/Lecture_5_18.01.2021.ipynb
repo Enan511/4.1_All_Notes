{
 "cells": [
  {
   "cell_type": "markdown",
   "metadata": {},
   "source": [
    "<div class=\"alert alert-success\">\n",
    "    <b>Author</b>:\n",
    "\n",
    "      Rashik Rahman\n",
    "      17201012@uap-bd.edu\n",
    "\n",
    "</div>\n",
    "\n",
    "\n",
    "**[Click here to see class lecture](https://drive.google.com/file/d/1l-rBd9UTQU5LJYoWZDZtBrzNIVw8vzmd/view)**\n"
   ]
  },
  {
   "cell_type": "markdown",
   "metadata": {},
   "source": [
    "There are 3 part of a nation. 1) Legislature, 2) Juditiary, 3)Executive. But who'll appoint them? People of republic will appoint them, acutally representative(Mayor,MP, sangshad member) of people of republic will appoint them. We choose the representative via election. Everything should be mentioned in law thus people can use it through legislature, but all we see is most of the things are defined by rule thus the power goes from the hand of people to executives.\n",
    "\n",
    "On the top in common sense digital device and computer device is same.\n",
    "\n",
    "![](Fig/fig13.PNG)"
   ]
  },
  {
   "cell_type": "markdown",
   "metadata": {},
   "source": [
    "e) According to it any device that can collect, send and store data or that can connect with each other is considered as a computer device. Though a computer device should have a computation enable capable chip but according to this sub clause any device that fullfills mentioned criteria is considered as a computer device. According to this even a pendrive, memory card  is a computer device.\n",
    "\n",
    "j) Here the law says computer network connected with it, from a general person's view can he/she understand that internet can be also a degital device?(according to this). We CS student can understand but a common person may not be able to understand it. Another example can be megnetic device that is HDD, floppies etc. But a normal can think of any megnetic device."
   ]
  },
  {
   "cell_type": "markdown",
   "metadata": {},
   "source": []
  },
  {
   "cell_type": "markdown",
   "metadata": {},
   "source": []
  }
 ],
 "metadata": {
  "kernelspec": {
   "display_name": "Python 3",
   "language": "python",
   "name": "python3"
  },
  "language_info": {
   "codemirror_mode": {
    "name": "ipython",
    "version": 3
   },
   "file_extension": ".py",
   "mimetype": "text/x-python",
   "name": "python",
   "nbconvert_exporter": "python",
   "pygments_lexer": "ipython3",
   "version": "3.7.6"
  }
 },
 "nbformat": 4,
 "nbformat_minor": 4
}
