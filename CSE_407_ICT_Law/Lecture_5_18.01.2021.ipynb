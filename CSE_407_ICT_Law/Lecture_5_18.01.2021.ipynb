{
 "cells": [
  {
   "cell_type": "markdown",
   "metadata": {},
   "source": [
    "<div class=\"alert alert-success\">\n",
    "    <b>Author</b>:\n",
    "\n",
    "      Rashik Rahman\n",
    "      17201012@uap-bd.edu\n",
    "\n",
    "</div>\n",
    "\n",
    "\n",
    "**[Click here to see class lecture](https://drive.google.com/file/d/1l-rBd9UTQU5LJYoWZDZtBrzNIVw8vzmd/view)**\n"
   ]
  },
  {
   "cell_type": "markdown",
   "metadata": {},
   "source": [
    "There are 3 part of a nation. 1) Legislature, 2) Juditiary, 3)Executive. But who'll appoint them? People of republic will appoint them, acutally representative(Mayor,MP, sangshad member) of people of republic will appoint them. We choose the representative via election. Everything should be mentioned in law thus people can use it through legislature, but all we see is most of the things are defined by rule thus the power goes from the hand of people to executives.\n",
    "\n",
    "On the top in common sense digital device and computer device is same.\n",
    "\n",
    "![](Fig/fig13.PNG)"
   ]
  },
  {
   "cell_type": "markdown",
   "metadata": {},
   "source": [
    "# Important explainations\n",
    "\n",
    "**e)** According to it any device that can collect, send and store data or that can connect with each other is considered as a computer device. Though a computer device should have a computation enable capable chip but according to this sub clause any device that fullfills mentioned criteria is considered as a computer device. According to this even a pendrive, memory card  is a computer device.\n",
    "\n",
    "**j)** Here the law says computer network connected with it, from a general person's view can he/she understand that internet can be also a degital device?(according to this). We CS student can understand but a common person may not be able to understand it. Another example can be megnetic device that is HDD, floppies etc. But a normal can think of any megnetic device. According to this even facebook can come under digital device as it is a computer network that connects the globe.\n",
    "\n",
    "**k)** Digital security means security of any digital device. Thus we can say security of facebook. Now if someone publishes harsh things about another person it doesn't violets facebook security thus doesn't violates digital device's security. But digital security should be about security for the users. Digital security should provide security to the person whoose personal feelings/emotions were violated. But according to this clause digital security is about digital device's security. Till now all we studied refered to if a person's feelings were hurt or defaming a person, racism, hatred post etc all these things is against law and falls under digital security and purview of director general. But here in this clause we see that security is for digital devices rather than people of rebuplic.\n",
    "\n",
    "**So other law says the are providing some sort of security via digital security but from the defination it seems different, thus they are contradicting and this is the evidance.**\n",
    "\n",
    "In summaryt Defination says digital security is security of medium/platform i.e. facebook,pendrive. But up untill now we learned law about if someone does bad things using medium/platform then that is a act of crime and there are preventive messures so that people doesn't become victims. Thus they contradict.\n",
    "\n",
    "**Digital security is a misnomer. Misnomer means the name suggests one thing but the actual defination is another thing.Digital security the name suggest security against digital crime but defination says security of medium/platform.**"
   ]
  },
  {
   "cell_type": "markdown",
   "metadata": {},
   "source": []
  },
  {
   "cell_type": "markdown",
   "metadata": {},
   "source": []
  }
 ],
 "metadata": {
  "kernelspec": {
   "display_name": "Python 3",
   "language": "python",
   "name": "python3"
  },
  "language_info": {
   "codemirror_mode": {
    "name": "ipython",
    "version": 3
   },
   "file_extension": ".py",
   "mimetype": "text/x-python",
   "name": "python",
   "nbconvert_exporter": "python",
   "pygments_lexer": "ipython3",
   "version": "3.7.6"
  }
 },
 "nbformat": 4,
 "nbformat_minor": 4
}
