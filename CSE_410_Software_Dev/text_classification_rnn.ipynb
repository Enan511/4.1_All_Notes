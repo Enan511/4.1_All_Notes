{
 "cells": [
  {
   "cell_type": "markdown",
   "metadata": {
    "id": "9TnJztDZGw-n"
   },
   "source": [
    "# Text classification with an RNN"
   ]
  },
  {
   "cell_type": "code",
   "execution_count": 1,
   "metadata": {
    "id": "z682XYsrjkY9"
   },
   "outputs": [],
   "source": [
    "import numpy as np\n",
    "\n",
    "import tensorflow_datasets as tfds\n",
    "import tensorflow as tf\n",
    "\n",
    "tfds.disable_progress_bar()"
   ]
  },
  {
   "cell_type": "code",
   "execution_count": 6,
   "metadata": {
    "id": "Mp1Z7P9pYRSK"
   },
   "outputs": [],
   "source": [
    "import matplotlib.pyplot as plt\n",
    "\n",
    "\n",
    "def plot_graphs(history, metric):\n",
    "  plt.plot(history.history[metric])\n",
    "  plt.plot(history.history['val_'+metric], '')\n",
    "  plt.xlabel(\"Epochs\")\n",
    "  plt.ylabel(metric)\n",
    "  plt.legend([metric, 'val_'+metric])"
   ]
  },
  {
   "cell_type": "code",
   "execution_count": 7,
   "metadata": {
    "colab": {
     "base_uri": "https://localhost:8080/"
    },
    "id": "SHRwRoP2nVHX",
    "outputId": "a3458490-2cc0-4791-ce4b-9e3e0a2c1634"
   },
   "outputs": [
    {
     "data": {
      "text/plain": [
       "(TensorSpec(shape=(), dtype=tf.string, name=None),\n",
       " TensorSpec(shape=(), dtype=tf.int64, name=None))"
      ]
     },
     "execution_count": 7,
     "metadata": {},
     "output_type": "execute_result"
    }
   ],
   "source": [
    "dataset, info = tfds.load('imdb_reviews', with_info=True,\n",
    "                          as_supervised=True)\n",
    "train_dataset, test_dataset = dataset['train'], dataset['test']\n",
    "\n",
    "train_dataset.element_spec"
   ]
  },
  {
   "cell_type": "markdown",
   "metadata": {
    "id": "nWA4c2ir7g6p"
   },
   "source": [
    "Initially this returns a dataset of (text, label pairs):"
   ]
  },
  {
   "cell_type": "code",
   "execution_count": 8,
   "metadata": {
    "colab": {
     "base_uri": "https://localhost:8080/"
    },
    "id": "vd4_BGKyurao",
    "outputId": "b9182042-2c93-41e7-9017-e8d080739d64"
   },
   "outputs": [
    {
     "name": "stdout",
     "output_type": "stream",
     "text": [
      "text:  b\"This was an absolutely terrible movie. Don't be lured in by Christopher Walken or Michael Ironside. Both are great actors, but this must simply be their worst role in history. Even their great acting could not redeem this movie's ridiculous storyline. This movie is an early nineties US propaganda piece. The most pathetic scenes were those when the Columbian rebels were making their cases for revolutions. Maria Conchita Alonso appeared phony, and her pseudo-love affair with Walken was nothing but a pathetic emotional plug in a movie that was devoid of any real meaning. I am disappointed that there are movies like this, ruining actor's like Christopher Walken's good name. I could barely sit through it.\"\n",
      "label:  0\n"
     ]
    }
   ],
   "source": [
    "for example, label in train_dataset.take(1):\n",
    "  print('text: ', example.numpy())\n",
    "  print('label: ', label.numpy())"
   ]
  },
  {
   "cell_type": "markdown",
   "metadata": {
    "id": "z2qVJzcEluH_"
   },
   "source": [
    "Next shuffle the data for training and create batches of these `(text, label)` pairs:"
   ]
  },
  {
   "cell_type": "code",
   "execution_count": 9,
   "metadata": {
    "id": "dDsCaZCDYZgm"
   },
   "outputs": [],
   "source": [
    "BUFFER_SIZE = 10000\n",
    "BATCH_SIZE = 64"
   ]
  },
  {
   "cell_type": "code",
   "execution_count": 10,
   "metadata": {
    "id": "VznrltNOnUc5"
   },
   "outputs": [],
   "source": [
    "train_dataset = train_dataset.shuffle(BUFFER_SIZE).batch(BATCH_SIZE).prefetch(tf.data.AUTOTUNE)\n",
    "test_dataset = test_dataset.batch(BATCH_SIZE).prefetch(tf.data.AUTOTUNE)"
   ]
  },
  {
   "cell_type": "code",
   "execution_count": 11,
   "metadata": {
    "colab": {
     "base_uri": "https://localhost:8080/"
    },
    "id": "jqkvdcFv41wC",
    "outputId": "f87ed852-1e5e-4983-f6c6-2a8f73ad1348"
   },
   "outputs": [
    {
     "name": "stdout",
     "output_type": "stream",
     "text": [
      "texts:  [b'I purchased this film on the cheap in a sale, having read the back of the DVD case and assuming that either way I can\\'t lose, it if was rubbish then no loss, if it was any good then bargain...<br /><br />Then I watched it...<br /><br />I am normally a fan of Christopher Walken, but in this film he commanded very little screen presence, seeming not to do a whole lot, even the death of his friend near the beginning which sparks off the \"action\" in the plot seems to affect him very little, and his eventual revenge is just boring and undramatic.<br /><br />Normally a film which has themes as grand as revolution and revenge are able to capture the audience and snare them into feeling something for the characters, however watching this film felt more like seeing a series of confused, and almost random events that loosely tied together towards it\\'s eventual conclusion...<br /><br />At this point I wept...<br /><br />I thought this film was the most horribly painful piece of viewing I have ever been subjected to, the scene where the pilot sacrifices himself by refusing to jump out the explosive laden truck due to not wanting to kill any civilians is not so much tragically sad as it is unnervingly horrible and painful, although not quite as bad as the emergency surgery on the wounded girl. The acting was poor all round, the script and story was weak, the \"action\" was even weaker, and the \"visuals\" were but bluntly not all that visual. To summarise there are films which are good, films that are bad, films that are so bad they are good, films that are terrible...<br /><br />And then on a whole new level is \"McBain\"'\n",
      " b'Would that more romantic comedies were as deftly executed as this one? I never thought anything as mundane as the simple sale of a music box could leave me catching my breath with excitement. Margaret Sullavan makes a marvellous saleswoman, and she and James Stewart always brought out the best in each other. This movie sports what I think is Frank Morgan\\'s most winning performance, and with \"The Wizard of Oz\" and \"Tortilla Flat\" under his belt, that is saying a lot. The way he finds a Christmas dinner partner left me giddy with joy. Director Ernst Lubitsch might have thought \"Trouble In Paradise\" his favorite, but this one he must surely consider a triumph. With some of the wittiest dialogue American movies of the 30\\'s has to offer.'\n",
      " b'Very funny, well-crafted, well-acted, meticulous attention to detail. A real window into a specific time and place in history. Could almost believe this was a true story in a parallel universe. Interesting how Passport to Pimlico anticipates the Berlin airlift. A definite 10.']\n",
      "\n",
      "labels:  [0 1 1]\n"
     ]
    }
   ],
   "source": [
    "for example, label in train_dataset.take(1):\n",
    "  print('texts: ', example.numpy()[:3])\n",
    "  print()\n",
    "  print('labels: ', label.numpy()[:3])"
   ]
  },
  {
   "cell_type": "markdown",
   "metadata": {
    "id": "s5eWCo88voPY"
   },
   "source": [
    "## Create the text encoder"
   ]
  },
  {
   "cell_type": "markdown",
   "metadata": {
    "id": "TFevcItw15P_"
   },
   "source": [
    "The raw text loaded by `tfds` needs to be processed before it can be used in a model. The simplest way to process text for training is using the `experimental.preprocessing.TextVectorization` layer. This layer has many capabilities, but this tutorial sticks to the default behavior.\n",
    "\n",
    "Create the layer, and pass the dataset's text to the layer's `.adapt` method:"
   ]
  },
  {
   "cell_type": "code",
   "execution_count": 12,
   "metadata": {
    "id": "uC25Lu1Yvuqy"
   },
   "outputs": [],
   "source": [
    "VOCAB_SIZE = 1000\n",
    "encoder = tf.keras.layers.experimental.preprocessing.TextVectorization(\n",
    "    max_tokens=VOCAB_SIZE)\n",
    "encoder.adapt(train_dataset.map(lambda text, label: text))"
   ]
  },
  {
   "cell_type": "markdown",
   "metadata": {
    "id": "IuQzVBbe3Ldu"
   },
   "source": [
    "The `.adapt` method sets the layer's vocabulary. Here are the first 20 tokens. After the padding and unknown tokens they're sorted by frequency: "
   ]
  },
  {
   "cell_type": "code",
   "execution_count": 13,
   "metadata": {
    "colab": {
     "base_uri": "https://localhost:8080/"
    },
    "id": "tBoyjjWg0Ac9",
    "outputId": "fae5993b-70f2-4415-cd08-11eaf1f70fbc"
   },
   "outputs": [
    {
     "data": {
      "text/plain": [
       "array(['', '[UNK]', 'the', 'and', 'a', 'of', 'to', 'is', 'in', 'it', 'i',\n",
       "       'this', 'that', 'br', 'was', 'as', 'for', 'with', 'movie', 'but'],\n",
       "      dtype='<U14')"
      ]
     },
     "execution_count": 13,
     "metadata": {},
     "output_type": "execute_result"
    }
   ],
   "source": [
    "vocab = np.array(encoder.get_vocabulary())\n",
    "vocab[:20]"
   ]
  },
  {
   "cell_type": "markdown",
   "metadata": {
    "id": "mjId5pua3jHQ"
   },
   "source": [
    "Once the vocabulary is set, the layer can encode text into indices. The tensors of indices are 0-padded to the longest sequence in the batch (unless you set a fixed `output_sequence_length`):"
   ]
  },
  {
   "cell_type": "code",
   "execution_count": 14,
   "metadata": {
    "colab": {
     "base_uri": "https://localhost:8080/"
    },
    "id": "RGc7C9WiwRWs",
    "outputId": "40aa9623-c3f9-4cbb-90fe-2d7bd5a3d9c0"
   },
   "outputs": [
    {
     "data": {
      "text/plain": [
       "array([[ 10,   1,  11, ...,   0,   0,   0],\n",
       "       [ 59,  12,  52, ...,   0,   0,   0],\n",
       "       [ 53, 162,   1, ...,   0,   0,   0]], dtype=int64)"
      ]
     },
     "execution_count": 14,
     "metadata": {},
     "output_type": "execute_result"
    }
   ],
   "source": [
    "encoded_example = encoder(example)[:3].numpy()\n",
    "encoded_example"
   ]
  },
  {
   "cell_type": "markdown",
   "metadata": {
    "id": "F5cjz0bS39IN"
   },
   "source": [
    "With the default settings, the process is not completely reversible. There are three main reasons for that:\n",
    "\n",
    "1. The default value for `preprocessing.TextVectorization`'s `standardize` argument is `\"lower_and_strip_punctuation\"`.\n",
    "2. The limited vocabulary size and lack of character-based fallback results in some unknown tokens."
   ]
  },
  {
   "cell_type": "code",
   "execution_count": 15,
   "metadata": {
    "colab": {
     "base_uri": "https://localhost:8080/"
    },
    "id": "N_tD0QY5wXaK",
    "outputId": "c50c5441-4e80-4c53-8328-f1143b62fd0e"
   },
   "outputs": [
    {
     "name": "stdout",
     "output_type": "stream",
     "text": [
      "Original:  b'I purchased this film on the cheap in a sale, having read the back of the DVD case and assuming that either way I can\\'t lose, it if was rubbish then no loss, if it was any good then bargain...<br /><br />Then I watched it...<br /><br />I am normally a fan of Christopher Walken, but in this film he commanded very little screen presence, seeming not to do a whole lot, even the death of his friend near the beginning which sparks off the \"action\" in the plot seems to affect him very little, and his eventual revenge is just boring and undramatic.<br /><br />Normally a film which has themes as grand as revolution and revenge are able to capture the audience and snare them into feeling something for the characters, however watching this film felt more like seeing a series of confused, and almost random events that loosely tied together towards it\\'s eventual conclusion...<br /><br />At this point I wept...<br /><br />I thought this film was the most horribly painful piece of viewing I have ever been subjected to, the scene where the pilot sacrifices himself by refusing to jump out the explosive laden truck due to not wanting to kill any civilians is not so much tragically sad as it is unnervingly horrible and painful, although not quite as bad as the emergency surgery on the wounded girl. The acting was poor all round, the script and story was weak, the \"action\" was even weaker, and the \"visuals\" were but bluntly not all that visual. To summarise there are films which are good, films that are bad, films that are so bad they are good, films that are terrible...<br /><br />And then on a whole new level is \"McBain\"'\n",
      "Round-trip:  i [UNK] this film on the cheap in a [UNK] having read the back of the dvd case and [UNK] that either way i cant [UNK] it if was [UNK] then no [UNK] if it was any good then [UNK] br then i watched itbr br i am [UNK] a fan of [UNK] [UNK] but in this film he [UNK] very little screen [UNK] [UNK] not to do a whole lot even the death of his friend near the beginning which [UNK] off the action in the plot seems to [UNK] him very little and his [UNK] [UNK] is just boring and [UNK] br [UNK] a film which has [UNK] as [UNK] as [UNK] and [UNK] are able to [UNK] the audience and [UNK] them into feeling something for the characters however watching this film felt more like seeing a series of [UNK] and almost [UNK] events that [UNK] [UNK] together towards its [UNK] [UNK] br at this point i [UNK] br i thought this film was the most [UNK] [UNK] piece of viewing i have ever been [UNK] to the scene where the [UNK] [UNK] himself by [UNK] to [UNK] out the [UNK] [UNK] [UNK] due to not [UNK] to kill any [UNK] is not so much [UNK] sad as it is [UNK] horrible and [UNK] although not quite as bad as the [UNK] [UNK] on the [UNK] girl the acting was poor all [UNK] the script and story was weak the action was even [UNK] and the [UNK] were but [UNK] not all that [UNK] to [UNK] there are films which are good films that are bad films that are so bad they are good films that are [UNK] br and then on a whole new level is [UNK]                                                                                                                                                                                                                                                                                                                                                                                                                                                                                                                                                                                                                                                                                   \n",
      "\n",
      "Original:  b'Would that more romantic comedies were as deftly executed as this one? I never thought anything as mundane as the simple sale of a music box could leave me catching my breath with excitement. Margaret Sullavan makes a marvellous saleswoman, and she and James Stewart always brought out the best in each other. This movie sports what I think is Frank Morgan\\'s most winning performance, and with \"The Wizard of Oz\" and \"Tortilla Flat\" under his belt, that is saying a lot. The way he finds a Christmas dinner partner left me giddy with joy. Director Ernst Lubitsch might have thought \"Trouble In Paradise\" his favorite, but this one he must surely consider a triumph. With some of the wittiest dialogue American movies of the 30\\'s has to offer.'\n",
      "Round-trip:  would that more romantic [UNK] were as [UNK] [UNK] as this one i never thought anything as [UNK] as the simple [UNK] of a music [UNK] could leave me [UNK] my [UNK] with [UNK] [UNK] [UNK] makes a [UNK] [UNK] and she and james [UNK] always brought out the best in each other this movie [UNK] what i think is [UNK] [UNK] most [UNK] performance and with the [UNK] of [UNK] and [UNK] [UNK] under his [UNK] that is saying a lot the way he finds a christmas [UNK] [UNK] left me [UNK] with [UNK] director [UNK] [UNK] might have thought [UNK] in [UNK] his favorite but this one he must [UNK] [UNK] a [UNK] with some of the [UNK] dialogue american movies of the [UNK] has to [UNK]                                                                                                                                                                                                                                                                                                                                                                                                                                                                                                                                                                                                                                                                                                                                                                                                                                                     \n",
      "\n",
      "Original:  b'Very funny, well-crafted, well-acted, meticulous attention to detail. A real window into a specific time and place in history. Could almost believe this was a true story in a parallel universe. Interesting how Passport to Pimlico anticipates the Berlin airlift. A definite 10.'\n",
      "Round-trip:  very funny [UNK] [UNK] [UNK] attention to [UNK] a real [UNK] into a [UNK] time and place in history could almost believe this was a true story in a [UNK] [UNK] interesting how [UNK] to [UNK] [UNK] the [UNK] [UNK] a [UNK] 10                                                                                                                                                                                                                                                                                                                                                                                                                                                                                                                                                                                                                                                                                                                                                                                                                                                                                                                                           \n",
      "\n"
     ]
    }
   ],
   "source": [
    "for n in range(3):\n",
    "  print(\"Original: \", example[n].numpy())\n",
    "  print(\"Round-trip: \", \" \".join(vocab[encoded_example[n]]))\n",
    "  print()"
   ]
  },
  {
   "cell_type": "markdown",
   "metadata": {
    "id": "zIwH3nto596k"
   },
   "source": [
    "## Train the model"
   ]
  },
  {
   "cell_type": "markdown",
   "metadata": {
    "id": "7g1evcaRpTKm"
   },
   "source": [
    "## Stack two or more LSTM layers\n",
    "\n",
    "Keras recurrent layers have two available modes that are controlled by the `return_sequences` constructor argument:\n",
    "\n",
    "* If `False` it returns only the last output for each input sequence (a 2D tensor of shape (batch_size, output_features)). This is the default, used in the previous model.\n",
    "\n",
    "* If `True` the full sequences of successive outputs for each timestep is returned (a 3D tensor of shape `(batch_size, timesteps, output_features)`).\n",
    "\n",
    "Here is what the flow of information looks like with `return_sequences=True`:\n",
    "\n",
    "![layered_bidirectional](https://github.com/tensorflow/docs/blob/master/site/en/tutorials/text/images/layered_bidirectional.png?raw=1)"
   ]
  },
  {
   "cell_type": "markdown",
   "metadata": {
    "id": "wbSClCrG1z8l"
   },
   "source": [
    "The interesting thing about using an `RNN` with `return_sequences=True` is that the output still has 3-axes, like the input, so it can be passed to another RNN layer, like this:"
   ]
  },
  {
   "cell_type": "code",
   "execution_count": 16,
   "metadata": {
    "id": "jo1jjO3vn0jo"
   },
   "outputs": [],
   "source": [
    "model = tf.keras.Sequential([\n",
    "    encoder,\n",
    "    tf.keras.layers.Embedding(len(encoder.get_vocabulary()), 64, mask_zero=True),\n",
    "    tf.keras.layers.Bidirectional(tf.keras.layers.LSTM(64,  return_sequences=True)),\n",
    "    tf.keras.layers.Bidirectional(tf.keras.layers.LSTM(32)),\n",
    "    tf.keras.layers.Dense(64, activation='relu'),\n",
    "    tf.keras.layers.Dropout(0.5),\n",
    "    tf.keras.layers.Dense(1)\n",
    "])"
   ]
  },
  {
   "cell_type": "code",
   "execution_count": 17,
   "metadata": {
    "id": "hEPV5jVGp-is"
   },
   "outputs": [],
   "source": [
    "model.compile(loss=tf.keras.losses.BinaryCrossentropy(from_logits=True),\n",
    "              optimizer=tf.keras.optimizers.Adam(1e-4),\n",
    "              metrics=['accuracy'])"
   ]
  },
  {
   "cell_type": "code",
   "execution_count": 18,
   "metadata": {
    "colab": {
     "base_uri": "https://localhost:8080/"
    },
    "id": "LeSE-YjdqAeN",
    "outputId": "97b1cc15-3f5e-4c2e-c5e6-0ffe0854e67a"
   },
   "outputs": [
    {
     "name": "stdout",
     "output_type": "stream",
     "text": [
      "Epoch 1/20\n",
      "391/391 [==============================] - 100s 206ms/step - loss: 0.6784 - accuracy: 0.5171 - val_loss: 0.4493 - val_accuracy: 0.7823\n",
      "Epoch 2/20\n",
      "391/391 [==============================] - 85s 216ms/step - loss: 0.4132 - accuracy: 0.8183 - val_loss: 0.3672 - val_accuracy: 0.8260\n",
      "Epoch 3/20\n",
      "391/391 [==============================] - 74s 190ms/step - loss: 0.3498 - accuracy: 0.8515 - val_loss: 0.3484 - val_accuracy: 0.8307\n",
      "Epoch 4/20\n",
      "391/391 [==============================] - 65s 165ms/step - loss: 0.3338 - accuracy: 0.8537 - val_loss: 0.3304 - val_accuracy: 0.8474\n",
      "Epoch 5/20\n",
      "391/391 [==============================] - 67s 171ms/step - loss: 0.3146 - accuracy: 0.8654 - val_loss: 0.3240 - val_accuracy: 0.8505\n",
      "Epoch 6/20\n",
      "391/391 [==============================] - 67s 171ms/step - loss: 0.3111 - accuracy: 0.8697 - val_loss: 0.3320 - val_accuracy: 0.8646\n",
      "Epoch 7/20\n",
      "391/391 [==============================] - 67s 171ms/step - loss: 0.3044 - accuracy: 0.8722 - val_loss: 0.3382 - val_accuracy: 0.8599\n",
      "Epoch 8/20\n",
      "391/391 [==============================] - 67s 171ms/step - loss: 0.3043 - accuracy: 0.8716 - val_loss: 0.3305 - val_accuracy: 0.8438\n",
      "Epoch 9/20\n",
      "391/391 [==============================] - 63s 162ms/step - loss: 0.3098 - accuracy: 0.8695 - val_loss: 0.3385 - val_accuracy: 0.8250\n",
      "Epoch 10/20\n",
      "391/391 [==============================] - 66s 169ms/step - loss: 0.3016 - accuracy: 0.8686 - val_loss: 0.3179 - val_accuracy: 0.8510\n",
      "Epoch 11/20\n",
      "391/391 [==============================] - 65s 166ms/step - loss: 0.2954 - accuracy: 0.8748 - val_loss: 0.3278 - val_accuracy: 0.8557\n",
      "Epoch 12/20\n",
      "391/391 [==============================] - 63s 162ms/step - loss: 0.3017 - accuracy: 0.8714 - val_loss: 0.3184 - val_accuracy: 0.8516\n",
      "Epoch 13/20\n",
      "391/391 [==============================] - 63s 160ms/step - loss: 0.2947 - accuracy: 0.8759 - val_loss: 0.3243 - val_accuracy: 0.8568\n",
      "Epoch 14/20\n",
      "391/391 [==============================] - 62s 159ms/step - loss: 0.2891 - accuracy: 0.8772 - val_loss: 0.3270 - val_accuracy: 0.8542\n",
      "Epoch 15/20\n",
      "391/391 [==============================] - 64s 164ms/step - loss: 0.2837 - accuracy: 0.8789 - val_loss: 0.3239 - val_accuracy: 0.8609\n",
      "Epoch 16/20\n",
      "391/391 [==============================] - 64s 163ms/step - loss: 0.2874 - accuracy: 0.8785 - val_loss: 0.3265 - val_accuracy: 0.8490\n",
      "Epoch 17/20\n",
      "391/391 [==============================] - 62s 159ms/step - loss: 0.2854 - accuracy: 0.8805 - val_loss: 0.3218 - val_accuracy: 0.8453\n",
      "Epoch 18/20\n",
      "391/391 [==============================] - 62s 158ms/step - loss: 0.2737 - accuracy: 0.8855 - val_loss: 0.3458 - val_accuracy: 0.8609\n",
      "Epoch 19/20\n",
      "391/391 [==============================] - 62s 158ms/step - loss: 0.2837 - accuracy: 0.8845 - val_loss: 0.3498 - val_accuracy: 0.8562\n",
      "Epoch 20/20\n",
      "391/391 [==============================] - 61s 157ms/step - loss: 0.2761 - accuracy: 0.8824 - val_loss: 0.3237 - val_accuracy: 0.8453\n"
     ]
    }
   ],
   "source": [
    "history = model.fit(train_dataset, epochs=20,\n",
    "                    validation_data=test_dataset,\n",
    "                    validation_steps=30)"
   ]
  },
  {
   "cell_type": "code",
   "execution_count": 21,
   "metadata": {
    "colab": {
     "base_uri": "https://localhost:8080/"
    },
    "id": "ODejSoR7kFJO",
    "outputId": "1aad0890-dfe7-406a-9fd2-47989c8fd4fd"
   },
   "outputs": [
    {
     "name": "stdout",
     "output_type": "stream",
     "text": [
      "Model: \"sequential\"\n",
      "_________________________________________________________________\n",
      "Layer (type)                 Output Shape              Param #   \n",
      "=================================================================\n",
      "text_vectorization (TextVect (None, None)              0         \n",
      "_________________________________________________________________\n",
      "embedding (Embedding)        (None, None, 64)          64000     \n",
      "_________________________________________________________________\n",
      "bidirectional (Bidirectional (None, None, 128)         66048     \n",
      "_________________________________________________________________\n",
      "bidirectional_1 (Bidirection (None, 64)                41216     \n",
      "_________________________________________________________________\n",
      "dense (Dense)                (None, 64)                4160      \n",
      "_________________________________________________________________\n",
      "dropout (Dropout)            (None, 64)                0         \n",
      "_________________________________________________________________\n",
      "dense_1 (Dense)              (None, 1)                 65        \n",
      "=================================================================\n",
      "Total params: 175,489\n",
      "Trainable params: 175,489\n",
      "Non-trainable params: 0\n",
      "_________________________________________________________________\n"
     ]
    }
   ],
   "source": [
    "model.summary()"
   ]
  },
  {
   "cell_type": "code",
   "execution_count": 22,
   "metadata": {
    "colab": {
     "base_uri": "https://localhost:8080/",
     "height": 865
    },
    "id": "_U22xLGakrxR",
    "outputId": "d9f6e6e1-c2a1-4d0f-d679-b80ace43d6b5"
   },
   "outputs": [
    {
     "data": {
      "image/png": "[encoded data removed]",
      "text/plain": [
       "<IPython.core.display.Image object>"
      ]
     },
     "execution_count": 22,
     "metadata": {},
     "output_type": "execute_result"
    }
   ],
   "source": [
    "import keras\n",
    "keras.utils.plot_model(\n",
    "    model,\n",
    "    to_file=\"model.png\",\n",
    "    show_shapes=True,\n",
    "    show_dtype=True,\n",
    "    show_layer_names=True,\n",
    "    rankdir=\"TB\",\n",
    "    expand_nested=False,\n",
    "    dpi=96,\n",
    ")"
   ]
  },
  {
   "cell_type": "code",
   "execution_count": 28,
   "metadata": {
    "id": "ttH7wY6qz-bf"
   },
   "outputs": [],
   "source": [
    "!pip install -q pyyaml h5py"
   ]
  },
  {
   "cell_type": "code",
   "execution_count": 23,
   "metadata": {
    "id": "5DtEWpBb0yDC"
   },
   "outputs": [],
   "source": [
    "!mkdir saved_model"
   ]
  },
  {
   "cell_type": "code",
   "execution_count": 24,
   "metadata": {
    "colab": {
     "base_uri": "https://localhost:8080/"
    },
    "id": "vhUa0QfK02Pk",
    "outputId": "0d3812b3-9124-47b1-96ba-2cc7777c5ef4"
   },
   "outputs": [
    {
     "name": "stderr",
     "output_type": "stream",
     "text": [
      "WARNING:absl:Found untraced functions such as lstm_cell_7_layer_call_and_return_conditional_losses, lstm_cell_7_layer_call_fn, lstm_cell_8_layer_call_and_return_conditional_losses, lstm_cell_8_layer_call_fn, lstm_cell_10_layer_call_and_return_conditional_losses while saving (showing 5 of 20). These functions will not be directly callable after loading.\n",
      "WARNING:absl:Found untraced functions such as lstm_cell_7_layer_call_and_return_conditional_losses, lstm_cell_7_layer_call_fn, lstm_cell_8_layer_call_and_return_conditional_losses, lstm_cell_8_layer_call_fn, lstm_cell_10_layer_call_and_return_conditional_losses while saving (showing 5 of 20). These functions will not be directly callable after loading.\n"
     ]
    },
    {
     "name": "stdout",
     "output_type": "stream",
     "text": [
      "INFO:tensorflow:Assets written to: saved_model/my_model\\assets\n"
     ]
    },
    {
     "name": "stderr",
     "output_type": "stream",
     "text": [
      "INFO:tensorflow:Assets written to: saved_model/my_model\\assets\n"
     ]
    }
   ],
   "source": [
    "model.save('saved_model/my_model')"
   ]
  },
  {
   "cell_type": "code",
   "execution_count": 37,
   "metadata": {
    "colab": {
     "base_uri": "https://localhost:8080/"
    },
    "id": "XKltT40O06gu",
    "outputId": "46842e69-598b-4023-8e33-9fd301b85013"
   },
   "outputs": [
    {
     "name": "stdout",
     "output_type": "stream",
     "text": [
      "my_model\n"
     ]
    }
   ],
   "source": [
    "# my_model directory\n",
    "!ls saved_model"
   ]
  },
  {
   "cell_type": "code",
   "execution_count": 39,
   "metadata": {
    "colab": {
     "base_uri": "https://localhost:8080/"
    },
    "id": "xhEqvx6T1N_p",
    "outputId": "fc0bb4c0-9e27-4141-d3a5-d5de5a0bc2bd"
   },
   "outputs": [
    {
     "name": "stdout",
     "output_type": "stream",
     "text": [
      "assets\tsaved_model.pb\tvariables\n"
     ]
    }
   ],
   "source": [
    "# Contains an assets folder, saved_model.pb, and variables folder.\n",
    "!ls saved_model/my_model"
   ]
  },
  {
   "cell_type": "code",
   "execution_count": 2,
   "metadata": {
    "id": "h6hxHmgy1Ra6"
   },
   "outputs": [],
   "source": [
    "new_model = tf.keras.models.load_model('saved_model/my_model')"
   ]
  },
  {
   "cell_type": "code",
   "execution_count": 4,
   "metadata": {},
   "outputs": [],
   "source": [
    "converter = tf.lite.TFLiteConverter.from_saved_model('saved_model/my_model')\n",
    "tflite_model = converter.convert()"
   ]
  },
  {
   "cell_type": "code",
   "execution_count": 5,
   "metadata": {},
   "outputs": [],
   "source": [
    "open (\"text_classification_v2.tflite\" , \"wb\").write(tfmodel)"
   ]
  },
  {
   "cell_type": "code",
   "execution_count": 41,
   "metadata": {
    "colab": {
     "base_uri": "https://localhost:8080/"
    },
    "id": "lMBmws2z1U6t",
    "outputId": "2f71837e-90b5-45dd-d075-3acf99f0b2da"
   },
   "outputs": [
    {
     "name": "stdout",
     "output_type": "stream",
     "text": [
      "[[-2.3772874]]\n"
     ]
    }
   ],
   "source": [
    "sample_text = ('The movie was not good. The animation and the graphics '\n",
    "               'were terrible. I would not recommend this movie.')\n",
    "predictions = new_model.predict(np.array([sample_text]))\n",
    "print(predictions)"
   ]
  },
  {
   "cell_type": "code",
   "execution_count": 42,
   "metadata": {
    "colab": {
     "base_uri": "https://localhost:8080/"
    },
    "id": "_LdwilM1qPM3",
    "outputId": "dd43f3da-0a33-49ee-ab86-e0de97bc9465"
   },
   "outputs": [
    {
     "name": "stdout",
     "output_type": "stream",
     "text": [
      "391/391 [==============================] - 90s 217ms/step - loss: 0.3274 - accuracy: 0.8517\n",
      "Test Loss: 0.32740336656570435\n",
      "Test Accuracy: 0.8516799807548523\n"
     ]
    }
   ],
   "source": [
    "test_loss, test_acc = new_model.evaluate(test_dataset)\n",
    "\n",
    "print('Test Loss:', test_loss)\n",
    "print('Test Accuracy:', test_acc)"
   ]
  },
  {
   "cell_type": "code",
   "execution_count": 43,
   "metadata": {
    "colab": {
     "base_uri": "https://localhost:8080/",
     "height": 388
    },
    "id": "_YYub0EDtwCu",
    "outputId": "aa1e4437-cbe3-4055-dd5b-6fb3722701e1"
   },
   "outputs": [
    {
     "data": {
      "image/png": "[encoded data removed]",
      "text/plain": [
       "<Figure size 1152x432 with 2 Axes>"
      ]
     },
     "metadata": {
      "needs_background": "light",
      "tags": []
     },
     "output_type": "display_data"
    }
   ],
   "source": [
    "plt.figure(figsize=(16, 6))\n",
    "plt.subplot(1, 2, 1)\n",
    "plot_graphs(history, 'accuracy')\n",
    "plt.subplot(1, 2, 2)\n",
    "plot_graphs(history, 'loss')"
   ]
  }
 ],
 "metadata": {
  "accelerator": "GPU",
  "colab": {
   "collapsed_sections": [],
   "name": "text_classification_rnn.ipynb",
   "provenance": [],
   "toc_visible": true
  },
  "kernelspec": {
   "name": "python385jvsc74a57bd0187a3bd7aa36e721320d9cf66e4acc41f80d667db05d703b6fb2e15f59a96abb",
   "display_name": "Python 3.8.5 64-bit (conda)"
  },
  "language_info": {
   "codemirror_mode": {
    "name": "ipython",
    "version": 3
   },
   "file_extension": ".py",
   "mimetype": "text/x-python",
   "name": "python",
   "nbconvert_exporter": "python",
   "pygments_lexer": "ipython3",
   "version": "3.8.5-final"
  }
 },
 "nbformat": 4,
 "nbformat_minor": 4
}