{
 "cells": [
  {
   "cell_type": "code",
   "execution_count": 1,
   "metadata": {
    "id": "vH_FAfIz5dEw"
   },
   "outputs": [],
   "source": [
    "# !pip install -q -U tensorflow\n",
    "# !pip install -q tensorflow_datasets"
   ]
  },
  {
   "cell_type": "code",
   "execution_count": 2,
   "metadata": {
    "id": "z682XYsrjkY9"
   },
   "outputs": [],
   "source": [
    "import numpy as np\n",
    "\n",
    "import tensorflow_datasets as tfds\n",
    "import tensorflow as tf\n",
    "\n",
    "tfds.disable_progress_bar()"
   ]
  },
  {
   "cell_type": "code",
   "execution_count": 3,
   "metadata": {
    "id": "Mp1Z7P9pYRSK"
   },
   "outputs": [],
   "source": [
    "import matplotlib.pyplot as plt\n",
    "\n",
    "def plot_graphs(history, metric):\n",
    "  plt.plot(history.history[metric])\n",
    "  plt.plot(history.history['val_'+metric], '')\n",
    "  plt.xlabel(\"Epochs\")\n",
    "  plt.ylabel(metric)\n",
    "  plt.legend([metric, 'val_'+metric])"
   ]
  },
  {
   "cell_type": "code",
   "execution_count": 4,
   "metadata": {
    "colab": {
     "base_uri": "https://localhost:8080/"
    },
    "id": "SHRwRoP2nVHX",
    "outputId": "ebcd46c4-ccd1-4ffb-c0e6-2ef92c2b2f5a"
   },
   "outputs": [
    {
     "data": {
      "text/plain": [
       "(TensorSpec(shape=(), dtype=tf.string, name=None),\n",
       " TensorSpec(shape=(), dtype=tf.int64, name=None))"
      ]
     },
     "execution_count": 4,
     "metadata": {},
     "output_type": "execute_result"
    }
   ],
   "source": [
    "dataset, info = tfds.load('imdb_reviews', with_info=True,\n",
    "                          as_supervised=True)\n",
    "train_dataset, test_dataset = dataset['train'], dataset['test']\n",
    "\n",
    "train_dataset.element_spec"
   ]
  },
  {
   "cell_type": "markdown",
   "metadata": {
    "id": "nWA4c2ir7g6p"
   },
   "source": [
    "Initially this returns a dataset of (text, label pairs):"
   ]
  },
  {
   "cell_type": "code",
   "execution_count": 5,
   "metadata": {
    "colab": {
     "base_uri": "https://localhost:8080/"
    },
    "id": "vd4_BGKyurao",
    "outputId": "92bbf254-922b-43af-b54f-279b9d1705cf"
   },
   "outputs": [
    {
     "name": "stdout",
     "output_type": "stream",
     "text": [
      "text:  b\"This was an absolutely terrible movie. Don't be lured in by Christopher Walken or Michael Ironside. Both are great actors, but this must simply be their worst role in history. Even their great acting could not redeem this movie's ridiculous storyline. This movie is an early nineties US propaganda piece. The most pathetic scenes were those when the Columbian rebels were making their cases for revolutions. Maria Conchita Alonso appeared phony, and her pseudo-love affair with Walken was nothing but a pathetic emotional plug in a movie that was devoid of any real meaning. I am disappointed that there are movies like this, ruining actor's like Christopher Walken's good name. I could barely sit through it.\"\n",
      "label:  0\n"
     ]
    }
   ],
   "source": [
    "for example, label in train_dataset.take(1):\n",
    "  print('text: ', example.numpy())\n",
    "  print('label: ', label.numpy())"
   ]
  },
  {
   "cell_type": "markdown",
   "metadata": {
    "id": "z2qVJzcEluH_"
   },
   "source": [
    "Next shuffle the data for training and create batches of these `(text, label)` pairs:"
   ]
  },
  {
   "cell_type": "code",
   "execution_count": 6,
   "metadata": {
    "id": "dDsCaZCDYZgm"
   },
   "outputs": [],
   "source": [
    "BUFFER_SIZE = 10000\n",
    "BATCH_SIZE = 64"
   ]
  },
  {
   "cell_type": "code",
   "execution_count": 7,
   "metadata": {
    "id": "VznrltNOnUc5"
   },
   "outputs": [
    {
     "ename": "AttributeError",
     "evalue": "module 'tensorflow._api.v2.data' has no attribute 'AUTOTUNE'",
     "output_type": "error",
     "traceback": [
      "\u001b[1;31m---------------------------------------------------------------------------\u001b[0m",
      "\u001b[1;31mAttributeError\u001b[0m                            Traceback (most recent call last)",
      "\u001b[1;32m<ipython-input-7-9c3e2036fbc4>\u001b[0m in \u001b[0;36m<module>\u001b[1;34m\u001b[0m\n\u001b[1;32m----> 1\u001b[1;33m \u001b[0mtrain_dataset\u001b[0m \u001b[1;33m=\u001b[0m \u001b[0mtrain_dataset\u001b[0m\u001b[1;33m.\u001b[0m\u001b[0mshuffle\u001b[0m\u001b[1;33m(\u001b[0m\u001b[0mBUFFER_SIZE\u001b[0m\u001b[1;33m)\u001b[0m\u001b[1;33m.\u001b[0m\u001b[0mbatch\u001b[0m\u001b[1;33m(\u001b[0m\u001b[0mBATCH_SIZE\u001b[0m\u001b[1;33m)\u001b[0m\u001b[1;33m.\u001b[0m\u001b[0mprefetch\u001b[0m\u001b[1;33m(\u001b[0m\u001b[0mtf\u001b[0m\u001b[1;33m.\u001b[0m\u001b[0mdata\u001b[0m\u001b[1;33m.\u001b[0m\u001b[0mAUTOTUNE\u001b[0m\u001b[1;33m)\u001b[0m\u001b[1;33m\u001b[0m\u001b[1;33m\u001b[0m\u001b[0m\n\u001b[0m\u001b[0;32m      2\u001b[0m \u001b[0mtest_dataset\u001b[0m \u001b[1;33m=\u001b[0m \u001b[0mtest_dataset\u001b[0m\u001b[1;33m.\u001b[0m\u001b[0mbatch\u001b[0m\u001b[1;33m(\u001b[0m\u001b[0mBATCH_SIZE\u001b[0m\u001b[1;33m)\u001b[0m\u001b[1;33m.\u001b[0m\u001b[0mprefetch\u001b[0m\u001b[1;33m(\u001b[0m\u001b[0mtf\u001b[0m\u001b[1;33m.\u001b[0m\u001b[0mdata\u001b[0m\u001b[1;33m.\u001b[0m\u001b[0mAUTOTUNE\u001b[0m\u001b[1;33m)\u001b[0m\u001b[1;33m\u001b[0m\u001b[1;33m\u001b[0m\u001b[0m\n",
      "\u001b[1;31mAttributeError\u001b[0m: module 'tensorflow._api.v2.data' has no attribute 'AUTOTUNE'"
     ]
    }
   ],
   "source": [
    "train_dataset = train_dataset.shuffle(BUFFER_SIZE).batch(BATCH_SIZE).prefetch(tf.data.AUTOTUNE)\n",
    "test_dataset = test_dataset.batch(BATCH_SIZE).prefetch(tf.data.AUTOTUNE)"
   ]
  },
  {
   "cell_type": "code",
   "execution_count": 36,
   "metadata": {
    "colab": {
     "base_uri": "https://localhost:8080/"
    },
    "id": "jqkvdcFv41wC",
    "outputId": "5aeb9d79-83ff-4027-a820-b0e7b41a0038"
   },
   "outputs": [
    {
     "name": "stdout",
     "output_type": "stream",
     "text": [
      "texts:  [b\"This is my first comment on IMDb website, and the reason I'm writing it is that we're talking about ONE OF THE BEST FILMS EVER! 'Ne goryuy!' will make you laugh and cry at the same time, you will fall in love (if you're not a fan yet!) with Georgian choir singing tradition, and possibly you will accept the hardships of your own existence and just feel good after watching it:) What I like a lot about this film is that actors in the non-leading roles create vivid and memorable characters and are just as interesting and important as the central character. The film is starring Vahtang Kikabidze (who is great), but you will remember every single face around him in the film. You will find yourself quoting their lines, that have become household names for so many Russian-speaking people. A film to live with. Simple, yet deep, you will want to watch it again and again.\"\n",
      " b'McConaughey in a horror/thriller? I had to see this. I was pleasantly surprised.<br /><br />The plot is told in flashback mode, and it concerns an otherwise normal and happy family of three going through a very bizarre predicament. I can\\'t say much more without spoiling the whole movie, sorry. Just know that if you decide to watch it, you\\'ll be, in the very least, surprised.<br /><br />All the main players are very good. Bill Paxton did a great job directing those kids, and his acting is awesome. McConaughey\\'s acting is solid throughout and fits the bill perfectly.<br /><br />This movie challenges you to think. Is Dad crazy? Is there a God? Do Demons exist? How far would you go to right a wrong. And what is \"right\" anyway? I\\'m still thinking.<br /><br />And thus I recommend \"Frailty\". 7/10 and this is one of those movies that deserves and rewards a second, or even third viewing.'\n",
      " b'I really enjoyed \"Doctor Mordrid\". This is a low-budget film, which may be off-putting to some, but I have no problem with it. I admire it even more for that, considering it\\'s WAY more entertaining than the drivel that Hollywood churns out every year. Too bad this didn\\'t get a theatrical release; I don\\'t know about anyone else, but I would have went to see it in theatres. `Doctor Mordrid\\' is a very entertaining science fiction film that just about anyone can enjoy, especially if they\\'re into sci-fi like I am. I don\\'t see why this is a R-rated film; only one f-word is said, and there are no gruesome death scenes, nor is there any blood at all. The timeless rivalry between sorcerers Anton and Kabal (Anton wanted the use his powers to save the human race, while Kabal wanted to enslave them), gave the story a sense of enchantment, while the mythical plotline added charm to the story itself. Basically, this a film that\\'s just plain fun to watch. There is one unintentionally funny thing in this movie, though: seeing Jeffrey Combs keeping a straight face while wearing that silly blue cape and suit. That makes me laugh every time I see it. But I digress... Anyway, the acting is great; the main protagonists (Anton, and his lady friend, Samantha), are very likable; Anton is sympathetic, and hospitable, and Samantha is friendly. Plus, the settings were wonderful. The floating island in the other dimension was very cool setting; we\\'re only given a glimpse of it twice, though; it would have been great to see more scenes take place here. The main setting was also very neat; Anton\\'s apartment is very roomy, and he has some cool devices, especially the monitoring system he uses to keep track of the world\\'s occurrences. He even has a pet raven that he keeps in his apartment named Edgar. Overall, this a great film; it was fun to watch, and the main actors put a lot of feeling into their roles. If you can find anywhere that rents `Doctor Mordrid\\', you should rent it (or, in my case, buy it. It was definitely money well-spent)!<br /><br />My Rating: 8 stars out of ten.<br /><br />']\n",
      "\n",
      "labels:  [1 1 1]\n"
     ]
    }
   ],
   "source": [
    "for example, label in train_dataset.take(1):\n",
    "  print('texts: ', example.numpy()[:3])\n",
    "  print()\n",
    "  print('labels: ', label.numpy()[:3])"
   ]
  },
  {
   "cell_type": "code",
   "execution_count": 37,
   "metadata": {
    "id": "uC25Lu1Yvuqy"
   },
   "outputs": [],
   "source": [
    "VOCAB_SIZE=1000\n",
    "encoder = tf.keras.layers.experimental.preprocessing.TextVectorization(\n",
    "    max_tokens=VOCAB_SIZE)\n",
    "encoder.adapt(train_dataset.map(lambda text, label: text))"
   ]
  },
  {
   "cell_type": "code",
   "execution_count": 38,
   "metadata": {
    "colab": {
     "base_uri": "https://localhost:8080/"
    },
    "id": "tBoyjjWg0Ac9",
    "outputId": "7025b493-3bd0-458a-ba24-6115c333e4af"
   },
   "outputs": [
    {
     "data": {
      "text/plain": [
       "array(['', '[UNK]', 'the', 'and', 'a', 'of', 'to', 'is', 'in', 'it', 'i',\n",
       "       'this', 'that', 'br', 'was', 'as', 'for', 'with', 'movie', 'but'],\n",
       "      dtype='<U14')"
      ]
     },
     "execution_count": 38,
     "metadata": {
      "tags": []
     },
     "output_type": "execute_result"
    }
   ],
   "source": [
    "vocab = np.array(encoder.get_vocabulary())\n",
    "vocab[:20]"
   ]
  },
  {
   "cell_type": "code",
   "execution_count": 39,
   "metadata": {
    "colab": {
     "base_uri": "https://localhost:8080/"
    },
    "id": "RGc7C9WiwRWs",
    "outputId": "5a9a3b20-386c-4ab5-8ba4-c1c6ddde107f"
   },
   "outputs": [
    {
     "data": {
      "text/plain": [
       "array([[ 11,   7,  56, ...,   0,   0,   0],\n",
       "       [  1,   8,   4, ...,   0,   0,   0],\n",
       "       [ 10,  63, 492, ...,   0,   0,   0]])"
      ]
     },
     "execution_count": 39,
     "metadata": {
      "tags": []
     },
     "output_type": "execute_result"
    }
   ],
   "source": [
    "encoded_example = encoder(example)[:3].numpy()\n",
    "encoded_example"
   ]
  },
  {
   "cell_type": "code",
   "execution_count": 40,
   "metadata": {
    "colab": {
     "base_uri": "https://localhost:8080/"
    },
    "id": "N_tD0QY5wXaK",
    "outputId": "63f8a6ed-623a-4892-b963-0c8924674732"
   },
   "outputs": [
    {
     "name": "stdout",
     "output_type": "stream",
     "text": [
      "Original:  b\"This is my first comment on IMDb website, and the reason I'm writing it is that we're talking about ONE OF THE BEST FILMS EVER! 'Ne goryuy!' will make you laugh and cry at the same time, you will fall in love (if you're not a fan yet!) with Georgian choir singing tradition, and possibly you will accept the hardships of your own existence and just feel good after watching it:) What I like a lot about this film is that actors in the non-leading roles create vivid and memorable characters and are just as interesting and important as the central character. The film is starring Vahtang Kikabidze (who is great), but you will remember every single face around him in the film. You will find yourself quoting their lines, that have become household names for so many Russian-speaking people. A film to live with. Simple, yet deep, you will want to watch it again and again.\"\n",
      "Round-trip:  this is my first comment on imdb [UNK] and the reason im writing it is that were talking about one of the best films ever [UNK] [UNK] will make you laugh and [UNK] at the same time you will fall in love if youre not a fan yet with [UNK] [UNK] [UNK] [UNK] and possibly you will [UNK] the [UNK] of your own [UNK] and just feel good after watching it what i like a lot about this film is that actors in the [UNK] roles create [UNK] and memorable characters and are just as interesting and important as the [UNK] character the film is [UNK] [UNK] [UNK] who is great but you will remember every single face around him in the film you will find yourself [UNK] their lines that have become [UNK] [UNK] for so many [UNK] people a film to live with simple yet deep you will want to watch it again and again                                                                                                                                                                                                                                                                                                                                                                                                                                                                                                                                                                                                                                                                                                                                                                                                                                  \n",
      "\n",
      "Original:  b'McConaughey in a horror/thriller? I had to see this. I was pleasantly surprised.<br /><br />The plot is told in flashback mode, and it concerns an otherwise normal and happy family of three going through a very bizarre predicament. I can\\'t say much more without spoiling the whole movie, sorry. Just know that if you decide to watch it, you\\'ll be, in the very least, surprised.<br /><br />All the main players are very good. Bill Paxton did a great job directing those kids, and his acting is awesome. McConaughey\\'s acting is solid throughout and fits the bill perfectly.<br /><br />This movie challenges you to think. Is Dad crazy? Is there a God? Do Demons exist? How far would you go to right a wrong. And what is \"right\" anyway? I\\'m still thinking.<br /><br />And thus I recommend \"Frailty\". 7/10 and this is one of those movies that deserves and rewards a second, or even third viewing.'\n",
      "Round-trip:  [UNK] in a [UNK] i had to see this i was [UNK] [UNK] br the plot is told in [UNK] [UNK] and it [UNK] an otherwise [UNK] and happy family of three going through a very [UNK] [UNK] i cant say much more without [UNK] the whole movie sorry just know that if you [UNK] to watch it youll be in the very least [UNK] br all the main [UNK] are very good bill [UNK] did a great job directing those kids and his acting is [UNK] [UNK] acting is [UNK] throughout and [UNK] the bill [UNK] br this movie [UNK] you to think is [UNK] crazy is there a god do [UNK] [UNK] how far would you go to right a wrong and what is right anyway im still [UNK] br and [UNK] i recommend [UNK] [UNK] and this is one of those movies that deserves and [UNK] a second or even third viewing                                                                                                                                                                                                                                                                                                                                                                                                                                                                                                                                                                                                                                                                                                                                                                                                                                    \n",
      "\n",
      "Original:  b'I really enjoyed \"Doctor Mordrid\". This is a low-budget film, which may be off-putting to some, but I have no problem with it. I admire it even more for that, considering it\\'s WAY more entertaining than the drivel that Hollywood churns out every year. Too bad this didn\\'t get a theatrical release; I don\\'t know about anyone else, but I would have went to see it in theatres. `Doctor Mordrid\\' is a very entertaining science fiction film that just about anyone can enjoy, especially if they\\'re into sci-fi like I am. I don\\'t see why this is a R-rated film; only one f-word is said, and there are no gruesome death scenes, nor is there any blood at all. The timeless rivalry between sorcerers Anton and Kabal (Anton wanted the use his powers to save the human race, while Kabal wanted to enslave them), gave the story a sense of enchantment, while the mythical plotline added charm to the story itself. Basically, this a film that\\'s just plain fun to watch. There is one unintentionally funny thing in this movie, though: seeing Jeffrey Combs keeping a straight face while wearing that silly blue cape and suit. That makes me laugh every time I see it. But I digress... Anyway, the acting is great; the main protagonists (Anton, and his lady friend, Samantha), are very likable; Anton is sympathetic, and hospitable, and Samantha is friendly. Plus, the settings were wonderful. The floating island in the other dimension was very cool setting; we\\'re only given a glimpse of it twice, though; it would have been great to see more scenes take place here. The main setting was also very neat; Anton\\'s apartment is very roomy, and he has some cool devices, especially the monitoring system he uses to keep track of the world\\'s occurrences. He even has a pet raven that he keeps in his apartment named Edgar. Overall, this a great film; it was fun to watch, and the main actors put a lot of feeling into their roles. If you can find anywhere that rents `Doctor Mordrid\\', you should rent it (or, in my case, buy it. It was definitely money well-spent)!<br /><br />My Rating: 8 stars out of ten.<br /><br />'\n",
      "Round-trip:  i really enjoyed [UNK] [UNK] this is a [UNK] film which may be [UNK] to some but i have no problem with it i [UNK] it even more for that [UNK] its way more entertaining than the [UNK] that hollywood [UNK] out every year too bad this didnt get a [UNK] release i dont know about anyone else but i would have went to see it in [UNK] [UNK] [UNK] is a very entertaining [UNK] [UNK] film that just about anyone can enjoy especially if theyre into scifi like i am i dont see why this is a [UNK] film only one [UNK] is said and there are no [UNK] death scenes nor is there any blood at all the [UNK] [UNK] between [UNK] [UNK] and [UNK] [UNK] wanted the use his [UNK] to save the human [UNK] while [UNK] wanted to [UNK] them gave the story a sense of [UNK] while the [UNK] [UNK] [UNK] [UNK] to the story itself basically this a film thats just [UNK] fun to watch there is one [UNK] funny thing in this movie though seeing [UNK] [UNK] [UNK] a straight face while [UNK] that silly [UNK] [UNK] and [UNK] that makes me laugh every time i see it but i [UNK] anyway the acting is great the main [UNK] [UNK] and his lady friend [UNK] are very [UNK] [UNK] is [UNK] and [UNK] and [UNK] is [UNK] plus the [UNK] were wonderful the [UNK] [UNK] in the other [UNK] was very cool setting were only given a [UNK] of it [UNK] though it would have been great to see more scenes take place here the main setting was also very [UNK] [UNK] [UNK] is very [UNK] and he has some cool [UNK] especially the [UNK] [UNK] he [UNK] to keep [UNK] of the [UNK] [UNK] he even has a [UNK] [UNK] that he keeps in his [UNK] named [UNK] overall this a great film it was fun to watch and the main actors put a lot of feeling into their roles if you can find [UNK] that [UNK] [UNK] [UNK] you should rent it or in my case buy it it was definitely money [UNK] br my rating [UNK] stars out of [UNK] br                                                                                                                                                                                                                                                                                                                                                                                                                                                                                                                                                                                                            \n",
      "\n"
     ]
    }
   ],
   "source": [
    "for n in range(3):\n",
    "  print(\"Original: \", example[n].numpy())\n",
    "  print(\"Round-trip: \", \" \".join(vocab[encoded_example[n]]))\n",
    "  print()"
   ]
  },
  {
   "cell_type": "code",
   "execution_count": 44,
   "metadata": {
    "id": "jo1jjO3vn0jo"
   },
   "outputs": [],
   "source": [
    "model = tf.keras.Sequential([\n",
    "    encoder,\n",
    "    tf.keras.layers.Embedding(len(encoder.get_vocabulary()), 64, mask_zero=True),\n",
    "    tf.keras.layers.Bidirectional(tf.keras.layers.LSTM(64,  return_sequences=True)),\n",
    "    tf.keras.layers.Bidirectional(tf.keras.layers.LSTM(32)),\n",
    "    tf.keras.layers.Dense(64, activation='relu'),\n",
    "    tf.keras.layers.Dropout(0.5),\n",
    "    tf.keras.layers.Dense(1)\n",
    "])"
   ]
  },
  {
   "cell_type": "code",
   "execution_count": 45,
   "metadata": {
    "id": "hEPV5jVGp-is"
   },
   "outputs": [],
   "source": [
    "model.compile(loss=tf.keras.losses.BinaryCrossentropy(from_logits=True),\n",
    "              optimizer=tf.keras.optimizers.Adam(1e-4),\n",
    "              metrics=['accuracy'])"
   ]
  },
  {
   "cell_type": "code",
   "execution_count": 47,
   "metadata": {
    "colab": {
     "base_uri": "https://localhost:8080/"
    },
    "id": "LeSE-YjdqAeN",
    "outputId": "8bb3c130-345a-4de0-c087-196871e82250"
   },
   "outputs": [
    {
     "name": "stdout",
     "output_type": "stream",
     "text": [
      "Epoch 1/20\n",
      "391/391 [==============================] - 198s 455ms/step - loss: 0.6845 - accuracy: 0.5055 - val_loss: 0.4639 - val_accuracy: 0.8016\n",
      "Epoch 2/20\n",
      "391/391 [==============================] - 171s 436ms/step - loss: 0.4380 - accuracy: 0.8109 - val_loss: 0.3732 - val_accuracy: 0.8266\n",
      "Epoch 3/20\n",
      "391/391 [==============================] - 171s 436ms/step - loss: 0.3547 - accuracy: 0.8506 - val_loss: 0.3372 - val_accuracy: 0.8490\n",
      "Epoch 4/20\n",
      "391/391 [==============================] - 169s 430ms/step - loss: 0.3330 - accuracy: 0.8595 - val_loss: 0.3290 - val_accuracy: 0.8469\n",
      "Epoch 5/20\n",
      "391/391 [==============================] - 169s 430ms/step - loss: 0.3184 - accuracy: 0.8662 - val_loss: 0.3221 - val_accuracy: 0.8547\n",
      "Epoch 6/20\n",
      "391/391 [==============================] - 170s 433ms/step - loss: 0.3132 - accuracy: 0.8683 - val_loss: 0.3199 - val_accuracy: 0.8583\n",
      "Epoch 7/20\n",
      "391/391 [==============================] - 170s 433ms/step - loss: 0.3075 - accuracy: 0.8663 - val_loss: 0.3210 - val_accuracy: 0.8521\n",
      "Epoch 8/20\n",
      "391/391 [==============================] - 168s 427ms/step - loss: 0.3051 - accuracy: 0.8714 - val_loss: 0.3236 - val_accuracy: 0.8599\n",
      "Epoch 9/20\n",
      "391/391 [==============================] - 168s 428ms/step - loss: 0.3023 - accuracy: 0.8726 - val_loss: 0.3282 - val_accuracy: 0.8625\n",
      "Epoch 10/20\n",
      "391/391 [==============================] - 170s 432ms/step - loss: 0.3042 - accuracy: 0.8677 - val_loss: 0.3191 - val_accuracy: 0.8578\n",
      "Epoch 11/20\n",
      "391/391 [==============================] - 169s 430ms/step - loss: 0.2948 - accuracy: 0.8740 - val_loss: 0.3218 - val_accuracy: 0.8479\n",
      "Epoch 12/20\n",
      "391/391 [==============================] - 168s 429ms/step - loss: 0.2943 - accuracy: 0.8738 - val_loss: 0.3331 - val_accuracy: 0.8484\n",
      "Epoch 13/20\n",
      "391/391 [==============================] - 170s 433ms/step - loss: 0.2914 - accuracy: 0.8755 - val_loss: 0.3275 - val_accuracy: 0.8536\n",
      "Epoch 14/20\n",
      "391/391 [==============================] - 169s 432ms/step - loss: 0.2899 - accuracy: 0.8760 - val_loss: 0.3230 - val_accuracy: 0.8625\n",
      "Epoch 15/20\n",
      "391/391 [==============================] - 170s 432ms/step - loss: 0.2812 - accuracy: 0.8803 - val_loss: 0.3495 - val_accuracy: 0.8536\n",
      "Epoch 16/20\n",
      "391/391 [==============================] - 170s 433ms/step - loss: 0.2956 - accuracy: 0.8741 - val_loss: 0.3292 - val_accuracy: 0.8620\n",
      "Epoch 17/20\n",
      "391/391 [==============================] - 169s 430ms/step - loss: 0.2874 - accuracy: 0.8773 - val_loss: 0.3288 - val_accuracy: 0.8432\n",
      "Epoch 18/20\n",
      "391/391 [==============================] - 169s 431ms/step - loss: 0.2824 - accuracy: 0.8783 - val_loss: 0.3254 - val_accuracy: 0.8552\n",
      "Epoch 19/20\n",
      "391/391 [==============================] - 168s 427ms/step - loss: 0.2773 - accuracy: 0.8833 - val_loss: 0.3333 - val_accuracy: 0.8635\n",
      "Epoch 20/20\n",
      "391/391 [==============================] - 169s 430ms/step - loss: 0.2695 - accuracy: 0.8852 - val_loss: 0.3294 - val_accuracy: 0.8531\n"
     ]
    }
   ],
   "source": [
    "history = model.fit(train_dataset, epochs=20,\n",
    "                    validation_data=test_dataset,\n",
    "                    validation_steps=30)"
   ]
  },
  {
   "cell_type": "code",
   "execution_count": 48,
   "metadata": {
    "colab": {
     "base_uri": "https://localhost:8080/"
    },
    "id": "ykUKnAoqbycW",
    "outputId": "05601bfb-1a5f-4bac-d9d6-023346e6fab5"
   },
   "outputs": [
    {
     "name": "stdout",
     "output_type": "stream",
     "text": [
      "[[-1.6898892]]\n"
     ]
    }
   ],
   "source": [
    "# predict on a sample text without padding.\n",
    "\n",
    "sample_text = ('The movie was not good. The animation and the graphics '\n",
    "                    'were terrible. I would not recommend this movie.')\n",
    "predictions = model.predict(np.array([sample_text]))\n",
    "print(predictions)"
   ]
  },
  {
   "cell_type": "code",
   "execution_count": 57,
   "metadata": {
    "colab": {
     "base_uri": "https://localhost:8080/"
    },
    "id": "-LPiFYu8fFkU",
    "outputId": "bb92629e-df0c-4ff7-d98f-9e0ad22339b9"
   },
   "outputs": [
    {
     "name": "stdout",
     "output_type": "stream",
     "text": [
      "[[1.2804651]]\n"
     ]
    }
   ],
   "source": [
    "# predict on a sample text without padding.\r\n",
    "\r\n",
    "sample_text = ('The movie was very good. The animation and the graphics '\r\n",
    "                    'were great. I would  recommend this movie.')\r\n",
    "predictions = model.predict(np.array([sample_text]))\r\n",
    "print(predictions)"
   ]
  },
  {
   "cell_type": "code",
   "execution_count": 49,
   "metadata": {
    "colab": {
     "base_uri": "https://localhost:8080/",
     "height": 388
    },
    "id": "_YYub0EDtwCu",
    "outputId": "24a5547a-12a8-4351-b2c9-9a5c0d6d8f65"
   },
   "outputs": [
    {
     "data": {
      "image/png": "[encoded data removed]",
      "text/plain": [
       "<Figure size 1152x432 with 2 Axes>"
      ]
     },
     "metadata": {
      "needs_background": "light",
      "tags": []
     },
     "output_type": "display_data"
    }
   ],
   "source": [
    "plt.figure(figsize=(16,6))\n",
    "plt.subplot(1,2,1)\n",
    "plot_graphs(history, 'accuracy')\n",
    "plt.subplot(1,2,2)\n",
    "plot_graphs(history, 'loss')"
   ]
  }
 ],
 "metadata": {
  "accelerator": "GPU",
  "colab": {
   "collapsed_sections": [],
   "name": "text_classification_rnn.ipynb",
   "provenance": [],
   "toc_visible": true
  },
  "kernelspec": {
   "display_name": "Python 3",
   "language": "python",
   "name": "python3"
  },
  "language_info": {
   "codemirror_mode": {
    "name": "ipython",
    "version": 3
   },
   "file_extension": ".py",
   "mimetype": "text/x-python",
   "name": "python",
   "nbconvert_exporter": "python",
   "pygments_lexer": "ipython3",
   "version": "3.8.5"
  }
 },
 "nbformat": 4,
 "nbformat_minor": 4
}
